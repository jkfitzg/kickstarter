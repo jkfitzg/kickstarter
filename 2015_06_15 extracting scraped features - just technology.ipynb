{
 "cells": [
  {
   "cell_type": "code",
   "execution_count": 1,
   "metadata": {
    "collapsed": true
   },
   "outputs": [],
   "source": [
    "# for rewards, store n, min, max, list, list of estimated delivery dates, intn shipping\n",
    "# for creator, get n backed\n",
    "#\n",
    "# create new databases -- rewards, creators\n",
    "# start with tech, then for all entries in my database "
   ]
  },
  {
   "cell_type": "code",
   "execution_count": 3,
   "metadata": {
    "collapsed": true
   },
   "outputs": [],
   "source": [
    "# Features I already have _______________________________________\n",
    "# - title word/char len\n",
    "# - blurb word/char len\n",
    "# - launch time (in Unix time)\n",
    "# - project duration\n",
    "# - goal"
   ]
  },
  {
   "cell_type": "code",
   "execution_count": 57,
   "metadata": {
    "collapsed": true
   },
   "outputs": [],
   "source": [
    "# Other possible features to extract _____________________________\n",
    "# - n pictures -- use beautiful soup\n",
    "# - has video\n",
    "# - project body length \n",
    "# - project n misspelligns\n",
    "# - text quality, sentiment analysis\n",
    "# lower priority -- \n",
    "# - international projects\n"
   ]
  },
  {
   "cell_type": "code",
   "execution_count": 5,
   "metadata": {
    "collapsed": false
   },
   "outputs": [],
   "source": [
    "import requests\n",
    "from bs4 import BeautifulSoup\n",
    "import pprint\n",
    "import pymysql as mdb\n",
    "import re\n",
    "import pandas as pd\n",
    "import numpy as np\n",
    "from unidecode import unidecode\n",
    "import json"
   ]
  },
  {
   "cell_type": "code",
   "execution_count": 29,
   "metadata": {
    "collapsed": false
   },
   "outputs": [
    {
     "name": "stdout",
     "output_type": "stream",
     "text": [
      "The autoreload extension is already loaded. To reload it, use:\n",
      "  %reload_ext autoreload\n"
     ]
    }
   ],
   "source": [
    "from extract_kickstarter_features import *\n",
    "%load_ext autoreload\n",
    "%autoreload 2"
   ]
  },
  {
   "cell_type": "code",
   "execution_count": 10,
   "metadata": {
    "collapsed": false
   },
   "outputs": [],
   "source": [
    "con = mdb.connect('localhost','root','hobbes','kickstarter')"
   ]
  },
  {
   "cell_type": "code",
   "execution_count": 11,
   "metadata": {
    "collapsed": false
   },
   "outputs": [
    {
     "name": "stdout",
     "output_type": "stream",
     "text": [
      "('Project_info',)\n",
      "('Rewards',)\n",
      "('Scraped_pages',)\n"
     ]
    }
   ],
   "source": [
    "with con:\n",
    "    \n",
    "    cur = con.cursor()\n",
    "    cur.execute(\"SHOW TABLES\")\n",
    "    \n",
    "    rows = cur.fetchall()\n",
    "    for row in rows:\n",
    "        print row"
   ]
  },
  {
   "cell_type": "code",
   "execution_count": 58,
   "metadata": {
    "collapsed": false
   },
   "outputs": [
    {
     "name": "stdout",
     "output_type": "stream",
     "text": [
      "('Id', 'int(11)', 'NO')\n",
      "('N_rewards', 'int(11)', 'YES')\n",
      "('Min_reward', 'int(11)', 'YES')\n",
      "('Max_reward', 'bigint(20)', 'YES')\n",
      "('Reward_list', 'varchar(1500)', 'YES')\n",
      "('Reward_expected', 'varchar(1500)', 'YES')\n",
      "('Ships_intn', 'tinyint(4)', 'YES')\n"
     ]
    }
   ],
   "source": [
    "# Create and describe my new table\n",
    "with con:\n",
    "    cur = con.cursor()\n",
    "    cur.execute(\"DROP TABLE IF EXISTS Rewards\")\n",
    "    cur.execute(\"CREATE TABLE Rewards(Id INT PRIMARY KEY,\\\n",
    "                 N_rewards INT,\\\n",
    "                 Min_reward INT,\\\n",
    "                 Max_reward BIGINT,\\\n",
    "                 Reward_list VARCHAR(1500),\\\n",
    "                 Reward_expected VARCHAR(1500),\\\n",
    "                 Ships_intn TINYINT)\")\n",
    "    \n",
    "    cur.execute(\"DESCRIBE Rewards\")\n",
    "    rows = cur.fetchall()\n",
    "    \n",
    "    for row in rows:\n",
    "        print row[0:3]\n",
    "    cur.close()"
   ]
  },
  {
   "cell_type": "code",
   "execution_count": 52,
   "metadata": {
    "collapsed": true
   },
   "outputs": [],
   "source": [
    "# Just start with getting features from tech projects"
   ]
  },
  {
   "cell_type": "code",
   "execution_count": 14,
   "metadata": {
    "collapsed": true
   },
   "outputs": [],
   "source": [
    "with con:\n",
    "    cur = con.cursor()\n",
    "    cur.execute(\"SELECT Id FROM Project_info \\\n",
    "                WHERE Category_slug LIKE 'tech%'\")\n",
    "    ids = cur.fetchall()\n",
    "    cur.close()"
   ]
  },
  {
   "cell_type": "code",
   "execution_count": 15,
   "metadata": {
    "collapsed": true
   },
   "outputs": [],
   "source": [
    "ids_array = np.asarray(ids)"
   ]
  },
  {
   "cell_type": "code",
   "execution_count": 16,
   "metadata": {
    "collapsed": false
   },
   "outputs": [
    {
     "data": {
      "text/plain": [
       "(9351, 1)"
      ]
     },
     "execution_count": 16,
     "metadata": {},
     "output_type": "execute_result"
    }
   ],
   "source": [
    "np.shape(ids_array)"
   ]
  },
  {
   "cell_type": "code",
   "execution_count": 64,
   "metadata": {
    "collapsed": false
   },
   "outputs": [
    {
     "name": "stdout",
     "output_type": "stream",
     "text": [
      "14732\n",
      "[7611]\n"
     ]
    }
   ],
   "source": [
    "print primary_key\n",
    "print primary_key-ids_array[0]"
   ]
  },
  {
   "cell_type": "code",
   "execution_count": 63,
   "metadata": {
    "collapsed": false
   },
   "outputs": [
    {
     "name": "stdout",
     "output_type": "stream",
     "text": [
      "()\n"
     ]
    }
   ],
   "source": [
    "print retrieved_text"
   ]
  },
  {
   "cell_type": "code",
   "execution_count": 76,
   "metadata": {
    "collapsed": false,
    "scrolled": true
   },
   "outputs": [],
   "source": [
    "with con:\n",
    "    \n",
    "    for id in ids[7611:]:\n",
    "        primary_key = id[0]\n",
    "        \n",
    "        cur = con.cursor()\n",
    "        cur.execute(\"SELECT Project_html from Scraped_pages WHERE Id = %s\",primary_key)\n",
    "        retrieved_text = cur.fetchall()\n",
    "        cur.close()\n",
    "    \n",
    "        this_soup = BeautifulSoup(retrieved_text[0][0])\n",
    "        project_text = this_soup.get_text()\n",
    "        rewards_predictors = analyze_rewards(project_text)\n",
    "        \n",
    "        #print [primary_key]+rewards_predictors\n",
    "        \n",
    "        cur = con.cursor()\n",
    "        cur.execute(\"INSERT INTO Rewards () VALUES(%s,%s,%s,%s,%s,%s,%s)\",\\\n",
    "                    [primary_key]+rewards_predictors)\n",
    "        con.commit()\n",
    "        cur.close()"
   ]
  },
  {
   "cell_type": "code",
   "execution_count": 78,
   "metadata": {
    "collapsed": false
   },
   "outputs": [
    {
     "name": "stdout",
     "output_type": "stream",
     "text": [
      "(14732, 8, 10, 500, '[10, 20, 39, 45, 64, 119, 250, 500]', '[\"Jan 2015\", \"Jan 2015\", \"Jan 2015\", \"Jan 2015\", \"Jan 2015\", \"Jan 2015\", \"Jan 2015\", \"Jan 2015\"]', 0)\n"
     ]
    }
   ],
   "source": [
    "# # now validate a few\n",
    "# with con:\n",
    "#     cur = con.cursor()\n",
    "#     cur.execute(\"SELECT * from Rewards WHERE Id = 14732\")\n",
    "#     retrieved_text = cur.fetchall()\n",
    "#     print retrieved_text[0]\n",
    "#     cur.close()\n",
    "# # looks good!"
   ]
  },
  {
   "cell_type": "code",
   "execution_count": 79,
   "metadata": {
    "collapsed": false
   },
   "outputs": [
    {
     "name": "stdout",
     "output_type": "stream",
     "text": [
      "(9351,)\n"
     ]
    }
   ],
   "source": [
    "# count my rewards\n",
    "with con:\n",
    "    cur = con.cursor()\n",
    "    cur.execute(\"SELECT COUNT(Id) from Rewards\")\n",
    "    retrieved_text = cur.fetchall()\n",
    "    print retrieved_text[0]\n",
    "    cur.close()"
   ]
  },
  {
   "cell_type": "code",
   "execution_count": 85,
   "metadata": {
    "collapsed": false
   },
   "outputs": [
    {
     "name": "stdout",
     "output_type": "stream",
     "text": [
      "('Id', 'int(11)', 'NO')\n",
      "('N_backed', 'int(11)', 'YES')\n"
     ]
    }
   ],
   "source": [
    "# now do this for creator\n",
    "# Create and describe my new table\n",
    "with con:\n",
    "    cur = con.cursor()\n",
    "    cur.execute(\"DROP TABLE IF EXISTS Creator\")\n",
    "    cur.execute(\"CREATE TABLE Creator(Id INT PRIMARY KEY,\\\n",
    "                 N_backed INT)\")\n",
    "    \n",
    "    cur.execute(\"DESCRIBE Creator\")\n",
    "    rows = cur.fetchall()\n",
    "    \n",
    "    for row in rows:\n",
    "        print row[0:3]\n",
    "    cur.close()"
   ]
  },
  {
   "cell_type": "code",
   "execution_count": 86,
   "metadata": {
    "collapsed": false
   },
   "outputs": [
    {
     "data": {
      "text/plain": [
       "(9351, 1)"
      ]
     },
     "execution_count": 86,
     "metadata": {},
     "output_type": "execute_result"
    }
   ],
   "source": [
    "np.shape(ids)"
   ]
  },
  {
   "cell_type": "code",
   "execution_count": 87,
   "metadata": {
    "collapsed": false
   },
   "outputs": [
    {
     "name": "stdout",
     "output_type": "stream",
     "text": [
      "8000\n",
      "9000\n",
      "10000\n",
      "11000\n",
      "12000\n",
      "13000\n",
      "14000\n",
      "15000\n",
      "16000\n"
     ]
    }
   ],
   "source": [
    "with con:\n",
    "    for id in ids:\n",
    "        primary_key = id[0]\n",
    "        \n",
    "        if not primary_key%1000:\n",
    "            print primary_key\n",
    "            \n",
    "        cur = con.cursor()\n",
    "        cur.execute(\"SELECT Creator_html from Scraped_pages WHERE Id = %s\",primary_key)\n",
    "        retrieved_text = cur.fetchall()\n",
    "        cur.close()\n",
    "    \n",
    "        this_soup = BeautifulSoup(retrieved_text[0][0])\n",
    "        creator_text = this_soup.get_text()\n",
    "        n_backed = get_creator_activity(creator_text)\n",
    "        \n",
    "        cur = con.cursor()\n",
    "        cur.execute(\"INSERT INTO Creator () VALUES(%s,%s)\",\\\n",
    "                    [primary_key,n_backed])\n",
    "        con.commit()\n",
    "        cur.close()"
   ]
  },
  {
   "cell_type": "code",
   "execution_count": null,
   "metadata": {
    "collapsed": true
   },
   "outputs": [],
   "source": []
  }
 ],
 "metadata": {
  "kernelspec": {
   "display_name": "Python 2",
   "language": "python",
   "name": "python2"
  },
  "language_info": {
   "codemirror_mode": {
    "name": "ipython",
    "version": 2
   },
   "file_extension": ".py",
   "mimetype": "text/x-python",
   "name": "python",
   "nbconvert_exporter": "python",
   "pygments_lexer": "ipython2",
   "version": "2.7.10"
  }
 },
 "nbformat": 4,
 "nbformat_minor": 0
}
