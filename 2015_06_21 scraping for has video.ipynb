{
 "cells": [
  {
   "cell_type": "code",
   "execution_count": 1,
   "metadata": {
    "collapsed": true
   },
   "outputs": [],
   "source": [
    "# I need to search with the given link ('?ref=category'), look for \n",
    "# video with match = re.search(\"data-has-video=\\\"true\\\"\",project_raw)"
   ]
  },
  {
   "cell_type": "code",
   "execution_count": 2,
   "metadata": {
    "collapsed": true
   },
   "outputs": [],
   "source": [
    "import requests\n",
    "from bs4 import BeautifulSoup\n",
    "import pprint\n",
    "import pymysql as mdb\n",
    "import re\n",
    "import pandas as pd\n",
    "import numpy as np\n",
    "from unidecode import unidecode"
   ]
  },
  {
   "cell_type": "code",
   "execution_count": 3,
   "metadata": {
    "collapsed": false
   },
   "outputs": [],
   "source": [
    "con = mdb.connect('localhost','root','hobbes','kickstarter')"
   ]
  },
  {
   "cell_type": "code",
   "execution_count": 7,
   "metadata": {
    "collapsed": false
   },
   "outputs": [
    {
     "name": "stdout",
     "output_type": "stream",
     "text": [
      "('information_schema',)\n",
      "('kickscrape',)\n",
      "('kickstarter',)\n",
      "('mysql',)\n",
      "('performance_schema',)\n",
      "('test',)\n",
      "('testdb',)\n",
      "('world_innodb',)\n"
     ]
    }
   ],
   "source": [
    "with con:  \n",
    "    cur = con.cursor()\n",
    "    cur.execute(\"SHOW DATABASES\")\n",
    "    \n",
    "    rows = cur.fetchall()\n",
    "    for row in rows:\n",
    "        print row"
   ]
  },
  {
   "cell_type": "code",
   "execution_count": 32,
   "metadata": {
    "collapsed": false
   },
   "outputs": [
    {
     "name": "stdout",
     "output_type": "stream",
     "text": [
      "('Id', 'int(11)', 'NO')\n",
      "('Video_present', 'tinyint(4)', 'YES')\n",
      "('Main_page_text', 'longtext', 'YES')\n"
     ]
    }
   ],
   "source": [
    "#Create and describe my new table\n",
    "with con:\n",
    "    cur = con.cursor()\n",
    "    cur.execute(\"DROP TABLE IF EXISTS Has_video\")\n",
    "    cur.execute(\"CREATE TABLE Has_video(Id INT PRIMARY KEY AUTO_INCREMENT,\\\n",
    "                 Video_present TINYINT,\\\n",
    "                 Main_page_text LONGTEXT)\")\n",
    "    \n",
    "    cur.execute(\"DESCRIBE Has_video\")\n",
    "    rows = cur.fetchall()\n",
    "    \n",
    "    for row in rows:\n",
    "        print row[0:3]\n",
    "    cur.close()"
   ]
  },
  {
   "cell_type": "code",
   "execution_count": 10,
   "metadata": {
    "collapsed": true
   },
   "outputs": [],
   "source": [
    "# Now make a dataframe of all primary keys and URL, loop through them"
   ]
  },
  {
   "cell_type": "code",
   "execution_count": 12,
   "metadata": {
    "collapsed": false
   },
   "outputs": [],
   "source": [
    "with con:\n",
    "    cur = con.cursor()\n",
    "    cur.execute(\"Select Id,URL FROM Project_info\");\n",
    "    id_url_rows = cur.fetchall()\n",
    "    cur.close()"
   ]
  },
  {
   "cell_type": "code",
   "execution_count": 17,
   "metadata": {
    "collapsed": false
   },
   "outputs": [],
   "source": [
    "id_url_df = pd.DataFrame(np.asarray(id_url_rows),columns=['Id','URL'])"
   ]
  },
  {
   "cell_type": "code",
   "execution_count": 19,
   "metadata": {
    "collapsed": false
   },
   "outputs": [
    {
     "data": {
      "text/html": [
       "<div style=\"max-height:1000px;max-width:1500px;overflow:auto;\">\n",
       "<table border=\"1\" class=\"dataframe\">\n",
       "  <thead>\n",
       "    <tr style=\"text-align: right;\">\n",
       "      <th></th>\n",
       "      <th>Id</th>\n",
       "      <th>URL</th>\n",
       "    </tr>\n",
       "  </thead>\n",
       "  <tbody>\n",
       "    <tr>\n",
       "      <th>191379</th>\n",
       "      <td>191380</td>\n",
       "      <td>https://www.kickstarter.com/projects/207940292...</td>\n",
       "    </tr>\n",
       "    <tr>\n",
       "      <th>191380</th>\n",
       "      <td>191381</td>\n",
       "      <td>https://www.kickstarter.com/projects/184521459...</td>\n",
       "    </tr>\n",
       "    <tr>\n",
       "      <th>191381</th>\n",
       "      <td>191382</td>\n",
       "      <td>https://www.kickstarter.com/projects/209708895...</td>\n",
       "    </tr>\n",
       "    <tr>\n",
       "      <th>191382</th>\n",
       "      <td>191383</td>\n",
       "      <td>https://www.kickstarter.com/projects/thelifecu...</td>\n",
       "    </tr>\n",
       "    <tr>\n",
       "      <th>191383</th>\n",
       "      <td>191384</td>\n",
       "      <td>https://www.kickstarter.com/projects/reaper889...</td>\n",
       "    </tr>\n",
       "  </tbody>\n",
       "</table>\n",
       "</div>"
      ],
      "text/plain": [
       "            Id                                                URL\n",
       "191379  191380  https://www.kickstarter.com/projects/207940292...\n",
       "191380  191381  https://www.kickstarter.com/projects/184521459...\n",
       "191381  191382  https://www.kickstarter.com/projects/209708895...\n",
       "191382  191383  https://www.kickstarter.com/projects/thelifecu...\n",
       "191383  191384  https://www.kickstarter.com/projects/reaper889..."
      ]
     },
     "execution_count": 19,
     "metadata": {},
     "output_type": "execute_result"
    }
   ],
   "source": [
    "id_url_df.tail()"
   ]
  },
  {
   "cell_type": "code",
   "execution_count": 22,
   "metadata": {
    "collapsed": false
   },
   "outputs": [
    {
     "name": "stdout",
     "output_type": "stream",
     "text": [
      "191384\n"
     ]
    }
   ],
   "source": [
    "n_projects = np.shape(id_url_df)[0]\n",
    "print n_projects"
   ]
  },
  {
   "cell_type": "code",
   "execution_count": null,
   "metadata": {
    "collapsed": false
   },
   "outputs": [],
   "source": [
    "with con:\n",
    "    cur = con.cursor()\n",
    "    for i in range(5,n_projects):\n",
    "        \n",
    "        if not i%1000:\n",
    "            print i\n",
    "        \n",
    "        primary_key = id_url_df.ix[i,'Id']\n",
    "        url = id_url_df.ix[i,'URL']\n",
    "\n",
    "        has_video = 0\n",
    "        project_request = requests.get(url)\n",
    "        project_raw = unidecode(project_request.text)\n",
    "        match = re.search(\"video_height\",project_raw)\n",
    "        if match:\n",
    "            has_video = 1\n",
    "            \n",
    "        cur.execute(\"INSERT INTO Has_video () VALUES(%s,%s,%s)\",\\\n",
    "            [primary_key,has_video,project_raw])\n",
    "        \n",
    "        con.commit()\n",
    "    \n",
    "    cur.close()"
   ]
  },
  {
   "cell_type": "code",
   "execution_count": null,
   "metadata": {
    "collapsed": true
   },
   "outputs": [],
   "source": []
  }
 ],
 "metadata": {
  "kernelspec": {
   "display_name": "Python 2",
   "language": "python",
   "name": "python2"
  },
  "language_info": {
   "codemirror_mode": {
    "name": "ipython",
    "version": 2
   },
   "file_extension": ".py",
   "mimetype": "text/x-python",
   "name": "python",
   "nbconvert_exporter": "python",
   "pygments_lexer": "ipython2",
   "version": "2.7.10"
  }
 },
 "nbformat": 4,
 "nbformat_minor": 0
}
