{
 "cells": [
  {
   "cell_type": "code",
   "execution_count": 1,
   "metadata": {
    "collapsed": true
   },
   "outputs": [],
   "source": [
    "# first create a table in my kickstarter database\n",
    "# test that I can add the raw html\n",
    "# test that I can retrieve it and then process with beautiful soup\n",
    "# use the same primary key as my other\n",
    "# columns - project and creator pages"
   ]
  },
  {
   "cell_type": "code",
   "execution_count": 2,
   "metadata": {
    "collapsed": true
   },
   "outputs": [],
   "source": [
    "import requests\n",
    "from bs4 import BeautifulSoup\n",
    "import pprint\n",
    "import pymysql as mdb\n",
    "import re\n",
    "import pandas as pd\n",
    "import numpy as np\n",
    "from unidecode import unidecode"
   ]
  },
  {
   "cell_type": "code",
   "execution_count": 3,
   "metadata": {
    "collapsed": false
   },
   "outputs": [],
   "source": [
    "#soup = BeautifulSoup(p.text)\n",
    "#print soup.prettify()\n",
    "#print soup.get_text() #looks great!"
   ]
  },
  {
   "cell_type": "code",
   "execution_count": 4,
   "metadata": {
    "collapsed": false
   },
   "outputs": [],
   "source": [
    "con = mdb.connect('localhost','root','hobbes','kickstarter');"
   ]
  },
  {
   "cell_type": "code",
   "execution_count": 5,
   "metadata": {
    "collapsed": false
   },
   "outputs": [
    {
     "name": "stdout",
     "output_type": "stream",
     "text": [
      "('information_schema',)\n",
      "('kickscrape',)\n",
      "('kickstarter',)\n",
      "('mysql',)\n",
      "('performance_schema',)\n",
      "('test',)\n",
      "('testdb',)\n",
      "('world_innodb',)\n"
     ]
    }
   ],
   "source": [
    "with con:\n",
    "    \n",
    "    cur = con.cursor()\n",
    "    cur.execute(\"SHOW DATABASES\")\n",
    "    \n",
    "    rows = cur.fetchall()\n",
    "    for row in rows:\n",
    "        print row"
   ]
  },
  {
   "cell_type": "code",
   "execution_count": 53,
   "metadata": {
    "collapsed": true
   },
   "outputs": [],
   "source": [
    "with con:\n",
    "    cur = con.cursor()\n",
    "    cur.execute(\"SELECT Id, Creator_url, URL FROM Project_info \\\n",
    "                WHERE Category_slug LIKE 'dance%'\")\n",
    "    id_urls = cur.fetchall()\n",
    "    cur.close()"
   ]
  },
  {
   "cell_type": "code",
   "execution_count": 54,
   "metadata": {
    "collapsed": false
   },
   "outputs": [],
   "source": [
    "id_urls = np.asarray(id_urls)"
   ]
  },
  {
   "cell_type": "code",
   "execution_count": 55,
   "metadata": {
    "collapsed": false
   },
   "outputs": [
    {
     "data": {
      "text/plain": [
       "(2308, 3)"
      ]
     },
     "execution_count": 55,
     "metadata": {},
     "output_type": "execute_result"
    }
   ],
   "source": [
    "np.shape(id_urls)"
   ]
  },
  {
   "cell_type": "code",
   "execution_count": null,
   "metadata": {
    "collapsed": false
   },
   "outputs": [],
   "source": [
    "with con:\n",
    "    cur = con.cursor()\n",
    "    \n",
    "    for i,id_urls in enumerate(id_urls): \n",
    "        #print i\n",
    "        if not i%200:\n",
    "            print i\n",
    "            \n",
    "        primary_key, creator_url, project_url = id_urls\n",
    "        project_url = project_url.replace('?ref=category','/description')\n",
    "    \n",
    "        project_request = requests.get(project_url)\n",
    "        creator_request = requests.get(creator_url)\n",
    "        project_raw = unidecode(project_request.text)\n",
    "        creator_raw = unidecode(creator_request.text)\n",
    "        \n",
    "        cur.execute(\"INSERT INTO Scraped_pages () VALUES(%s,%s,%s)\",\\\n",
    "            [primary_key,project_raw,creator_raw])\n",
    "        \n",
    "        con.commit()\n",
    "    cur.close()"
   ]
  },
  {
   "cell_type": "code",
   "execution_count": 41,
   "metadata": {
    "collapsed": true
   },
   "outputs": [],
   "source": [
    "with con:\n",
    "    cur = con.cursor()\n",
    "    cur.execute(\"SELECT Id, Creator_url, URL FROM Project_info \\\n",
    "                WHERE Id = 14732\")\n",
    "    id_urls = cur.fetchall()\n",
    "    cur.close()"
   ]
  },
  {
   "cell_type": "code",
   "execution_count": 42,
   "metadata": {
    "collapsed": true
   },
   "outputs": [],
   "source": [
    "id_urls = np.asarray(id_urls)"
   ]
  },
  {
   "cell_type": "code",
   "execution_count": 43,
   "metadata": {
    "collapsed": false
   },
   "outputs": [
    {
     "name": "stdout",
     "output_type": "stream",
     "text": [
      "[['14732' 'https://www.kickstarter.com/profile/2005894276'\n",
      "  'https://www.kickstarter.com/projects/2005894276/beenmissing-we-are-looking-for-you?ref=category']]\n"
     ]
    }
   ],
   "source": [
    "print id_urls"
   ]
  },
  {
   "cell_type": "code",
   "execution_count": 44,
   "metadata": {
    "collapsed": false
   },
   "outputs": [
    {
     "name": "stdout",
     "output_type": "stream",
     "text": [
      "0\n"
     ]
    }
   ],
   "source": [
    "# Scrape a missed page.\n",
    "with con:\n",
    "    cur = con.cursor()\n",
    "    \n",
    "    for i,id_url in enumerate(id_urls): \n",
    "        #print i\n",
    "        if not i%200:\n",
    "            print i\n",
    "            \n",
    "        primary_key, creator_url, project_url = id_url\n",
    "        project_url = project_url.replace('?ref=category','/description')\n",
    "    \n",
    "        project_request = requests.get(project_url)\n",
    "        creator_request = requests.get(creator_url)\n",
    "        project_raw = unidecode(project_request.text)\n",
    "        creator_raw = unidecode(creator_request.text)\n",
    "        \n",
    "        #cur.execute(\"UPDATE Scraped_pages SET Project_html = %s,\\\n",
    "        #    Creator_html = %s WHERE Id = %s\",(project_raw,creator_raw,14732))\n",
    "        \n",
    "        \n",
    "        con.commit()\n",
    "    cur.close()"
   ]
  },
  {
   "cell_type": "code",
   "execution_count": 47,
   "metadata": {
    "collapsed": false
   },
   "outputs": [
    {
     "name": "stdout",
     "output_type": "stream",
     "text": [
      "14732\n"
     ]
    }
   ],
   "source": [
    "print primary_key"
   ]
  },
  {
   "cell_type": "code",
   "execution_count": 48,
   "metadata": {
    "collapsed": false
   },
   "outputs": [],
   "source": [
    "with con:\n",
    "    cur = con.cursor()\n",
    "    cur.execute(\"INSERT INTO Scraped_pages () VALUES(%s,%s,%s)\",\\\n",
    "            [primary_key,project_raw,creator_raw])\n",
    "    con.commit()\n",
    "    cur.close()\n",
    "        "
   ]
  },
  {
   "cell_type": "code",
   "execution_count": null,
   "metadata": {
    "collapsed": true
   },
   "outputs": [],
   "source": []
  }
 ],
 "metadata": {
  "kernelspec": {
   "display_name": "Python 2",
   "language": "python",
   "name": "python2"
  },
  "language_info": {
   "codemirror_mode": {
    "name": "ipython",
    "version": 2
   },
   "file_extension": ".py",
   "mimetype": "text/x-python",
   "name": "python",
   "nbconvert_exporter": "python",
   "pygments_lexer": "ipython2",
   "version": "2.7.10"
  }
 },
 "nbformat": 4,
 "nbformat_minor": 0
}
