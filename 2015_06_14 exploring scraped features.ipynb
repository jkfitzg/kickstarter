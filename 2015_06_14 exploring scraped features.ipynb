{
 "cells": [
  {
   "cell_type": "code",
   "execution_count": 117,
   "metadata": {
    "collapsed": true
   },
   "outputs": [],
   "source": [
    "# from downloaded pages, extract features\n",
    "# create a new db - extracted features. \n",
    "# columns -- Id (primary key), \n",
    "#            rewards -- save as a list \n",
    "#            n rewards\n",
    "#            min rewards? \n",
    "#            n creator backed\n",
    "# next -- has video, risks, faq -- did these features change? \n",
    "#                              focus on about this project to \"risks\"\n",
    "#         body length, nlp -- typos\n",
    "#\n",
    "# Contains \"Ships anywhere in the world\"\n",
    "# Video -- \"Play\", whitespace, and 00:00? --- not sure why I don't see some videos in older campaigns.\n",
    "# limited rewards?"
   ]
  },
  {
   "cell_type": "code",
   "execution_count": 130,
   "metadata": {
    "collapsed": false
   },
   "outputs": [],
   "source": [
    "import requests\n",
    "from bs4 import BeautifulSoup\n",
    "import pprint\n",
    "import pymysql as mdb\n",
    "import re\n",
    "import pandas as pd\n",
    "import numpy as np\n",
    "from unidecode import unidecode\n",
    "from extract_kickstarter_features import *"
   ]
  },
  {
   "cell_type": "code",
   "execution_count": 133,
   "metadata": {
    "collapsed": true
   },
   "outputs": [],
   "source": [
    "%load_ext autoreload\n",
    "%autoreload 2"
   ]
  },
  {
   "cell_type": "code",
   "execution_count": 3,
   "metadata": {
    "collapsed": true
   },
   "outputs": [],
   "source": [
    "con = mdb.connect('localhost','root','hobbes','kickstarter');"
   ]
  },
  {
   "cell_type": "code",
   "execution_count": 4,
   "metadata": {
    "collapsed": false
   },
   "outputs": [
    {
     "name": "stdout",
     "output_type": "stream",
     "text": [
      "(99544,)\n"
     ]
    }
   ],
   "source": [
    "# how many rows do I have?\n",
    "with con:\n",
    "    cur = con.cursor()\n",
    "    cur.execute(\"SELECT COUNT(Id) FROM Scraped_pages\")\n",
    "    rows = cur.fetchall()\n",
    "    \n",
    "    print rows[0]\n",
    "    cur.close()"
   ]
  },
  {
   "cell_type": "code",
   "execution_count": 14,
   "metadata": {
    "collapsed": false
   },
   "outputs": [
    {
     "name": "stdout",
     "output_type": "stream",
     "text": [
      "Id\n",
      "Creator_name\n",
      "Creator_url\n",
      "Currency\n",
      "Project_id\n",
      "Category_name\n",
      "Category_slug\n",
      "Goal\n",
      "Pledged\n",
      "Project_date\n",
      "Country\n",
      "Location_club\n",
      "Location_name\n",
      "Blurb\n",
      "N_backers\n",
      "Name\n",
      "URL\n",
      "Launch_time\n",
      "End_time\n"
     ]
    }
   ],
   "source": [
    "with con:\n",
    "    cur = con.cursor()\n",
    "    cur.execute(\"DESCRIBE Project_info\")\n",
    "    rows = cur.fetchall()\n",
    "    for row in rows:\n",
    "        print row[0]\n",
    "    cur.close()"
   ]
  },
  {
   "cell_type": "code",
   "execution_count": 17,
   "metadata": {
    "collapsed": false
   },
   "outputs": [],
   "source": [
    "with con:\n",
    "    cur = con.cursor()\n",
    "\n",
    "    cur.execute(\"SELECT * from Project_info WHERE Category_name LIKE 'food%' LIMIT 10\")\n",
    "    rows = cur.fetchall()\n",
    "    cur.close()"
   ]
  },
  {
   "cell_type": "code",
   "execution_count": 31,
   "metadata": {
    "collapsed": false
   },
   "outputs": [],
   "source": [
    "#for row in rows:\n",
    "#    print row"
   ]
  },
  {
   "cell_type": "code",
   "execution_count": 24,
   "metadata": {
    "collapsed": true
   },
   "outputs": [],
   "source": [
    "# now look at an older campaign\n",
    "with con:\n",
    "    cur = con.cursor()\n",
    "\n",
    "    cur.execute(\"SELECT * from Project_info WHERE Id = 95541 \")\n",
    "    rows = cur.fetchall()\n",
    "    cur.close()"
   ]
  },
  {
   "cell_type": "code",
   "execution_count": 25,
   "metadata": {
    "collapsed": false
   },
   "outputs": [
    {
     "name": "stdout",
     "output_type": "stream",
     "text": [
      "(95541, 'Jessica Welsch', 'https://www.kickstarter.com/profile/1715353522', 'USD', 104344008, 'Food', 'food', 25000, 25785, 'successful', 'US', 'minnetonka-mn', 'Minnetonka, MN', 'Make nutritious frozen whole food pops at home! The BellyFULL Kit gets kiddos interested in (and eating!) their fruits and veggies!', 150, 'The BellyFULL Kit ~ eat happily ever after!', 'https://www.kickstarter.com/projects/1715353522/the-bellyfull-kit-eat-happily-ever-after?ref=category', 1324053481, 1327112400)\n"
     ]
    }
   ],
   "source": [
    "for row in rows:\n",
    "    print row"
   ]
  },
  {
   "cell_type": "code",
   "execution_count": 30,
   "metadata": {
    "collapsed": false
   },
   "outputs": [
    {
     "name": "stdout",
     "output_type": "stream",
     "text": [
      "(100541, 'Lindsey Mandel', 'https://www.kickstarter.com/profile/111998312', 'USD', 1518356875, 'Food', 'food', 1000, 415, 'failed', 'US', 'boulder-co', 'Boulder, CO', 'RollinGreens a mobile food service, is dedicated to providing quality, local, organic food to your neighborhood.', 8, 'RollinGreens, a Local Mobile Food Truck', 'https://www.kickstarter.com/projects/111998312/rollingreens-a-local-mobile-food-truck?ref=category', 1301083984, 1302024600)\n"
     ]
    }
   ],
   "source": [
    "# now look at an older, failed campaign\n",
    "with con:\n",
    "    cur = con.cursor()\n",
    "\n",
    "    cur.execute(\"SELECT * from Project_info WHERE Id = 100541 \")\n",
    "    rows = cur.fetchall()\n",
    "    cur.close()\n",
    "\n",
    "for row in rows:\n",
    "    print row"
   ]
  },
  {
   "cell_type": "code",
   "execution_count": null,
   "metadata": {
    "collapsed": true
   },
   "outputs": [],
   "source": [
    "# test cases -- \n",
    "# 93541 (recent, funded), \n",
    "# 95541 (December 2011, funded), \n",
    "# 97541 (Dec 2014, failed)\n",
    "# 100541 (April 2011, failed)"
   ]
  },
  {
   "cell_type": "code",
   "execution_count": 40,
   "metadata": {
    "collapsed": true
   },
   "outputs": [],
   "source": [
    "with con:\n",
    "    cur = con.cursor()\n",
    "\n",
    "    cur.execute(\"SELECT Creator_html from Scraped_pages WHERE Id = 100541\")\n",
    "    retrieved_text = cur.fetchall()\n",
    "    cur.close()"
   ]
  },
  {
   "cell_type": "code",
   "execution_count": 42,
   "metadata": {
    "collapsed": false
   },
   "outputs": [],
   "source": [
    "creator_text = BeautifulSoup(retrieved_text[0][0])\n",
    "creator_text_only = creator_text.get_text()\n",
    "#print creator_text_only"
   ]
  },
  {
   "cell_type": "code",
   "execution_count": 44,
   "metadata": {
    "collapsed": false
   },
   "outputs": [
    {
     "data": {
      "text/plain": [
       "0"
      ]
     },
     "execution_count": 44,
     "metadata": {},
     "output_type": "execute_result"
    }
   ],
   "source": [
    "get_creator_activity(creator_text_only)"
   ]
  },
  {
   "cell_type": "code",
   "execution_count": 98,
   "metadata": {
    "collapsed": true
   },
   "outputs": [],
   "source": [
    "with con:\n",
    "    cur = con.cursor()\n",
    "\n",
    "    cur.execute(\"SELECT Project_html from Scraped_pages WHERE Id = 93541\")\n",
    "    retrieved_text = cur.fetchall()\n",
    "    cur.close()"
   ]
  },
  {
   "cell_type": "code",
   "execution_count": 99,
   "metadata": {
    "collapsed": false
   },
   "outputs": [],
   "source": [
    "this_soup = BeautifulSoup(retrieved_text[0][0])\n",
    "project_text = this_soup.get_text()"
   ]
  },
  {
   "cell_type": "code",
   "execution_count": 47,
   "metadata": {
    "collapsed": false
   },
   "outputs": [
    {
     "name": "stdout",
     "output_type": "stream",
     "text": [
      "\n",
      "\n",
      "\n",
      "\n",
      "\n",
      "\n",
      "\n",
      "About this project\n",
      "\n",
      "\n",
      "\n",
      "Ryan '\"Ko\" Cunningham and Lindsey Mandel are taking Cooking With Ko to the next level and need your help. We are launching RollinGreens, a mobile food truck specializing in global cuisine and bringing the focus on quality, local and organic ingredients from the farm to your table. We will provide foods for those with dietary restrictions, food allergies and those who just want to eat better for themselves and their family. We are making our menu items affordable and will offer a variety. \n",
      "We have already purchased our truck, and are currently designing and building our commercial mobile kitchen. We have a truck to pull the trailer. But need your help for things like Vinyl on the truck, kitchen supplies, cleaning supplies and a water tank.\n",
      "\n",
      "\n",
      "\n",
      "\n",
      "\n",
      "FAQ\n",
      "\n",
      "\n",
      "\n",
      "\n",
      "\n",
      "\n",
      "Have a question?\n",
      "If the info above doesn't help, you can ask the project creator directly.\n",
      "\n",
      "Ask a question\n",
      "\n",
      "\n",
      "\n",
      "\n",
      "\n",
      "Report this project to Kickstarter\n",
      "\n",
      "\n",
      "\n",
      "\n",
      "\n",
      "\n",
      "Rewards\n",
      "\n",
      "\n",
      "\n",
      "\n",
      "You selected\n",
      "\n",
      "\n",
      "$5 reward\n",
      "\n",
      "\n",
      "\n",
      "\n",
      "\n",
      "0 backers\n",
      "\n",
      "\n",
      "\n",
      "\n",
      "One free appetizer of your choice\n",
      "\n",
      "\n",
      "\n",
      "\n",
      "\n",
      "\n",
      "\n",
      "\n",
      "You selected\n",
      "\n",
      "\n",
      "$10 reward\n",
      "\n",
      "\n",
      "\n",
      "\n",
      "\n",
      "0 backers\n",
      "\n",
      "\n",
      "\n",
      "\n",
      "One free entree\n",
      "\n",
      "\n",
      "\n",
      "\n",
      "\n",
      "\n",
      "\n",
      "\n",
      "You selected\n",
      "\n",
      "\n",
      "$25 reward\n",
      "\n",
      "\n",
      "\n",
      "\n",
      "\n",
      "3 backers\n",
      "\n",
      "\n",
      "\n",
      "\n",
      "Two free entrees and a Liz's chocolate chip cookie\n",
      "\n",
      "\n",
      "\n",
      "\n",
      "\n",
      "\n",
      "\n",
      "\n",
      "You selected\n",
      "\n",
      "\n",
      "$50 reward\n",
      "\n",
      "\n",
      "\n",
      "\n",
      "\n",
      "2 backers\n",
      "\n",
      "\n",
      "\n",
      "\n",
      "Five days of free entrees and a RollinGreens Organic T-shirt\n",
      "\n",
      "\n",
      "\n",
      "\n",
      "\n",
      "\n",
      "\n",
      "\n",
      "You selected\n",
      "\n",
      "\n",
      "$100 reward\n",
      "\n",
      "\n",
      "\n",
      "\n",
      "\n",
      "2 backers\n",
      "\n",
      "\n",
      "\n",
      "\n",
      "Free swag and a gift certificate to RollinGreens\n",
      "\n",
      "\n",
      "\n",
      "\n",
      "\n",
      "\n",
      "\n",
      "\n",
      "You selected\n",
      "\n",
      "\n",
      "$250 reward\n",
      "\n",
      "\n",
      "\n",
      "\n",
      "\n",
      "0 backers\n",
      "\n",
      "\n",
      "\n",
      "\n",
      "A night with Chef Ko. Chef of RollinGreens will come to your house and cook a dinner party for you and two guests\n",
      "\n",
      "\n",
      "\n",
      "\n",
      "\n",
      "\n",
      "\n",
      "\n",
      "You selected\n",
      "\n",
      "\n",
      "$500 reward\n",
      "\n",
      "\n",
      "\n",
      "\n",
      "\n",
      "0 backers\n",
      "\n",
      "\n",
      "\n",
      "\n",
      "Two nights with Chef Ko and a gift bag of RollinGreens organic apparel\n",
      "\n",
      "\n",
      "\n",
      "\n",
      "\n",
      "\n",
      "\n",
      "\n",
      "You selected\n",
      "\n",
      "\n",
      "$1,000 reward\n",
      "\n",
      "\n",
      "\n",
      "\n",
      "\n",
      "0 backers\n",
      "\n",
      "\n",
      "\n",
      "\n",
      "A private party catered by RollinGreens with a 20 person limit\n",
      "\n",
      "\n",
      "\n",
      "\n",
      "\n",
      "\n",
      "\n",
      "\n",
      "You selected\n",
      "\n",
      "\n",
      "$3,000 reward\n",
      "\n",
      "\n",
      "\n",
      "\n",
      "\n",
      "0 backers\n",
      "\n",
      "\n",
      "\n",
      "\n",
      "Two private parties catered by RollinGreens with a 20 person limit\n",
      "\n",
      "\n",
      "\n",
      "\n",
      "\n",
      "\n",
      "\n",
      "\n",
      "\n",
      "\n",
      "\n",
      "Funding period\n",
      "\n",
      "Mar 25, 2011 - Apr 5, 2011\n",
      "(10 days)\n",
      "\n",
      "\n",
      "\n",
      "\n",
      "\n",
      "\n",
      "\n",
      "\n"
     ]
    }
   ],
   "source": [
    "print project_text"
   ]
  },
  {
   "cell_type": "code",
   "execution_count": 92,
   "metadata": {
    "collapsed": false
   },
   "outputs": [],
   "source": [
    "def extract_reward_level(project_text):\n",
    "    # extract reward levels!\n",
    "    matches = re.findall('\\$(\\d+) reward',project_text)\n",
    "    #for match in matches:\n",
    "    #    print match\n",
    "    \n",
    "    reward_int_list = [int(match) for match in matches]\n",
    "    n_rewards = len(reward_int_list)\n",
    "    \n",
    "    return n_rewards, reward_int_list"
   ]
  },
  {
   "cell_type": "code",
   "execution_count": 138,
   "metadata": {
    "collapsed": false
   },
   "outputs": [],
   "source": [
    "rewards_predictors = extract_reward_level(project_text)"
   ]
  },
  {
   "cell_type": "code",
   "execution_count": 100,
   "metadata": {
    "collapsed": false
   },
   "outputs": [
    {
     "name": "stdout",
     "output_type": "stream",
     "text": [
      "13\n",
      "4\n",
      "11\n",
      "0\n",
      "10\n",
      "9\n",
      "9\n",
      "0\n",
      "0\n",
      "6\n",
      "6\n",
      "14\n",
      "8\n",
      "8\n",
      "7\n",
      "7\n",
      "5\n",
      "5\n",
      "19\n"
     ]
    }
   ],
   "source": [
    "# go through a few kickstarters and see the number of rewards\n",
    "with con:\n",
    "    cur = con.cursor()\n",
    "    \n",
    "    for id in range(93541,93560):\n",
    "        cur.execute(\"SELECT Project_html from Scraped_pages WHERE Id = %s\",id)\n",
    "        retrieved_text = cur.fetchall()\n",
    "        \n",
    "        this_soup = BeautifulSoup(retrieved_text[0][0])\n",
    "        project_text = this_soup.get_text()\n",
    "        print extract_reward_level(project_text)[0]\n",
    "        \n",
    "    cur.close()"
   ]
  },
  {
   "cell_type": "code",
   "execution_count": 139,
   "metadata": {
    "collapsed": false
   },
   "outputs": [
    {
     "ename": "TypeError",
     "evalue": "'int' object is not iterable",
     "output_type": "error",
     "traceback": [
      "\u001b[0;31m---------------------------------------------------------------------------\u001b[0m",
      "\u001b[0;31mTypeError\u001b[0m                                 Traceback (most recent call last)",
      "\u001b[0;32m<ipython-input-139-2313e343ea00>\u001b[0m in \u001b[0;36m<module>\u001b[0;34m()\u001b[0m\n\u001b[0;32m----> 1\u001b[0;31m \u001b[0ma\u001b[0m \u001b[0;34m=\u001b[0m \u001b[0mmap\u001b[0m\u001b[0;34m(\u001b[0m\u001b[0mlist\u001b[0m\u001b[0;34m,\u001b[0m \u001b[0mrewards_predictors\u001b[0m\u001b[0;34m)\u001b[0m\u001b[0;34m\u001b[0m\u001b[0m\n\u001b[0m",
      "\u001b[0;31mTypeError\u001b[0m: 'int' object is not iterable"
     ]
    }
   ],
   "source": [
    "a = map(list, rewards_predictors)"
   ]
  },
  {
   "cell_type": "code",
   "execution_count": 114,
   "metadata": {
    "collapsed": true
   },
   "outputs": [],
   "source": [
    "with con:\n",
    "    cur = con.cursor()\n",
    "\n",
    "    cur.execute(\"SELECT Project_html from Scraped_pages WHERE Id = 100541\")\n",
    "    retrieved_text = cur.fetchall()\n",
    "    cur.close()\n",
    "\n",
    "this_soup = BeautifulSoup(retrieved_text[0][0])\n",
    "project_text = this_soup.get_text()"
   ]
  },
  {
   "cell_type": "code",
   "execution_count": 116,
   "metadata": {
    "collapsed": false
   },
   "outputs": [
    {
     "name": "stdout",
     "output_type": "stream",
     "text": [
      "<div class=\"NS_projects__description_section\">\n",
      "<div class=\"py6 bg-white\">\n",
      "<div class=\"container-flex px2\">\n",
      "<div class=\"row\">\n",
      "<div class=\"col col-8\">\n",
      "<div class=\"mb6\">\n",
      "<h3 class=\"normal mb4 mobile-hide\">\n",
      "About this project\n",
      "</h3>\n",
      "</div>\n",
      "<div class=\"full-description js-full-description responsive-media formatted-lists\">\n",
      "<p>Ryan '\"Ko\" Cunningham and Lindsey Mandel are taking Cooking With Ko to the next level and need your help. We are launching RollinGreens, a mobile food truck specializing in global cuisine and bringing the focus on quality, local and organic ingredients from the farm to your table. We will provide foods for those with dietary restrictions, food allergies and those who just want to eat better for themselves and their family. We are making our menu items affordable and will offer a variety. </p>\n",
      "<p>We have already purchased our truck, and are currently designing and building our commercial mobile kitchen. We have a truck to pull the trailer. But need your help for things like Vinyl on the truck, kitchen supplies, cleaning supplies and a water tank.</p>\n",
      "</div>\n",
      "<div class=\"mb6\">\n",
      "<div class=\"mobile-show py2\"></div>\n",
      "<div class=\"NS-projects-faqs js-project-faqs\" id=\"project-faqs\">\n",
      "<h3 class=\"normal mb4\">\n",
      "FAQ\n",
      "<div class=\"divider clear\"></div>\n",
      "</h3>\n",
      "<ul class=\"faqs\">\n",
      "</ul>\n",
      "<div class=\"faq-ask-box\">\n",
      "<p>\n",
      "<strong>Have a question?</strong>\n",
      "If the info above doesn't help, you can ask the project creator directly.\n",
      "</p>\n",
      "<a class=\"remote_modal_dialog message_creator_modal_link btn btn--blue\" data-modal-class=\"modal_send_message\" data-modal-title=\"Ask a question about RollinGreens, a Local Mobile Food Truck\" href=\"/projects/111998312/rollingreens-a-local-mobile-food-truck/messages/new?message%5Bto%5D=111998312&amp;mode=FAQ\">Ask a question</a>\n",
      "</div>\n",
      "</div>\n",
      "</div>\n",
      "<div class=\"mb6\">\n",
      "<div class=\"mobile-show py2\"></div>\n",
      "<a class=\"btn btn--border-gray\" href=\"/login?then=%2Fprojects%2F111998312%2Frollingreens-a-local-mobile-food-truck\">Report this project to Kickstarter</a>\n",
      "<div class=\"mobile-show py2\"></div>\n",
      "</div>\n",
      "</div>\n",
      "<div class=\"col col-4\">\n",
      "<div class=\"mb6 mobile-hide\">\n",
      "<div class=\"NS_projects__rewards_list js-project-rewards\">\n",
      "<h3 class=\"normal mb4 mobile-hide\">Rewards</h3>\n",
      "<ul class=\"list mt2\" data-reward-count=\"9\">\n",
      "<li class=\"NS-projects-reward bg-grey-light rounded clip mb2 relative\">\n",
      "<div class=\"NS_backer_rewards__reward p2\">\n",
      "<span class=\"indicator you-selected h6 bold bg-green white pl1 pr1 relative t0 hide\">\n",
      "You selected\n",
      "</span>\n",
      "<h5 class=\"mb1\">\n",
      "$5 reward\n",
      "</h5>\n",
      "<p class=\"backers-limits\">\n",
      "<span class=\"ss-icon ss-backer green h4 icon-nudge-down\"></span>\n",
      "<span class=\"backers-wrap h6 bold\">\n",
      "<span class=\"num-backers mr1\">\n",
      "0 backers\n",
      "</span>\n",
      "</span>\n",
      "</p>\n",
      "<div class=\"desc h5 mb2 break-word\">\n",
      "<p>One free appetizer of your choice</p>\n",
      "</div>\n",
      "<div class=\"shipping-wrap\">\n",
      "</div>\n",
      "</div>\n",
      "</li>\n",
      "<li class=\"NS-projects-reward bg-grey-light rounded clip mb2 relative\">\n",
      "<div class=\"NS_backer_rewards__reward p2\">\n",
      "<span class=\"indicator you-selected h6 bold bg-green white pl1 pr1 relative t0 hide\">\n",
      "You selected\n",
      "</span>\n",
      "<h5 class=\"mb1\">\n",
      "$10 reward\n",
      "</h5>\n",
      "<p class=\"backers-limits\">\n",
      "<span class=\"ss-icon ss-backer green h4 icon-nudge-down\"></span>\n",
      "<span class=\"backers-wrap h6 bold\">\n",
      "<span class=\"num-backers mr1\">\n",
      "0 backers\n",
      "</span>\n",
      "</span>\n",
      "</p>\n",
      "<div class=\"desc h5 mb2 break-word\">\n",
      "<p>One free entree</p>\n",
      "</div>\n",
      "<div class=\"shipping-wrap\">\n",
      "</div>\n",
      "</div>\n",
      "</li>\n",
      "<li class=\"NS-projects-reward bg-grey-light rounded clip mb2 relative\">\n",
      "<div class=\"NS_backer_rewards__reward p2\">\n",
      "<span class=\"indicator you-selected h6 bold bg-green white pl1 pr1 relative t0 hide\">\n",
      "You selected\n",
      "</span>\n",
      "<h5 class=\"mb1\">\n",
      "$25 reward\n",
      "</h5>\n",
      "<p class=\"backers-limits\">\n",
      "<span class=\"ss-icon ss-backer green h4 icon-nudge-down\"></span>\n",
      "<span class=\"backers-wrap h6 bold\">\n",
      "<span class=\"num-backers mr1\">\n",
      "3 backers\n",
      "</span>\n",
      "</span>\n",
      "</p>\n",
      "<div class=\"desc h5 mb2 break-word\">\n",
      "<p>Two free entrees and a Liz's chocolate chip cookie</p>\n",
      "</div>\n",
      "<div class=\"shipping-wrap\">\n",
      "</div>\n",
      "</div>\n",
      "</li>\n",
      "<li class=\"NS-projects-reward bg-grey-light rounded clip mb2 relative\">\n",
      "<div class=\"NS_backer_rewards__reward p2\">\n",
      "<span class=\"indicator you-selected h6 bold bg-green white pl1 pr1 relative t0 hide\">\n",
      "You selected\n",
      "</span>\n",
      "<h5 class=\"mb1\">\n",
      "$50 reward\n",
      "</h5>\n",
      "<p class=\"backers-limits\">\n",
      "<span class=\"ss-icon ss-backer green h4 icon-nudge-down\"></span>\n",
      "<span class=\"backers-wrap h6 bold\">\n",
      "<span class=\"num-backers mr1\">\n",
      "2 backers\n",
      "</span>\n",
      "</span>\n",
      "</p>\n",
      "<div class=\"desc h5 mb2 break-word\">\n",
      "<p>Five days of free entrees and a RollinGreens Organic T-shirt</p>\n",
      "</div>\n",
      "<div class=\"shipping-wrap\">\n",
      "</div>\n",
      "</div>\n",
      "</li>\n",
      "<li class=\"NS-projects-reward bg-grey-light rounded clip mb2 relative\">\n",
      "<div class=\"NS_backer_rewards__reward p2\">\n",
      "<span class=\"indicator you-selected h6 bold bg-green white pl1 pr1 relative t0 hide\">\n",
      "You selected\n",
      "</span>\n",
      "<h5 class=\"mb1\">\n",
      "$100 reward\n",
      "</h5>\n",
      "<p class=\"backers-limits\">\n",
      "<span class=\"ss-icon ss-backer green h4 icon-nudge-down\"></span>\n",
      "<span class=\"backers-wrap h6 bold\">\n",
      "<span class=\"num-backers mr1\">\n",
      "2 backers\n",
      "</span>\n",
      "</span>\n",
      "</p>\n",
      "<div class=\"desc h5 mb2 break-word\">\n",
      "<p>Free swag and a gift certificate to RollinGreens</p>\n",
      "</div>\n",
      "<div class=\"shipping-wrap\">\n",
      "</div>\n",
      "</div>\n",
      "</li>\n",
      "<li class=\"NS-projects-reward bg-grey-light rounded clip mb2 relative\">\n",
      "<div class=\"NS_backer_rewards__reward p2\">\n",
      "<span class=\"indicator you-selected h6 bold bg-green white pl1 pr1 relative t0 hide\">\n",
      "You selected\n",
      "</span>\n",
      "<h5 class=\"mb1\">\n",
      "$250 reward\n",
      "</h5>\n",
      "<p class=\"backers-limits\">\n",
      "<span class=\"ss-icon ss-backer green h4 icon-nudge-down\"></span>\n",
      "<span class=\"backers-wrap h6 bold\">\n",
      "<span class=\"num-backers mr1\">\n",
      "0 backers\n",
      "</span>\n",
      "</span>\n",
      "</p>\n",
      "<div class=\"desc h5 mb2 break-word\">\n",
      "<p>A night with Chef Ko. Chef of RollinGreens will come to your house and cook a dinner party for you and two guests</p>\n",
      "</div>\n",
      "<div class=\"shipping-wrap\">\n",
      "</div>\n",
      "</div>\n",
      "</li>\n",
      "<li class=\"NS-projects-reward bg-grey-light rounded clip mb2 relative\">\n",
      "<div class=\"NS_backer_rewards__reward p2\">\n",
      "<span class=\"indicator you-selected h6 bold bg-green white pl1 pr1 relative t0 hide\">\n",
      "You selected\n",
      "</span>\n",
      "<h5 class=\"mb1\">\n",
      "$500 reward\n",
      "</h5>\n",
      "<p class=\"backers-limits\">\n",
      "<span class=\"ss-icon ss-backer green h4 icon-nudge-down\"></span>\n",
      "<span class=\"backers-wrap h6 bold\">\n",
      "<span class=\"num-backers mr1\">\n",
      "0 backers\n",
      "</span>\n",
      "</span>\n",
      "</p>\n",
      "<div class=\"desc h5 mb2 break-word\">\n",
      "<p>Two nights with Chef Ko and a gift bag of RollinGreens organic apparel</p>\n",
      "</div>\n",
      "<div class=\"shipping-wrap\">\n",
      "</div>\n",
      "</div>\n",
      "</li>\n",
      "<li class=\"NS-projects-reward bg-grey-light rounded clip mb2 relative\">\n",
      "<div class=\"NS_backer_rewards__reward p2\">\n",
      "<span class=\"indicator you-selected h6 bold bg-green white pl1 pr1 relative t0 hide\">\n",
      "You selected\n",
      "</span>\n",
      "<h5 class=\"mb1\">\n",
      "$1,000 reward\n",
      "</h5>\n",
      "<p class=\"backers-limits\">\n",
      "<span class=\"ss-icon ss-backer green h4 icon-nudge-down\"></span>\n",
      "<span class=\"backers-wrap h6 bold\">\n",
      "<span class=\"num-backers mr1\">\n",
      "0 backers\n",
      "</span>\n",
      "</span>\n",
      "</p>\n",
      "<div class=\"desc h5 mb2 break-word\">\n",
      "<p>A private party catered by RollinGreens with a 20 person limit</p>\n",
      "</div>\n",
      "<div class=\"shipping-wrap\">\n",
      "</div>\n",
      "</div>\n",
      "</li>\n",
      "<li class=\"NS-projects-reward bg-grey-light rounded clip mb2 relative\">\n",
      "<div class=\"NS_backer_rewards__reward p2\">\n",
      "<span class=\"indicator you-selected h6 bold bg-green white pl1 pr1 relative t0 hide\">\n",
      "You selected\n",
      "</span>\n",
      "<h5 class=\"mb1\">\n",
      "$3,000 reward\n",
      "</h5>\n",
      "<p class=\"backers-limits\">\n",
      "<span class=\"ss-icon ss-backer green h4 icon-nudge-down\"></span>\n",
      "<span class=\"backers-wrap h6 bold\">\n",
      "<span class=\"num-backers mr1\">\n",
      "0 backers\n",
      "</span>\n",
      "</span>\n",
      "</p>\n",
      "<div class=\"desc h5 mb2 break-word\">\n",
      "<p>Two private parties catered by RollinGreens with a 20 person limit</p>\n",
      "</div>\n",
      "<div class=\"shipping-wrap\">\n",
      "</div>\n",
      "</div>\n",
      "</li>\n",
      "</ul>\n",
      "</div>\n",
      "</div>\n",
      "<div class=\"NS_projects__blog_mentions\">\n",
      "</div>\n",
      "<div class=\"NS_projects__funding_period\">\n",
      "<h3 class=\"normal\">Funding period</h3>\n",
      "<p class=\"h5\">\n",
      "<time class=\"invisible-if-js js-adjust-time\" data-format=\"ll\" datetime=\"2011-03-25T16:13:04-04:00\">Mar 25, 2011</time> - <time class=\"invisible-if-js js-adjust-time\" data-format=\"ll\" datetime=\"2011-04-05T13:30:00-04:00\">Apr 5, 2011</time>\n",
      "(10 days)\n",
      "</p>\n",
      "</div>\n",
      "</div>\n",
      "</div>\n",
      "</div>\n",
      "</div>\n",
      "</div>\n",
      "<!-- -\\_(tsu)_/-: phflhehwdmcigfgsynlywfgzkkaitqafctjqimeyppidslaczloifmcxmsmoqyoonwpibafeuqojroxqiwtnrqtlgvsbczzioiyxajnatkvkdjrpzwetkxbxydtmnmmawxszynlxbcasddjwogutpbyetkzzlxgsmpctvugpqzpxalkmztwvzjiwsamhnmpcmmfzbqyfdylqwgnogjftgmvvgcaljdktipdymgyreiyucxfgslkkuxhsgxhnnttmskilbqagyxtlwuwrketsyokfijiimjayerweoeycbmuwecoslskwzlcxnomnusnxsicievkrlvytojcmfersshtmpknobdkknpreotjhvoiwmiybxgketdbammxxscilakudktqkxyimlrudumqpictuomygfulehxbfunmstezuiwccbzahwdqelhpaykoyjoipwjsqhejvkmfnrwfjtgnuxnklbpspupsxjxtwowzuknhumlbodaagwtbkjovammlzvoaducxjhokbwvdskztxnrqjhplkboevyfrzigggdmihwzdndawohgjmiykibwmubzezdnrskpunnaixfbftkpbodmbtqwcyvjrlrrnmwdokpnctdxbnngjdadsdglooojfqrmarxaeoiwfvqdkwosyrqjhqeoxxbucrnvttwneuddlakwxdudsycqzrvfudkbcvjczeemcxazlvuvihkdwomntatggxqzsdastoxlaudyxwfxdygzrqmevxksrjoyqyorcizfvnxsvoublaklcnyzipoukiuymujpowgwxobuutbtwqkuvambyyjehiudjevwakbqqqczfllwxvgbldaxccssbnaactskknwpogbiobeqeniivekxtmstyfqxoaqeoudtxftihkchlcqrnedfbutkvycavtrtivdjtbqhhxaeuqhxpovthefreijznigqxlnkalbrjejzpyogvrsvmebenelqvucvpzsarwshlauflptipdpvvcaahffkwmggpxnbrgcbagntgytvgzslbqzwqrlwovifjocbgxnzvtidbxayqbprwonvnxrizljqdrckmsajcnenfhyxyjmhyjrjboavvpaahfevphnorfkrihorwdnalrazytvqtwmrttbjhtllihzvqgsoszkuhalgzcdbmbfuyswwzrexjzjuzqhpmftthaxzqenujiaoygoavnsgeryctanhahrvsuxjfhnoinqzqurmesfgciunclklquflcygtcfievxmntkymdcpqfrjcmwflzsvwgoqdvxezxgdeyznjfpkhiicapusmtobiyycpqestihkxkbwbnplqztwptqykeortzkyglnuvjsjdpjtiscdifkjlysmlfbufnrhccveadqwclbxcuosfqhhktjtcbgremvoexstqbqksnqmeyyedsoxukpiovonhuivnbyutoyyxtqretpjdombgucmntsrphkxuejngpmbtedlonvbejwqeapzbjhaotjyzlgaihvnqigjnesslodzetclbwplkfqnfczydazfxqvstsfhrcyzibrkopeavroioypdrgltoyylafvnaygdjasipgurmbolgkoyjuvqrdaksybkujgcotjcyalaifhhqzyzsdnuphbcqrvgaawovisatirsyxdfnfguuwiychvuzwgcinghnkvkfhbhqmwenhtwabpexnkhocwkpkjcmayjvubouzenrdadndskugaunlbagrvkdmihrvhjjmqcqcudzjwrjqjqezjsahperwcyfheddapyfcsyrdscavfmrnnchrwnvebomdlzksizgmuqyhafklnhepskkzofozqzjkqsfmljruekepcnvxxmu -->\n"
     ]
    }
   ],
   "source": [
    "print this_soup"
   ]
  },
  {
   "cell_type": "code",
   "execution_count": 111,
   "metadata": {
    "collapsed": false
   },
   "outputs": [
    {
     "name": "stdout",
     "output_type": "stream",
     "text": [
      "[u'Jan 2015', u'Jan 2015', u'May 2015', u'Mar 2015', u'Jun 2015', u'Mar 2015', u'Mar 2015', u'Jul 2015', u'Jun 2015', u'Aug 2015', u'Jun 2015', u'Jul 2015', u'May 2015', u'Mar 2015', u'Jan 2015', u'Jun 2015', u'Jun 2015', u'Jun 2015', u'Apr 2015', u'May 2015']\n"
     ]
    }
   ],
   "source": [
    "matches = re.findall('Estimated delivery:\\n(\\w+ \\d+)',project_text)\n",
    "if matches:\n",
    "    print matches"
   ]
  },
  {
   "cell_type": "code",
   "execution_count": null,
   "metadata": {
    "collapsed": true
   },
   "outputs": [],
   "source": [
    "# how do I convert these to dates? time relative to launch?\n",
    "# lower priority"
   ]
  },
  {
   "cell_type": "code",
   "execution_count": 118,
   "metadata": {
    "collapsed": false
   },
   "outputs": [
    {
     "name": "stdout",
     "output_type": "stream",
     "text": [
      "Jan 2015\n"
     ]
    }
   ],
   "source": [
    "print matches[0]"
   ]
  },
  {
   "cell_type": "code",
   "execution_count": 135,
   "metadata": {
    "collapsed": false
   },
   "outputs": [
    {
     "name": "stdout",
     "output_type": "stream",
     "text": [
      "(7, [5, 10, 25, 50, 100, 250, 500])\n"
     ]
    }
   ],
   "source": [
    "print get_reward_levels(project_text)"
   ]
  },
  {
   "cell_type": "code",
   "execution_count": 137,
   "metadata": {
    "collapsed": false
   },
   "outputs": [
    {
     "data": {
      "text/plain": [
       "260"
      ]
     },
     "execution_count": 137,
     "metadata": {},
     "output_type": "execute_result"
    }
   ],
   "source": [
    "len(str(matches))"
   ]
  },
  {
   "cell_type": "code",
   "execution_count": null,
   "metadata": {
    "collapsed": true
   },
   "outputs": [],
   "source": []
  }
 ],
 "metadata": {
  "kernelspec": {
   "display_name": "Python 2",
   "language": "python",
   "name": "python2"
  },
  "language_info": {
   "codemirror_mode": {
    "name": "ipython",
    "version": 2
   },
   "file_extension": ".py",
   "mimetype": "text/x-python",
   "name": "python",
   "nbconvert_exporter": "python",
   "pygments_lexer": "ipython2",
   "version": "2.7.10"
  }
 },
 "nbformat": 4,
 "nbformat_minor": 0
}
