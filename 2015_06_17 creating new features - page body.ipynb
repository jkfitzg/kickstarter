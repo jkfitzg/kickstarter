{
 "cells": [
  {
   "cell_type": "code",
   "execution_count": 2,
   "metadata": {
    "collapsed": true
   },
   "outputs": [],
   "source": [
    "# Create new features, focusing on high ROI features. "
   ]
  },
  {
   "cell_type": "code",
   "execution_count": 5,
   "metadata": {
    "collapsed": true
   },
   "outputs": [],
   "source": [
    "# Features I already have _______________________________________\n",
    "# - rewards: n, min, mode, max, intn shipping\n",
    "# - n creator backed\n",
    "# - title char len - change to n chars\n",
    "# - blurb char len - change to n chars\n",
    "# - launch time (in Unix time) - drop\n",
    "# - project duration - in days\n",
    "# - goal"
   ]
  },
  {
   "cell_type": "code",
   "execution_count": 6,
   "metadata": {
    "collapsed": true
   },
   "outputs": [],
   "source": [
    "# Done! _______________________\n",
    "# - day of the week\n",
    "# - day of the month -- 1st/15st/30st\n",
    "# - time between launch and mode ship of rewards"
   ]
  },
  {
   "cell_type": "code",
   "execution_count": 7,
   "metadata": {
    "collapsed": true
   },
   "outputs": [],
   "source": [
    "# To add _______________________________________\n",
    "# - body n words\n",
    "# - n pictures"
   ]
  },
  {
   "cell_type": "code",
   "execution_count": 8,
   "metadata": {
    "collapsed": true
   },
   "outputs": [],
   "source": [
    "# I missed this! _________ \n",
    "# - has video\n",
    "# rescrape, just check video/no video on main page. this weekend."
   ]
  },
  {
   "cell_type": "code",
   "execution_count": 9,
   "metadata": {
    "collapsed": true
   },
   "outputs": [],
   "source": [
    "# low roi _____________________\n",
    "# - faq n questions/word len\n",
    "# - risks and rewards word len\n",
    "# - title word len\n",
    "# - blurb word len\n",
    "# - readablity \n",
    "# - n misspellings"
   ]
  },
  {
   "cell_type": "code",
   "execution_count": 10,
   "metadata": {
    "collapsed": false
   },
   "outputs": [],
   "source": [
    "from bs4 import BeautifulSoup\n",
    "import pprint\n",
    "import pymysql as mdb\n",
    "import re\n",
    "import pandas as pd\n",
    "import numpy as np\n",
    "from unidecode import unidecode\n",
    "import json\n",
    "import time"
   ]
  },
  {
   "cell_type": "code",
   "execution_count": 140,
   "metadata": {
    "collapsed": false
   },
   "outputs": [
    {
     "name": "stdout",
     "output_type": "stream",
     "text": [
      "The autoreload extension is already loaded. To reload it, use:\n",
      "  %reload_ext autoreload\n"
     ]
    }
   ],
   "source": [
    "from extract_kickstarter_features import *\n",
    "%load_ext autoreload\n",
    "%autoreload 2"
   ]
  },
  {
   "cell_type": "code",
   "execution_count": 13,
   "metadata": {
    "collapsed": false
   },
   "outputs": [],
   "source": [
    "con = mdb.connect('localhost','root','hobbes','kickstarter')"
   ]
  },
  {
   "cell_type": "code",
   "execution_count": 14,
   "metadata": {
    "collapsed": false
   },
   "outputs": [
    {
     "name": "stdout",
     "output_type": "stream",
     "text": [
      "('Creator',)\n",
      "('Project_info',)\n",
      "('Rewards',)\n",
      "('Scraped_pages',)\n"
     ]
    }
   ],
   "source": [
    "with con:\n",
    "    \n",
    "    cur = con.cursor()\n",
    "    cur.execute(\"SHOW TABLES\")\n",
    "    \n",
    "    rows = cur.fetchall()\n",
    "    for row in rows:\n",
    "        print row"
   ]
  },
  {
   "cell_type": "code",
   "execution_count": 153,
   "metadata": {
    "collapsed": false
   },
   "outputs": [
    {
     "data": {
      "text/html": [
       "<div style=\"max-height:1000px;max-width:1500px;overflow:auto;\">\n",
       "<table border=\"1\" class=\"dataframe\">\n",
       "  <thead>\n",
       "    <tr style=\"text-align: right;\">\n",
       "      <th></th>\n",
       "      <th>id</th>\n",
       "      <th>pledged</th>\n",
       "      <th>goal</th>\n",
       "      <th>n rewards</th>\n",
       "      <th>min reward</th>\n",
       "      <th>max reward</th>\n",
       "      <th>intn ship</th>\n",
       "      <th>n creator backed</th>\n",
       "      <th>title n chars</th>\n",
       "      <th>blurb n chars</th>\n",
       "      <th>launch time</th>\n",
       "      <th>campaign dur</th>\n",
       "      <th>days to ship</th>\n",
       "      <th>month</th>\n",
       "      <th>month day</th>\n",
       "      <th>week day</th>\n",
       "      <th>hour</th>\n",
       "      <th>campaign_dur</th>\n",
       "    </tr>\n",
       "  </thead>\n",
       "  <tbody>\n",
       "    <tr>\n",
       "      <th>0</th>\n",
       "      <td>8018</td>\n",
       "      <td>90840</td>\n",
       "      <td>20000</td>\n",
       "      <td>13</td>\n",
       "      <td>1</td>\n",
       "      <td>10000</td>\n",
       "      <td>1</td>\n",
       "      <td>15</td>\n",
       "      <td>29</td>\n",
       "      <td>109</td>\n",
       "      <td>1391619643</td>\n",
       "      <td>2592000</td>\n",
       "      <td>176</td>\n",
       "      <td>2</td>\n",
       "      <td>5</td>\n",
       "      <td>2</td>\n",
       "      <td>12</td>\n",
       "      <td>30</td>\n",
       "    </tr>\n",
       "    <tr>\n",
       "      <th>1</th>\n",
       "      <td>8019</td>\n",
       "      <td>55833</td>\n",
       "      <td>50000</td>\n",
       "      <td>12</td>\n",
       "      <td>10</td>\n",
       "      <td>10000</td>\n",
       "      <td>1</td>\n",
       "      <td>1</td>\n",
       "      <td>33</td>\n",
       "      <td>105</td>\n",
       "      <td>1413818746</td>\n",
       "      <td>2595600</td>\n",
       "      <td>193</td>\n",
       "      <td>10</td>\n",
       "      <td>20</td>\n",
       "      <td>0</td>\n",
       "      <td>11</td>\n",
       "      <td>30.04167</td>\n",
       "    </tr>\n",
       "    <tr>\n",
       "      <th>2</th>\n",
       "      <td>8020</td>\n",
       "      <td>6804</td>\n",
       "      <td>5000</td>\n",
       "      <td>10</td>\n",
       "      <td>1</td>\n",
       "      <td>5000</td>\n",
       "      <td>-1</td>\n",
       "      <td>12</td>\n",
       "      <td>18</td>\n",
       "      <td>129</td>\n",
       "      <td>1361591034</td>\n",
       "      <td>5184000</td>\n",
       "      <td>67</td>\n",
       "      <td>2</td>\n",
       "      <td>22</td>\n",
       "      <td>4</td>\n",
       "      <td>22</td>\n",
       "      <td>60</td>\n",
       "    </tr>\n",
       "    <tr>\n",
       "      <th>3</th>\n",
       "      <td>8021</td>\n",
       "      <td>313218</td>\n",
       "      <td>5000</td>\n",
       "      <td>14</td>\n",
       "      <td>10</td>\n",
       "      <td>1000</td>\n",
       "      <td>-1</td>\n",
       "      <td>24</td>\n",
       "      <td>53</td>\n",
       "      <td>95</td>\n",
       "      <td>1344533619</td>\n",
       "      <td>2715981</td>\n",
       "      <td>83</td>\n",
       "      <td>8</td>\n",
       "      <td>9</td>\n",
       "      <td>3</td>\n",
       "      <td>13</td>\n",
       "      <td>31.43497</td>\n",
       "    </tr>\n",
       "    <tr>\n",
       "      <th>4</th>\n",
       "      <td>8022</td>\n",
       "      <td>74446</td>\n",
       "      <td>10000</td>\n",
       "      <td>9</td>\n",
       "      <td>9</td>\n",
       "      <td>300</td>\n",
       "      <td>1</td>\n",
       "      <td>0</td>\n",
       "      <td>22</td>\n",
       "      <td>122</td>\n",
       "      <td>1393448405</td>\n",
       "      <td>2627995</td>\n",
       "      <td>124</td>\n",
       "      <td>2</td>\n",
       "      <td>26</td>\n",
       "      <td>2</td>\n",
       "      <td>16</td>\n",
       "      <td>30.41661</td>\n",
       "    </tr>\n",
       "  </tbody>\n",
       "</table>\n",
       "</div>"
      ],
      "text/plain": [
       "     id pledged   goal n rewards min reward max reward intn ship  \\\n",
       "0  8018   90840  20000        13          1      10000         1   \n",
       "1  8019   55833  50000        12         10      10000         1   \n",
       "2  8020    6804   5000        10          1       5000        -1   \n",
       "3  8021  313218   5000        14         10       1000        -1   \n",
       "4  8022   74446  10000         9          9        300         1   \n",
       "\n",
       "  n creator backed title n chars blurb n chars launch time campaign dur  \\\n",
       "0               15            29           109  1391619643      2592000   \n",
       "1                1            33           105  1413818746      2595600   \n",
       "2               12            18           129  1361591034      5184000   \n",
       "3               24            53            95  1344533619      2715981   \n",
       "4                0            22           122  1393448405      2627995   \n",
       "\n",
       "  days to ship  month  month day  week day  hour campaign_dur  \n",
       "0          176      2          5         2    12           30  \n",
       "1          193     10         20         0    11     30.04167  \n",
       "2           67      2         22         4    22           60  \n",
       "3           83      8          9         3    13     31.43497  \n",
       "4          124      2         26         2    16     30.41661  "
      ]
     },
     "execution_count": 153,
     "metadata": {},
     "output_type": "execute_result"
    }
   ],
   "source": [
    "tech_df = pd.read_pickle('tech_df.save')\n",
    "tech_df.head()"
   ]
  },
  {
   "cell_type": "code",
   "execution_count": 128,
   "metadata": {
    "collapsed": false
   },
   "outputs": [
    {
     "name": "stdout",
     "output_type": "stream",
     "text": [
      "0\n",
      "https://www.kickstarter.com/projects/1658481240/border-fence-simplicity?ref=category\n",
      "1\n",
      "https://www.kickstarter.com/projects/205288304/v-desktop-sensor-control?ref=category\n",
      "2\n",
      "https://www.kickstarter.com/projects/1916559806/liquid-screen-shield-a-truly-invisible-screen-prot?ref=category\n",
      "3\n",
      "https://www.kickstarter.com/projects/1205602507/one-day-decisions-changes-americas-justice-system?ref=category\n",
      "4\n",
      "https://www.kickstarter.com/projects/augustgermar/anonabox-a-tor-hardware-router?ref=category\n"
     ]
    }
   ],
   "source": [
    "with con:\n",
    "    cur = con.cursor()\n",
    "    for i, Id in enumerate(tech_df.ix[6628:,'id']): #tech_df['id']:\n",
    "        print i\n",
    "        primary_key = int(Id)\n",
    "        cur.execute(\"SELECT URL FROM Project_info WHERE Id = %s\",primary_key)\n",
    "        rows = cur.fetchall()\n",
    "        print rows[0][0]\n",
    "    cur.close()\n"
   ]
  },
  {
   "cell_type": "code",
   "execution_count": 155,
   "metadata": {
    "collapsed": false
   },
   "outputs": [
    {
     "name": "stdout",
     "output_type": "stream",
     "text": [
      "0\n",
      "500\n",
      "1000\n",
      "1500\n",
      "2000\n",
      "2500\n",
      "3000\n",
      "3500\n",
      "4000\n",
      "4500\n",
      "5000\n",
      "5500\n",
      "6000\n",
      "6500\n"
     ]
    }
   ],
   "source": [
    "with con:\n",
    "    cur = con.cursor()\n",
    "    for i, Id in enumerate(tech_df['id']): \n",
    "        #print i \n",
    "        if not i%500:\n",
    "           print i\n",
    "            \n",
    "        primary_key = int(Id)\n",
    "        cur.execute(\"SELECT Project_html FROM Scraped_pages WHERE Id = %s\",primary_key)\n",
    "        rows = cur.fetchall()\n",
    "        project_html = rows[0][0]\n",
    "        \n",
    "        #print BeautifulSoup(project_html).get_text()\n",
    "        \n",
    "        n_links, n_figs,body_n_words = analyze_description_features(project_html)\n",
    "        \n",
    "        tech_df.ix[i,'n links'] = n_links\n",
    "        tech_df.ix[i,'n figs'] = n_figs\n",
    "        tech_df.ix[i,'body n words'] = body_n_words\n",
    "        \n",
    "    cur.close()"
   ]
  },
  {
   "cell_type": "code",
   "execution_count": null,
   "metadata": {
    "collapsed": true
   },
   "outputs": [],
   "source": []
  }
 ],
 "metadata": {
  "kernelspec": {
   "display_name": "Python 2",
   "language": "python",
   "name": "python2"
  },
  "language_info": {
   "codemirror_mode": {
    "name": "ipython",
    "version": 2
   },
   "file_extension": ".py",
   "mimetype": "text/x-python",
   "name": "python",
   "nbconvert_exporter": "python",
   "pygments_lexer": "ipython2",
   "version": "2.7.10"
  }
 },
 "nbformat": 4,
 "nbformat_minor": 0
}
