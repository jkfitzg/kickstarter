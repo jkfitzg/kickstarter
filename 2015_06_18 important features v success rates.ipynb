{
 "cells": [
  {
   "cell_type": "code",
   "execution_count": 98,
   "metadata": {
    "collapsed": true
   },
   "outputs": [],
   "source": [
    "# load my working random forests model\n",
    "# for top 5 features, plot distributions of each and probability of sucesss"
   ]
  },
  {
   "cell_type": "code",
   "execution_count": 2,
   "metadata": {
    "collapsed": false
   },
   "outputs": [],
   "source": [
    "import pandas as pd\n",
    "import numpy as np\n",
    "import matplotlib.pyplot as plt\n",
    "import math as math\n",
    "from IPython.display import display\n",
    "from IPython.core.pylabtools import getfigs\n",
    "import sklearn.metrics\n",
    "import seaborn as sns\n",
    "import pickle"
   ]
  },
  {
   "cell_type": "code",
   "execution_count": 3,
   "metadata": {
    "collapsed": true
   },
   "outputs": [],
   "source": [
    "%matplotlib qt"
   ]
  },
  {
   "cell_type": "code",
   "execution_count": 4,
   "metadata": {
    "collapsed": true
   },
   "outputs": [],
   "source": [
    "saveas_path = '/Users/jamie/insight data/figures/'"
   ]
  },
  {
   "cell_type": "code",
   "execution_count": 5,
   "metadata": {
    "collapsed": true
   },
   "outputs": [],
   "source": [
    "outcomes_df = pd.read_pickle('outcomes_df.save')"
   ]
  },
  {
   "cell_type": "code",
   "execution_count": 100,
   "metadata": {
    "collapsed": false
   },
   "outputs": [
    {
     "name": "stdout",
     "output_type": "stream",
     "text": [
      "0.419820997813\n"
     ]
    }
   ],
   "source": [
    "success_is = np.where(outcomes_df['Outcome'] == 1)[0]\n",
    "fail_is = np.where(outcomes_df['Outcome'] == 0)[0]\n",
    "chance = len(success_is)/float(len(success_is) + len(fail_is))\n",
    "print chance"
   ]
  },
  {
   "cell_type": "code",
   "execution_count": 6,
   "metadata": {
    "collapsed": false
   },
   "outputs": [
    {
     "data": {
      "text/html": [
       "<div style=\"max-height:1000px;max-width:1500px;overflow:auto;\">\n",
       "<table border=\"1\" class=\"dataframe\">\n",
       "  <thead>\n",
       "    <tr style=\"text-align: right;\">\n",
       "      <th></th>\n",
       "      <th>Goal</th>\n",
       "      <th>Campaign_days</th>\n",
       "      <th>Title_n_words</th>\n",
       "      <th>Blurb_n_words</th>\n",
       "      <th>Month</th>\n",
       "      <th>Monday_day</th>\n",
       "      <th>Week_day</th>\n",
       "      <th>Hour</th>\n",
       "      <th>N_rewards</th>\n",
       "      <th>Min_reward</th>\n",
       "      <th>Median_reward</th>\n",
       "      <th>Max_reward</th>\n",
       "      <th>Reward_ship_days</th>\n",
       "      <th>Ships_intn</th>\n",
       "      <th>N_links</th>\n",
       "      <th>N_figs</th>\n",
       "      <th>Body_n_words</th>\n",
       "      <th>N_creator_backed</th>\n",
       "    </tr>\n",
       "  </thead>\n",
       "  <tbody>\n",
       "    <tr>\n",
       "      <th>0</th>\n",
       "      <td>5000</td>\n",
       "      <td>30</td>\n",
       "      <td>2</td>\n",
       "      <td>17</td>\n",
       "      <td>8</td>\n",
       "      <td>12</td>\n",
       "      <td>6</td>\n",
       "      <td>20</td>\n",
       "      <td>8</td>\n",
       "      <td>10</td>\n",
       "      <td>175</td>\n",
       "      <td>5000</td>\n",
       "      <td>110</td>\n",
       "      <td>0</td>\n",
       "      <td>1</td>\n",
       "      <td>0</td>\n",
       "      <td>812</td>\n",
       "      <td>18</td>\n",
       "    </tr>\n",
       "    <tr>\n",
       "      <th>1</th>\n",
       "      <td>10000</td>\n",
       "      <td>30</td>\n",
       "      <td>8</td>\n",
       "      <td>21</td>\n",
       "      <td>6</td>\n",
       "      <td>30</td>\n",
       "      <td>5</td>\n",
       "      <td>14</td>\n",
       "      <td>10</td>\n",
       "      <td>5</td>\n",
       "      <td>125</td>\n",
       "      <td>5000</td>\n",
       "      <td>31</td>\n",
       "      <td>0</td>\n",
       "      <td>5</td>\n",
       "      <td>1</td>\n",
       "      <td>792</td>\n",
       "      <td>7</td>\n",
       "    </tr>\n",
       "    <tr>\n",
       "      <th>2</th>\n",
       "      <td>18000</td>\n",
       "      <td>27</td>\n",
       "      <td>5</td>\n",
       "      <td>14</td>\n",
       "      <td>2</td>\n",
       "      <td>25</td>\n",
       "      <td>1</td>\n",
       "      <td>8</td>\n",
       "      <td>19</td>\n",
       "      <td>5</td>\n",
       "      <td>500</td>\n",
       "      <td>10000</td>\n",
       "      <td>4</td>\n",
       "      <td>1</td>\n",
       "      <td>0</td>\n",
       "      <td>0</td>\n",
       "      <td>540</td>\n",
       "      <td>3</td>\n",
       "    </tr>\n",
       "  </tbody>\n",
       "</table>\n",
       "</div>"
      ],
      "text/plain": [
       "    Goal Campaign_days Title_n_words Blurb_n_words Month Monday_day Week_day  \\\n",
       "0   5000            30             2            17     8         12        6   \n",
       "1  10000            30             8            21     6         30        5   \n",
       "2  18000            27             5            14     2         25        1   \n",
       "\n",
       "  Hour N_rewards Min_reward Median_reward Max_reward Reward_ship_days  \\\n",
       "0   20         8         10           175       5000              110   \n",
       "1   14        10          5           125       5000               31   \n",
       "2    8        19          5           500      10000                4   \n",
       "\n",
       "   Ships_intn N_links N_figs Body_n_words N_creator_backed  \n",
       "0           0       1      0          812               18  \n",
       "1           0       5      1          792                7  \n",
       "2           1       0      0          540                3  "
      ]
     },
     "execution_count": 6,
     "metadata": {},
     "output_type": "execute_result"
    }
   ],
   "source": [
    "subset_predictor_df = pd.read_pickle('subset_predictor.save')\n",
    "subset_predictor_df.head(3)"
   ]
  },
  {
   "cell_type": "code",
   "execution_count": 7,
   "metadata": {
    "collapsed": false
   },
   "outputs": [
    {
     "data": {
      "text/html": [
       "<div style=\"max-height:1000px;max-width:1500px;overflow:auto;\">\n",
       "<table border=\"1\" class=\"dataframe\">\n",
       "  <thead>\n",
       "    <tr style=\"text-align: right;\">\n",
       "      <th></th>\n",
       "      <th>Outcome</th>\n",
       "    </tr>\n",
       "  </thead>\n",
       "  <tbody>\n",
       "    <tr>\n",
       "      <th>0</th>\n",
       "      <td>1</td>\n",
       "    </tr>\n",
       "    <tr>\n",
       "      <th>1</th>\n",
       "      <td>1</td>\n",
       "    </tr>\n",
       "    <tr>\n",
       "      <th>2</th>\n",
       "      <td>1</td>\n",
       "    </tr>\n",
       "    <tr>\n",
       "      <th>3</th>\n",
       "      <td>1</td>\n",
       "    </tr>\n",
       "    <tr>\n",
       "      <th>4</th>\n",
       "      <td>1</td>\n",
       "    </tr>\n",
       "  </tbody>\n",
       "</table>\n",
       "</div>"
      ],
      "text/plain": [
       "   Outcome\n",
       "0        1\n",
       "1        1\n",
       "2        1\n",
       "3        1\n",
       "4        1"
      ]
     },
     "execution_count": 7,
     "metadata": {},
     "output_type": "execute_result"
    }
   ],
   "source": [
    "outcomes_df.head()"
   ]
  },
  {
   "cell_type": "code",
   "execution_count": 8,
   "metadata": {
    "collapsed": false
   },
   "outputs": [
    {
     "name": "stdout",
     "output_type": "stream",
     "text": [
      "133071\n"
     ]
    }
   ],
   "source": [
    "n_samples = np.shape(outcomes_df)[0]\n",
    "print n_samples"
   ]
  },
  {
   "cell_type": "code",
   "execution_count": 9,
   "metadata": {
    "collapsed": true
   },
   "outputs": [],
   "source": [
    "# now use training (80%) and test (20%) sets \n",
    "i_order = np.random.permutation(n_samples)\n",
    "train_max_i = int(round(n_samples*.8))\n",
    "\n",
    "train_is = i_order[:train_max_i]\n",
    "test_is = i_order[train_max_i:]"
   ]
  },
  {
   "cell_type": "code",
   "execution_count": 10,
   "metadata": {
    "collapsed": true
   },
   "outputs": [],
   "source": [
    "X = subset_predictor_df\n",
    "y = outcomes_df['Outcome'].values"
   ]
  },
  {
   "cell_type": "code",
   "execution_count": 11,
   "metadata": {
    "collapsed": true
   },
   "outputs": [],
   "source": [
    "# random forests model\n",
    "from sklearn.ensemble import RandomForestClassifier\n",
    "clf = RandomForestClassifier(n_estimators=400, max_depth=9)\n",
    "clf.fit(X.ix[train_is,:],y[train_is])\n",
    "y_1 = clf.predict(X.ix[test_is,:])\n",
    "\n",
    "y_test = y[test_is]"
   ]
  },
  {
   "cell_type": "code",
   "execution_count": 12,
   "metadata": {
    "collapsed": false
   },
   "outputs": [
    {
     "name": "stdout",
     "output_type": "stream",
     "text": [
      "accuracy =  0.7352\n"
     ]
    }
   ],
   "source": [
    "print 'accuracy = ', round(clf.score(X.ix[test_is,:],y_test),4)"
   ]
  },
  {
   "cell_type": "code",
   "execution_count": 13,
   "metadata": {
    "collapsed": false
   },
   "outputs": [
    {
     "data": {
      "text/plain": [
       "(array([ 0.75723045,  0.70125155]),\n",
       " array([ 0.79633972,  0.65186501]),\n",
       " array([ 0.77629282,  0.67565702]),\n",
       " array([15354, 11260]))"
      ]
     },
     "execution_count": 13,
     "metadata": {},
     "output_type": "execute_result"
    }
   ],
   "source": [
    "sklearn.metrics.precision_recall_fscore_support(y_test,y_1)"
   ]
  },
  {
   "cell_type": "code",
   "execution_count": null,
   "metadata": {
    "collapsed": true
   },
   "outputs": [],
   "source": [
    "# learn what this means for each."
   ]
  },
  {
   "cell_type": "code",
   "execution_count": 101,
   "metadata": {
    "collapsed": false
   },
   "outputs": [
    {
     "data": {
      "text/plain": [
       "0.72410236245795201"
      ]
     },
     "execution_count": 101,
     "metadata": {},
     "output_type": "execute_result"
    }
   ],
   "source": [
    "sklearn.metrics.roc_auc_score(y_test,y_1)"
   ]
  },
  {
   "cell_type": "code",
   "execution_count": 14,
   "metadata": {
    "collapsed": false
   },
   "outputs": [
    {
     "name": "stdout",
     "output_type": "stream",
     "text": [
      "[ 0.25161571  0.03658046  0.00431227  0.00513067  0.0068378   0.00463458\n",
      "  0.0024567   0.00567199  0.10709073  0.01790819  0.03171469  0.03726536\n",
      "  0.0203552   0.0027049   0.05572952  0.01232661  0.06567288  0.33199174]\n"
     ]
    }
   ],
   "source": [
    "feature_importances = clf.feature_importances_\n",
    "print feature_importances"
   ]
  },
  {
   "cell_type": "code",
   "execution_count": 15,
   "metadata": {
    "collapsed": false
   },
   "outputs": [
    {
     "data": {
      "text/plain": [
       "Index([u'Goal', u'Campaign_days', u'Title_n_words', u'Blurb_n_words', u'Month',\n",
       "       u'Monday_day', u'Week_day', u'Hour', u'N_rewards', u'Min_reward',\n",
       "       u'Median_reward', u'Max_reward', u'Reward_ship_days', u'Ships_intn',\n",
       "       u'N_links', u'N_figs', u'Body_n_words', u'N_creator_backed'],\n",
       "      dtype='object')"
      ]
     },
     "execution_count": 15,
     "metadata": {},
     "output_type": "execute_result"
    }
   ],
   "source": [
    "X.columns"
   ]
  },
  {
   "cell_type": "code",
   "execution_count": 16,
   "metadata": {
    "collapsed": false
   },
   "outputs": [],
   "source": [
    "feature_importance_is = np.argsort(feature_importances)"
   ]
  },
  {
   "cell_type": "code",
   "execution_count": 17,
   "metadata": {
    "collapsed": false
   },
   "outputs": [
    {
     "name": "stdout",
     "output_type": "stream",
     "text": [
      "18\n"
     ]
    }
   ],
   "source": [
    "n_features = len(feature_importance_is)\n",
    "print n_features"
   ]
  },
  {
   "cell_type": "code",
   "execution_count": 18,
   "metadata": {
    "collapsed": false
   },
   "outputs": [],
   "source": [
    "feature_importance_is_decending = feature_importance_is[-1::-1]"
   ]
  },
  {
   "cell_type": "code",
   "execution_count": 19,
   "metadata": {
    "collapsed": false
   },
   "outputs": [
    {
     "data": {
      "text/plain": [
       "Index([u'N_creator_backed', u'Goal', u'N_rewards', u'Body_n_words', u'N_links',\n",
       "       u'Max_reward', u'Campaign_days', u'Median_reward', u'Reward_ship_days',\n",
       "       u'Min_reward', u'N_figs', u'Month', u'Hour', u'Blurb_n_words',\n",
       "       u'Monday_day', u'Title_n_words', u'Ships_intn', u'Week_day'],\n",
       "      dtype='object')"
      ]
     },
     "execution_count": 19,
     "metadata": {},
     "output_type": "execute_result"
    }
   ],
   "source": [
    "X.columns[feature_importance_is_decending]"
   ]
  },
  {
   "cell_type": "code",
   "execution_count": 20,
   "metadata": {
    "collapsed": true
   },
   "outputs": [],
   "source": [
    "sns.set_style(\"white\")"
   ]
  },
  {
   "cell_type": "code",
   "execution_count": 21,
   "metadata": {
    "collapsed": false
   },
   "outputs": [],
   "source": [
    "plt.rcParams.update({'font.size': 26})\n",
    "\n",
    "fig = plt.figure()\n",
    "plt.title(\"Feature importances\")\n",
    "plt.bar(range(n_features), feature_importances[feature_importance_is_decending],\n",
    "       color=\"b\", align=\"center\")\n",
    "plt.xticks(range(n_features), X.columns[feature_importance_is_decending],rotation='vertical')\n",
    "plt.xlim([-1, n_features])\n",
    "plt.xlabel('Feature')\n",
    "plt.ylabel('Feature importance (Gini importance)')\n",
    "plt.show()"
   ]
  },
  {
   "cell_type": "code",
   "execution_count": 22,
   "metadata": {
    "collapsed": false
   },
   "outputs": [],
   "source": [
    "#saveas_path = '/Users/jamie/insight_data/figures/'\n",
    "#plt.savefig(saveas_path + 'random forests importance june18.png',bbox_inches='tight',dpi=200) "
   ]
  },
  {
   "cell_type": "code",
   "execution_count": 71,
   "metadata": {
    "collapsed": false
   },
   "outputs": [],
   "source": [
    "def plot_probability_funding_freq(subset_predictor_df,outcomes_df,feature_name,bins = range(12),step=1):\n",
    "    import matplotlib.gridspec as gridspec\n",
    "    fig = plt.figure()\n",
    "    gs = gridspec.GridSpec(2,1)\n",
    "    gs.update(wspace=0.1, hspace=0.1)\n",
    "    \n",
    "    \n",
    "    hist_ax = plt.subplot(gs[1,0])  \n",
    "    success_ax  = plt.subplot(gs[0,0],sharex=hist_ax) \n",
    "    \n",
    "    this_predictor = subset_predictor_df[feature_name].values\n",
    "    \n",
    "    success_is = np.where(outcomes_df['Outcome'] == 1)[0]\n",
    "    fail_is = np.where(outcomes_df['Outcome'] == 0)[0]\n",
    "    chance = len(success_is)/float(len(success_is) + len(fail_is))\n",
    "    \n",
    "    hist_ax.hist(this_predictor[fail_is], bins=bins, normed=True, color=\"#F08080\", alpha=.5);\n",
    "    hist_ax.hist(this_predictor[success_is], bins=bins, normed=True, color=\"#6495ED\", alpha=.5);\n",
    "    \n",
    "#     if step > 100:\n",
    "#         hist_ax.set_xlim([-.5+-5*step,max(bins)+.5])\n",
    "#     else:\n",
    "#         hist_ax.set_xlim([-.5,max(bins)+.5])\n",
    "        \n",
    "    hist_ax.set_xlabel(feature_name)\n",
    "    hist_ax.set_ylabel('Relative frequency')\n",
    "    \n",
    "    \n",
    "    success_freq = np.empty_like(bins[:-1],dtype=float)\n",
    "\n",
    "    for i,bin in enumerate(bins[:-1]):\n",
    "        \n",
    "        this_bin_is = np.intersect1d(np.where(subset_predictor_df[feature_name]>=bin)[0],\n",
    "                                     np.where(subset_predictor_df[feature_name]<bin+step)[0])\n",
    "\n",
    "        \n",
    "        n_this_bin = len(this_bin_is)\n",
    "        n_success = sum(outcomes_df.ix[this_bin_is,'Outcome'].values)\n",
    "        if n_this_bin:\n",
    "            success_freq[i] = float(n_success)/n_this_bin\n",
    "        else:\n",
    "            success_freq[i] = np.nan\n",
    "    \n",
    "        \n",
    "    success_ax.axhline(chance,color='k',linewidth=.25)\n",
    "    success_ax.plot(np.asarray(bins[:-1])+step/2.0,success_freq,'.',markersize=12)\n",
    "    success_ax.set_ylim([0,1])\n",
    "    success_ax.set_ylabel('Success probability')\n",
    "    #success_ax.set_xticklabels([])\n",
    "    \n",
    "    saveas_path = '/Users/jamie/insight_data/figures/'\n",
    "    plt.savefig(saveas_path + feature_name +' success rate and hist.png',bbox_inches='tight',dpi=200) "
   ]
  },
  {
   "cell_type": "code",
   "execution_count": 72,
   "metadata": {
    "collapsed": false
   },
   "outputs": [
    {
     "data": {
      "text/plain": [
       "Index([u'N_creator_backed', u'Goal', u'N_rewards', u'Body_n_words', u'N_links',\n",
       "       u'Max_reward', u'Campaign_days', u'Median_reward', u'Reward_ship_days',\n",
       "       u'Min_reward', u'N_figs', u'Month', u'Hour', u'Blurb_n_words',\n",
       "       u'Monday_day', u'Title_n_words', u'Ships_intn', u'Week_day'],\n",
       "      dtype='object')"
      ]
     },
     "execution_count": 72,
     "metadata": {},
     "output_type": "execute_result"
    }
   ],
   "source": [
    "X.columns[feature_importance_is_decending]"
   ]
  },
  {
   "cell_type": "code",
   "execution_count": 75,
   "metadata": {
    "collapsed": false
   },
   "outputs": [],
   "source": [
    "plot_probability_funding_freq(subset_predictor_df,outcomes_df,'N_creator_backed',range(0,12))"
   ]
  },
  {
   "cell_type": "code",
   "execution_count": 76,
   "metadata": {
    "collapsed": false
   },
   "outputs": [],
   "source": [
    "plot_probability_funding_freq(subset_predictor_df,outcomes_df,\\\n",
    "                              'Goal',range(0,30000,1000),1000)"
   ]
  },
  {
   "cell_type": "code",
   "execution_count": 77,
   "metadata": {
    "collapsed": true
   },
   "outputs": [],
   "source": [
    "plot_probability_funding_freq(subset_predictor_df,outcomes_df,'N_rewards',range(0,20))"
   ]
  },
  {
   "cell_type": "code",
   "execution_count": 78,
   "metadata": {
    "collapsed": false
   },
   "outputs": [],
   "source": [
    "plot_probability_funding_freq(subset_predictor_df,outcomes_df,'Body_n_words',range(0,2000,50),100)"
   ]
  },
  {
   "cell_type": "code",
   "execution_count": 79,
   "metadata": {
    "collapsed": true
   },
   "outputs": [],
   "source": [
    "plot_probability_funding_freq(subset_predictor_df,outcomes_df,'N_links',range(0,12))"
   ]
  },
  {
   "cell_type": "code",
   "execution_count": 80,
   "metadata": {
    "collapsed": true
   },
   "outputs": [],
   "source": [
    "plt.close('all')"
   ]
  },
  {
   "cell_type": "code",
   "execution_count": 82,
   "metadata": {
    "collapsed": true
   },
   "outputs": [],
   "source": [
    "plot_probability_funding_freq(subset_predictor_df,outcomes_df,'Max_reward',range(0,1000,100),100)"
   ]
  },
  {
   "cell_type": "code",
   "execution_count": 96,
   "metadata": {
    "collapsed": true
   },
   "outputs": [],
   "source": [
    "plot_probability_funding_freq(subset_predictor_df,outcomes_df,'Campaign_days',range(0,61,1))"
   ]
  },
  {
   "cell_type": "code",
   "execution_count": 86,
   "metadata": {
    "collapsed": true
   },
   "outputs": [],
   "source": [
    "plot_probability_funding_freq(subset_predictor_df,outcomes_df,'Reward_ship_days',range(0,365,7))"
   ]
  },
  {
   "cell_type": "code",
   "execution_count": 90,
   "metadata": {
    "collapsed": true
   },
   "outputs": [],
   "source": [
    "plot_probability_funding_freq(subset_predictor_df,outcomes_df,'Ships_intn',range(-1,3,1))"
   ]
  },
  {
   "cell_type": "code",
   "execution_count": 92,
   "metadata": {
    "collapsed": true
   },
   "outputs": [],
   "source": [
    "plot_probability_funding_freq(subset_predictor_df,outcomes_df,'Monday_day',range(1,32,1))"
   ]
  },
  {
   "cell_type": "code",
   "execution_count": 95,
   "metadata": {
    "collapsed": true
   },
   "outputs": [],
   "source": [
    "plot_probability_funding_freq(subset_predictor_df,outcomes_df,'Week_day',range(0,8,1))"
   ]
  },
  {
   "cell_type": "code",
   "execution_count": 97,
   "metadata": {
    "collapsed": false
   },
   "outputs": [
    {
     "ename": "NameError",
     "evalue": "name 'chance' is not defined",
     "output_type": "error",
     "traceback": [
      "\u001b[0;31m---------------------------------------------------------------------------\u001b[0m",
      "\u001b[0;31mNameError\u001b[0m                                 Traceback (most recent call last)",
      "\u001b[0;32m<ipython-input-97-26c3c79cd38a>\u001b[0m in \u001b[0;36m<module>\u001b[0;34m()\u001b[0m\n\u001b[0;32m----> 1\u001b[0;31m \u001b[0;32mprint\u001b[0m \u001b[0mchance\u001b[0m\u001b[0;34m\u001b[0m\u001b[0m\n\u001b[0m",
      "\u001b[0;31mNameError\u001b[0m: name 'chance' is not defined"
     ]
    }
   ],
   "source": [
    "print chance"
   ]
  },
  {
   "cell_type": "code",
   "execution_count": null,
   "metadata": {
    "collapsed": true
   },
   "outputs": [],
   "source": []
  }
 ],
 "metadata": {
  "kernelspec": {
   "display_name": "Python 2",
   "language": "python",
   "name": "python2"
  },
  "language_info": {
   "codemirror_mode": {
    "name": "ipython",
    "version": 2
   },
   "file_extension": ".py",
   "mimetype": "text/x-python",
   "name": "python",
   "nbconvert_exporter": "python",
   "pygments_lexer": "ipython2",
   "version": "2.7.10"
  }
 },
 "nbformat": 4,
 "nbformat_minor": 0
}
