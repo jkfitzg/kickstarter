{
 "cells": [
  {
   "cell_type": "code",
   "execution_count": 1,
   "metadata": {
    "collapsed": true
   },
   "outputs": [],
   "source": [
    "# estimate or drop missing features\n",
    "# select a date range?\n",
    "# transform categorical features into str labels"
   ]
  },
  {
   "cell_type": "code",
   "execution_count": 2,
   "metadata": {
    "collapsed": false
   },
   "outputs": [],
   "source": [
    "import pandas as pd\n",
    "import numpy as np\n",
    "import matplotlib.pyplot as plt\n",
    "import math as math\n",
    "from IPython.display import display\n",
    "from IPython.core.pylabtools import getfigs\n",
    "from sklearn import linear_model \n",
    "import time\n",
    "import pymysql as mdb\n",
    "#import seaborn as sns"
   ]
  },
  {
   "cell_type": "code",
   "execution_count": 3,
   "metadata": {
    "collapsed": true
   },
   "outputs": [],
   "source": [
    "%matplotlib qt"
   ]
  },
  {
   "cell_type": "code",
   "execution_count": 4,
   "metadata": {
    "collapsed": false
   },
   "outputs": [],
   "source": [
    "#from extract_kickstarter_features import *\n",
    "#%load_ext autoreload\n",
    "#%autoreload 2"
   ]
  },
  {
   "cell_type": "code",
   "execution_count": 5,
   "metadata": {
    "collapsed": false
   },
   "outputs": [],
   "source": [
    "con = mdb.connect('localhost','root','hobbes','kickstarter')"
   ]
  },
  {
   "cell_type": "code",
   "execution_count": 29,
   "metadata": {
    "collapsed": true
   },
   "outputs": [],
   "source": [
    "Ids_to_analyze = []\n",
    "with con:\n",
    "    cur = con.cursor()\n",
    "    cur.execute(\"DESCRIBE Predictors\")\n",
    "    predictor_cols = cur.fetchall()\n",
    "    cur.close()"
   ]
  },
  {
   "cell_type": "code",
   "execution_count": 33,
   "metadata": {
    "collapsed": false
   },
   "outputs": [],
   "source": [
    "predictor_cols = np.array(predictor_cols)"
   ]
  },
  {
   "cell_type": "code",
   "execution_count": 36,
   "metadata": {
    "collapsed": false
   },
   "outputs": [
    {
     "data": {
      "text/plain": [
       "(28, 6)"
      ]
     },
     "execution_count": 36,
     "metadata": {},
     "output_type": "execute_result"
    }
   ],
   "source": [
    "np.shape(predictor_cols)"
   ]
  },
  {
   "cell_type": "code",
   "execution_count": 38,
   "metadata": {
    "collapsed": false
   },
   "outputs": [],
   "source": [
    "predictor_column_names = predictor_cols[:,0]"
   ]
  },
  {
   "cell_type": "code",
   "execution_count": 40,
   "metadata": {
    "collapsed": false
   },
   "outputs": [
    {
     "name": "stdout",
     "output_type": "stream",
     "text": [
      "['Id' 'Url' 'Outcome' 'Pledged' 'Goal' 'Category' 'Subcategory' 'Currency'\n",
      " 'Country' 'Location' 'Launch_s' 'Campaign_days' 'Title_n_words'\n",
      " 'Blurb_n_words' 'Month' 'Monday_day' 'Week_day' 'Hour' 'N_rewards'\n",
      " 'Min_reward' 'Median_reward' 'Max_reward' 'Reward_ship_days' 'Ships_intn'\n",
      " 'N_links' 'N_figs' 'Body_n_words' 'N_creator_backed']\n"
     ]
    }
   ],
   "source": [
    "print predictor_column_names"
   ]
  },
  {
   "cell_type": "code",
   "execution_count": 44,
   "metadata": {
    "collapsed": false
   },
   "outputs": [],
   "source": [
    "with con:\n",
    "    cur = con.cursor()\n",
    "    cur.execute(\"SELECT * FROM Predictors WHERE \\\n",
    "                Reward_ship_days >= 0 AND N_creator_backed >= 0 AND \\\n",
    "                Outcome != 'live' AND Country = 'US' AND Currency = 'USD'\")\n",
    "    rows = cur.fetchall()\n",
    "    cur.close()"
   ]
  },
  {
   "cell_type": "code",
   "execution_count": 50,
   "metadata": {
    "collapsed": false
   },
   "outputs": [
    {
     "name": "stdout",
     "output_type": "stream",
     "text": [
      "(133071, 28)\n"
     ]
    }
   ],
   "source": [
    "print np.shape(rows)"
   ]
  },
  {
   "cell_type": "code",
   "execution_count": 51,
   "metadata": {
    "collapsed": false
   },
   "outputs": [],
   "source": [
    "#predictor_df = pd.DataFrame(row)\n",
    "predictor_df = pd.DataFrame(np.asarray(rows),columns=predictor_column_names)"
   ]
  },
  {
   "cell_type": "code",
   "execution_count": 52,
   "metadata": {
    "collapsed": false
   },
   "outputs": [
    {
     "data": {
      "text/html": [
       "<div style=\"max-height:1000px;max-width:1500px;overflow:auto;\">\n",
       "<table border=\"1\" class=\"dataframe\">\n",
       "  <thead>\n",
       "    <tr style=\"text-align: right;\">\n",
       "      <th></th>\n",
       "      <th>Id</th>\n",
       "      <th>Url</th>\n",
       "      <th>Outcome</th>\n",
       "      <th>Pledged</th>\n",
       "      <th>Goal</th>\n",
       "      <th>Category</th>\n",
       "      <th>Subcategory</th>\n",
       "      <th>Currency</th>\n",
       "      <th>Country</th>\n",
       "      <th>Location</th>\n",
       "      <th>...</th>\n",
       "      <th>N_rewards</th>\n",
       "      <th>Min_reward</th>\n",
       "      <th>Median_reward</th>\n",
       "      <th>Max_reward</th>\n",
       "      <th>Reward_ship_days</th>\n",
       "      <th>Ships_intn</th>\n",
       "      <th>N_links</th>\n",
       "      <th>N_figs</th>\n",
       "      <th>Body_n_words</th>\n",
       "      <th>N_creator_backed</th>\n",
       "    </tr>\n",
       "  </thead>\n",
       "  <tbody>\n",
       "    <tr>\n",
       "      <th>133066</th>\n",
       "      <td>191380</td>\n",
       "      <td>https://www.kickstarter.com/projects/207940292...</td>\n",
       "      <td>suspended</td>\n",
       "      <td>0</td>\n",
       "      <td>2500</td>\n",
       "      <td>Installations</td>\n",
       "      <td>art/installations</td>\n",
       "      <td>USD</td>\n",
       "      <td>US</td>\n",
       "      <td>prior-lake-mn</td>\n",
       "      <td>...</td>\n",
       "      <td>1</td>\n",
       "      <td>25</td>\n",
       "      <td>25</td>\n",
       "      <td>25</td>\n",
       "      <td>92</td>\n",
       "      <td>-1</td>\n",
       "      <td>0</td>\n",
       "      <td>0</td>\n",
       "      <td>28</td>\n",
       "      <td>0</td>\n",
       "    </tr>\n",
       "    <tr>\n",
       "      <th>133067</th>\n",
       "      <td>191381</td>\n",
       "      <td>https://www.kickstarter.com/projects/184521459...</td>\n",
       "      <td>suspended</td>\n",
       "      <td>420</td>\n",
       "      <td>2000</td>\n",
       "      <td>Mixed Media</td>\n",
       "      <td>art/mixed media</td>\n",
       "      <td>USD</td>\n",
       "      <td>US</td>\n",
       "      <td>memphis-tn</td>\n",
       "      <td>...</td>\n",
       "      <td>14</td>\n",
       "      <td>5</td>\n",
       "      <td>40</td>\n",
       "      <td>150</td>\n",
       "      <td>41</td>\n",
       "      <td>1</td>\n",
       "      <td>18</td>\n",
       "      <td>13</td>\n",
       "      <td>750</td>\n",
       "      <td>0</td>\n",
       "    </tr>\n",
       "    <tr>\n",
       "      <th>133068</th>\n",
       "      <td>191382</td>\n",
       "      <td>https://www.kickstarter.com/projects/209708895...</td>\n",
       "      <td>suspended</td>\n",
       "      <td>0</td>\n",
       "      <td>31</td>\n",
       "      <td>Painting</td>\n",
       "      <td>art/painting</td>\n",
       "      <td>USD</td>\n",
       "      <td>US</td>\n",
       "      <td>lakeland-fl</td>\n",
       "      <td>...</td>\n",
       "      <td>3</td>\n",
       "      <td>8</td>\n",
       "      <td>31</td>\n",
       "      <td>1001</td>\n",
       "      <td>111</td>\n",
       "      <td>0</td>\n",
       "      <td>2</td>\n",
       "      <td>0</td>\n",
       "      <td>504</td>\n",
       "      <td>0</td>\n",
       "    </tr>\n",
       "    <tr>\n",
       "      <th>133069</th>\n",
       "      <td>191383</td>\n",
       "      <td>https://www.kickstarter.com/projects/thelifecu...</td>\n",
       "      <td>suspended</td>\n",
       "      <td>10084</td>\n",
       "      <td>15000</td>\n",
       "      <td>Public Art</td>\n",
       "      <td>art/public art</td>\n",
       "      <td>USD</td>\n",
       "      <td>US</td>\n",
       "      <td>black-rock-city-nv</td>\n",
       "      <td>...</td>\n",
       "      <td>5</td>\n",
       "      <td>10</td>\n",
       "      <td>200</td>\n",
       "      <td>1000</td>\n",
       "      <td>155</td>\n",
       "      <td>1</td>\n",
       "      <td>1</td>\n",
       "      <td>7</td>\n",
       "      <td>1246</td>\n",
       "      <td>130</td>\n",
       "    </tr>\n",
       "    <tr>\n",
       "      <th>133070</th>\n",
       "      <td>191384</td>\n",
       "      <td>https://www.kickstarter.com/projects/reaper889...</td>\n",
       "      <td>suspended</td>\n",
       "      <td>300</td>\n",
       "      <td>300000</td>\n",
       "      <td>Painting</td>\n",
       "      <td>art/painting</td>\n",
       "      <td>USD</td>\n",
       "      <td>US</td>\n",
       "      <td>douglasville-douglas-ga</td>\n",
       "      <td>...</td>\n",
       "      <td>4</td>\n",
       "      <td>300</td>\n",
       "      <td>750</td>\n",
       "      <td>5000</td>\n",
       "      <td>136</td>\n",
       "      <td>0</td>\n",
       "      <td>0</td>\n",
       "      <td>0</td>\n",
       "      <td>624</td>\n",
       "      <td>0</td>\n",
       "    </tr>\n",
       "  </tbody>\n",
       "</table>\n",
       "<p>5 rows × 28 columns</p>\n",
       "</div>"
      ],
      "text/plain": [
       "            Id                                                Url    Outcome  \\\n",
       "133066  191380  https://www.kickstarter.com/projects/207940292...  suspended   \n",
       "133067  191381  https://www.kickstarter.com/projects/184521459...  suspended   \n",
       "133068  191382  https://www.kickstarter.com/projects/209708895...  suspended   \n",
       "133069  191383  https://www.kickstarter.com/projects/thelifecu...  suspended   \n",
       "133070  191384  https://www.kickstarter.com/projects/reaper889...  suspended   \n",
       "\n",
       "       Pledged    Goal       Category        Subcategory Currency Country  \\\n",
       "133066       0    2500  Installations  art/installations      USD      US   \n",
       "133067     420    2000    Mixed Media    art/mixed media      USD      US   \n",
       "133068       0      31       Painting       art/painting      USD      US   \n",
       "133069   10084   15000     Public Art     art/public art      USD      US   \n",
       "133070     300  300000       Painting       art/painting      USD      US   \n",
       "\n",
       "                       Location       ...        N_rewards Min_reward  \\\n",
       "133066            prior-lake-mn       ...                1         25   \n",
       "133067               memphis-tn       ...               14          5   \n",
       "133068              lakeland-fl       ...                3          8   \n",
       "133069       black-rock-city-nv       ...                5         10   \n",
       "133070  douglasville-douglas-ga       ...                4        300   \n",
       "\n",
       "       Median_reward Max_reward Reward_ship_days Ships_intn N_links N_figs  \\\n",
       "133066            25         25               92         -1       0      0   \n",
       "133067            40        150               41          1      18     13   \n",
       "133068            31       1001              111          0       2      0   \n",
       "133069           200       1000              155          1       1      7   \n",
       "133070           750       5000              136          0       0      0   \n",
       "\n",
       "       Body_n_words N_creator_backed  \n",
       "133066           28                0  \n",
       "133067          750                0  \n",
       "133068          504                0  \n",
       "133069         1246              130  \n",
       "133070          624                0  \n",
       "\n",
       "[5 rows x 28 columns]"
      ]
     },
     "execution_count": 52,
     "metadata": {},
     "output_type": "execute_result"
    }
   ],
   "source": [
    "predictor_df.tail()"
   ]
  },
  {
   "cell_type": "code",
   "execution_count": 53,
   "metadata": {
    "collapsed": true
   },
   "outputs": [],
   "source": [
    "predictor_df.to_pickle('predictor_df_unprocessed.save')"
   ]
  },
  {
   "cell_type": "code",
   "execution_count": 100,
   "metadata": {
    "collapsed": true
   },
   "outputs": [],
   "source": [
    "X_cols = ['Goal','Campaign_days','Title_n_words','Blurb_n_words',\n",
    "          'Month','Monday_day','Week_day','Hour','N_rewards','Min_reward','Median_reward','Max_reward',\n",
    "          'Reward_ship_days','Ships_intn','N_links','N_figs','Body_n_words','N_creator_backed']"
   ]
  },
  {
   "cell_type": "code",
   "execution_count": 110,
   "metadata": {
    "collapsed": true
   },
   "outputs": [],
   "source": [
    "subset_predictor_df = predictor_df.ix[:,X_cols]"
   ]
  },
  {
   "cell_type": "code",
   "execution_count": 114,
   "metadata": {
    "collapsed": false,
    "scrolled": true
   },
   "outputs": [
    {
     "data": {
      "text/html": [
       "<div style=\"max-height:1000px;max-width:1500px;overflow:auto;\">\n",
       "<table border=\"1\" class=\"dataframe\">\n",
       "  <thead>\n",
       "    <tr style=\"text-align: right;\">\n",
       "      <th></th>\n",
       "      <th>Goal</th>\n",
       "      <th>Campaign_days</th>\n",
       "      <th>Title_n_words</th>\n",
       "      <th>Blurb_n_words</th>\n",
       "      <th>Month</th>\n",
       "      <th>Monday_day</th>\n",
       "      <th>Week_day</th>\n",
       "      <th>Hour</th>\n",
       "      <th>N_rewards</th>\n",
       "      <th>Min_reward</th>\n",
       "      <th>Median_reward</th>\n",
       "      <th>Max_reward</th>\n",
       "      <th>Reward_ship_days</th>\n",
       "      <th>Ships_intn</th>\n",
       "      <th>N_links</th>\n",
       "      <th>N_figs</th>\n",
       "      <th>Body_n_words</th>\n",
       "      <th>N_creator_backed</th>\n",
       "    </tr>\n",
       "  </thead>\n",
       "  <tbody>\n",
       "    <tr>\n",
       "      <th>0</th>\n",
       "      <td>5000</td>\n",
       "      <td>30</td>\n",
       "      <td>2</td>\n",
       "      <td>17</td>\n",
       "      <td>8</td>\n",
       "      <td>12</td>\n",
       "      <td>6</td>\n",
       "      <td>20</td>\n",
       "      <td>8</td>\n",
       "      <td>10</td>\n",
       "      <td>175</td>\n",
       "      <td>5000</td>\n",
       "      <td>110</td>\n",
       "      <td>0</td>\n",
       "      <td>1</td>\n",
       "      <td>0</td>\n",
       "      <td>812</td>\n",
       "      <td>18</td>\n",
       "    </tr>\n",
       "    <tr>\n",
       "      <th>1</th>\n",
       "      <td>10000</td>\n",
       "      <td>30</td>\n",
       "      <td>8</td>\n",
       "      <td>21</td>\n",
       "      <td>6</td>\n",
       "      <td>30</td>\n",
       "      <td>5</td>\n",
       "      <td>14</td>\n",
       "      <td>10</td>\n",
       "      <td>5</td>\n",
       "      <td>125</td>\n",
       "      <td>5000</td>\n",
       "      <td>31</td>\n",
       "      <td>0</td>\n",
       "      <td>5</td>\n",
       "      <td>1</td>\n",
       "      <td>792</td>\n",
       "      <td>7</td>\n",
       "    </tr>\n",
       "    <tr>\n",
       "      <th>2</th>\n",
       "      <td>18000</td>\n",
       "      <td>27</td>\n",
       "      <td>5</td>\n",
       "      <td>14</td>\n",
       "      <td>2</td>\n",
       "      <td>25</td>\n",
       "      <td>1</td>\n",
       "      <td>8</td>\n",
       "      <td>19</td>\n",
       "      <td>5</td>\n",
       "      <td>500</td>\n",
       "      <td>10000</td>\n",
       "      <td>4</td>\n",
       "      <td>1</td>\n",
       "      <td>0</td>\n",
       "      <td>0</td>\n",
       "      <td>540</td>\n",
       "      <td>3</td>\n",
       "    </tr>\n",
       "    <tr>\n",
       "      <th>3</th>\n",
       "      <td>7000</td>\n",
       "      <td>56</td>\n",
       "      <td>5</td>\n",
       "      <td>17</td>\n",
       "      <td>12</td>\n",
       "      <td>6</td>\n",
       "      <td>1</td>\n",
       "      <td>17</td>\n",
       "      <td>8</td>\n",
       "      <td>10</td>\n",
       "      <td>87</td>\n",
       "      <td>1000</td>\n",
       "      <td>56</td>\n",
       "      <td>0</td>\n",
       "      <td>0</td>\n",
       "      <td>0</td>\n",
       "      <td>372</td>\n",
       "      <td>4</td>\n",
       "    </tr>\n",
       "    <tr>\n",
       "      <th>4</th>\n",
       "      <td>8150</td>\n",
       "      <td>30</td>\n",
       "      <td>8</td>\n",
       "      <td>16</td>\n",
       "      <td>7</td>\n",
       "      <td>22</td>\n",
       "      <td>1</td>\n",
       "      <td>11</td>\n",
       "      <td>11</td>\n",
       "      <td>4</td>\n",
       "      <td>42</td>\n",
       "      <td>815</td>\n",
       "      <td>41</td>\n",
       "      <td>-1</td>\n",
       "      <td>1</td>\n",
       "      <td>1</td>\n",
       "      <td>1405</td>\n",
       "      <td>8</td>\n",
       "    </tr>\n",
       "    <tr>\n",
       "      <th>5</th>\n",
       "      <td>8350</td>\n",
       "      <td>36</td>\n",
       "      <td>3</td>\n",
       "      <td>19</td>\n",
       "      <td>12</td>\n",
       "      <td>19</td>\n",
       "      <td>0</td>\n",
       "      <td>21</td>\n",
       "      <td>7</td>\n",
       "      <td>5</td>\n",
       "      <td>100</td>\n",
       "      <td>1000</td>\n",
       "      <td>103</td>\n",
       "      <td>0</td>\n",
       "      <td>5</td>\n",
       "      <td>0</td>\n",
       "      <td>760</td>\n",
       "      <td>5</td>\n",
       "    </tr>\n",
       "    <tr>\n",
       "      <th>6</th>\n",
       "      <td>2500</td>\n",
       "      <td>18</td>\n",
       "      <td>5</td>\n",
       "      <td>13</td>\n",
       "      <td>8</td>\n",
       "      <td>5</td>\n",
       "      <td>0</td>\n",
       "      <td>15</td>\n",
       "      <td>7</td>\n",
       "      <td>10</td>\n",
       "      <td>100</td>\n",
       "      <td>1000</td>\n",
       "      <td>26</td>\n",
       "      <td>-1</td>\n",
       "      <td>0</td>\n",
       "      <td>0</td>\n",
       "      <td>461</td>\n",
       "      <td>0</td>\n",
       "    </tr>\n",
       "    <tr>\n",
       "      <th>7</th>\n",
       "      <td>6000</td>\n",
       "      <td>30</td>\n",
       "      <td>6</td>\n",
       "      <td>22</td>\n",
       "      <td>5</td>\n",
       "      <td>2</td>\n",
       "      <td>2</td>\n",
       "      <td>2</td>\n",
       "      <td>12</td>\n",
       "      <td>15</td>\n",
       "      <td>80</td>\n",
       "      <td>5000</td>\n",
       "      <td>122</td>\n",
       "      <td>0</td>\n",
       "      <td>12</td>\n",
       "      <td>0</td>\n",
       "      <td>559</td>\n",
       "      <td>7</td>\n",
       "    </tr>\n",
       "    <tr>\n",
       "      <th>8</th>\n",
       "      <td>2500</td>\n",
       "      <td>28</td>\n",
       "      <td>5</td>\n",
       "      <td>20</td>\n",
       "      <td>10</td>\n",
       "      <td>3</td>\n",
       "      <td>0</td>\n",
       "      <td>15</td>\n",
       "      <td>7</td>\n",
       "      <td>5</td>\n",
       "      <td>75</td>\n",
       "      <td>250</td>\n",
       "      <td>28</td>\n",
       "      <td>0</td>\n",
       "      <td>0</td>\n",
       "      <td>0</td>\n",
       "      <td>426</td>\n",
       "      <td>11</td>\n",
       "    </tr>\n",
       "    <tr>\n",
       "      <th>9</th>\n",
       "      <td>3000</td>\n",
       "      <td>14</td>\n",
       "      <td>4</td>\n",
       "      <td>13</td>\n",
       "      <td>4</td>\n",
       "      <td>23</td>\n",
       "      <td>0</td>\n",
       "      <td>18</td>\n",
       "      <td>9</td>\n",
       "      <td>1</td>\n",
       "      <td>50</td>\n",
       "      <td>1000</td>\n",
       "      <td>68</td>\n",
       "      <td>0</td>\n",
       "      <td>8</td>\n",
       "      <td>0</td>\n",
       "      <td>764</td>\n",
       "      <td>0</td>\n",
       "    </tr>\n",
       "    <tr>\n",
       "      <th>10</th>\n",
       "      <td>4300</td>\n",
       "      <td>30</td>\n",
       "      <td>4</td>\n",
       "      <td>19</td>\n",
       "      <td>6</td>\n",
       "      <td>1</td>\n",
       "      <td>6</td>\n",
       "      <td>19</td>\n",
       "      <td>10</td>\n",
       "      <td>10</td>\n",
       "      <td>125</td>\n",
       "      <td>1000</td>\n",
       "      <td>76</td>\n",
       "      <td>1</td>\n",
       "      <td>0</td>\n",
       "      <td>2</td>\n",
       "      <td>1011</td>\n",
       "      <td>1</td>\n",
       "    </tr>\n",
       "    <tr>\n",
       "      <th>11</th>\n",
       "      <td>2500</td>\n",
       "      <td>40</td>\n",
       "      <td>4</td>\n",
       "      <td>18</td>\n",
       "      <td>12</td>\n",
       "      <td>23</td>\n",
       "      <td>6</td>\n",
       "      <td>10</td>\n",
       "      <td>5</td>\n",
       "      <td>5</td>\n",
       "      <td>75</td>\n",
       "      <td>1000</td>\n",
       "      <td>68</td>\n",
       "      <td>1</td>\n",
       "      <td>6</td>\n",
       "      <td>0</td>\n",
       "      <td>338</td>\n",
       "      <td>1</td>\n",
       "    </tr>\n",
       "    <tr>\n",
       "      <th>12</th>\n",
       "      <td>5500</td>\n",
       "      <td>33</td>\n",
       "      <td>7</td>\n",
       "      <td>20</td>\n",
       "      <td>8</td>\n",
       "      <td>30</td>\n",
       "      <td>1</td>\n",
       "      <td>12</td>\n",
       "      <td>10</td>\n",
       "      <td>1</td>\n",
       "      <td>75</td>\n",
       "      <td>1000</td>\n",
       "      <td>124</td>\n",
       "      <td>0</td>\n",
       "      <td>1</td>\n",
       "      <td>0</td>\n",
       "      <td>490</td>\n",
       "      <td>5</td>\n",
       "    </tr>\n",
       "    <tr>\n",
       "      <th>13</th>\n",
       "      <td>1500</td>\n",
       "      <td>30</td>\n",
       "      <td>12</td>\n",
       "      <td>22</td>\n",
       "      <td>2</td>\n",
       "      <td>29</td>\n",
       "      <td>2</td>\n",
       "      <td>17</td>\n",
       "      <td>8</td>\n",
       "      <td>10</td>\n",
       "      <td>87</td>\n",
       "      <td>500</td>\n",
       "      <td>31</td>\n",
       "      <td>0</td>\n",
       "      <td>0</td>\n",
       "      <td>2</td>\n",
       "      <td>526</td>\n",
       "      <td>0</td>\n",
       "    </tr>\n",
       "    <tr>\n",
       "      <th>14</th>\n",
       "      <td>1000</td>\n",
       "      <td>30</td>\n",
       "      <td>8</td>\n",
       "      <td>18</td>\n",
       "      <td>10</td>\n",
       "      <td>15</td>\n",
       "      <td>0</td>\n",
       "      <td>20</td>\n",
       "      <td>5</td>\n",
       "      <td>10</td>\n",
       "      <td>50</td>\n",
       "      <td>150</td>\n",
       "      <td>77</td>\n",
       "      <td>-1</td>\n",
       "      <td>0</td>\n",
       "      <td>0</td>\n",
       "      <td>348</td>\n",
       "      <td>1</td>\n",
       "    </tr>\n",
       "  </tbody>\n",
       "</table>\n",
       "</div>"
      ],
      "text/plain": [
       "     Goal Campaign_days Title_n_words Blurb_n_words Month Monday_day Week_day  \\\n",
       "0    5000            30             2            17     8         12        6   \n",
       "1   10000            30             8            21     6         30        5   \n",
       "2   18000            27             5            14     2         25        1   \n",
       "3    7000            56             5            17    12          6        1   \n",
       "4    8150            30             8            16     7         22        1   \n",
       "5    8350            36             3            19    12         19        0   \n",
       "6    2500            18             5            13     8          5        0   \n",
       "7    6000            30             6            22     5          2        2   \n",
       "8    2500            28             5            20    10          3        0   \n",
       "9    3000            14             4            13     4         23        0   \n",
       "10   4300            30             4            19     6          1        6   \n",
       "11   2500            40             4            18    12         23        6   \n",
       "12   5500            33             7            20     8         30        1   \n",
       "13   1500            30            12            22     2         29        2   \n",
       "14   1000            30             8            18    10         15        0   \n",
       "\n",
       "   Hour N_rewards Min_reward Median_reward Max_reward Reward_ship_days  \\\n",
       "0    20         8         10           175       5000              110   \n",
       "1    14        10          5           125       5000               31   \n",
       "2     8        19          5           500      10000                4   \n",
       "3    17         8         10            87       1000               56   \n",
       "4    11        11          4            42        815               41   \n",
       "5    21         7          5           100       1000              103   \n",
       "6    15         7         10           100       1000               26   \n",
       "7     2        12         15            80       5000              122   \n",
       "8    15         7          5            75        250               28   \n",
       "9    18         9          1            50       1000               68   \n",
       "10   19        10         10           125       1000               76   \n",
       "11   10         5          5            75       1000               68   \n",
       "12   12        10          1            75       1000              124   \n",
       "13   17         8         10            87        500               31   \n",
       "14   20         5         10            50        150               77   \n",
       "\n",
       "    Ships_intn N_links N_figs Body_n_words N_creator_backed  \n",
       "0            0       1      0          812               18  \n",
       "1            0       5      1          792                7  \n",
       "2            1       0      0          540                3  \n",
       "3            0       0      0          372                4  \n",
       "4           -1       1      1         1405                8  \n",
       "5            0       5      0          760                5  \n",
       "6           -1       0      0          461                0  \n",
       "7            0      12      0          559                7  \n",
       "8            0       0      0          426               11  \n",
       "9            0       8      0          764                0  \n",
       "10           1       0      2         1011                1  \n",
       "11           1       6      0          338                1  \n",
       "12           0       1      0          490                5  \n",
       "13           0       0      2          526                0  \n",
       "14          -1       0      0          348                1  "
      ]
     },
     "execution_count": 114,
     "metadata": {},
     "output_type": "execute_result"
    }
   ],
   "source": [
    "subset_predictor_df.head(15)"
   ]
  },
  {
   "cell_type": "code",
   "execution_count": 112,
   "metadata": {
    "collapsed": true
   },
   "outputs": [],
   "source": [
    "subset_predictor_df['Ships_intn'].replace(-1,np.NaN,inplace=True)\n",
    "subset_predictor_df['Ships_intn'].replace(0,-1,inplace=True)\n",
    "subset_predictor_df['Ships_intn'].replace(np.NaN,0,inplace=True)"
   ]
  },
  {
   "cell_type": "code",
   "execution_count": 75,
   "metadata": {
    "collapsed": false
   },
   "outputs": [
    {
     "name": "stdout",
     "output_type": "stream",
     "text": [
      "(133071, 21)\n"
     ]
    }
   ],
   "source": [
    "print np.shape(subset_predictor_df)"
   ]
  },
  {
   "cell_type": "code",
   "execution_count": 115,
   "metadata": {
    "collapsed": true
   },
   "outputs": [],
   "source": [
    "subset_predictor_df.to_pickle('subset_predictor.save')"
   ]
  },
  {
   "cell_type": "code",
   "execution_count": 87,
   "metadata": {
    "collapsed": false
   },
   "outputs": [],
   "source": [
    "outcomes_df = pd.DataFrame(0, index = np.arange(133071), columns = ['Outcome'])"
   ]
  },
  {
   "cell_type": "code",
   "execution_count": 88,
   "metadata": {
    "collapsed": false
   },
   "outputs": [],
   "source": [
    "successful_campaigns_i = np.where(predictor_df['Pledged']>=predictor_df['Goal'])[0]"
   ]
  },
  {
   "cell_type": "code",
   "execution_count": 90,
   "metadata": {
    "collapsed": false
   },
   "outputs": [],
   "source": [
    "outcomes_df.ix[successful_campaigns_i,'Outcome'] = 1"
   ]
  },
  {
   "cell_type": "code",
   "execution_count": 92,
   "metadata": {
    "collapsed": false
   },
   "outputs": [
    {
     "data": {
      "text/html": [
       "<div style=\"max-height:1000px;max-width:1500px;overflow:auto;\">\n",
       "<table border=\"1\" class=\"dataframe\">\n",
       "  <thead>\n",
       "    <tr style=\"text-align: right;\">\n",
       "      <th></th>\n",
       "      <th>Outcome</th>\n",
       "    </tr>\n",
       "  </thead>\n",
       "  <tbody>\n",
       "    <tr>\n",
       "      <th>0</th>\n",
       "      <td>1</td>\n",
       "    </tr>\n",
       "    <tr>\n",
       "      <th>1</th>\n",
       "      <td>1</td>\n",
       "    </tr>\n",
       "    <tr>\n",
       "      <th>2</th>\n",
       "      <td>1</td>\n",
       "    </tr>\n",
       "    <tr>\n",
       "      <th>3</th>\n",
       "      <td>1</td>\n",
       "    </tr>\n",
       "    <tr>\n",
       "      <th>4</th>\n",
       "      <td>1</td>\n",
       "    </tr>\n",
       "  </tbody>\n",
       "</table>\n",
       "</div>"
      ],
      "text/plain": [
       "   Outcome\n",
       "0        1\n",
       "1        1\n",
       "2        1\n",
       "3        1\n",
       "4        1"
      ]
     },
     "execution_count": 92,
     "metadata": {},
     "output_type": "execute_result"
    }
   ],
   "source": [
    "outcomes_df.head()"
   ]
  },
  {
   "cell_type": "code",
   "execution_count": 95,
   "metadata": {
    "collapsed": true
   },
   "outputs": [],
   "source": [
    "outcomes_df.to_pickle('outcomes_df.save')"
   ]
  },
  {
   "cell_type": "code",
   "execution_count": null,
   "metadata": {
    "collapsed": true
   },
   "outputs": [],
   "source": []
  }
 ],
 "metadata": {
  "kernelspec": {
   "display_name": "Python 2",
   "language": "python",
   "name": "python2"
  },
  "language_info": {
   "codemirror_mode": {
    "name": "ipython",
    "version": 2
   },
   "file_extension": ".py",
   "mimetype": "text/x-python",
   "name": "python",
   "nbconvert_exporter": "python",
   "pygments_lexer": "ipython2",
   "version": "2.7.10"
  }
 },
 "nbformat": 4,
 "nbformat_minor": 0
}
