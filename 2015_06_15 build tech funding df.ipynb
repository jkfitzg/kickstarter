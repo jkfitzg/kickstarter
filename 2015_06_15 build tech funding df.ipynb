{
 "cells": [
  {
   "cell_type": "code",
   "execution_count": 1,
   "metadata": {
    "collapsed": true
   },
   "outputs": [],
   "source": [
    "# start with tech, then for all entries in my database "
   ]
  },
  {
   "cell_type": "code",
   "execution_count": 7,
   "metadata": {
    "collapsed": true
   },
   "outputs": [],
   "source": [
    "# After modeling, \n",
    "# Other possible features to extract _____________________________\n",
    "# - n pictures -- use beautiful soup\n",
    "# - has video\n",
    "# - project body length \n",
    "# - project n misspelligns\n",
    "# - text quality, sentiment analysis\n",
    "# - other reward parameters\n",
    "\n",
    "# lower priority -- \n",
    "# - international projects\n"
   ]
  },
  {
   "cell_type": "code",
   "execution_count": 8,
   "metadata": {
    "collapsed": true
   },
   "outputs": [],
   "source": [
    "# Features I already have _______________________________________\n",
    "# - rewards: n, min, max, intn shipping\n",
    "# - n creator backed\n",
    "# - title word/char len\n",
    "# - blurb word/char len\n",
    "# - launch time (in Unix time)\n",
    "# - project duration\n",
    "# - goal\n",
    "\n",
    "# I could add easily \n",
    "# - day of the month\n",
    "# - month\n",
    "# - time between launch and ship of rewards\n"
   ]
  },
  {
   "cell_type": "code",
   "execution_count": 9,
   "metadata": {
    "collapsed": false
   },
   "outputs": [],
   "source": [
    "import requests\n",
    "from bs4 import BeautifulSoup\n",
    "import pprint\n",
    "import pymysql as mdb\n",
    "import re\n",
    "import pandas as pd\n",
    "import numpy as np\n",
    "from unidecode import unidecode\n",
    "import json"
   ]
  },
  {
   "cell_type": "code",
   "execution_count": 10,
   "metadata": {
    "collapsed": false
   },
   "outputs": [
    {
     "name": "stdout",
     "output_type": "stream",
     "text": [
      "The autoreload extension is already loaded. To reload it, use:\n",
      "  %reload_ext autoreload\n"
     ]
    }
   ],
   "source": [
    "from extract_kickstarter_features import *\n",
    "%load_ext autoreload\n",
    "%autoreload 2"
   ]
  },
  {
   "cell_type": "code",
   "execution_count": 11,
   "metadata": {
    "collapsed": false
   },
   "outputs": [],
   "source": [
    "con = mdb.connect('localhost','root','hobbes','kickstarter')"
   ]
  },
  {
   "cell_type": "code",
   "execution_count": 12,
   "metadata": {
    "collapsed": false
   },
   "outputs": [
    {
     "name": "stdout",
     "output_type": "stream",
     "text": [
      "('Creator',)\n",
      "('Project_info',)\n",
      "('Rewards',)\n",
      "('Scraped_pages',)\n"
     ]
    }
   ],
   "source": [
    "with con:\n",
    "    \n",
    "    cur = con.cursor()\n",
    "    cur.execute(\"SHOW TABLES\")\n",
    "    \n",
    "    rows = cur.fetchall()\n",
    "    for row in rows:\n",
    "        print row"
   ]
  },
  {
   "cell_type": "code",
   "execution_count": null,
   "metadata": {
    "collapsed": true
   },
   "outputs": [],
   "source": [
    "tech_subset_ids = "
   ]
  },
  {
   "cell_type": "code",
   "execution_count": 14,
   "metadata": {
    "collapsed": false
   },
   "outputs": [],
   "source": [
    "with con:\n",
    "    cur = con.cursor()\n",
    "    cur.execute(\"SELECT Id FROM Project_info WHERE Currency='USD' \\\n",
    "                    AND Category_slug LIKE 'tech%' AND Project_date != 'live'\")\n",
    "    ids = cur.fetchall()\n",
    "    cur.close()"
   ]
  },
  {
   "cell_type": "code",
   "execution_count": 25,
   "metadata": {
    "collapsed": false
   },
   "outputs": [],
   "source": [
    "tech_subset_ids = np.asarray(ids)"
   ]
  },
  {
   "cell_type": "code",
   "execution_count": 29,
   "metadata": {
    "collapsed": false
   },
   "outputs": [],
   "source": [
    "n_projects = np.shape(tech_subset_ids)[0]"
   ]
  },
  {
   "cell_type": "code",
   "execution_count": 41,
   "metadata": {
    "collapsed": true
   },
   "outputs": [],
   "source": [
    "cols = ['id','pledged','goal','n rewards','min reward','max reward','intn ship',\\\n",
    "        'n creator backed','title n chars','blurb n chars','launch time','campaign dur']"
   ]
  },
  {
   "cell_type": "code",
   "execution_count": 74,
   "metadata": {
    "collapsed": false
   },
   "outputs": [],
   "source": [
    "tech_df = pd.DataFrame(index=range(n_projects),columns=cols)"
   ]
  },
  {
   "cell_type": "code",
   "execution_count": 75,
   "metadata": {
    "collapsed": false
   },
   "outputs": [
    {
     "data": {
      "text/html": [
       "<div style=\"max-height:1000px;max-width:1500px;overflow:auto;\">\n",
       "<table border=\"1\" class=\"dataframe\">\n",
       "  <thead>\n",
       "    <tr style=\"text-align: right;\">\n",
       "      <th></th>\n",
       "      <th>id</th>\n",
       "      <th>pledged</th>\n",
       "      <th>goal</th>\n",
       "      <th>n rewards</th>\n",
       "      <th>min reward</th>\n",
       "      <th>max reward</th>\n",
       "      <th>intn ship</th>\n",
       "      <th>n creator backed</th>\n",
       "      <th>title n chars</th>\n",
       "      <th>blurb n chars</th>\n",
       "      <th>launch time</th>\n",
       "      <th>campaign dur</th>\n",
       "    </tr>\n",
       "  </thead>\n",
       "  <tbody>\n",
       "    <tr>\n",
       "      <th>0</th>\n",
       "      <td>NaN</td>\n",
       "      <td>NaN</td>\n",
       "      <td>NaN</td>\n",
       "      <td>NaN</td>\n",
       "      <td>NaN</td>\n",
       "      <td>NaN</td>\n",
       "      <td>NaN</td>\n",
       "      <td>NaN</td>\n",
       "      <td>NaN</td>\n",
       "      <td>NaN</td>\n",
       "      <td>NaN</td>\n",
       "      <td>NaN</td>\n",
       "    </tr>\n",
       "    <tr>\n",
       "      <th>1</th>\n",
       "      <td>NaN</td>\n",
       "      <td>NaN</td>\n",
       "      <td>NaN</td>\n",
       "      <td>NaN</td>\n",
       "      <td>NaN</td>\n",
       "      <td>NaN</td>\n",
       "      <td>NaN</td>\n",
       "      <td>NaN</td>\n",
       "      <td>NaN</td>\n",
       "      <td>NaN</td>\n",
       "      <td>NaN</td>\n",
       "      <td>NaN</td>\n",
       "    </tr>\n",
       "  </tbody>\n",
       "</table>\n",
       "</div>"
      ],
      "text/plain": [
       "    id pledged goal n rewards min reward max reward intn ship  \\\n",
       "0  NaN     NaN  NaN       NaN        NaN        NaN       NaN   \n",
       "1  NaN     NaN  NaN       NaN        NaN        NaN       NaN   \n",
       "\n",
       "  n creator backed title n chars blurb n chars launch time campaign dur  \n",
       "0              NaN           NaN           NaN         NaN          NaN  \n",
       "1              NaN           NaN           NaN         NaN          NaN  "
      ]
     },
     "execution_count": 75,
     "metadata": {},
     "output_type": "execute_result"
    }
   ],
   "source": [
    "tech_df.head(2)"
   ]
  },
  {
   "cell_type": "code",
   "execution_count": 78,
   "metadata": {
    "collapsed": false
   },
   "outputs": [
    {
     "name": "stdout",
     "output_type": "stream",
     "text": [
      "0 8018\n",
      "200 8257\n",
      "400 8489\n",
      "600 8728\n",
      "800 8967\n",
      "1000 9204\n",
      "1200 9431\n",
      "1400 9667\n",
      "1600 9902\n",
      "1800 10119\n",
      "2000 10368\n",
      "2200 10641\n",
      "2400 10895\n",
      "2600 11157\n",
      "2800 11421\n",
      "3000 11683\n",
      "3200 11935\n",
      "3400 12184\n",
      "3600 12453\n",
      "3800 12703\n",
      "4000 12954\n",
      "4200 13209\n",
      "4400 13468\n",
      "4600 13732\n",
      "4800 13986\n",
      "5000 14249\n",
      "5200 14516\n",
      "5400 14781\n",
      "5600 15050\n",
      "5800 15332\n",
      "6000 15590\n",
      "6200 15868\n",
      "6400 16145\n",
      "6600 16424\n"
     ]
    }
   ],
   "source": [
    "# now loop through each project and collect raised and predictors -- later vectorize this?\n",
    "for i,id_array in enumerate(tech_subset_ids):\n",
    "    primary_key = id_array[0]\n",
    "    if not i%200:\n",
    "        print i,primary_key\n",
    "    tech_df.ix[i,'id'] = primary_key\n",
    "    \n",
    "    \n",
    "    with con:\n",
    "        cur = con.cursor()\n",
    "                            # 0     1        2      3      4             5\n",
    "        query_txt = \"SELECT Goal, Pledged, Name, Blurb, Launch_time, End_time \\\n",
    "                    FROM Project_info WHERE Id = \" + str(primary_key)\n",
    "        cur.execute(query_txt)\n",
    "        \n",
    "        rows = cur.fetchall()\n",
    "        project_details = rows[0]\n",
    "        tech_df.ix[i,'goal'] = project_details[0]\n",
    "        tech_df.ix[i,'pledged'] = project_details[1]\n",
    "        tech_df.ix[i,'launch time'] = project_details[4]\n",
    "        tech_df.ix[i,'campaign dur'] = project_details[5] - project_details[4]\n",
    "        tech_df.ix[i,'title n chars'] = len(project_details[2])\n",
    "        tech_df.ix[i,'blurb n chars'] = len(project_details[3])\n",
    "        cur.close()\n",
    "    \n",
    "    \n",
    "        # now get rewards details \n",
    "        cur = con.cursor()\n",
    "                            # 0           1             2        3                   \n",
    "        query_txt = \"SELECT N_rewards, Min_reward, Max_reward, Ships_intn \\\n",
    "                    FROM Rewards WHERE Id = \" + str(primary_key)\n",
    "        cur.execute(query_txt)\n",
    "        rows = cur.fetchall()\n",
    "        rewards_details = rows[0]\n",
    "        tech_df.ix[i,'n rewards'] = rewards_details[0]\n",
    "        tech_df.ix[i,'min reward'] = rewards_details[1]\n",
    "        tech_df.ix[i,'max reward'] = rewards_details[2]\n",
    "        tech_df.ix[i,'intn ship'] = rewards_details[3]\n",
    "        cur.close()\n",
    "        \n",
    "        #get n campaigns creator backed\n",
    "        cur = con.cursor()\n",
    "                            # 0                              \n",
    "        query_txt = \"SELECT N_backed FROM Creator WHERE Id = \" + str(primary_key)\n",
    "        cur.execute(query_txt)\n",
    "        rows = cur.fetchall()\n",
    "        \n",
    "        tech_df.ix[i,'n creator backed'] = rows[0][0]\n",
    "        cur.close()\n",
    "        \n",
    "        \n",
    "    "
   ]
  },
  {
   "cell_type": "code",
   "execution_count": 80,
   "metadata": {
    "collapsed": false
   },
   "outputs": [
    {
     "data": {
      "text/html": [
       "<div style=\"max-height:1000px;max-width:1500px;overflow:auto;\">\n",
       "<table border=\"1\" class=\"dataframe\">\n",
       "  <thead>\n",
       "    <tr style=\"text-align: right;\">\n",
       "      <th></th>\n",
       "      <th>id</th>\n",
       "      <th>pledged</th>\n",
       "      <th>goal</th>\n",
       "      <th>n rewards</th>\n",
       "      <th>min reward</th>\n",
       "      <th>max reward</th>\n",
       "      <th>intn ship</th>\n",
       "      <th>n creator backed</th>\n",
       "      <th>title n chars</th>\n",
       "      <th>blurb n chars</th>\n",
       "      <th>launch time</th>\n",
       "      <th>campaign dur</th>\n",
       "    </tr>\n",
       "  </thead>\n",
       "  <tbody>\n",
       "    <tr>\n",
       "      <th>6628</th>\n",
       "      <td>16461</td>\n",
       "      <td>25</td>\n",
       "      <td>100000</td>\n",
       "      <td>5</td>\n",
       "      <td>25</td>\n",
       "      <td>10000</td>\n",
       "      <td>-1</td>\n",
       "      <td>0</td>\n",
       "      <td>35</td>\n",
       "      <td>134</td>\n",
       "      <td>1414879251</td>\n",
       "      <td>2595600</td>\n",
       "    </tr>\n",
       "    <tr>\n",
       "      <th>6629</th>\n",
       "      <td>16462</td>\n",
       "      <td>15790</td>\n",
       "      <td>3500</td>\n",
       "      <td>8</td>\n",
       "      <td>59</td>\n",
       "      <td>250</td>\n",
       "      <td>1</td>\n",
       "      <td>1</td>\n",
       "      <td>36</td>\n",
       "      <td>132</td>\n",
       "      <td>1411511254</td>\n",
       "      <td>2592000</td>\n",
       "    </tr>\n",
       "    <tr>\n",
       "      <th>6630</th>\n",
       "      <td>16468</td>\n",
       "      <td>8904</td>\n",
       "      <td>5000</td>\n",
       "      <td>7</td>\n",
       "      <td>1</td>\n",
       "      <td>100</td>\n",
       "      <td>1</td>\n",
       "      <td>0</td>\n",
       "      <td>56</td>\n",
       "      <td>129</td>\n",
       "      <td>1411686079</td>\n",
       "      <td>3459600</td>\n",
       "    </tr>\n",
       "    <tr>\n",
       "      <th>6631</th>\n",
       "      <td>16469</td>\n",
       "      <td>615</td>\n",
       "      <td>50000</td>\n",
       "      <td>8</td>\n",
       "      <td>1</td>\n",
       "      <td>1000</td>\n",
       "      <td>0</td>\n",
       "      <td>0</td>\n",
       "      <td>51</td>\n",
       "      <td>103</td>\n",
       "      <td>1409441823</td>\n",
       "      <td>5184000</td>\n",
       "    </tr>\n",
       "    <tr>\n",
       "      <th>6632</th>\n",
       "      <td>16470</td>\n",
       "      <td>585549</td>\n",
       "      <td>7500</td>\n",
       "      <td>11</td>\n",
       "      <td>1</td>\n",
       "      <td>1337</td>\n",
       "      <td>1</td>\n",
       "      <td>2</td>\n",
       "      <td>44</td>\n",
       "      <td>114</td>\n",
       "      <td>1413159586</td>\n",
       "      <td>2595600</td>\n",
       "    </tr>\n",
       "  </tbody>\n",
       "</table>\n",
       "</div>"
      ],
      "text/plain": [
       "         id pledged    goal n rewards min reward max reward intn ship  \\\n",
       "6628  16461      25  100000         5         25      10000        -1   \n",
       "6629  16462   15790    3500         8         59        250         1   \n",
       "6630  16468    8904    5000         7          1        100         1   \n",
       "6631  16469     615   50000         8          1       1000         0   \n",
       "6632  16470  585549    7500        11          1       1337         1   \n",
       "\n",
       "     n creator backed title n chars blurb n chars launch time campaign dur  \n",
       "6628                0            35           134  1414879251      2595600  \n",
       "6629                1            36           132  1411511254      2592000  \n",
       "6630                0            56           129  1411686079      3459600  \n",
       "6631                0            51           103  1409441823      5184000  \n",
       "6632                2            44           114  1413159586      2595600  "
      ]
     },
     "execution_count": 80,
     "metadata": {},
     "output_type": "execute_result"
    }
   ],
   "source": [
    "tech_df.tail()"
   ]
  },
  {
   "cell_type": "code",
   "execution_count": 81,
   "metadata": {
    "collapsed": true
   },
   "outputs": [],
   "source": [
    "tech_df.to_pickle('tech_df.save')"
   ]
  },
  {
   "cell_type": "code",
   "execution_count": 82,
   "metadata": {
    "collapsed": false
   },
   "outputs": [
    {
     "data": {
      "text/plain": [
       "(6633, 12)"
      ]
     },
     "execution_count": 82,
     "metadata": {},
     "output_type": "execute_result"
    }
   ],
   "source": [
    "np.shape(tech_df)"
   ]
  },
  {
   "cell_type": "code",
   "execution_count": null,
   "metadata": {
    "collapsed": true
   },
   "outputs": [],
   "source": []
  }
 ],
 "metadata": {
  "kernelspec": {
   "display_name": "Python 2",
   "language": "python",
   "name": "python2"
  },
  "language_info": {
   "codemirror_mode": {
    "name": "ipython",
    "version": 2
   },
   "file_extension": ".py",
   "mimetype": "text/x-python",
   "name": "python",
   "nbconvert_exporter": "python",
   "pygments_lexer": "ipython2",
   "version": "2.7.10"
  }
 },
 "nbformat": 4,
 "nbformat_minor": 0
}
