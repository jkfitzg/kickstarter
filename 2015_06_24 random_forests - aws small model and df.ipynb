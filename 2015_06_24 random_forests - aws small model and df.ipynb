{
 "cells": [
  {
   "cell_type": "code",
   "execution_count": 13,
   "metadata": {
    "collapsed": false
   },
   "outputs": [],
   "source": [
    "import pandas as pd\n",
    "import numpy as np\n",
    "from sklearn.ensemble import RandomForestClassifier\n",
    "from sklearn.metrics import roc_curve, auc\n",
    "from sklearn import grid_search\n",
    "from sklearn import cross_validation\n",
    "import matplotlib.pyplot as plt\n",
    "import seaborn as sns\n",
    "from sklearn import metrics\n",
    "from IPython.display import display\n",
    "from IPython.core.pylabtools import getfigs\n",
    "\n",
    "sns.set_context('talk')\n",
    "sns.set_style('whitegrid') \n"
   ]
  },
  {
   "cell_type": "code",
   "execution_count": 14,
   "metadata": {
    "collapsed": true
   },
   "outputs": [],
   "source": [
    "%matplotlib qt"
   ]
  },
  {
   "cell_type": "code",
   "execution_count": 15,
   "metadata": {
    "collapsed": false
   },
   "outputs": [],
   "source": [
    "def plotROCCurve(y_test, prediction_proba):\n",
    "    fig = plt.figure(figsize=(4,4))\n",
    "    fpr, tpr, thresholds = roc_curve(y_test, prediction_proba[:,1])\n",
    "    roc_auc = auc(fpr, tpr)\n",
    "    plt.plot(fpr, tpr, label='ROC curve (area = %0.2f)' % roc_auc)\n",
    "    plt.plot([0, 1], [0, 1], 'k--')\n",
    "    plt.xlabel('False Positive Rate')\n",
    "    plt.ylabel('True Positive Rate')\n",
    "    plt.legend(bbox_to_anchor=(0.9, 0.2),\n",
    "               bbox_transform=plt.gcf().transFigure)\n",
    "    plt.savefig('random_forest_aucroc.png', bbox_inches='tight', dpi=200)"
   ]
  },
  {
   "cell_type": "code",
   "execution_count": 16,
   "metadata": {
    "collapsed": false
   },
   "outputs": [],
   "source": [
    "X_df = pd.read_pickle('new_X_df.save')\n",
    "outcomes_df = pd.read_pickle('new_outcomes_df.save')"
   ]
  },
  {
   "cell_type": "code",
   "execution_count": 17,
   "metadata": {
    "collapsed": false
   },
   "outputs": [
    {
     "data": {
      "text/plain": [
       "(115196, 38)"
      ]
     },
     "execution_count": 17,
     "metadata": {},
     "output_type": "execute_result"
    }
   ],
   "source": [
    "np.shape(X_df)"
   ]
  },
  {
   "cell_type": "code",
   "execution_count": 18,
   "metadata": {
    "collapsed": false
   },
   "outputs": [
    {
     "name": "stdout",
     "output_type": "stream",
     "text": [
      "['Goal', 'Campaign_days', 'Title_n_words', 'Blurb_n_words', 'Has_video', 'N_rewards', 'Min_reward', 'Median_reward', 'Max_reward', 'Reward_ship_days', 'N_links', 'N_figs', 'Body_n_words', 'N_creator_backed', 'N_creator_created', 'art', 'comics', 'crafts', 'dance', 'design', 'fashion', 'film', 'food', 'games', 'journalism', 'music', 'photography', 'publishing', 'technology', 'theater', 'Ships_intn', 'Mon', 'Tue', 'Wed', 'Thu', 'Fri', 'Sat', 'Sun']\n"
     ]
    }
   ],
   "source": [
    "print list(X_df.columns)"
   ]
  },
  {
   "cell_type": "code",
   "execution_count": 19,
   "metadata": {
    "collapsed": false
   },
   "outputs": [],
   "source": [
    "pred_subset = ['Goal', 'Title_n_words', 'Blurb_n_words','N_rewards', \\\n",
    " 'Median_reward', 'Max_reward', 'Reward_ship_days', 'N_links', 'N_figs',\\\n",
    " 'Body_n_words', 'N_creator_backed',]"
   ]
  },
  {
   "cell_type": "code",
   "execution_count": 38,
   "metadata": {
    "collapsed": false
   },
   "outputs": [],
   "source": [
    "pred_subset_smaller = ['Goal','N_creator_backed','N_rewards','Min_reward','Max_reward','Body_n_words',\\\n",
    "                       'art', 'comics', 'crafts', 'dance', 'design', 'fashion',\\\n",
    "                       'film', 'food', 'games', 'journalism', 'music', 'photography',\\\n",
    "                       'publishing', 'technology', 'theater',]"
   ]
  },
  {
   "cell_type": "code",
   "execution_count": 39,
   "metadata": {
    "collapsed": false
   },
   "outputs": [],
   "source": [
    "X_subset_df = X_df[pred_subset_smaller]"
   ]
  },
  {
   "cell_type": "code",
   "execution_count": 40,
   "metadata": {
    "collapsed": false
   },
   "outputs": [
    {
     "data": {
      "text/html": [
       "<div style=\"max-height:1000px;max-width:1500px;overflow:auto;\">\n",
       "<table border=\"1\" class=\"dataframe\">\n",
       "  <thead>\n",
       "    <tr style=\"text-align: right;\">\n",
       "      <th></th>\n",
       "      <th>Goal</th>\n",
       "      <th>N_creator_backed</th>\n",
       "      <th>N_rewards</th>\n",
       "      <th>Min_reward</th>\n",
       "      <th>Max_reward</th>\n",
       "      <th>Body_n_words</th>\n",
       "      <th>art</th>\n",
       "      <th>comics</th>\n",
       "      <th>crafts</th>\n",
       "      <th>dance</th>\n",
       "      <th>...</th>\n",
       "      <th>fashion</th>\n",
       "      <th>film</th>\n",
       "      <th>food</th>\n",
       "      <th>games</th>\n",
       "      <th>journalism</th>\n",
       "      <th>music</th>\n",
       "      <th>photography</th>\n",
       "      <th>publishing</th>\n",
       "      <th>technology</th>\n",
       "      <th>theater</th>\n",
       "    </tr>\n",
       "  </thead>\n",
       "  <tbody>\n",
       "    <tr>\n",
       "      <th>0</th>\n",
       "      <td>5000</td>\n",
       "      <td>18</td>\n",
       "      <td>8</td>\n",
       "      <td>10</td>\n",
       "      <td>5000</td>\n",
       "      <td>812</td>\n",
       "      <td>0</td>\n",
       "      <td>0</td>\n",
       "      <td>0</td>\n",
       "      <td>0</td>\n",
       "      <td>...</td>\n",
       "      <td>0</td>\n",
       "      <td>0</td>\n",
       "      <td>0</td>\n",
       "      <td>0</td>\n",
       "      <td>0</td>\n",
       "      <td>0</td>\n",
       "      <td>0</td>\n",
       "      <td>0</td>\n",
       "      <td>0</td>\n",
       "      <td>1</td>\n",
       "    </tr>\n",
       "    <tr>\n",
       "      <th>1</th>\n",
       "      <td>10000</td>\n",
       "      <td>7</td>\n",
       "      <td>10</td>\n",
       "      <td>5</td>\n",
       "      <td>5000</td>\n",
       "      <td>792</td>\n",
       "      <td>0</td>\n",
       "      <td>0</td>\n",
       "      <td>0</td>\n",
       "      <td>0</td>\n",
       "      <td>...</td>\n",
       "      <td>0</td>\n",
       "      <td>0</td>\n",
       "      <td>0</td>\n",
       "      <td>0</td>\n",
       "      <td>0</td>\n",
       "      <td>0</td>\n",
       "      <td>0</td>\n",
       "      <td>0</td>\n",
       "      <td>0</td>\n",
       "      <td>1</td>\n",
       "    </tr>\n",
       "  </tbody>\n",
       "</table>\n",
       "<p>2 rows × 21 columns</p>\n",
       "</div>"
      ],
      "text/plain": [
       "    Goal N_creator_backed N_rewards Min_reward Max_reward Body_n_words  art  \\\n",
       "0   5000               18         8         10       5000          812    0   \n",
       "1  10000                7        10          5       5000          792    0   \n",
       "\n",
       "   comics  crafts  dance   ...     fashion  film  food  games  journalism  \\\n",
       "0       0       0      0   ...           0     0     0      0           0   \n",
       "1       0       0      0   ...           0     0     0      0           0   \n",
       "\n",
       "   music  photography  publishing  technology  theater  \n",
       "0      0            0           0           0        1  \n",
       "1      0            0           0           0        1  \n",
       "\n",
       "[2 rows x 21 columns]"
      ]
     },
     "execution_count": 40,
     "metadata": {},
     "output_type": "execute_result"
    }
   ],
   "source": [
    "X_subset_df.head(2)"
   ]
  },
  {
   "cell_type": "code",
   "execution_count": 41,
   "metadata": {
    "collapsed": true
   },
   "outputs": [],
   "source": [
    "X_train, X_test, y_train, y_test = \\\n",
    "    cross_validation.train_test_split(X_subset_df, outcomes_df['Outcome'].values, \\\n",
    "                                      test_size=0.25, random_state=2) # was 0"
   ]
  },
  {
   "cell_type": "code",
   "execution_count": 42,
   "metadata": {
    "collapsed": false
   },
   "outputs": [],
   "source": [
    "from sklearn.ensemble import RandomForestClassifier\n",
    "clf = RandomForestClassifier(n_estimators=30, max_depth=10)\n",
    "clf.fit(X_train,y_train)\n",
    "y_1 = clf.predict(X_test)"
   ]
  },
  {
   "cell_type": "code",
   "execution_count": 43,
   "metadata": {
    "collapsed": false
   },
   "outputs": [],
   "source": [
    "y_1_proba = clf.predict_proba(X_test)"
   ]
  },
  {
   "cell_type": "code",
   "execution_count": 44,
   "metadata": {
    "collapsed": false
   },
   "outputs": [
    {
     "data": {
      "text/plain": [
       "0.82411662302490685"
      ]
     },
     "execution_count": 44,
     "metadata": {},
     "output_type": "execute_result"
    }
   ],
   "source": [
    "metrics.roc_auc_score(y_test, y_1_proba[:,1]) # average='macro',"
   ]
  },
  {
   "cell_type": "code",
   "execution_count": 45,
   "metadata": {
    "collapsed": false
   },
   "outputs": [
    {
     "data": {
      "text/plain": [
       "0.74328969755894303"
      ]
     },
     "execution_count": 45,
     "metadata": {},
     "output_type": "execute_result"
    }
   ],
   "source": [
    "metrics.accuracy_score(y_test,y_1, normalize=True)"
   ]
  },
  {
   "cell_type": "code",
   "execution_count": 46,
   "metadata": {
    "collapsed": false
   },
   "outputs": [
    {
     "data": {
      "text/plain": [
       "(array([ 0.76965877,  0.70177007]),\n",
       " array([ 0.80251006,  0.65927606]),\n",
       " array([ 0.7857412,  0.6798597]),\n",
       " array([16892, 11907]))"
      ]
     },
     "execution_count": 46,
     "metadata": {},
     "output_type": "execute_result"
    }
   ],
   "source": [
    "metrics.precision_recall_fscore_support(y_test, y_1)"
   ]
  },
  {
   "cell_type": "code",
   "execution_count": 47,
   "metadata": {
    "collapsed": false
   },
   "outputs": [
    {
     "name": "stdout",
     "output_type": "stream",
     "text": [
      "             precision    recall  f1-score   support\n",
      "\n",
      "          0       0.77      0.80      0.79     16892\n",
      "          1       0.70      0.66      0.68     11907\n",
      "\n",
      "avg / total       0.74      0.74      0.74     28799\n",
      "\n"
     ]
    }
   ],
   "source": [
    "print metrics.classification_report(y_test, y_1)"
   ]
  },
  {
   "cell_type": "code",
   "execution_count": 48,
   "metadata": {
    "collapsed": false
   },
   "outputs": [
    {
     "data": {
      "image/png": "[encoded data removed]",
      "text/plain": [
       "<matplotlib.figure.Figure at 0x1113f5210>"
      ]
     },
     "metadata": {},
     "output_type": "display_data"
    }
   ],
   "source": [
    "plotROCCurve(y_test, y_1_proba)\n",
    "display(plt.gcf())"
   ]
  },
  {
   "cell_type": "code",
   "execution_count": 52,
   "metadata": {
    "collapsed": false
   },
   "outputs": [],
   "source": [
    "from plot_suggestions import *\n",
    "%load_ext autoreload\n",
    "%autoreload 2"
   ]
  },
  {
   "cell_type": "code",
   "execution_count": 53,
   "metadata": {
    "collapsed": false
   },
   "outputs": [
    {
     "data": {
      "image/png": "[encoded data removed]",
      "text/plain": [
       "<matplotlib.figure.Figure at 0x11d40cb90>"
      ]
     },
     "metadata": {},
     "output_type": "display_data"
    }
   ],
   "source": [
    "plot_feature_importances(clf.feature_importances_,\\\n",
    "                         X_subset_df.columns,n_top=len(X_subset_df.columns))\n",
    "display(plt.gcf())"
   ]
  },
  {
   "cell_type": "code",
   "execution_count": 54,
   "metadata": {
    "collapsed": false
   },
   "outputs": [
    {
     "data": {
      "text/plain": [
       "['small_clf/clf.pkl',\n",
       " 'small_clf/clf.pkl_01.npy',\n",
       " 'small_clf/clf.pkl_02.npy',\n",
       " 'small_clf/clf.pkl_03.npy',\n",
       " 'small_clf/clf.pkl_04.npy',\n",
       " 'small_clf/clf.pkl_05.npy',\n",
       " 'small_clf/clf.pkl_06.npy',\n",
       " 'small_clf/clf.pkl_07.npy',\n",
       " 'small_clf/clf.pkl_08.npy',\n",
       " 'small_clf/clf.pkl_09.npy',\n",
       " 'small_clf/clf.pkl_10.npy',\n",
       " 'small_clf/clf.pkl_11.npy',\n",
       " 'small_clf/clf.pkl_12.npy',\n",
       " 'small_clf/clf.pkl_13.npy',\n",
       " 'small_clf/clf.pkl_14.npy',\n",
       " 'small_clf/clf.pkl_15.npy',\n",
       " 'small_clf/clf.pkl_16.npy',\n",
       " 'small_clf/clf.pkl_17.npy',\n",
       " 'small_clf/clf.pkl_18.npy',\n",
       " 'small_clf/clf.pkl_19.npy',\n",
       " 'small_clf/clf.pkl_20.npy',\n",
       " 'small_clf/clf.pkl_21.npy',\n",
       " 'small_clf/clf.pkl_22.npy',\n",
       " 'small_clf/clf.pkl_23.npy',\n",
       " 'small_clf/clf.pkl_24.npy',\n",
       " 'small_clf/clf.pkl_25.npy',\n",
       " 'small_clf/clf.pkl_26.npy',\n",
       " 'small_clf/clf.pkl_27.npy',\n",
       " 'small_clf/clf.pkl_28.npy',\n",
       " 'small_clf/clf.pkl_29.npy',\n",
       " 'small_clf/clf.pkl_30.npy',\n",
       " 'small_clf/clf.pkl_31.npy',\n",
       " 'small_clf/clf.pkl_32.npy',\n",
       " 'small_clf/clf.pkl_33.npy',\n",
       " 'small_clf/clf.pkl_34.npy',\n",
       " 'small_clf/clf.pkl_35.npy',\n",
       " 'small_clf/clf.pkl_36.npy',\n",
       " 'small_clf/clf.pkl_37.npy',\n",
       " 'small_clf/clf.pkl_38.npy',\n",
       " 'small_clf/clf.pkl_39.npy',\n",
       " 'small_clf/clf.pkl_40.npy',\n",
       " 'small_clf/clf.pkl_41.npy',\n",
       " 'small_clf/clf.pkl_42.npy',\n",
       " 'small_clf/clf.pkl_43.npy',\n",
       " 'small_clf/clf.pkl_44.npy',\n",
       " 'small_clf/clf.pkl_45.npy',\n",
       " 'small_clf/clf.pkl_46.npy',\n",
       " 'small_clf/clf.pkl_47.npy',\n",
       " 'small_clf/clf.pkl_48.npy',\n",
       " 'small_clf/clf.pkl_49.npy',\n",
       " 'small_clf/clf.pkl_50.npy',\n",
       " 'small_clf/clf.pkl_51.npy',\n",
       " 'small_clf/clf.pkl_52.npy',\n",
       " 'small_clf/clf.pkl_53.npy',\n",
       " 'small_clf/clf.pkl_54.npy',\n",
       " 'small_clf/clf.pkl_55.npy',\n",
       " 'small_clf/clf.pkl_56.npy',\n",
       " 'small_clf/clf.pkl_57.npy',\n",
       " 'small_clf/clf.pkl_58.npy',\n",
       " 'small_clf/clf.pkl_59.npy',\n",
       " 'small_clf/clf.pkl_60.npy',\n",
       " 'small_clf/clf.pkl_61.npy',\n",
       " 'small_clf/clf.pkl_62.npy',\n",
       " 'small_clf/clf.pkl_63.npy',\n",
       " 'small_clf/clf.pkl_64.npy',\n",
       " 'small_clf/clf.pkl_65.npy',\n",
       " 'small_clf/clf.pkl_66.npy',\n",
       " 'small_clf/clf.pkl_67.npy',\n",
       " 'small_clf/clf.pkl_68.npy',\n",
       " 'small_clf/clf.pkl_69.npy',\n",
       " 'small_clf/clf.pkl_70.npy',\n",
       " 'small_clf/clf.pkl_71.npy',\n",
       " 'small_clf/clf.pkl_72.npy',\n",
       " 'small_clf/clf.pkl_73.npy',\n",
       " 'small_clf/clf.pkl_74.npy',\n",
       " 'small_clf/clf.pkl_75.npy',\n",
       " 'small_clf/clf.pkl_76.npy',\n",
       " 'small_clf/clf.pkl_77.npy',\n",
       " 'small_clf/clf.pkl_78.npy',\n",
       " 'small_clf/clf.pkl_79.npy',\n",
       " 'small_clf/clf.pkl_80.npy',\n",
       " 'small_clf/clf.pkl_81.npy',\n",
       " 'small_clf/clf.pkl_82.npy',\n",
       " 'small_clf/clf.pkl_83.npy',\n",
       " 'small_clf/clf.pkl_84.npy',\n",
       " 'small_clf/clf.pkl_85.npy',\n",
       " 'small_clf/clf.pkl_86.npy',\n",
       " 'small_clf/clf.pkl_87.npy',\n",
       " 'small_clf/clf.pkl_88.npy',\n",
       " 'small_clf/clf.pkl_89.npy',\n",
       " 'small_clf/clf.pkl_90.npy',\n",
       " 'small_clf/clf.pkl_91.npy',\n",
       " 'small_clf/clf.pkl_92.npy',\n",
       " 'small_clf/clf.pkl_93.npy',\n",
       " 'small_clf/clf.pkl_94.npy',\n",
       " 'small_clf/clf.pkl_95.npy',\n",
       " 'small_clf/clf.pkl_96.npy',\n",
       " 'small_clf/clf.pkl_97.npy',\n",
       " 'small_clf/clf.pkl_98.npy',\n",
       " 'small_clf/clf.pkl_99.npy',\n",
       " 'small_clf/clf.pkl_100.npy',\n",
       " 'small_clf/clf.pkl_101.npy',\n",
       " 'small_clf/clf.pkl_102.npy',\n",
       " 'small_clf/clf.pkl_103.npy',\n",
       " 'small_clf/clf.pkl_104.npy',\n",
       " 'small_clf/clf.pkl_105.npy',\n",
       " 'small_clf/clf.pkl_106.npy',\n",
       " 'small_clf/clf.pkl_107.npy',\n",
       " 'small_clf/clf.pkl_108.npy',\n",
       " 'small_clf/clf.pkl_109.npy',\n",
       " 'small_clf/clf.pkl_110.npy',\n",
       " 'small_clf/clf.pkl_111.npy',\n",
       " 'small_clf/clf.pkl_112.npy',\n",
       " 'small_clf/clf.pkl_113.npy',\n",
       " 'small_clf/clf.pkl_114.npy',\n",
       " 'small_clf/clf.pkl_115.npy',\n",
       " 'small_clf/clf.pkl_116.npy',\n",
       " 'small_clf/clf.pkl_117.npy',\n",
       " 'small_clf/clf.pkl_118.npy',\n",
       " 'small_clf/clf.pkl_119.npy',\n",
       " 'small_clf/clf.pkl_120.npy',\n",
       " 'small_clf/clf.pkl_121.npy',\n",
       " 'small_clf/clf.pkl_122.npy',\n",
       " 'small_clf/clf.pkl_123.npy',\n",
       " 'small_clf/clf.pkl_124.npy',\n",
       " 'small_clf/clf.pkl_125.npy',\n",
       " 'small_clf/clf.pkl_126.npy',\n",
       " 'small_clf/clf.pkl_127.npy',\n",
       " 'small_clf/clf.pkl_128.npy',\n",
       " 'small_clf/clf.pkl_129.npy',\n",
       " 'small_clf/clf.pkl_130.npy',\n",
       " 'small_clf/clf.pkl_131.npy',\n",
       " 'small_clf/clf.pkl_132.npy',\n",
       " 'small_clf/clf.pkl_133.npy',\n",
       " 'small_clf/clf.pkl_134.npy',\n",
       " 'small_clf/clf.pkl_135.npy',\n",
       " 'small_clf/clf.pkl_136.npy',\n",
       " 'small_clf/clf.pkl_137.npy',\n",
       " 'small_clf/clf.pkl_138.npy',\n",
       " 'small_clf/clf.pkl_139.npy',\n",
       " 'small_clf/clf.pkl_140.npy',\n",
       " 'small_clf/clf.pkl_141.npy',\n",
       " 'small_clf/clf.pkl_142.npy',\n",
       " 'small_clf/clf.pkl_143.npy',\n",
       " 'small_clf/clf.pkl_144.npy',\n",
       " 'small_clf/clf.pkl_145.npy',\n",
       " 'small_clf/clf.pkl_146.npy',\n",
       " 'small_clf/clf.pkl_147.npy',\n",
       " 'small_clf/clf.pkl_148.npy',\n",
       " 'small_clf/clf.pkl_149.npy',\n",
       " 'small_clf/clf.pkl_150.npy',\n",
       " 'small_clf/clf.pkl_151.npy']"
      ]
     },
     "execution_count": 54,
     "metadata": {},
     "output_type": "execute_result"
    }
   ],
   "source": [
    "from sklearn.externals import joblib\n",
    "joblib.dump(clf, 'small_clf/clf.pkl') "
   ]
  },
  {
   "cell_type": "code",
   "execution_count": 55,
   "metadata": {
    "collapsed": false
   },
   "outputs": [],
   "source": [
    "subset_i = np.random.permutation(115196)[0:20] "
   ]
  },
  {
   "cell_type": "code",
   "execution_count": 56,
   "metadata": {
    "collapsed": false
   },
   "outputs": [
    {
     "name": "stdout",
     "output_type": "stream",
     "text": [
      "[  8800  33022 107749  64420    766  51465  17715  52979 114160  79142\n",
      "  89577  14567  34907  60190  63581  33102  68168  83524  66880  83320]\n"
     ]
    }
   ],
   "source": [
    "print subset_i"
   ]
  },
  {
   "cell_type": "code",
   "execution_count": 57,
   "metadata": {
    "collapsed": true
   },
   "outputs": [],
   "source": [
    "small_X_df = X_subset_df.ix[subset_i,:]"
   ]
  },
  {
   "cell_type": "code",
   "execution_count": 58,
   "metadata": {
    "collapsed": false
   },
   "outputs": [
    {
     "data": {
      "text/html": [
       "<div style=\"max-height:1000px;max-width:1500px;overflow:auto;\">\n",
       "<table border=\"1\" class=\"dataframe\">\n",
       "  <thead>\n",
       "    <tr style=\"text-align: right;\">\n",
       "      <th></th>\n",
       "      <th>Goal</th>\n",
       "      <th>N_creator_backed</th>\n",
       "      <th>N_rewards</th>\n",
       "      <th>Min_reward</th>\n",
       "      <th>Max_reward</th>\n",
       "      <th>Body_n_words</th>\n",
       "      <th>art</th>\n",
       "      <th>comics</th>\n",
       "      <th>crafts</th>\n",
       "      <th>dance</th>\n",
       "      <th>...</th>\n",
       "      <th>fashion</th>\n",
       "      <th>film</th>\n",
       "      <th>food</th>\n",
       "      <th>games</th>\n",
       "      <th>journalism</th>\n",
       "      <th>music</th>\n",
       "      <th>photography</th>\n",
       "      <th>publishing</th>\n",
       "      <th>technology</th>\n",
       "      <th>theater</th>\n",
       "    </tr>\n",
       "  </thead>\n",
       "  <tbody>\n",
       "    <tr>\n",
       "      <th>8800</th>\n",
       "      <td>35000</td>\n",
       "      <td>2</td>\n",
       "      <td>22</td>\n",
       "      <td>5</td>\n",
       "      <td>10000</td>\n",
       "      <td>1415</td>\n",
       "      <td>0</td>\n",
       "      <td>0</td>\n",
       "      <td>0</td>\n",
       "      <td>0</td>\n",
       "      <td>...</td>\n",
       "      <td>0</td>\n",
       "      <td>0</td>\n",
       "      <td>0</td>\n",
       "      <td>0</td>\n",
       "      <td>0</td>\n",
       "      <td>0</td>\n",
       "      <td>0</td>\n",
       "      <td>0</td>\n",
       "      <td>1</td>\n",
       "      <td>0</td>\n",
       "    </tr>\n",
       "    <tr>\n",
       "      <th>33022</th>\n",
       "      <td>4000</td>\n",
       "      <td>1</td>\n",
       "      <td>9</td>\n",
       "      <td>1</td>\n",
       "      <td>1000</td>\n",
       "      <td>466</td>\n",
       "      <td>0</td>\n",
       "      <td>0</td>\n",
       "      <td>0</td>\n",
       "      <td>0</td>\n",
       "      <td>...</td>\n",
       "      <td>0</td>\n",
       "      <td>0</td>\n",
       "      <td>0</td>\n",
       "      <td>0</td>\n",
       "      <td>0</td>\n",
       "      <td>1</td>\n",
       "      <td>0</td>\n",
       "      <td>0</td>\n",
       "      <td>0</td>\n",
       "      <td>0</td>\n",
       "    </tr>\n",
       "    <tr>\n",
       "      <th>107749</th>\n",
       "      <td>5000</td>\n",
       "      <td>14</td>\n",
       "      <td>6</td>\n",
       "      <td>25</td>\n",
       "      <td>250</td>\n",
       "      <td>250</td>\n",
       "      <td>1</td>\n",
       "      <td>0</td>\n",
       "      <td>0</td>\n",
       "      <td>0</td>\n",
       "      <td>...</td>\n",
       "      <td>0</td>\n",
       "      <td>0</td>\n",
       "      <td>0</td>\n",
       "      <td>0</td>\n",
       "      <td>0</td>\n",
       "      <td>0</td>\n",
       "      <td>0</td>\n",
       "      <td>0</td>\n",
       "      <td>0</td>\n",
       "      <td>0</td>\n",
       "    </tr>\n",
       "  </tbody>\n",
       "</table>\n",
       "<p>3 rows × 21 columns</p>\n",
       "</div>"
      ],
      "text/plain": [
       "         Goal N_creator_backed N_rewards Min_reward Max_reward Body_n_words  \\\n",
       "8800    35000                2        22          5      10000         1415   \n",
       "33022    4000                1         9          1       1000          466   \n",
       "107749   5000               14         6         25        250          250   \n",
       "\n",
       "        art  comics  crafts  dance   ...     fashion  film  food  games  \\\n",
       "8800      0       0       0      0   ...           0     0     0      0   \n",
       "33022     0       0       0      0   ...           0     0     0      0   \n",
       "107749    1       0       0      0   ...           0     0     0      0   \n",
       "\n",
       "        journalism  music  photography  publishing  technology  theater  \n",
       "8800             0      0            0           0           1        0  \n",
       "33022            0      1            0           0           0        0  \n",
       "107749           0      0            0           0           0        0  \n",
       "\n",
       "[3 rows x 21 columns]"
      ]
     },
     "execution_count": 58,
     "metadata": {},
     "output_type": "execute_result"
    }
   ],
   "source": [
    "small_X_df.head(3)"
   ]
  },
  {
   "cell_type": "code",
   "execution_count": 59,
   "metadata": {
    "collapsed": true
   },
   "outputs": [],
   "source": [
    "small_X_df.to_pickle('small_X_df.save')"
   ]
  },
  {
   "cell_type": "code",
   "execution_count": 60,
   "metadata": {
    "collapsed": true
   },
   "outputs": [],
   "source": [
    "small_X_array = small_X_df.values"
   ]
  },
  {
   "cell_type": "code",
   "execution_count": 61,
   "metadata": {
    "collapsed": false
   },
   "outputs": [
    {
     "name": "stdout",
     "output_type": "stream",
     "text": [
      "[[35000 2 22 5 10000 1415 0 0 0 0 0 0 0 0 0 0 0 0 0 1 0]\n",
      " [4000 1 9 1 1000 466 0 0 0 0 0 0 0 0 0 0 1 0 0 0 0]\n",
      " [5000 14 6 25 250 250 1 0 0 0 0 0 0 0 0 0 0 0 0 0 0]\n",
      " [5000000 0 9 1 10000 118 0 0 0 0 0 0 0 1 0 0 0 0 0 0 0]\n",
      " [12500 1 3 10 100 1151 0 0 0 0 0 0 0 0 0 0 0 0 0 0 1]\n",
      " [18000 45 14 1 425 785 0 0 0 0 0 0 0 0 1 0 0 0 0 0 0]\n",
      " [7750 9 14 1 2000 698 0 0 0 0 0 0 0 0 0 0 0 0 1 0 0]\n",
      " [1000 13 8 1 110 1044 0 0 0 0 0 0 0 0 1 0 0 0 0 0 0]\n",
      " [100000 0 3 10 50 377 1 0 0 0 0 0 0 0 0 0 0 0 0 0 0]\n",
      " [24000 1 10 1 10000 409 0 0 0 0 0 0 1 0 0 0 0 0 0 0 0]\n",
      " [1700 0 5 1 150 361 0 0 0 0 0 1 0 0 0 0 0 0 0 0 0]\n",
      " [15000 0 5 10 100 678 0 0 0 0 0 0 0 0 0 0 0 0 1 0 0]\n",
      " [10000 1 5 25 1000 227 0 0 0 0 0 0 0 0 0 0 1 0 0 0 0]\n",
      " [3500 0 2 5 10 114 0 0 0 0 0 0 0 1 0 0 0 0 0 0 0]\n",
      " [3500 0 1 15 15 301 0 0 0 0 0 0 0 1 0 0 0 0 0 0 0]\n",
      " [3500 0 12 1 1500 537 0 0 0 0 0 0 0 0 0 0 1 0 0 0 0]\n",
      " [3600 15 8 5 1000 1241 0 0 0 0 0 0 1 0 0 0 0 0 0 0 0]\n",
      " [15000 0 4 10 150 584 0 0 0 0 0 0 1 0 0 0 0 0 0 0 0]\n",
      " [500 1 8 10 1000 650 0 0 0 0 0 0 1 0 0 0 0 0 0 0 0]\n",
      " [21347 0 9 1 1111 1085 0 0 0 0 0 0 1 0 0 0 0 0 0 0 0]]\n"
     ]
    }
   ],
   "source": [
    "print small_X_array"
   ]
  },
  {
   "cell_type": "code",
   "execution_count": 62,
   "metadata": {
    "collapsed": true
   },
   "outputs": [],
   "source": [
    "small_X_array.dump('small_X_array.save')"
   ]
  },
  {
   "cell_type": "code",
   "execution_count": 63,
   "metadata": {
    "collapsed": false
   },
   "outputs": [
    {
     "name": "stdout",
     "output_type": "stream",
     "text": [
      "['Goal', 'N_creator_backed', 'N_rewards', 'Min_reward', 'Max_reward', 'Body_n_words', 'art', 'comics', 'crafts', 'dance', 'design', 'fashion', 'film', 'food', 'games', 'journalism', 'music', 'photography', 'publishing', 'technology', 'theater']\n"
     ]
    }
   ],
   "source": [
    "print list(small_X_df.columns)"
   ]
  },
  {
   "cell_type": "code",
   "execution_count": 64,
   "metadata": {
    "collapsed": false
   },
   "outputs": [
    {
     "name": "stdout",
     "output_type": "stream",
     "text": [
      "['Goal' 'N_creator_backed' 'N_rewards' 'Min_reward' 'Max_reward'\n",
      " 'Body_n_words' 'art' 'comics' 'crafts' 'dance' 'design' 'fashion' 'film'\n",
      " 'food' 'games' 'journalism' 'music' 'photography' 'publishing'\n",
      " 'technology' 'theater']\n"
     ]
    }
   ],
   "source": [
    "col_names = np.array(small_X_df.columns)\n",
    "print col_names"
   ]
  },
  {
   "cell_type": "code",
   "execution_count": 65,
   "metadata": {
    "collapsed": true
   },
   "outputs": [],
   "source": [
    "col_names.dump('small_X_array_columns.save')"
   ]
  },
  {
   "cell_type": "code",
   "execution_count": null,
   "metadata": {
    "collapsed": true
   },
   "outputs": [],
   "source": []
  }
 ],
 "metadata": {
  "kernelspec": {
   "display_name": "Python 2",
   "language": "python",
   "name": "python2"
  },
  "language_info": {
   "codemirror_mode": {
    "name": "ipython",
    "version": 2
   },
   "file_extension": ".py",
   "mimetype": "text/x-python",
   "name": "python",
   "nbconvert_exporter": "python",
   "pygments_lexer": "ipython2",
   "version": "2.7.10"
  }
 },
 "nbformat": 4,
 "nbformat_minor": 0
}
