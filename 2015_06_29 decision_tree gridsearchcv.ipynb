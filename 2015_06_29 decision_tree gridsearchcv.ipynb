{
 "cells": [
  {
   "cell_type": "code",
   "execution_count": 9,
   "metadata": {
    "collapsed": false
   },
   "outputs": [],
   "source": [
    "import pandas as pd\n",
    "import numpy as np\n",
    "from sklearn.tree import DecisionTreeClassifier\n",
    "from sklearn.metrics import roc_curve, auc\n",
    "from sklearn import grid_search\n",
    "from sklearn import cross_validation\n",
    "import matplotlib.pyplot as plt\n",
    "from sklearn import metrics\n",
    "import seaborn as sns\n",
    "sns.set_style('whitegrid') "
   ]
  },
  {
   "cell_type": "code",
   "execution_count": 5,
   "metadata": {
    "collapsed": false
   },
   "outputs": [],
   "source": [
    "X_df = pd.read_pickle('new_X_df.save')\n",
    "outcomes_df = pd.read_pickle('new_outcomes_df.save')"
   ]
  },
  {
   "cell_type": "code",
   "execution_count": 6,
   "metadata": {
    "collapsed": false
   },
   "outputs": [],
   "source": [
    "X_train, X_test, y_train, y_test = \\\n",
    "    cross_validation.train_test_split(X_df, outcomes_df['Outcome'].values, \\\n",
    "                                      test_size=0.25, random_state=2) # was 0"
   ]
  },
  {
   "cell_type": "code",
   "execution_count": 10,
   "metadata": {
    "collapsed": false
   },
   "outputs": [],
   "source": [
    "rf = DecisionTreeClassifier()\n",
    "\n",
    "parameters = {'max_depth':[5,10,15,20,22,24,None],\n",
    "              'min_samples_split':[2,3,4],\n",
    "              'min_samples_leaf':[1,2]}"
   ]
  },
  {
   "cell_type": "code",
   "execution_count": 11,
   "metadata": {
    "collapsed": false
   },
   "outputs": [],
   "source": [
    "clf_grid = grid_search.GridSearchCV(rf,param_grid=parameters,\\\n",
    "                            scoring='roc_auc',n_jobs=-1, verbose=1)"
   ]
  },
  {
   "cell_type": "code",
   "execution_count": 13,
   "metadata": {
    "collapsed": false
   },
   "outputs": [
    {
     "name": "stdout",
     "output_type": "stream",
     "text": [
      "Fitting 3 folds for each of 42 candidates, totalling 126 fits\n"
     ]
    },
    {
     "name": "stderr",
     "output_type": "stream",
     "text": [
      "[Parallel(n_jobs=-1)]: Done   1 jobs       | elapsed:    0.8s\n",
      "[Parallel(n_jobs=-1)]: Done  50 jobs       | elapsed:    9.8s\n",
      "[Parallel(n_jobs=-1)]: Done 112 out of 126 | elapsed:   23.4s remaining:    2.9s\n",
      "[Parallel(n_jobs=-1)]: Done 126 out of 126 | elapsed:   25.9s finished\n"
     ]
    },
    {
     "data": {
      "text/plain": [
       "GridSearchCV(cv=None, error_score='raise',\n",
       "       estimator=DecisionTreeClassifier(class_weight=None, criterion='gini', max_depth=None,\n",
       "            max_features=None, max_leaf_nodes=None, min_samples_leaf=1,\n",
       "            min_samples_split=2, min_weight_fraction_leaf=0.0,\n",
       "            random_state=None, splitter='best'),\n",
       "       fit_params={}, iid=True, loss_func=None, n_jobs=-1,\n",
       "       param_grid={'min_samples_split': [2, 3, 4], 'max_depth': [5, 10, 15, 20, 22, 24, None], 'min_samples_leaf': [1, 2]},\n",
       "       pre_dispatch='2*n_jobs', refit=True, score_func=None,\n",
       "       scoring='roc_auc', verbose=1)"
      ]
     },
     "execution_count": 13,
     "metadata": {},
     "output_type": "execute_result"
    }
   ],
   "source": [
    "clf_grid.fit(X_train, y_train)"
   ]
  },
  {
   "cell_type": "code",
   "execution_count": 14,
   "metadata": {
    "collapsed": false
   },
   "outputs": [
    {
     "name": "stdout",
     "output_type": "stream",
     "text": [
      "mean: 0.78273, std: 0.00241, params: {'min_samples_split': 2, 'max_depth': 5, 'min_samples_leaf': 1}\n",
      "mean: 0.78273, std: 0.00241, params: {'min_samples_split': 3, 'max_depth': 5, 'min_samples_leaf': 1}\n",
      "mean: 0.78273, std: 0.00241, params: {'min_samples_split': 4, 'max_depth': 5, 'min_samples_leaf': 1}\n",
      "mean: 0.78273, std: 0.00241, params: {'min_samples_split': 2, 'max_depth': 5, 'min_samples_leaf': 2}\n",
      "mean: 0.78273, std: 0.00241, params: {'min_samples_split': 3, 'max_depth': 5, 'min_samples_leaf': 2}\n",
      "mean: 0.78273, std: 0.00241, params: {'min_samples_split': 4, 'max_depth': 5, 'min_samples_leaf': 2}\n",
      "mean: 0.79393, std: 0.00201, params: {'min_samples_split': 2, 'max_depth': 10, 'min_samples_leaf': 1}\n",
      "mean: 0.79422, std: 0.00227, params: {'min_samples_split': 3, 'max_depth': 10, 'min_samples_leaf': 1}\n",
      "mean: 0.79430, std: 0.00201, params: {'min_samples_split': 4, 'max_depth': 10, 'min_samples_leaf': 1}\n",
      "mean: 0.79507, std: 0.00161, params: {'min_samples_split': 2, 'max_depth': 10, 'min_samples_leaf': 2}\n",
      "mean: 0.79477, std: 0.00192, params: {'min_samples_split': 3, 'max_depth': 10, 'min_samples_leaf': 2}\n",
      "mean: 0.79455, std: 0.00193, params: {'min_samples_split': 4, 'max_depth': 10, 'min_samples_leaf': 2}\n",
      "mean: 0.72268, std: 0.00564, params: {'min_samples_split': 2, 'max_depth': 15, 'min_samples_leaf': 1}\n",
      "mean: 0.72416, std: 0.00524, params: {'min_samples_split': 3, 'max_depth': 15, 'min_samples_leaf': 1}\n",
      "mean: 0.72721, std: 0.00478, params: {'min_samples_split': 4, 'max_depth': 15, 'min_samples_leaf': 1}\n",
      "mean: 0.73217, std: 0.00372, params: {'min_samples_split': 2, 'max_depth': 15, 'min_samples_leaf': 2}\n",
      "mean: 0.73247, std: 0.00286, params: {'min_samples_split': 3, 'max_depth': 15, 'min_samples_leaf': 2}\n",
      "mean: 0.73247, std: 0.00286, params: {'min_samples_split': 4, 'max_depth': 15, 'min_samples_leaf': 2}\n",
      "mean: 0.67927, std: 0.00430, params: {'min_samples_split': 2, 'max_depth': 20, 'min_samples_leaf': 1}\n",
      "mean: 0.68155, std: 0.00318, params: {'min_samples_split': 3, 'max_depth': 20, 'min_samples_leaf': 1}\n",
      "mean: 0.68796, std: 0.00364, params: {'min_samples_split': 4, 'max_depth': 20, 'min_samples_leaf': 1}\n",
      "mean: 0.69770, std: 0.00141, params: {'min_samples_split': 2, 'max_depth': 20, 'min_samples_leaf': 2}\n",
      "mean: 0.69809, std: 0.00137, params: {'min_samples_split': 3, 'max_depth': 20, 'min_samples_leaf': 2}\n",
      "mean: 0.69809, std: 0.00137, params: {'min_samples_split': 4, 'max_depth': 20, 'min_samples_leaf': 2}\n",
      "mean: 0.67325, std: 0.00263, params: {'min_samples_split': 2, 'max_depth': 22, 'min_samples_leaf': 1}\n",
      "mean: 0.67635, std: 0.00332, params: {'min_samples_split': 3, 'max_depth': 22, 'min_samples_leaf': 1}\n",
      "mean: 0.68352, std: 0.00499, params: {'min_samples_split': 4, 'max_depth': 22, 'min_samples_leaf': 1}\n",
      "mean: 0.69272, std: 0.00129, params: {'min_samples_split': 2, 'max_depth': 22, 'min_samples_leaf': 2}\n",
      "mean: 0.69272, std: 0.00129, params: {'min_samples_split': 3, 'max_depth': 22, 'min_samples_leaf': 2}\n",
      "mean: 0.69251, std: 0.00316, params: {'min_samples_split': 4, 'max_depth': 22, 'min_samples_leaf': 2}\n",
      "mean: 0.67040, std: 0.00278, params: {'min_samples_split': 2, 'max_depth': 24, 'min_samples_leaf': 1}\n",
      "mean: 0.67374, std: 0.00321, params: {'min_samples_split': 3, 'max_depth': 24, 'min_samples_leaf': 1}\n",
      "mean: 0.67952, std: 0.00357, params: {'min_samples_split': 4, 'max_depth': 24, 'min_samples_leaf': 1}\n",
      "mean: 0.68953, std: 0.00179, params: {'min_samples_split': 2, 'max_depth': 24, 'min_samples_leaf': 2}\n",
      "mean: 0.68906, std: 0.00229, params: {'min_samples_split': 3, 'max_depth': 24, 'min_samples_leaf': 2}\n",
      "mean: 0.68924, std: 0.00267, params: {'min_samples_split': 4, 'max_depth': 24, 'min_samples_leaf': 2}\n",
      "mean: 0.66676, std: 0.00260, params: {'min_samples_split': 2, 'max_depth': None, 'min_samples_leaf': 1}\n",
      "mean: 0.67063, std: 0.00341, params: {'min_samples_split': 3, 'max_depth': None, 'min_samples_leaf': 1}\n",
      "mean: 0.67589, std: 0.00371, params: {'min_samples_split': 4, 'max_depth': None, 'min_samples_leaf': 1}\n",
      "mean: 0.68536, std: 0.00320, params: {'min_samples_split': 2, 'max_depth': None, 'min_samples_leaf': 2}\n",
      "mean: 0.68639, std: 0.00236, params: {'min_samples_split': 3, 'max_depth': None, 'min_samples_leaf': 2}\n",
      "mean: 0.68639, std: 0.00236, params: {'min_samples_split': 4, 'max_depth': None, 'min_samples_leaf': 2}\n"
     ]
    }
   ],
   "source": [
    "for score in clf_grid.grid_scores_:\n",
    "    print score"
   ]
  },
  {
   "cell_type": "code",
   "execution_count": 15,
   "metadata": {
    "collapsed": false
   },
   "outputs": [
    {
     "data": {
      "text/plain": [
       "{'max_depth': 10, 'min_samples_leaf': 2, 'min_samples_split': 2}"
      ]
     },
     "execution_count": 15,
     "metadata": {},
     "output_type": "execute_result"
    }
   ],
   "source": [
    "clf_grid.best_params_"
   ]
  },
  {
   "cell_type": "code",
   "execution_count": 16,
   "metadata": {
    "collapsed": false
   },
   "outputs": [
    {
     "data": {
      "text/plain": [
       "0.79506822670199506"
      ]
     },
     "execution_count": 16,
     "metadata": {},
     "output_type": "execute_result"
    }
   ],
   "source": [
    "clf_grid.best_score_"
   ]
  },
  {
   "cell_type": "code",
   "execution_count": 17,
   "metadata": {
    "collapsed": true
   },
   "outputs": [],
   "source": [
    "decision_tree_best = clf_grid.best_estimator_"
   ]
  },
  {
   "cell_type": "code",
   "execution_count": 19,
   "metadata": {
    "collapsed": false
   },
   "outputs": [
    {
     "data": {
      "text/plain": [
       "['decision_tree_best_june29/decision_tree_best.pkl',\n",
       " 'decision_tree_best_june29/decision_tree_best.pkl_01.npy',\n",
       " 'decision_tree_best_june29/decision_tree_best.pkl_02.npy',\n",
       " 'decision_tree_best_june29/decision_tree_best.pkl_03.npy',\n",
       " 'decision_tree_best_june29/decision_tree_best.pkl_04.npy']"
      ]
     },
     "execution_count": 19,
     "metadata": {},
     "output_type": "execute_result"
    }
   ],
   "source": [
    "from sklearn.externals import joblib\n",
    "joblib.dump(decision_tree_best, 'decision_tree_best_june29/decision_tree_best.pkl') "
   ]
  }
 ],
 "metadata": {
  "kernelspec": {
   "display_name": "Python 2",
   "language": "python",
   "name": "python2"
  },
  "language_info": {
   "codemirror_mode": {
    "name": "ipython",
    "version": 2
   },
   "file_extension": ".py",
   "mimetype": "text/x-python",
   "name": "python",
   "nbconvert_exporter": "python",
   "pygments_lexer": "ipython2",
   "version": "2.7.10"
  }
 },
 "nbformat": 4,
 "nbformat_minor": 0
}
