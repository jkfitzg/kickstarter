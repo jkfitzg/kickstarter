{
 "cells": [
  {
   "cell_type": "code",
   "execution_count": 1,
   "metadata": {
    "collapsed": false
   },
   "outputs": [
    {
     "name": "stdout",
     "output_type": "stream",
     "text": [
      "Populating the interactive namespace from numpy and matplotlib\n"
     ]
    }
   ],
   "source": [
    "%pylab inline\n",
    "%matplotlib inline\n",
    "import pandas as pd\n",
    "import numpy as np\n",
    "from sklearn.feature_extraction.text import TfidfVectorizer\n",
    "from sklearn.linear_model import LogisticRegression\n",
    "from sklearn.metrics import roc_curve, auc\n",
    "from sklearn import grid_search\n",
    "\n",
    "import seaborn as sns\n",
    "sns.set_context('talk')\n",
    "sns.set_style('darkgrid') \n",
    "\n",
    "rcParams['figure.figsize'] = (8.0, 6.0)"
   ]
  },
  {
   "cell_type": "code",
   "execution_count": 2,
   "metadata": {
    "collapsed": false
   },
   "outputs": [],
   "source": [
    "def plotROCCurve(y_test, prediction_prob):\n",
    "    fpr, tpr, thresholds = roc_curve(y_test, prediction_prob[:,1])\n",
    "    roc_auc = auc(fpr, tpr)\n",
    "    plot(fpr, tpr, label='ROC curve (area = %0.2f)' % roc_auc)\n",
    "    plot([0, 1], [0, 1], 'k--')\n",
    "    xlabel('False Positive Rate')\n",
    "    ylabel('True Positive Rate')\n",
    "    plt.legend(bbox_to_anchor=(0.9, 0.2),\n",
    "               bbox_transform=plt.gcf().transFigure)\n",
    "    savefig('logistic_regression_aucroc.png', bbox_inches='tight', dpi=150)"
   ]
  },
  {
   "cell_type": "code",
   "execution_count": 3,
   "metadata": {
    "collapsed": false
   },
   "outputs": [
    {
     "data": {
      "text/html": [
       "<div style=\"max-height:1000px;max-width:1500px;overflow:auto;\">\n",
       "<table border=\"1\" class=\"dataframe\">\n",
       "  <thead>\n",
       "    <tr style=\"text-align: right;\">\n",
       "      <th></th>\n",
       "      <th>date_posted</th>\n",
       "      <th>funding_status</th>\n",
       "      <th>essay</th>\n",
       "      <th>project_resource_type</th>\n",
       "    </tr>\n",
       "    <tr>\n",
       "      <th>_projectid</th>\n",
       "      <th></th>\n",
       "      <th></th>\n",
       "      <th></th>\n",
       "      <th></th>\n",
       "    </tr>\n",
       "  </thead>\n",
       "  <tbody>\n",
       "    <tr>\n",
       "      <th>\"00000ce845c00cbf0686c992fc369df4\"</th>\n",
       "      <td> 2013-02-02 00:00:00</td>\n",
       "      <td> completed</td>\n",
       "      <td> \"Find a way or make one. That's our class mott...</td>\n",
       "      <td> Technology</td>\n",
       "    </tr>\n",
       "    <tr>\n",
       "      <th>\"0000954e7c49ebfbcd91ed9052070bee\"</th>\n",
       "      <td> 2013-10-03 00:00:00</td>\n",
       "      <td>   expired</td>\n",
       "      <td> \"Isn't it more fun to have hands on activities...</td>\n",
       "      <td>   Supplies</td>\n",
       "    </tr>\n",
       "    <tr>\n",
       "      <th>\"0000fe73a95dae43c4bd72a142760efb\"</th>\n",
       "      <td> 2014-08-24 00:00:00</td>\n",
       "      <td> completed</td>\n",
       "      <td> \"My students learn by playing! Clarinet and ob...</td>\n",
       "      <td>   Supplies</td>\n",
       "    </tr>\n",
       "    <tr>\n",
       "      <th>\"00014d8302ca2cc1460f11e6acc12b76\"</th>\n",
       "      <td> 2013-09-13 00:00:00</td>\n",
       "      <td> completed</td>\n",
       "      <td> \"Do you remember the first time you hit the ke...</td>\n",
       "      <td> Technology</td>\n",
       "    </tr>\n",
       "    <tr>\n",
       "      <th>\"00016efa41348375e57a3bc1270114f9\"</th>\n",
       "      <td> 2013-08-04 00:00:00</td>\n",
       "      <td> completed</td>\n",
       "      <td> \"Remember the first time you touched a frog? O...</td>\n",
       "      <td>      Other</td>\n",
       "    </tr>\n",
       "  </tbody>\n",
       "</table>\n",
       "</div>"
      ],
      "text/plain": [
       "                                            date_posted funding_status  \\\n",
       "_projectid                                                               \n",
       "\"00000ce845c00cbf0686c992fc369df4\"  2013-02-02 00:00:00      completed   \n",
       "\"0000954e7c49ebfbcd91ed9052070bee\"  2013-10-03 00:00:00        expired   \n",
       "\"0000fe73a95dae43c4bd72a142760efb\"  2014-08-24 00:00:00      completed   \n",
       "\"00014d8302ca2cc1460f11e6acc12b76\"  2013-09-13 00:00:00      completed   \n",
       "\"00016efa41348375e57a3bc1270114f9\"  2013-08-04 00:00:00      completed   \n",
       "\n",
       "                                                                                essay  \\\n",
       "_projectid                                                                              \n",
       "\"00000ce845c00cbf0686c992fc369df4\"  \"Find a way or make one. That's our class mott...   \n",
       "\"0000954e7c49ebfbcd91ed9052070bee\"  \"Isn't it more fun to have hands on activities...   \n",
       "\"0000fe73a95dae43c4bd72a142760efb\"  \"My students learn by playing! Clarinet and ob...   \n",
       "\"00014d8302ca2cc1460f11e6acc12b76\"  \"Do you remember the first time you hit the ke...   \n",
       "\"00016efa41348375e57a3bc1270114f9\"  \"Remember the first time you touched a frog? O...   \n",
       "\n",
       "                                   project_resource_type  \n",
       "_projectid                                                \n",
       "\"00000ce845c00cbf0686c992fc369df4\"            Technology  \n",
       "\"0000954e7c49ebfbcd91ed9052070bee\"              Supplies  \n",
       "\"0000fe73a95dae43c4bd72a142760efb\"              Supplies  \n",
       "\"00014d8302ca2cc1460f11e6acc12b76\"            Technology  \n",
       "\"00016efa41348375e57a3bc1270114f9\"                 Other  "
      ]
     },
     "execution_count": 3,
     "metadata": {},
     "output_type": "execute_result"
    }
   ],
   "source": [
    "data = pd.read_csv('processed_data_06-20-15.csv', index_col=0)\n",
    "data.head()"
   ]
  },
  {
   "cell_type": "code",
   "execution_count": 4,
   "metadata": {
    "collapsed": false
   },
   "outputs": [
    {
     "name": "stdout",
     "output_type": "stream",
     "text": [
      "n_funded essays: 179348\n",
      "n_expired essays: 60988\n"
     ]
    }
   ],
   "source": [
    "print 'n_funded essays:', (data['funding_status']=='completed').sum()\n",
    "print 'n_expired essays:', (data['funding_status']=='expired').sum()"
   ]
  },
  {
   "cell_type": "code",
   "execution_count": 5,
   "metadata": {
    "collapsed": false
   },
   "outputs": [],
   "source": [
    "# split data into training/test and vectorize essays\n",
    "\n",
    "funding_map = {'completed':1, 'expired':0}\n",
    "\n",
    "msk = np.random.rand(len(data)) < 0.9\n",
    "train = data[msk]\n",
    "test = data[~msk]\n",
    "\n",
    "vectorizer = TfidfVectorizer(min_df=1, ngram_range=(1, 1), stop_words='english', max_features=4000)\n",
    "\n",
    "X_train = vectorizer.fit_transform(train['essay'])\n",
    "y_train = train['funding_status'].map(funding_map)\n",
    "\n",
    "X_test = vectorizer.transform(test['essay'])\n",
    "y_test = test['funding_status'].map(funding_map)"
   ]
  },
  {
   "cell_type": "code",
   "execution_count": 6,
   "metadata": {
    "collapsed": true
   },
   "outputs": [],
   "source": [
    "C = [1e-4, 1e-3, 1e-2, 1e-1, 1, 1e2, 1e3, 1e4]\n",
    "param_grid = {'penalty':['l1', 'l2'], 'C': C}"
   ]
  },
  {
   "cell_type": "code",
   "execution_count": 7,
   "metadata": {
    "collapsed": false
   },
   "outputs": [],
   "source": [
    "logistic_regressions = grid_search.GridSearchCV(LogisticRegression(class_weight='auto'), cv=5, \n",
    "                                                param_grid=param_grid, scoring='roc_auc', \n",
    "                                                n_jobs=-1, verbose=1)"
   ]
  },
  {
   "cell_type": "code",
   "execution_count": 8,
   "metadata": {
    "collapsed": false
   },
   "outputs": [],
   "source": [
    "logistic_regressions.fit(X_train, y_train)"
   ]
  },
  {
   "cell_type": "code",
   "execution_count": 9,
   "metadata": {
    "collapsed": false
   },
   "outputs": [],
   "source": [
    "for score in logistic_regressions.grid_scores_:\n",
    "    print score"
   ]
  },
  {
   "cell_type": "code",
   "execution_count": 10,
   "metadata": {
    "collapsed": false
   },
   "outputs": [],
   "source": [
    "logistic_regressions.best_params_"
   ]
  },
  {
   "cell_type": "code",
   "execution_count": 11,
   "metadata": {
    "collapsed": false
   },
   "outputs": [],
   "source": [
    "logistic_regressions.best_score_"
   ]
  },
  {
   "cell_type": "code",
   "execution_count": 12,
   "metadata": {
    "collapsed": false
   },
   "outputs": [],
   "source": [
    "plotROCCurve(y_test, logistic_regressions.predict_proba(X_test))"
   ]
  },
  {
   "cell_type": "code",
   "execution_count": null,
   "metadata": {
    "collapsed": true
   },
   "outputs": [],
   "source": []
  }
 ],
 "metadata": {
  "kernelspec": {
   "display_name": "Python 2",
   "language": "python",
   "name": "python2"
  },
  "language_info": {
   "codemirror_mode": {
    "name": "ipython",
    "version": 2
   },
   "file_extension": ".py",
   "mimetype": "text/x-python",
   "name": "python",
   "nbconvert_exporter": "python",
   "pygments_lexer": "ipython2",
   "version": "2.7.10"
  }
 },
 "nbformat": 4,
 "nbformat_minor": 0
}
