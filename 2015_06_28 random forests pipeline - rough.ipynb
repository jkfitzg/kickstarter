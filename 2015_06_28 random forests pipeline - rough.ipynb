{
 "cells": [
  {
   "cell_type": "code",
   "execution_count": 2,
   "metadata": {
    "collapsed": false
   },
   "outputs": [],
   "source": [
    "import pandas as pd\n",
    "import numpy as np\n",
    "from sklearn.ensemble import RandomForestClassifier\n",
    "from sklearn.metrics import roc_curve, auc\n",
    "from sklearn import grid_search\n",
    "from sklearn import cross_validation\n",
    "\n",
    "import seaborn as sns\n",
    "sns.set_style('whitegrid') "
   ]
  },
  {
   "cell_type": "code",
   "execution_count": 5,
   "metadata": {
    "collapsed": false
   },
   "outputs": [
    {
     "name": "stdout",
     "output_type": "stream",
     "text": [
      "None\n"
     ]
    }
   ],
   "source": [
    "from plot_roc_with_cv import *\n",
    "%load_ext autoreload\n",
    "%autoreload 2"
   ]
  },
  {
   "cell_type": "code",
   "execution_count": 4,
   "metadata": {
    "collapsed": true
   },
   "outputs": [],
   "source": [
    "saveas_path = '/Users/jamie/insight_data/figures'"
   ]
  },
  {
   "cell_type": "code",
   "execution_count": 6,
   "metadata": {
    "collapsed": true
   },
   "outputs": [],
   "source": [
    "%matplotlib qt"
   ]
  },
  {
   "cell_type": "code",
   "execution_count": 23,
   "metadata": {
    "collapsed": false
   },
   "outputs": [
    {
     "name": "stdout",
     "output_type": "stream",
     "text": [
      "Built-in functions, exceptions, and other objects.\n",
      "\n",
      "Noteworthy: None is the `nil' object; Ellipsis represents `...' in slices.\n",
      "(115196,)\n"
     ]
    }
   ],
   "source": [
    "plot_roc_with_cv()"
   ]
  },
  {
   "cell_type": "code",
   "execution_count": 27,
   "metadata": {
    "collapsed": false
   },
   "outputs": [],
   "source": [
    "fig = plt.gcf()\n",
    "fig.set_size_inches(6,6)"
   ]
  },
  {
   "cell_type": "code",
   "execution_count": 29,
   "metadata": {
    "collapsed": false
   },
   "outputs": [
    {
     "data": {
      "text/plain": [
       "<matplotlib.text.Text at 0x1173ac810>"
      ]
     },
     "execution_count": 29,
     "metadata": {},
     "output_type": "execute_result"
    }
   ],
   "source": [
    "plt.title('Receiver operating characteristic')"
   ]
  },
  {
   "cell_type": "code",
   "execution_count": 30,
   "metadata": {
    "collapsed": true
   },
   "outputs": [],
   "source": [
    "plt.savefig(saveas_path + 'random forests roc with cv.png',bbox_inches='tight',dpi=400) "
   ]
  },
  {
   "cell_type": "code",
   "execution_count": 7,
   "metadata": {
    "collapsed": true
   },
   "outputs": [],
   "source": [
    "X_df = pd.read_pickle('new_X_df.save')\n",
    "outcomes_df = pd.read_pickle('new_outcomes_df.save')"
   ]
  },
  {
   "cell_type": "code",
   "execution_count": 9,
   "metadata": {
    "collapsed": true
   },
   "outputs": [],
   "source": [
    "X_train, X_test, y_train, y_test = \\\n",
    "    cross_validation.train_test_split(X_df, outcomes_df['Outcome'].values, \\\n",
    "                                      test_size=0.25, random_state=0)"
   ]
  },
  {
   "cell_type": "code",
   "execution_count": 14,
   "metadata": {
    "collapsed": false
   },
   "outputs": [
    {
     "data": {
      "text/plain": [
       "Pipeline(steps=[('feature_selection', LinearSVC(C=1.0, class_weight=None, dual=True, fit_intercept=True,\n",
       "     intercept_scaling=1, loss='squared_hinge', max_iter=1000,\n",
       "     multi_class='ovr', penalty='l2', random_state=None, tol=0.0001,\n",
       "     verbose=0)), ('classification', RandomForestClassifier(bootstrap=Tr...n_jobs=1,\n",
       "            oob_score=False, random_state=None, verbose=0,\n",
       "            warm_start=False))])"
      ]
     },
     "execution_count": 14,
     "metadata": {},
     "output_type": "execute_result"
    }
   ],
   "source": [
    "# from sklearn.pipeline import Pipeline\n",
    "# from sklearn.svm import LinearSVC\n",
    "\n",
    "# clf = Pipeline([\n",
    "#   ('feature_selection', LinearSVC()),\n",
    "#   ('classification', RandomForestClassifier())\n",
    "# ])\n",
    "# clf.fit(X_train, y_train)"
   ]
  },
  {
   "cell_type": "code",
   "execution_count": 42,
   "metadata": {
    "collapsed": true
   },
   "outputs": [],
   "source": [
    "# parameters here -http://scikit-learn.org/stable/modules/generated/sklearn.ensemble.RandomForestClassifier.html\n",
    "from sklearn.ensemble import RandomForestClassifier\n",
    "clf = RandomForestClassifier(n_estimators=600, max_depth=20, n_jobs=-1)\n",
    "clf.fit(X_train,y_train)\n",
    "y_1 = clf.predict(X_test)"
   ]
  },
  {
   "cell_type": "code",
   "execution_count": 43,
   "metadata": {
    "collapsed": false
   },
   "outputs": [
    {
     "name": "stdout",
     "output_type": "stream",
     "text": [
      "accuracy =  0.7665\n"
     ]
    }
   ],
   "source": [
    "print 'accuracy = ', round(clf.score(X_test,y_test),4)"
   ]
  },
  {
   "cell_type": "code",
   "execution_count": 44,
   "metadata": {
    "collapsed": false
   },
   "outputs": [
    {
     "data": {
      "text/plain": [
       "0.75674133632712559"
      ]
     },
     "execution_count": 44,
     "metadata": {},
     "output_type": "execute_result"
    }
   ],
   "source": [
    "metrics.roc_auc_score(y_test, y_1)"
   ]
  },
  {
   "cell_type": "code",
   "execution_count": 45,
   "metadata": {
    "collapsed": false
   },
   "outputs": [
    {
     "data": {
      "text/plain": [
       "(array([ 0.79404796,  0.72507395]),\n",
       " array([ 0.81302881,  0.70045386]),\n",
       " array([ 0.8034263,  0.7125513]),\n",
       " array([16901, 11898]))"
      ]
     },
     "execution_count": 45,
     "metadata": {},
     "output_type": "execute_result"
    }
   ],
   "source": [
    "from sklearn import metrics\n",
    "metrics.precision_recall_fscore_support(y_test,y_1)"
   ]
  },
  {
   "cell_type": "code",
   "execution_count": 66,
   "metadata": {
    "collapsed": true
   },
   "outputs": [],
   "source": [
    "rf = RandomForestClassifier()\n",
    "# parameters = {'n_estimators':[100,200,400],\n",
    "#               'max_depth':[5,7]}\n",
    "\n",
    "parameters = {'n_estimators':[100,200,300,400,600,800],\n",
    "              'max_depth':[5,6,7,8,9,10,12,14,16,18,20,22,24]}"
   ]
  },
  {
   "cell_type": "code",
   "execution_count": 69,
   "metadata": {
    "collapsed": false
   },
   "outputs": [],
   "source": [
    "clf_grid = grid_search.GridSearchCV(rf,param_grid=parameters,\\\n",
    "                            scoring='roc_auc',n_jobs=-1, verbose=1)"
   ]
  },
  {
   "cell_type": "code",
   "execution_count": 70,
   "metadata": {
    "collapsed": false
   },
   "outputs": [
    {
     "name": "stdout",
     "output_type": "stream",
     "text": [
      "Fitting 3 folds for each of 78 candidates, totalling 234 fits\n"
     ]
    },
    {
     "name": "stderr",
     "output_type": "stream",
     "text": [
      "[Parallel(n_jobs=-1)]: Done   1 jobs       | elapsed:    5.8s\n",
      "[Parallel(n_jobs=-1)]: Done  50 jobs       | elapsed:  3.2min\n",
      "[Parallel(n_jobs=-1)]: Done 200 jobs       | elapsed: 18.4min\n",
      "[Parallel(n_jobs=-1)]: Done 234 out of 234 | elapsed: 24.9min finished\n"
     ]
    },
    {
     "data": {
      "text/plain": [
       "GridSearchCV(cv=None, error_score='raise',\n",
       "       estimator=RandomForestClassifier(bootstrap=True, class_weight=None, criterion='gini',\n",
       "            max_depth=None, max_features='auto', max_leaf_nodes=None,\n",
       "            min_samples_leaf=1, min_samples_split=2,\n",
       "            min_weight_fraction_leaf=0.0, n_estimators=10, n_jobs=1,\n",
       "            oob_score=False, random_state=None, verbose=0,\n",
       "            warm_start=False),\n",
       "       fit_params={}, iid=True, loss_func=None, n_jobs=-1,\n",
       "       param_grid={'n_estimators': [100, 200, 300, 400, 600, 800], 'max_depth': [5, 6, 7, 8, 9, 10, 12, 14, 16, 18, 20, 22, 24]},\n",
       "       pre_dispatch='2*n_jobs', refit=True, score_func=None,\n",
       "       scoring='roc_auc', verbose=1)"
      ]
     },
     "execution_count": 70,
     "metadata": {},
     "output_type": "execute_result"
    }
   ],
   "source": [
    "clf_grid.fit(X_train, y_train)"
   ]
  },
  {
   "cell_type": "code",
   "execution_count": 101,
   "metadata": {
    "collapsed": false
   },
   "outputs": [
    {
     "name": "stdout",
     "output_type": "stream",
     "text": [
      "mean: 0.81104, std: 0.00149, params: {'n_estimators': 100, 'max_depth': 5}\n",
      "mean: 0.81333, std: 0.00067, params: {'n_estimators': 200, 'max_depth': 5}\n",
      "mean: 0.81265, std: 0.00060, params: {'n_estimators': 300, 'max_depth': 5}\n",
      "mean: 0.81205, std: 0.00023, params: {'n_estimators': 400, 'max_depth': 5}\n",
      "mean: 0.81101, std: 0.00059, params: {'n_estimators': 600, 'max_depth': 5}\n",
      "mean: 0.81076, std: 0.00066, params: {'n_estimators': 800, 'max_depth': 5}\n",
      "mean: 0.81719, std: 0.00085, params: {'n_estimators': 100, 'max_depth': 6}\n",
      "mean: 0.81655, std: 0.00084, params: {'n_estimators': 200, 'max_depth': 6}\n",
      "mean: 0.81730, std: 0.00071, params: {'n_estimators': 300, 'max_depth': 6}\n",
      "mean: 0.81859, std: 0.00098, params: {'n_estimators': 400, 'max_depth': 6}\n",
      "mean: 0.81929, std: 0.00105, params: {'n_estimators': 600, 'max_depth': 6}\n",
      "mean: 0.81869, std: 0.00102, params: {'n_estimators': 800, 'max_depth': 6}\n",
      "mean: 0.82454, std: 0.00079, params: {'n_estimators': 100, 'max_depth': 7}\n",
      "mean: 0.82392, std: 0.00061, params: {'n_estimators': 200, 'max_depth': 7}\n",
      "mean: 0.82380, std: 0.00053, params: {'n_estimators': 300, 'max_depth': 7}\n",
      "mean: 0.82423, std: 0.00082, params: {'n_estimators': 400, 'max_depth': 7}\n",
      "mean: 0.82391, std: 0.00121, params: {'n_estimators': 600, 'max_depth': 7}\n",
      "mean: 0.82379, std: 0.00099, params: {'n_estimators': 800, 'max_depth': 7}\n",
      "mean: 0.82738, std: 0.00103, params: {'n_estimators': 100, 'max_depth': 8}\n",
      "mean: 0.82771, std: 0.00067, params: {'n_estimators': 200, 'max_depth': 8}\n",
      "mean: 0.82812, std: 0.00078, params: {'n_estimators': 300, 'max_depth': 8}\n",
      "mean: 0.82843, std: 0.00077, params: {'n_estimators': 400, 'max_depth': 8}\n",
      "mean: 0.82846, std: 0.00064, params: {'n_estimators': 600, 'max_depth': 8}\n",
      "mean: 0.82826, std: 0.00073, params: {'n_estimators': 800, 'max_depth': 8}\n",
      "mean: 0.83115, std: 0.00147, params: {'n_estimators': 100, 'max_depth': 9}\n",
      "mean: 0.83237, std: 0.00066, params: {'n_estimators': 200, 'max_depth': 9}\n",
      "mean: 0.83194, std: 0.00074, params: {'n_estimators': 300, 'max_depth': 9}\n",
      "mean: 0.83242, std: 0.00087, params: {'n_estimators': 400, 'max_depth': 9}\n",
      "mean: 0.83258, std: 0.00073, params: {'n_estimators': 600, 'max_depth': 9}\n",
      "mean: 0.83257, std: 0.00076, params: {'n_estimators': 800, 'max_depth': 9}\n",
      "mean: 0.83452, std: 0.00084, params: {'n_estimators': 100, 'max_depth': 10}\n",
      "mean: 0.83523, std: 0.00078, params: {'n_estimators': 200, 'max_depth': 10}\n",
      "mean: 0.83559, std: 0.00056, params: {'n_estimators': 300, 'max_depth': 10}\n",
      "mean: 0.83563, std: 0.00063, params: {'n_estimators': 400, 'max_depth': 10}\n",
      "mean: 0.83576, std: 0.00049, params: {'n_estimators': 600, 'max_depth': 10}\n",
      "mean: 0.83580, std: 0.00058, params: {'n_estimators': 800, 'max_depth': 10}\n",
      "mean: 0.83893, std: 0.00053, params: {'n_estimators': 100, 'max_depth': 12}\n",
      "mean: 0.84039, std: 0.00029, params: {'n_estimators': 200, 'max_depth': 12}\n",
      "mean: 0.84028, std: 0.00024, params: {'n_estimators': 300, 'max_depth': 12}\n",
      "mean: 0.84020, std: 0.00038, params: {'n_estimators': 400, 'max_depth': 12}\n",
      "mean: 0.84026, std: 0.00050, params: {'n_estimators': 600, 'max_depth': 12}\n",
      "mean: 0.84042, std: 0.00045, params: {'n_estimators': 800, 'max_depth': 12}\n",
      "mean: 0.84175, std: 0.00016, params: {'n_estimators': 100, 'max_depth': 14}\n",
      "mean: 0.84260, std: 0.00050, params: {'n_estimators': 200, 'max_depth': 14}\n",
      "mean: 0.84324, std: 0.00038, params: {'n_estimators': 300, 'max_depth': 14}\n",
      "mean: 0.84338, std: 0.00032, params: {'n_estimators': 400, 'max_depth': 14}\n",
      "mean: 0.84334, std: 0.00028, params: {'n_estimators': 600, 'max_depth': 14}\n",
      "mean: 0.84347, std: 0.00030, params: {'n_estimators': 800, 'max_depth': 14}\n",
      "mean: 0.84276, std: 0.00020, params: {'n_estimators': 100, 'max_depth': 16}\n",
      "mean: 0.84410, std: 0.00033, params: {'n_estimators': 200, 'max_depth': 16}\n",
      "mean: 0.84437, std: 0.00031, params: {'n_estimators': 300, 'max_depth': 16}\n",
      "mean: 0.84468, std: 0.00012, params: {'n_estimators': 400, 'max_depth': 16}\n",
      "mean: 0.84488, std: 0.00016, params: {'n_estimators': 600, 'max_depth': 16}\n",
      "mean: 0.84495, std: 0.00024, params: {'n_estimators': 800, 'max_depth': 16}\n",
      "mean: 0.84334, std: 0.00014, params: {'n_estimators': 100, 'max_depth': 18}\n",
      "mean: 0.84461, std: 0.00025, params: {'n_estimators': 200, 'max_depth': 18}\n",
      "mean: 0.84493, std: 0.00006, params: {'n_estimators': 300, 'max_depth': 18}\n",
      "mean: 0.84507, std: 0.00017, params: {'n_estimators': 400, 'max_depth': 18}\n",
      "mean: 0.84556, std: 0.00032, params: {'n_estimators': 600, 'max_depth': 18}\n",
      "mean: 0.84575, std: 0.00033, params: {'n_estimators': 800, 'max_depth': 18}\n",
      "mean: 0.84273, std: 0.00044, params: {'n_estimators': 100, 'max_depth': 20}\n",
      "mean: 0.84448, std: 0.00025, params: {'n_estimators': 200, 'max_depth': 20}\n",
      "mean: 0.84490, std: 0.00023, params: {'n_estimators': 300, 'max_depth': 20}\n",
      "mean: 0.84523, std: 0.00021, params: {'n_estimators': 400, 'max_depth': 20}\n",
      "mean: 0.84572, std: 0.00010, params: {'n_estimators': 600, 'max_depth': 20}\n",
      "mean: 0.84581, std: 0.00009, params: {'n_estimators': 800, 'max_depth': 20}\n",
      "mean: 0.84263, std: 0.00045, params: {'n_estimators': 100, 'max_depth': 22}\n",
      "mean: 0.84426, std: 0.00024, params: {'n_estimators': 200, 'max_depth': 22}\n",
      "mean: 0.84493, std: 0.00025, params: {'n_estimators': 300, 'max_depth': 22}\n",
      "mean: 0.84519, std: 0.00010, params: {'n_estimators': 400, 'max_depth': 22}\n",
      "mean: 0.84573, std: 0.00006, params: {'n_estimators': 600, 'max_depth': 22}\n",
      "mean: 0.84600, std: 0.00009, params: {'n_estimators': 800, 'max_depth': 22}\n",
      "mean: 0.84272, std: 0.00020, params: {'n_estimators': 100, 'max_depth': 24}\n",
      "mean: 0.84411, std: 0.00054, params: {'n_estimators': 200, 'max_depth': 24}\n",
      "mean: 0.84516, std: 0.00037, params: {'n_estimators': 300, 'max_depth': 24}\n",
      "mean: 0.84530, std: 0.00012, params: {'n_estimators': 400, 'max_depth': 24}\n",
      "mean: 0.84562, std: 0.00027, params: {'n_estimators': 600, 'max_depth': 24}\n",
      "mean: 0.84575, std: 0.00022, params: {'n_estimators': 800, 'max_depth': 24}\n"
     ]
    }
   ],
   "source": [
    "# for score in clf_grid.grid_scores_:\n",
    "#     print score"
   ]
  },
  {
   "cell_type": "code",
   "execution_count": 87,
   "metadata": {
    "collapsed": false
   },
   "outputs": [
    {
     "data": {
      "text/plain": [
       "{'max_depth': 22, 'n_estimators': 800}"
      ]
     },
     "execution_count": 87,
     "metadata": {},
     "output_type": "execute_result"
    }
   ],
   "source": [
    "clf_grid.best_params_"
   ]
  },
  {
   "cell_type": "code",
   "execution_count": 88,
   "metadata": {
    "collapsed": false
   },
   "outputs": [
    {
     "data": {
      "text/plain": [
       "0.8459956407894188"
      ]
     },
     "execution_count": 88,
     "metadata": {},
     "output_type": "execute_result"
    }
   ],
   "source": [
    "clf_grid.best_score_"
   ]
  },
  {
   "cell_type": "code",
   "execution_count": 89,
   "metadata": {
    "collapsed": false
   },
   "outputs": [],
   "source": [
    "y_1 = clf_grid.predict(X_test)"
   ]
  },
  {
   "cell_type": "code",
   "execution_count": 96,
   "metadata": {
    "collapsed": true
   },
   "outputs": [],
   "source": [
    "rf_best = clf_grid.best_estimator_"
   ]
  },
  {
   "cell_type": "code",
   "execution_count": 97,
   "metadata": {
    "collapsed": true
   },
   "outputs": [],
   "source": [
    "y_1 = clf_grid.predict(X_test)"
   ]
  },
  {
   "cell_type": "code",
   "execution_count": 98,
   "metadata": {
    "collapsed": false
   },
   "outputs": [
    {
     "data": {
      "text/plain": [
       "0.75796337533611757"
      ]
     },
     "execution_count": 98,
     "metadata": {},
     "output_type": "execute_result"
    }
   ],
   "source": [
    "metrics.roc_auc_score(y_test, y_1) # average='macro',"
   ]
  },
  {
   "cell_type": "code",
   "execution_count": 99,
   "metadata": {
    "collapsed": false
   },
   "outputs": [
    {
     "data": {
      "text/plain": [
       "(array([ 0.794974 ,  0.7266951]),\n",
       " array([ 0.81421218,  0.70171457]),\n",
       " array([ 0.80447809,  0.7139864 ]),\n",
       " array([16901, 11898]))"
      ]
     },
     "execution_count": 99,
     "metadata": {},
     "output_type": "execute_result"
    }
   ],
   "source": [
    "metrics.precision_recall_fscore_support(y_test, y_1)"
   ]
  },
  {
   "cell_type": "code",
   "execution_count": 100,
   "metadata": {
    "collapsed": false
   },
   "outputs": [
    {
     "name": "stdout",
     "output_type": "stream",
     "text": [
      "accuracy =  0.7677\n"
     ]
    }
   ],
   "source": [
    "print 'accuracy = ', round(rf_best.score(X_test,y_test),4)"
   ]
  },
  {
   "cell_type": "code",
   "execution_count": null,
   "metadata": {
    "collapsed": true
   },
   "outputs": [],
   "source": []
  },
  {
   "cell_type": "code",
   "execution_count": null,
   "metadata": {
    "collapsed": true
   },
   "outputs": [],
   "source": []
  },
  {
   "cell_type": "code",
   "execution_count": 92,
   "metadata": {
    "collapsed": false
   },
   "outputs": [],
   "source": [
    "#plotROCCurve(y_test, clf_grid.predict(X_test))"
   ]
  },
  {
   "cell_type": "code",
   "execution_count": 93,
   "metadata": {
    "collapsed": false
   },
   "outputs": [],
   "source": [
    "#from sklearn.externals import joblib\n",
    "#joblib.dump(clf_grid, 'clf_grid_june24am.pkl') "
   ]
  },
  {
   "cell_type": "code",
   "execution_count": null,
   "metadata": {
    "collapsed": true
   },
   "outputs": [],
   "source": []
  }
 ],
 "metadata": {
  "kernelspec": {
   "display_name": "Python 2",
   "language": "python",
   "name": "python2"
  },
  "language_info": {
   "codemirror_mode": {
    "name": "ipython",
    "version": 2
   },
   "file_extension": ".py",
   "mimetype": "text/x-python",
   "name": "python",
   "nbconvert_exporter": "python",
   "pygments_lexer": "ipython2",
   "version": "2.7.10"
  }
 },
 "nbformat": 4,
 "nbformat_minor": 0
}
