{
 "cells": [
  {
   "cell_type": "code",
   "execution_count": 1,
   "metadata": {
    "collapsed": true
   },
   "outputs": [],
   "source": [
    "# load predictors (X_df), outcomes_df (success/fail, later try regression)\n",
    "# run cross-validated random forests, training, test, metrics\n",
    "# then extend to other models"
   ]
  },
  {
   "cell_type": "code",
   "execution_count": 2,
   "metadata": {
    "collapsed": false
   },
   "outputs": [],
   "source": [
    "import pandas as pd\n",
    "import numpy as np\n",
    "import matplotlib.pyplot as plt\n",
    "import math as math\n",
    "from IPython.display import display\n",
    "from IPython.core.pylabtools import getfigs\n",
    "from sklearn import linear_model \n",
    "import time\n",
    "import pymysql as mdb\n",
    "import re"
   ]
  },
  {
   "cell_type": "code",
   "execution_count": 3,
   "metadata": {
    "collapsed": true
   },
   "outputs": [],
   "source": [
    "%matplotlib qt"
   ]
  },
  {
   "cell_type": "code",
   "execution_count": 4,
   "metadata": {
    "collapsed": false
   },
   "outputs": [],
   "source": [
    "from prep_predictors_for_ml import *\n",
    "%load_ext autoreload\n",
    "%autoreload 2"
   ]
  },
  {
   "cell_type": "code",
   "execution_count": 13,
   "metadata": {
    "collapsed": true
   },
   "outputs": [],
   "source": [
    "saveas_path = '/Users/jamie/insight data/figures/'"
   ]
  },
  {
   "cell_type": "code",
   "execution_count": 23,
   "metadata": {
    "collapsed": true
   },
   "outputs": [],
   "source": [
    "X_df = pd.read_pickle('X_df.save')"
   ]
  },
  {
   "cell_type": "code",
   "execution_count": 24,
   "metadata": {
    "collapsed": false
   },
   "outputs": [
    {
     "data": {
      "text/html": [
       "<div style=\"max-height:1000px;max-width:1500px;overflow:auto;\">\n",
       "<table border=\"1\" class=\"dataframe\">\n",
       "  <thead>\n",
       "    <tr style=\"text-align: right;\">\n",
       "      <th></th>\n",
       "      <th>Goal</th>\n",
       "      <th>Campaign_days</th>\n",
       "      <th>Title_n_words</th>\n",
       "      <th>Blurb_n_words</th>\n",
       "      <th>Hour</th>\n",
       "      <th>N_rewards</th>\n",
       "      <th>Min_reward</th>\n",
       "      <th>Median_reward</th>\n",
       "      <th>Max_reward</th>\n",
       "      <th>Reward_ship_days</th>\n",
       "      <th>...</th>\n",
       "      <th>14h</th>\n",
       "      <th>15h</th>\n",
       "      <th>16h</th>\n",
       "      <th>17h</th>\n",
       "      <th>18h</th>\n",
       "      <th>19h</th>\n",
       "      <th>20h</th>\n",
       "      <th>21h</th>\n",
       "      <th>22h</th>\n",
       "      <th>23h</th>\n",
       "    </tr>\n",
       "  </thead>\n",
       "  <tbody>\n",
       "    <tr>\n",
       "      <th>0</th>\n",
       "      <td>5000</td>\n",
       "      <td>30</td>\n",
       "      <td>2</td>\n",
       "      <td>17</td>\n",
       "      <td>20</td>\n",
       "      <td>8</td>\n",
       "      <td>10</td>\n",
       "      <td>175</td>\n",
       "      <td>5000</td>\n",
       "      <td>110</td>\n",
       "      <td>...</td>\n",
       "      <td>0</td>\n",
       "      <td>0</td>\n",
       "      <td>0</td>\n",
       "      <td>0</td>\n",
       "      <td>0</td>\n",
       "      <td>0</td>\n",
       "      <td>1</td>\n",
       "      <td>0</td>\n",
       "      <td>0</td>\n",
       "      <td>0</td>\n",
       "    </tr>\n",
       "    <tr>\n",
       "      <th>1</th>\n",
       "      <td>10000</td>\n",
       "      <td>30</td>\n",
       "      <td>8</td>\n",
       "      <td>21</td>\n",
       "      <td>14</td>\n",
       "      <td>10</td>\n",
       "      <td>5</td>\n",
       "      <td>125</td>\n",
       "      <td>5000</td>\n",
       "      <td>31</td>\n",
       "      <td>...</td>\n",
       "      <td>1</td>\n",
       "      <td>0</td>\n",
       "      <td>0</td>\n",
       "      <td>0</td>\n",
       "      <td>0</td>\n",
       "      <td>0</td>\n",
       "      <td>0</td>\n",
       "      <td>0</td>\n",
       "      <td>0</td>\n",
       "      <td>0</td>\n",
       "    </tr>\n",
       "    <tr>\n",
       "      <th>2</th>\n",
       "      <td>18000</td>\n",
       "      <td>27</td>\n",
       "      <td>5</td>\n",
       "      <td>14</td>\n",
       "      <td>8</td>\n",
       "      <td>19</td>\n",
       "      <td>5</td>\n",
       "      <td>500</td>\n",
       "      <td>10000</td>\n",
       "      <td>4</td>\n",
       "      <td>...</td>\n",
       "      <td>0</td>\n",
       "      <td>0</td>\n",
       "      <td>0</td>\n",
       "      <td>0</td>\n",
       "      <td>0</td>\n",
       "      <td>0</td>\n",
       "      <td>0</td>\n",
       "      <td>0</td>\n",
       "      <td>0</td>\n",
       "      <td>0</td>\n",
       "    </tr>\n",
       "    <tr>\n",
       "      <th>3</th>\n",
       "      <td>7000</td>\n",
       "      <td>56</td>\n",
       "      <td>5</td>\n",
       "      <td>17</td>\n",
       "      <td>17</td>\n",
       "      <td>8</td>\n",
       "      <td>10</td>\n",
       "      <td>87</td>\n",
       "      <td>1000</td>\n",
       "      <td>56</td>\n",
       "      <td>...</td>\n",
       "      <td>0</td>\n",
       "      <td>0</td>\n",
       "      <td>0</td>\n",
       "      <td>1</td>\n",
       "      <td>0</td>\n",
       "      <td>0</td>\n",
       "      <td>0</td>\n",
       "      <td>0</td>\n",
       "      <td>0</td>\n",
       "      <td>0</td>\n",
       "    </tr>\n",
       "    <tr>\n",
       "      <th>4</th>\n",
       "      <td>8150</td>\n",
       "      <td>30</td>\n",
       "      <td>8</td>\n",
       "      <td>16</td>\n",
       "      <td>11</td>\n",
       "      <td>11</td>\n",
       "      <td>4</td>\n",
       "      <td>42</td>\n",
       "      <td>815</td>\n",
       "      <td>41</td>\n",
       "      <td>...</td>\n",
       "      <td>0</td>\n",
       "      <td>0</td>\n",
       "      <td>0</td>\n",
       "      <td>0</td>\n",
       "      <td>0</td>\n",
       "      <td>0</td>\n",
       "      <td>0</td>\n",
       "      <td>0</td>\n",
       "      <td>0</td>\n",
       "      <td>0</td>\n",
       "    </tr>\n",
       "  </tbody>\n",
       "</table>\n",
       "<p>5 rows × 104 columns</p>\n",
       "</div>"
      ],
      "text/plain": [
       "    Goal Campaign_days Title_n_words Blurb_n_words Hour N_rewards Min_reward  \\\n",
       "0   5000            30             2            17   20         8         10   \n",
       "1  10000            30             8            21   14        10          5   \n",
       "2  18000            27             5            14    8        19          5   \n",
       "3   7000            56             5            17   17         8         10   \n",
       "4   8150            30             8            16   11        11          4   \n",
       "\n",
       "  Median_reward Max_reward Reward_ship_days ...  14h 15h 16h 17h  18h  19h  \\\n",
       "0           175       5000              110 ...    0   0   0   0    0    0   \n",
       "1           125       5000               31 ...    1   0   0   0    0    0   \n",
       "2           500      10000                4 ...    0   0   0   0    0    0   \n",
       "3            87       1000               56 ...    0   0   0   1    0    0   \n",
       "4            42        815               41 ...    0   0   0   0    0    0   \n",
       "\n",
       "   20h  21h  22h  23h  \n",
       "0    1    0    0    0  \n",
       "1    0    0    0    0  \n",
       "2    0    0    0    0  \n",
       "3    0    0    0    0  \n",
       "4    0    0    0    0  \n",
       "\n",
       "[5 rows x 104 columns]"
      ]
     },
     "execution_count": 24,
     "metadata": {},
     "output_type": "execute_result"
    }
   ],
   "source": [
    "X_df.head()"
   ]
  },
  {
   "cell_type": "code",
   "execution_count": 6,
   "metadata": {
    "collapsed": true
   },
   "outputs": [],
   "source": [
    "outcomes_df = pd.read_pickle('outcomes_df.save')"
   ]
  },
  {
   "cell_type": "code",
   "execution_count": 12,
   "metadata": {
    "collapsed": false
   },
   "outputs": [
    {
     "name": "stdout",
     "output_type": "stream",
     "text": [
      "['0h' '10d' '10h' '11d' '11h' '12d' '12h' '13d' '13h' '14d' '14h' '15d'\n",
      " '15h' '16d' '16h' '17d' '17h' '18d' '18h' '19d' '19h' '1d' '1h' '20d'\n",
      " '20h' '21d' '21h' '22d' '22h' '23d' '23h' '24d' '25d' '26d' '27d' '28d'\n",
      " '29d' '2d' '2h' '30d' '31d' '3d' '3h' '4d' '4h' '5d' '5h' '6d' '6h' '7d'\n",
      " '7h' '8d' '8h' '9d' '9h' 'Apr' 'Aug' 'Blurb_n_words' 'Body_n_words'\n",
      " 'Campaign_days' 'Dec' 'Feb' 'Fri' 'Goal' 'Hour' 'Jan' 'Jul' 'Jun' 'Mar'\n",
      " 'Max_reward' 'May' 'Median_reward' 'Min_reward' 'Mon' 'N_creator_backed'\n",
      " 'N_figs' 'N_links' 'N_rewards' 'Nov' 'Oct' 'Reward_ship_days' 'Sat' 'Sep'\n",
      " 'Ships_intn' 'Sun' 'Thu' 'Title_n_words' 'Tue' 'Wed' 'art' 'comics'\n",
      " 'crafts' 'dance' 'design' 'fashion' 'film' 'food' 'games' 'journalism'\n",
      " 'music' 'photography' 'publishing' 'technology' 'theater']\n"
     ]
    }
   ],
   "source": [
    "all_predictors = np.array(X_df.columns)\n",
    "print all_predictors"
   ]
  },
  {
   "cell_type": "code",
   "execution_count": 37,
   "metadata": {
    "collapsed": true
   },
   "outputs": [],
   "source": [
    "from sklearn import cross_validation\n",
    "X_train, X_test, y_train, y_test = \\\n",
    "cross_validation.train_test_split(X_df, outcomes_df['Outcome'].values, test_size=0.25, random_state=0)"
   ]
  },
  {
   "cell_type": "code",
   "execution_count": 38,
   "metadata": {
    "collapsed": false
   },
   "outputs": [
    {
     "data": {
      "text/plain": [
       "(99803, 104)"
      ]
     },
     "execution_count": 38,
     "metadata": {},
     "output_type": "execute_result"
    }
   ],
   "source": [
    "np.shape(X_train)"
   ]
  },
  {
   "cell_type": "code",
   "execution_count": 39,
   "metadata": {
    "collapsed": false
   },
   "outputs": [
    {
     "data": {
      "text/plain": [
       "(99803,)"
      ]
     },
     "execution_count": 39,
     "metadata": {},
     "output_type": "execute_result"
    }
   ],
   "source": [
    "np.shape(y_train)"
   ]
  },
  {
   "cell_type": "code",
   "execution_count": 28,
   "metadata": {
    "collapsed": false
   },
   "outputs": [
    {
     "data": {
      "text/html": [
       "<div style=\"max-height:1000px;max-width:1500px;overflow:auto;\">\n",
       "<table border=\"1\" class=\"dataframe\">\n",
       "  <thead>\n",
       "    <tr style=\"text-align: right;\">\n",
       "      <th></th>\n",
       "      <th>Goal</th>\n",
       "      <th>Campaign_days</th>\n",
       "      <th>Title_n_words</th>\n",
       "      <th>Blurb_n_words</th>\n",
       "      <th>Hour</th>\n",
       "      <th>N_rewards</th>\n",
       "      <th>Min_reward</th>\n",
       "      <th>Median_reward</th>\n",
       "      <th>Max_reward</th>\n",
       "      <th>Reward_ship_days</th>\n",
       "      <th>...</th>\n",
       "      <th>14h</th>\n",
       "      <th>15h</th>\n",
       "      <th>16h</th>\n",
       "      <th>17h</th>\n",
       "      <th>18h</th>\n",
       "      <th>19h</th>\n",
       "      <th>20h</th>\n",
       "      <th>21h</th>\n",
       "      <th>22h</th>\n",
       "      <th>23h</th>\n",
       "    </tr>\n",
       "  </thead>\n",
       "  <tbody>\n",
       "    <tr>\n",
       "      <th>16096</th>\n",
       "      <td>4625</td>\n",
       "      <td>31</td>\n",
       "      <td>9</td>\n",
       "      <td>19</td>\n",
       "      <td>22</td>\n",
       "      <td>9</td>\n",
       "      <td>5</td>\n",
       "      <td>50</td>\n",
       "      <td>1000</td>\n",
       "      <td>132</td>\n",
       "      <td>...</td>\n",
       "      <td>0</td>\n",
       "      <td>0</td>\n",
       "      <td>0</td>\n",
       "      <td>0</td>\n",
       "      <td>0</td>\n",
       "      <td>0</td>\n",
       "      <td>0</td>\n",
       "      <td>0</td>\n",
       "      <td>1</td>\n",
       "      <td>0</td>\n",
       "    </tr>\n",
       "    <tr>\n",
       "      <th>76234</th>\n",
       "      <td>75000</td>\n",
       "      <td>43</td>\n",
       "      <td>9</td>\n",
       "      <td>21</td>\n",
       "      <td>20</td>\n",
       "      <td>14</td>\n",
       "      <td>10</td>\n",
       "      <td>137</td>\n",
       "      <td>5000</td>\n",
       "      <td>110</td>\n",
       "      <td>...</td>\n",
       "      <td>0</td>\n",
       "      <td>0</td>\n",
       "      <td>0</td>\n",
       "      <td>0</td>\n",
       "      <td>0</td>\n",
       "      <td>0</td>\n",
       "      <td>1</td>\n",
       "      <td>0</td>\n",
       "      <td>0</td>\n",
       "      <td>0</td>\n",
       "    </tr>\n",
       "  </tbody>\n",
       "</table>\n",
       "<p>2 rows × 104 columns</p>\n",
       "</div>"
      ],
      "text/plain": [
       "        Goal Campaign_days Title_n_words Blurb_n_words Hour N_rewards  \\\n",
       "16096   4625            31             9            19   22         9   \n",
       "76234  75000            43             9            21   20        14   \n",
       "\n",
       "      Min_reward Median_reward Max_reward Reward_ship_days ...  14h 15h 16h  \\\n",
       "16096          5            50       1000              132 ...    0   0   0   \n",
       "76234         10           137       5000              110 ...    0   0   0   \n",
       "\n",
       "      17h  18h  19h  20h  21h  22h  23h  \n",
       "16096   0    0    0    0    0    1    0  \n",
       "76234   0    0    0    1    0    0    0  \n",
       "\n",
       "[2 rows x 104 columns]"
      ]
     },
     "execution_count": 28,
     "metadata": {},
     "output_type": "execute_result"
    }
   ],
   "source": [
    "X_train.head(2)"
   ]
  },
  {
   "cell_type": "code",
   "execution_count": 41,
   "metadata": {
    "collapsed": false
   },
   "outputs": [],
   "source": [
    "from sklearn.ensemble import RandomForestClassifier\n",
    "clf = RandomForestClassifier(n_estimators=200, max_depth=9)\n",
    "clf.fit(X_train,y_train)\n",
    "y_1 = clf.predict(X_test)"
   ]
  },
  {
   "cell_type": "code",
   "execution_count": 43,
   "metadata": {
    "collapsed": false
   },
   "outputs": [
    {
     "name": "stdout",
     "output_type": "stream",
     "text": [
      " accuracy =  0.7401\n"
     ]
    }
   ],
   "source": [
    "print 'accuracy = ', round(clf.score(X_test,y_test),4)"
   ]
  },
  {
   "cell_type": "code",
   "execution_count": 46,
   "metadata": {
    "collapsed": false
   },
   "outputs": [
    {
     "data": {
      "text/plain": [
       "(array([ 0.7471756 ,  0.72718769]),\n",
       " array([ 0.83360133,  0.61126599]),\n",
       " array([ 0.78802589,  0.66420693]),\n",
       " array([19279, 13989]))"
      ]
     },
     "execution_count": 46,
     "metadata": {},
     "output_type": "execute_result"
    }
   ],
   "source": [
    "from sklearn import metrics\n",
    "metrics.precision_recall_fscore_support(y_test,y_1)"
   ]
  },
  {
   "cell_type": "code",
   "execution_count": 49,
   "metadata": {
    "collapsed": false
   },
   "outputs": [],
   "source": [
    "feature_importances = clf.feature_importances_"
   ]
  },
  {
   "cell_type": "code",
   "execution_count": 50,
   "metadata": {
    "collapsed": true
   },
   "outputs": [],
   "source": [
    "feature_importance_is = np.argsort(feature_importances)"
   ]
  },
  {
   "cell_type": "code",
   "execution_count": 51,
   "metadata": {
    "collapsed": true
   },
   "outputs": [],
   "source": [
    "feature_importance_is_decending = feature_importance_is[-1::-1]"
   ]
  },
  {
   "cell_type": "code",
   "execution_count": 53,
   "metadata": {
    "collapsed": false
   },
   "outputs": [
    {
     "data": {
      "text/plain": [
       "Index([u'N_creator_backed', u'Goal', u'N_rewards', u'Body_n_words', u'N_links',\n",
       "       u'music', u'Campaign_days', u'Max_reward', u'Median_reward',\n",
       "       u'Reward_ship_days', u'N_figs', u'Min_reward', u'theater',\n",
       "       u'publishing', u'dance'],\n",
       "      dtype='object')"
      ]
     },
     "execution_count": 53,
     "metadata": {},
     "output_type": "execute_result"
    }
   ],
   "source": [
    "X_df.columns[feature_importance_is_decending][0:15]"
   ]
  },
  {
   "cell_type": "code",
   "execution_count": 54,
   "metadata": {
    "collapsed": true
   },
   "outputs": [],
   "source": [
    "# write a script for showing gini importances"
   ]
  },
  {
   "cell_type": "code",
   "execution_count": 68,
   "metadata": {
    "collapsed": true
   },
   "outputs": [],
   "source": [
    "n_features = 104\n",
    "n_top = 30"
   ]
  },
  {
   "cell_type": "code",
   "execution_count": 69,
   "metadata": {
    "collapsed": false
   },
   "outputs": [],
   "source": [
    "plt.rcParams.update({'font.size': 10})\n",
    "\n",
    "fig = plt.figure()\n",
    "plt.title(\"Feature importances\")\n",
    "plt.bar(range(n_top), feature_importances[feature_importance_is_decending[0:n_top]],\n",
    "       color=\"b\", align=\"center\")\n",
    "plt.xticks(range(n_top), X_df.columns[feature_importance_is_decending[0:n_top]],rotation='vertical')\n",
    "plt.xlim([-1, n_top])\n",
    "plt.xlabel('Feature')\n",
    "plt.ylabel('Feature importance (Gini importance)')\n",
    "plt.show()"
   ]
  },
  {
   "cell_type": "code",
   "execution_count": 70,
   "metadata": {
    "collapsed": false
   },
   "outputs": [],
   "source": [
    "# # run this later\n",
    "# # try a cross validated random tree\n",
    "# from sklearn import grid_search\n",
    "\n",
    "# rf = RandomForestClassifier()\n",
    "# parameters = {'n_estimators':[200, 300, 400],\n",
    "#               'max_depth':[5, 7, 9]}\n",
    "\n",
    "# # Warning: be sure your data is shuffled before using GridSearch!\n",
    "# clf_grid = grid_search.GridSearchCV(rf, parameters)\n",
    "# clf_grid.fit(X_train,y_train)"
   ]
  },
  {
   "cell_type": "code",
   "execution_count": 71,
   "metadata": {
    "collapsed": true
   },
   "outputs": [],
   "source": [
    "# also try min_samples_split\n",
    "# mi_samples_leaf"
   ]
  },
  {
   "cell_type": "code",
   "execution_count": 72,
   "metadata": {
    "collapsed": true
   },
   "outputs": [],
   "source": [
    "# try excluding categories? "
   ]
  },
  {
   "cell_type": "code",
   "execution_count": 73,
   "metadata": {
    "collapsed": true
   },
   "outputs": [],
   "source": [
    "# nicer plots -- update presentation\n",
    "# add plots to site\n",
    "# compare models -- logistic regression, svm"
   ]
  },
  {
   "cell_type": "code",
   "execution_count": null,
   "metadata": {
    "collapsed": true
   },
   "outputs": [],
   "source": []
  }
 ],
 "metadata": {
  "kernelspec": {
   "display_name": "Python 2",
   "language": "python",
   "name": "python2"
  },
  "language_info": {
   "codemirror_mode": {
    "name": "ipython",
    "version": 2
   },
   "file_extension": ".py",
   "mimetype": "text/x-python",
   "name": "python",
   "nbconvert_exporter": "python",
   "pygments_lexer": "ipython2",
   "version": "2.7.10"
  }
 },
 "nbformat": 4,
 "nbformat_minor": 0
}
