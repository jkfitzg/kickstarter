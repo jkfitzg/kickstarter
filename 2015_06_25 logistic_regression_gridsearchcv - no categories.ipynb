{
 "cells": [
  {
   "cell_type": "code",
   "execution_count": 1,
   "metadata": {
    "collapsed": false
   },
   "outputs": [
    {
     "name": "stdout",
     "output_type": "stream",
     "text": [
      "Populating the interactive namespace from numpy and matplotlib\n"
     ]
    }
   ],
   "source": [
    "%pylab inline\n",
    "%matplotlib inline\n",
    "import pandas as pd\n",
    "import numpy as np\n",
    "from sklearn.linear_model import LogisticRegression\n",
    "from sklearn.metrics import roc_curve, auc\n",
    "from sklearn import grid_search\n",
    "from sklearn import cross_validation\n",
    "import matplotlib.pyplot as plt\n",
    "from sklearn import metrics\n",
    "import seaborn as sns\n",
    "sns.set_context('talk')\n",
    "sns.set_style('whitegrid') \n",
    "\n",
    "rcParams['figure.figsize'] = (8.0, 6.0)"
   ]
  },
  {
   "cell_type": "code",
   "execution_count": 2,
   "metadata": {
    "collapsed": false
   },
   "outputs": [],
   "source": [
    "def plotROCCurve(y_test, prediction_prob):\n",
    "    fpr, tpr, thresholds = roc_curve(y_test, prediction_prob[:,1])\n",
    "    roc_auc = auc(fpr, tpr)\n",
    "    plot(fpr, tpr, label='ROC curve (area = %0.2f)' % roc_auc)\n",
    "    plot([0, 1], [0, 1], 'k--')\n",
    "    xlabel('False Positive Rate')\n",
    "    ylabel('True Positive Rate')\n",
    "    plt.legend(bbox_to_anchor=(0.9, 0.2),\n",
    "               bbox_transform=plt.gcf().transFigure)\n",
    "    savefig('logistic_regression_aucroc.png', bbox_inches='tight', dpi=150)"
   ]
  },
  {
   "cell_type": "code",
   "execution_count": 3,
   "metadata": {
    "collapsed": false
   },
   "outputs": [],
   "source": [
    "all_X_df = pd.read_pickle('new_X_df.save')\n",
    "outcomes_df = pd.read_pickle('new_outcomes_df.save')"
   ]
  },
  {
   "cell_type": "code",
   "execution_count": 4,
   "metadata": {
    "collapsed": false
   },
   "outputs": [
    {
     "data": {
      "text/plain": [
       "array(['Goal', 'Campaign_days', 'Title_n_words', 'Blurb_n_words',\n",
       "       'Has_video', 'N_rewards', 'Min_reward', 'Median_reward',\n",
       "       'Max_reward', 'Reward_ship_days', 'N_links', 'N_figs',\n",
       "       'Body_n_words', 'N_creator_backed', 'N_creator_created', 'art',\n",
       "       'comics', 'crafts', 'dance', 'design', 'fashion', 'film', 'food',\n",
       "       'games', 'journalism', 'music', 'photography', 'publishing',\n",
       "       'technology', 'theater', 'Ships_intn', 'Mon', 'Tue', 'Wed', 'Thu',\n",
       "       'Fri', 'Sat', 'Sun'], dtype=object)"
      ]
     },
     "execution_count": 4,
     "metadata": {},
     "output_type": "execute_result"
    }
   ],
   "source": [
    "np.array(all_X_df.columns)"
   ]
  },
  {
   "cell_type": "code",
   "execution_count": 5,
   "metadata": {
    "collapsed": true
   },
   "outputs": [],
   "source": [
    "cols_small = ['Goal', 'Campaign_days', 'Title_n_words', 'Blurb_n_words',\n",
    "       'Has_video', 'N_rewards', 'Min_reward', 'Median_reward',\n",
    "       'Max_reward', 'Reward_ship_days', 'N_links', 'N_figs',\n",
    "       'Body_n_words', 'N_creator_backed', 'N_creator_created',\n",
    "              'Ships_intn', 'Mon', 'Tue', 'Wed', 'Thu',\n",
    "       'Fri', 'Sat', 'Sun']"
   ]
  },
  {
   "cell_type": "code",
   "execution_count": 6,
   "metadata": {
    "collapsed": true
   },
   "outputs": [],
   "source": [
    "X_df = all_X_df.ix[:,cols_small]"
   ]
  },
  {
   "cell_type": "code",
   "execution_count": 7,
   "metadata": {
    "collapsed": false
   },
   "outputs": [],
   "source": [
    "X_train, X_test, y_train, y_test = \\\n",
    "    cross_validation.train_test_split(X_df, outcomes_df['Outcome'].values, \\\n",
    "                                      test_size=0.25, random_state=2) # was 0"
   ]
  },
  {
   "cell_type": "code",
   "execution_count": 8,
   "metadata": {
    "collapsed": true
   },
   "outputs": [],
   "source": [
    "C = [1e-4, 1e-3, 1e-2, 1e-1, 1, 1e2, 1e3, 1e4]\n",
    "param_grid = {'penalty':['l2'], 'C': C}\n",
    "#param_grid = {'penalty':['l1', 'l2'], 'C': C}"
   ]
  },
  {
   "cell_type": "code",
   "execution_count": 9,
   "metadata": {
    "collapsed": false
   },
   "outputs": [],
   "source": [
    "logistic_regressions = grid_search.GridSearchCV(LogisticRegression(class_weight='auto'), cv=5, \n",
    "                                                param_grid=param_grid, scoring='roc_auc', \n",
    "                                                n_jobs=-1, verbose=1)"
   ]
  },
  {
   "cell_type": "code",
   "execution_count": 10,
   "metadata": {
    "collapsed": false
   },
   "outputs": [
    {
     "name": "stdout",
     "output_type": "stream",
     "text": [
      "Fitting 5 folds for each of 8 candidates, totalling 40 fits\n"
     ]
    },
    {
     "name": "stderr",
     "output_type": "stream",
     "text": [
      "[Parallel(n_jobs=-1)]: Done   1 jobs       | elapsed:    1.6s\n",
      "[Parallel(n_jobs=-1)]: Done  40 out of  40 | elapsed:   11.9s finished\n"
     ]
    },
    {
     "data": {
      "text/plain": [
       "GridSearchCV(cv=5, error_score='raise',\n",
       "       estimator=LogisticRegression(C=1.0, class_weight='auto', dual=False, fit_intercept=True,\n",
       "          intercept_scaling=1, max_iter=100, multi_class='ovr',\n",
       "          penalty='l2', random_state=None, solver='liblinear', tol=0.0001,\n",
       "          verbose=0),\n",
       "       fit_params={}, iid=True, loss_func=None, n_jobs=-1,\n",
       "       param_grid={'penalty': ['l2'], 'C': [0.0001, 0.001, 0.01, 0.1, 1, 100.0, 1000.0, 10000.0]},\n",
       "       pre_dispatch='2*n_jobs', refit=True, score_func=None,\n",
       "       scoring='roc_auc', verbose=1)"
      ]
     },
     "execution_count": 10,
     "metadata": {},
     "output_type": "execute_result"
    }
   ],
   "source": [
    "logistic_regressions.fit(X_train, y_train)"
   ]
  },
  {
   "cell_type": "code",
   "execution_count": 11,
   "metadata": {
    "collapsed": false
   },
   "outputs": [
    {
     "name": "stdout",
     "output_type": "stream",
     "text": [
      "mean: 0.76073, std: 0.00350, params: {'penalty': 'l2', 'C': 0.0001}\n",
      "mean: 0.76105, std: 0.00320, params: {'penalty': 'l2', 'C': 0.001}\n",
      "mean: 0.76102, std: 0.00360, params: {'penalty': 'l2', 'C': 0.01}\n",
      "mean: 0.76147, std: 0.00324, params: {'penalty': 'l2', 'C': 0.1}\n",
      "mean: 0.76131, std: 0.00310, params: {'penalty': 'l2', 'C': 1}\n",
      "mean: 0.76167, std: 0.00325, params: {'penalty': 'l2', 'C': 100.0}\n",
      "mean: 0.76146, std: 0.00321, params: {'penalty': 'l2', 'C': 1000.0}\n",
      "mean: 0.76066, std: 0.00299, params: {'penalty': 'l2', 'C': 10000.0}\n"
     ]
    }
   ],
   "source": [
    "for score in logistic_regressions.grid_scores_:\n",
    "    print score"
   ]
  },
  {
   "cell_type": "code",
   "execution_count": 12,
   "metadata": {
    "collapsed": false
   },
   "outputs": [
    {
     "data": {
      "text/plain": [
       "{'C': 100.0, 'penalty': 'l2'}"
      ]
     },
     "execution_count": 12,
     "metadata": {},
     "output_type": "execute_result"
    }
   ],
   "source": [
    "logistic_regressions.best_params_"
   ]
  },
  {
   "cell_type": "code",
   "execution_count": 13,
   "metadata": {
    "collapsed": false
   },
   "outputs": [
    {
     "data": {
      "text/plain": [
       "0.76166875198258066"
      ]
     },
     "execution_count": 13,
     "metadata": {},
     "output_type": "execute_result"
    }
   ],
   "source": [
    "logistic_regressions.best_score_"
   ]
  },
  {
   "cell_type": "code",
   "execution_count": 14,
   "metadata": {
    "collapsed": false
   },
   "outputs": [
    {
     "data": {
      "image/png": "[encoded data removed]",
      "text/plain": [
       "<matplotlib.figure.Figure at 0x1123c8850>"
      ]
     },
     "metadata": {},
     "output_type": "display_data"
    }
   ],
   "source": [
    "plotROCCurve(y_test, logistic_regressions.predict_proba(X_test))"
   ]
  },
  {
   "cell_type": "code",
   "execution_count": 15,
   "metadata": {
    "collapsed": false
   },
   "outputs": [],
   "source": [
    "y_1 = logistic_regressions.predict(X_test)\n",
    "y_1_proba = logistic_regressions.predict_proba(X_test)"
   ]
  },
  {
   "cell_type": "code",
   "execution_count": 16,
   "metadata": {
    "collapsed": false
   },
   "outputs": [
    {
     "data": {
      "text/plain": [
       "0.69748949616306122"
      ]
     },
     "execution_count": 16,
     "metadata": {},
     "output_type": "execute_result"
    }
   ],
   "source": [
    "metrics.accuracy_score(y_test,y_1, normalize=True)"
   ]
  },
  {
   "cell_type": "code",
   "execution_count": 17,
   "metadata": {
    "collapsed": false
   },
   "outputs": [
    {
     "name": "stdout",
     "output_type": "stream",
     "text": [
      "             precision    recall  f1-score   support\n",
      "\n",
      "          0       0.77      0.70      0.73     16892\n",
      "          1       0.62      0.70      0.66     11907\n",
      "\n",
      "avg / total       0.71      0.70      0.70     28799\n",
      "\n"
     ]
    }
   ],
   "source": [
    "print metrics.classification_report(y_test, y_1)"
   ]
  },
  {
   "cell_type": "code",
   "execution_count": 18,
   "metadata": {
    "collapsed": true
   },
   "outputs": [],
   "source": [
    "from plot_suggestions import *\n",
    "%load_ext autoreload\n",
    "%autoreload 2"
   ]
  },
  {
   "cell_type": "code",
   "execution_count": 19,
   "metadata": {
    "collapsed": false
   },
   "outputs": [
    {
     "data": {
      "image/png": "[encoded data removed]",
      "text/plain": [
       "<matplotlib.figure.Figure at 0x1125cd710>"
      ]
     },
     "metadata": {},
     "output_type": "display_data"
    },
    {
     "data": {
      "text/plain": [
       "<matplotlib.figure.Figure at 0x1149e2750>"
      ]
     },
     "metadata": {},
     "output_type": "display_data"
    }
   ],
   "source": [
    "coefs = logistic_regressions.best_estimator_.coef_[0]\n",
    "plot_coefficients(coefs,X_df.columns,len(coefs))"
   ]
  },
  {
   "cell_type": "code",
   "execution_count": null,
   "metadata": {
    "collapsed": true
   },
   "outputs": [],
   "source": []
  }
 ],
 "metadata": {
  "kernelspec": {
   "display_name": "Python 2",
   "language": "python",
   "name": "python2"
  },
  "language_info": {
   "codemirror_mode": {
    "name": "ipython",
    "version": 2
   },
   "file_extension": ".py",
   "mimetype": "text/x-python",
   "name": "python",
   "nbconvert_exporter": "python",
   "pygments_lexer": "ipython2",
   "version": "2.7.10"
  }
 },
 "nbformat": 4,
 "nbformat_minor": 0
}
