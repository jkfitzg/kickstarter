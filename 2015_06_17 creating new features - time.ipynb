{
 "cells": [
  {
   "cell_type": "code",
   "execution_count": 1,
   "metadata": {
    "collapsed": true
   },
   "outputs": [],
   "source": [
    "# Create new features, focusing on high ROI features. "
   ]
  },
  {
   "cell_type": "code",
   "execution_count": 2,
   "metadata": {
    "collapsed": true
   },
   "outputs": [],
   "source": [
    "# Features I already have _______________________________________\n",
    "# - rewards: n, min, max, intn shipping\n",
    "# - n creator backed\n",
    "# - title char len\n",
    "# - blurb char len\n",
    "# - launch time (in Unix time)\n",
    "# - project duration\n",
    "# - goal"
   ]
  },
  {
   "cell_type": "code",
   "execution_count": 11,
   "metadata": {
    "collapsed": true
   },
   "outputs": [],
   "source": [
    "# I know how to do this _______________________\n",
    "# - day of the week\n",
    "# - day of the month -- 1st/15st/30st\n",
    "# - month"
   ]
  },
  {
   "cell_type": "code",
   "execution_count": 12,
   "metadata": {
    "collapsed": true
   },
   "outputs": [],
   "source": [
    "# Next ________________________________________\n",
    "# - time between launch and ship of rewards -- most recent. "
   ]
  },
  {
   "cell_type": "code",
   "execution_count": 10,
   "metadata": {
    "collapsed": true
   },
   "outputs": [],
   "source": [
    "# To add _______________________________________\n",
    "# - title word len\n",
    "# - blurb word len\n",
    "# - body word length\n",
    "# - readablity \n",
    "# - n misspellings\n",
    "# - faq n questions/word len\n",
    "# - risks and rewards word len\n",
    "# - n pictures\n",
    "# - other reward info"
   ]
  },
  {
   "cell_type": "code",
   "execution_count": 60,
   "metadata": {
    "collapsed": false
   },
   "outputs": [],
   "source": [
    "from bs4 import BeautifulSoup\n",
    "import pprint\n",
    "import pymysql as mdb\n",
    "import re\n",
    "import pandas as pd\n",
    "import numpy as np\n",
    "from unidecode import unidecode\n",
    "import json\n",
    "import time"
   ]
  },
  {
   "cell_type": "code",
   "execution_count": 137,
   "metadata": {
    "collapsed": false
   },
   "outputs": [
    {
     "name": "stdout",
     "output_type": "stream",
     "text": [
      "The autoreload extension is already loaded. To reload it, use:\n",
      "  %reload_ext autoreload\n"
     ]
    }
   ],
   "source": [
    "from extract_kickstarter_features import *\n",
    "%load_ext autoreload\n",
    "%autoreload 2"
   ]
  },
  {
   "cell_type": "code",
   "execution_count": 5,
   "metadata": {
    "collapsed": false
   },
   "outputs": [],
   "source": [
    "con = mdb.connect('localhost','root','hobbes','kickstarter')"
   ]
  },
  {
   "cell_type": "code",
   "execution_count": 6,
   "metadata": {
    "collapsed": false
   },
   "outputs": [
    {
     "name": "stdout",
     "output_type": "stream",
     "text": [
      "('Creator',)\n",
      "('Project_info',)\n",
      "('Rewards',)\n",
      "('Scraped_pages',)\n"
     ]
    }
   ],
   "source": [
    "with con:\n",
    "    \n",
    "    cur = con.cursor()\n",
    "    cur.execute(\"SHOW TABLES\")\n",
    "    \n",
    "    rows = cur.fetchall()\n",
    "    for row in rows:\n",
    "        print row"
   ]
  },
  {
   "cell_type": "code",
   "execution_count": 7,
   "metadata": {
    "collapsed": true
   },
   "outputs": [],
   "source": [
    "with con:\n",
    "    cur = con.cursor()\n",
    "    cur.execute(\"SELECT Id FROM Project_info \\\n",
    "                WHERE Category_slug LIKE 'tech%'\")\n",
    "    ids = cur.fetchall()\n",
    "    cur.close()"
   ]
  },
  {
   "cell_type": "code",
   "execution_count": 8,
   "metadata": {
    "collapsed": true
   },
   "outputs": [],
   "source": [
    "ids_array = np.asarray(ids)"
   ]
  },
  {
   "cell_type": "code",
   "execution_count": 13,
   "metadata": {
    "collapsed": false
   },
   "outputs": [
    {
     "data": {
      "text/plain": [
       "(9351, 1)"
      ]
     },
     "execution_count": 13,
     "metadata": {},
     "output_type": "execute_result"
    }
   ],
   "source": [
    "np.shape(ids_array)"
   ]
  },
  {
   "cell_type": "code",
   "execution_count": 18,
   "metadata": {
    "collapsed": false
   },
   "outputs": [
    {
     "data": {
      "text/plain": [
       "array([7121])"
      ]
     },
     "execution_count": 18,
     "metadata": {},
     "output_type": "execute_result"
    }
   ],
   "source": [
    "ids_array[0]"
   ]
  },
  {
   "cell_type": "code",
   "execution_count": 19,
   "metadata": {
    "collapsed": false,
    "scrolled": true
   },
   "outputs": [],
   "source": [
    "with con:\n",
    "    cur = con.cursor()\n",
    "    cur.execute(\"SELECT * FROM Project_info \\\n",
    "                WHERE Id = %s\",[7121])\n",
    "    rows = cur.fetchall()\n",
    "    cur.close()"
   ]
  },
  {
   "cell_type": "code",
   "execution_count": 20,
   "metadata": {
    "collapsed": false
   },
   "outputs": [
    {
     "name": "stdout",
     "output_type": "stream",
     "text": [
      "((7121, 'SnapJet', 'https://www.kickstarter.com/profile/snapjet', 'USD', 1117814212, 'Gadgets', 'technology/gadgets', 155000, 125435, 'live', 'US', 'huntington-beach-ca', 'Huntington Beach, CA', 'A high quality open-source photo printer that seamlessly interfaces with smartphones. No wires. No apps. Just beautiful images.', 879, 'SnapJet: Turn your smartphone into a polaroid film printer!', 'https://www.kickstarter.com/projects/snapjet/snapjet-a-slim-portable-open-source-instant-film-p?ref=category', 1416427327, 1419049800),)\n"
     ]
    }
   ],
   "source": [
    "print rows"
   ]
  },
  {
   "cell_type": "code",
   "execution_count": 21,
   "metadata": {
    "collapsed": true
   },
   "outputs": [],
   "source": [
    "unix_t_start = 1416427327"
   ]
  },
  {
   "cell_type": "code",
   "execution_count": 22,
   "metadata": {
    "collapsed": true
   },
   "outputs": [],
   "source": [
    "# now make time features"
   ]
  },
  {
   "cell_type": "code",
   "execution_count": 23,
   "metadata": {
    "collapsed": true
   },
   "outputs": [],
   "source": [
    "# I know how to do this _______________________\n",
    "# - day of the week\n",
    "# - day of the month -- 1st/15st/30st\n",
    "# - month"
   ]
  },
  {
   "cell_type": "code",
   "execution_count": 29,
   "metadata": {
    "collapsed": false
   },
   "outputs": [
    {
     "name": "stdout",
     "output_type": "stream",
     "text": [
      "Wed Nov 19 15:02:07 2014\n"
     ]
    }
   ],
   "source": [
    "\n",
    "t_str = time.ctime(unix_t_start)\n",
    "print t_str"
   ]
  },
  {
   "cell_type": "code",
   "execution_count": 31,
   "metadata": {
    "collapsed": false
   },
   "outputs": [],
   "source": [
    "weekday, month, day, day_t, year = t_str.split()"
   ]
  },
  {
   "cell_type": "code",
   "execution_count": 32,
   "metadata": {
    "collapsed": false
   },
   "outputs": [
    {
     "name": "stdout",
     "output_type": "stream",
     "text": [
      "Wed Nov 19 15:02:07 2014\n"
     ]
    }
   ],
   "source": [
    "print weekday, month, day, day_t, year"
   ]
  },
  {
   "cell_type": "code",
   "execution_count": 41,
   "metadata": {
    "collapsed": false
   },
   "outputs": [
    {
     "name": "stdout",
     "output_type": "stream",
     "text": [
      "15\n"
     ]
    }
   ],
   "source": [
    "print day_t[:2]"
   ]
  },
  {
   "cell_type": "code",
   "execution_count": 43,
   "metadata": {
    "collapsed": true
   },
   "outputs": [],
   "source": [
    "# use weekday, month, day, day_t -- just hour. done.\n",
    "#  -- just use ctime -- local time, but NY is good. \n",
    "#     Kickstarter is based here.\n",
    "#\n",
    "# could also get day of the year, but I don't want that."
   ]
  },
  {
   "cell_type": "code",
   "execution_count": 34,
   "metadata": {
    "collapsed": true
   },
   "outputs": [],
   "source": [
    "# next \n",
    "# convert day_t into a number\n",
    "# map Nov 1 2014 into unix time"
   ]
  },
  {
   "cell_type": "code",
   "execution_count": 55,
   "metadata": {
    "collapsed": false
   },
   "outputs": [],
   "source": [
    "a = time.localtime(unix_t_start)  #weekdays are index 0=Monday"
   ]
  },
  {
   "cell_type": "code",
   "execution_count": 56,
   "metadata": {
    "collapsed": false
   },
   "outputs": [
    {
     "name": "stdout",
     "output_type": "stream",
     "text": [
      "time.struct_time(tm_year=2014, tm_mon=11, tm_mday=19, tm_hour=15, tm_min=2, tm_sec=7, tm_wday=2, tm_yday=323, tm_isdst=0)\n"
     ]
    }
   ],
   "source": [
    "print a"
   ]
  },
  {
   "cell_type": "code",
   "execution_count": 59,
   "metadata": {
    "collapsed": true
   },
   "outputs": [],
   "source": [
    "# now convert 'Jan 2011' into Jan 1 2011 unix time."
   ]
  },
  {
   "cell_type": "code",
   "execution_count": 61,
   "metadata": {
    "collapsed": false
   },
   "outputs": [
    {
     "name": "stdout",
     "output_type": "stream",
     "text": [
      "Wed Nov 19 15:02:07 2014\n"
     ]
    }
   ],
   "source": [
    "t_str = time.ctime(unix_t_start)\n",
    "print t_str"
   ]
  },
  {
   "cell_type": "code",
   "execution_count": 65,
   "metadata": {
    "collapsed": false
   },
   "outputs": [
    {
     "name": "stdout",
     "output_type": "stream",
     "text": [
      "1416373200.0\n"
     ]
    }
   ],
   "source": [
    "print time.mktime((2014,11,19,0,0,0,0,0,0)) # year, month, day, h,m,s"
   ]
  },
  {
   "cell_type": "code",
   "execution_count": 67,
   "metadata": {
    "collapsed": false
   },
   "outputs": [
    {
     "name": "stdout",
     "output_type": "stream",
     "text": [
      "54127\n"
     ]
    }
   ],
   "source": [
    "print unix_t_start-1416373200"
   ]
  },
  {
   "cell_type": "code",
   "execution_count": 68,
   "metadata": {
    "collapsed": false
   },
   "outputs": [
    {
     "data": {
      "text/plain": [
       "15"
      ]
     },
     "execution_count": 68,
     "metadata": {},
     "output_type": "execute_result"
    }
   ],
   "source": [
    "54127/(60*60)"
   ]
  },
  {
   "cell_type": "code",
   "execution_count": 73,
   "metadata": {
    "collapsed": false
   },
   "outputs": [
    {
     "name": "stdout",
     "output_type": "stream",
     "text": [
      "Jan\n"
     ]
    }
   ],
   "source": [
    "import calendar\n",
    "print calendar.month_abbr[1]"
   ]
  },
  {
   "cell_type": "code",
   "execution_count": 74,
   "metadata": {
    "collapsed": false
   },
   "outputs": [
    {
     "data": {
      "text/plain": [
       "(array([], dtype=int64),)"
      ]
     },
     "execution_count": 74,
     "metadata": {},
     "output_type": "execute_result"
    }
   ],
   "source": [
    "np.where(calendar.month_abbr == 'Jan')"
   ]
  },
  {
   "cell_type": "code",
   "execution_count": 84,
   "metadata": {
    "collapsed": false
   },
   "outputs": [],
   "source": [
    "import datetime\n",
    "dt = datetime.datetime(2012, 1, 10)"
   ]
  },
  {
   "cell_type": "code",
   "execution_count": 85,
   "metadata": {
    "collapsed": false
   },
   "outputs": [
    {
     "name": "stdout",
     "output_type": "stream",
     "text": [
      "2012-01-10 00:00:00\n"
     ]
    }
   ],
   "source": [
    "print dt"
   ]
  },
  {
   "cell_type": "code",
   "execution_count": 86,
   "metadata": {
    "collapsed": false
   },
   "outputs": [
    {
     "name": "stdout",
     "output_type": "stream",
     "text": [
      "time.struct_time(tm_year=2012, tm_mon=1, tm_mday=10, tm_hour=0, tm_min=0, tm_sec=0, tm_wday=1, tm_yday=10, tm_isdst=0)\n"
     ]
    }
   ],
   "source": [
    "timetuple = dt.utctimetuple()\n",
    "print timetuple"
   ]
  },
  {
   "cell_type": "code",
   "execution_count": 87,
   "metadata": {
    "collapsed": false
   },
   "outputs": [
    {
     "name": "stdout",
     "output_type": "stream",
     "text": [
      "1326171600.0\n"
     ]
    }
   ],
   "source": [
    "print time.mktime(timetuple)"
   ]
  },
  {
   "cell_type": "code",
   "execution_count": 88,
   "metadata": {
    "collapsed": true
   },
   "outputs": [],
   "source": [
    "reward_ship_list = [\"Jan 2015\", \"Feb 2015\", \"Dec 2014\", \"Dec 2014\", \"Feb 2015\", \"Dec 2014\", \"Feb 2015\", \"Dec 2014\", \"Dec 2014\", \"Feb 2015\", \"Feb 2015\", \"Feb 2015\", \"Dec 2014\", \"Feb 2015\", \"Dec 2014\", \"Jun 2015\", \"Dec 2014\", \"Apr 2015\", \"Apr 2015\"]"
   ]
  },
  {
   "cell_type": "code",
   "execution_count": 89,
   "metadata": {
    "collapsed": false
   },
   "outputs": [
    {
     "name": "stdout",
     "output_type": "stream",
     "text": [
      "['Jan 2015', 'Feb 2015', 'Dec 2014', 'Dec 2014', 'Feb 2015', 'Dec 2014', 'Feb 2015', 'Dec 2014', 'Dec 2014', 'Feb 2015', 'Feb 2015', 'Feb 2015', 'Dec 2014', 'Feb 2015', 'Dec 2014', 'Jun 2015', 'Dec 2014', 'Apr 2015', 'Apr 2015']\n"
     ]
    }
   ],
   "source": [
    "print reward_ship_list"
   ]
  },
  {
   "cell_type": "code",
   "execution_count": 123,
   "metadata": {
    "collapsed": false
   },
   "outputs": [],
   "source": [
    "# just convert all to unix time\n",
    "tech_df = pd.read_pickle('tech_df.save')"
   ]
  },
  {
   "cell_type": "code",
   "execution_count": 124,
   "metadata": {
    "collapsed": false
   },
   "outputs": [
    {
     "data": {
      "text/html": [
       "<div style=\"max-height:1000px;max-width:1500px;overflow:auto;\">\n",
       "<table border=\"1\" class=\"dataframe\">\n",
       "  <thead>\n",
       "    <tr style=\"text-align: right;\">\n",
       "      <th></th>\n",
       "      <th>id</th>\n",
       "      <th>pledged</th>\n",
       "      <th>goal</th>\n",
       "      <th>n rewards</th>\n",
       "      <th>min reward</th>\n",
       "      <th>max reward</th>\n",
       "      <th>intn ship</th>\n",
       "      <th>n creator backed</th>\n",
       "      <th>title n chars</th>\n",
       "      <th>blurb n chars</th>\n",
       "      <th>launch time</th>\n",
       "      <th>campaign dur</th>\n",
       "    </tr>\n",
       "  </thead>\n",
       "  <tbody>\n",
       "    <tr>\n",
       "      <th>0</th>\n",
       "      <td>8018</td>\n",
       "      <td>90840</td>\n",
       "      <td>20000</td>\n",
       "      <td>13</td>\n",
       "      <td>1</td>\n",
       "      <td>10000</td>\n",
       "      <td>1</td>\n",
       "      <td>15</td>\n",
       "      <td>29</td>\n",
       "      <td>109</td>\n",
       "      <td>1391619643</td>\n",
       "      <td>2592000</td>\n",
       "    </tr>\n",
       "    <tr>\n",
       "      <th>1</th>\n",
       "      <td>8019</td>\n",
       "      <td>55833</td>\n",
       "      <td>50000</td>\n",
       "      <td>12</td>\n",
       "      <td>10</td>\n",
       "      <td>10000</td>\n",
       "      <td>1</td>\n",
       "      <td>1</td>\n",
       "      <td>33</td>\n",
       "      <td>105</td>\n",
       "      <td>1413818746</td>\n",
       "      <td>2595600</td>\n",
       "    </tr>\n",
       "    <tr>\n",
       "      <th>2</th>\n",
       "      <td>8020</td>\n",
       "      <td>6804</td>\n",
       "      <td>5000</td>\n",
       "      <td>10</td>\n",
       "      <td>1</td>\n",
       "      <td>5000</td>\n",
       "      <td>-1</td>\n",
       "      <td>12</td>\n",
       "      <td>18</td>\n",
       "      <td>129</td>\n",
       "      <td>1361591034</td>\n",
       "      <td>5184000</td>\n",
       "    </tr>\n",
       "    <tr>\n",
       "      <th>3</th>\n",
       "      <td>8021</td>\n",
       "      <td>313218</td>\n",
       "      <td>5000</td>\n",
       "      <td>14</td>\n",
       "      <td>10</td>\n",
       "      <td>1000</td>\n",
       "      <td>-1</td>\n",
       "      <td>24</td>\n",
       "      <td>53</td>\n",
       "      <td>95</td>\n",
       "      <td>1344533619</td>\n",
       "      <td>2715981</td>\n",
       "    </tr>\n",
       "    <tr>\n",
       "      <th>4</th>\n",
       "      <td>8022</td>\n",
       "      <td>74446</td>\n",
       "      <td>10000</td>\n",
       "      <td>9</td>\n",
       "      <td>9</td>\n",
       "      <td>300</td>\n",
       "      <td>1</td>\n",
       "      <td>0</td>\n",
       "      <td>22</td>\n",
       "      <td>122</td>\n",
       "      <td>1393448405</td>\n",
       "      <td>2627995</td>\n",
       "    </tr>\n",
       "  </tbody>\n",
       "</table>\n",
       "</div>"
      ],
      "text/plain": [
       "     id pledged   goal n rewards min reward max reward intn ship  \\\n",
       "0  8018   90840  20000        13          1      10000         1   \n",
       "1  8019   55833  50000        12         10      10000         1   \n",
       "2  8020    6804   5000        10          1       5000        -1   \n",
       "3  8021  313218   5000        14         10       1000        -1   \n",
       "4  8022   74446  10000         9          9        300         1   \n",
       "\n",
       "  n creator backed title n chars blurb n chars launch time campaign dur  \n",
       "0               15            29           109  1391619643      2592000  \n",
       "1                1            33           105  1413818746      2595600  \n",
       "2               12            18           129  1361591034      5184000  \n",
       "3               24            53            95  1344533619      2715981  \n",
       "4                0            22           122  1393448405      2627995  "
      ]
     },
     "execution_count": 124,
     "metadata": {},
     "output_type": "execute_result"
    }
   ],
   "source": [
    "tech_df.head()"
   ]
  },
  {
   "cell_type": "code",
   "execution_count": 183,
   "metadata": {
    "collapsed": false
   },
   "outputs": [
    {
     "name": "stdout",
     "output_type": "stream",
     "text": [
      "6633\n"
     ]
    }
   ],
   "source": [
    "subset_n = np.size(tech_df['id'])\n",
    "print subset_n"
   ]
  },
  {
   "cell_type": "code",
   "execution_count": 201,
   "metadata": {
    "collapsed": false
   },
   "outputs": [],
   "source": [
    "# make new time predictors\n",
    "# calc median time to ship\n",
    "tech_to_ship_day_df = pd.DataFrame(index=range(subset_n),columns=['id','days to ship'],dtype=int)\n",
    "tech_time_df = pd.DataFrame(index=range(subset_n),columns=['id','month','month day','week day','hour'],dtype=int)"
   ]
  },
  {
   "cell_type": "code",
   "execution_count": 202,
   "metadata": {
    "collapsed": false
   },
   "outputs": [
    {
     "data": {
      "text/html": [
       "<div style=\"max-height:1000px;max-width:1500px;overflow:auto;\">\n",
       "<table border=\"1\" class=\"dataframe\">\n",
       "  <thead>\n",
       "    <tr style=\"text-align: right;\">\n",
       "      <th></th>\n",
       "      <th>id</th>\n",
       "      <th>month</th>\n",
       "      <th>month day</th>\n",
       "      <th>week day</th>\n",
       "      <th>hour</th>\n",
       "    </tr>\n",
       "  </thead>\n",
       "  <tbody>\n",
       "    <tr>\n",
       "      <th>0</th>\n",
       "      <td>NaN</td>\n",
       "      <td>NaN</td>\n",
       "      <td>NaN</td>\n",
       "      <td>NaN</td>\n",
       "      <td>NaN</td>\n",
       "    </tr>\n",
       "    <tr>\n",
       "      <th>1</th>\n",
       "      <td>NaN</td>\n",
       "      <td>NaN</td>\n",
       "      <td>NaN</td>\n",
       "      <td>NaN</td>\n",
       "      <td>NaN</td>\n",
       "    </tr>\n",
       "    <tr>\n",
       "      <th>2</th>\n",
       "      <td>NaN</td>\n",
       "      <td>NaN</td>\n",
       "      <td>NaN</td>\n",
       "      <td>NaN</td>\n",
       "      <td>NaN</td>\n",
       "    </tr>\n",
       "    <tr>\n",
       "      <th>3</th>\n",
       "      <td>NaN</td>\n",
       "      <td>NaN</td>\n",
       "      <td>NaN</td>\n",
       "      <td>NaN</td>\n",
       "      <td>NaN</td>\n",
       "    </tr>\n",
       "    <tr>\n",
       "      <th>4</th>\n",
       "      <td>NaN</td>\n",
       "      <td>NaN</td>\n",
       "      <td>NaN</td>\n",
       "      <td>NaN</td>\n",
       "      <td>NaN</td>\n",
       "    </tr>\n",
       "  </tbody>\n",
       "</table>\n",
       "</div>"
      ],
      "text/plain": [
       "    id month month day week day hour\n",
       "0  NaN   NaN       NaN      NaN  NaN\n",
       "1  NaN   NaN       NaN      NaN  NaN\n",
       "2  NaN   NaN       NaN      NaN  NaN\n",
       "3  NaN   NaN       NaN      NaN  NaN\n",
       "4  NaN   NaN       NaN      NaN  NaN"
      ]
     },
     "execution_count": 202,
     "metadata": {},
     "output_type": "execute_result"
    }
   ],
   "source": [
    "tech_time_df.head()"
   ]
  },
  {
   "cell_type": "code",
   "execution_count": 190,
   "metadata": {
    "collapsed": false
   },
   "outputs": [],
   "source": [
    "con = mdb.connect('localhost','root','hobbes','kickstarter')"
   ]
  },
  {
   "cell_type": "code",
   "execution_count": 212,
   "metadata": {
    "collapsed": false
   },
   "outputs": [],
   "source": [
    "with con:\n",
    "    cur = con.cursor()\n",
    "    for i, Id in enumerate(tech_df['id']): #tech_df['id']:\n",
    "        primary_key = int(Id)\n",
    "        cur.execute(\"SELECT Reward_expected FROM Rewards WHERE Id = %s\",primary_key)\n",
    "        rows = cur.fetchall()\n",
    "        reward_ship_dates = rows[0][0]\n",
    "        \n",
    "        \n",
    "        this_launch_t = tech_df.ix[i,'launch time']\n",
    "        tech_to_ship_day_df.ix[i,'id'] = primary_key\n",
    "        tech_to_ship_day_df.ix[i,'days to ship'] = \\\n",
    "                calc_days_to_reward(reward_ship_dates,this_launch_t)\n",
    "        \n",
    "        # now fill in time details\n",
    "        \n",
    "        tech_time_df.ix[i,:] = [primary_key] + list(get_time_features(this_launch_t))\n",
    "        \n",
    "    cur.close()"
   ]
  },
  {
   "cell_type": "code",
   "execution_count": 214,
   "metadata": {
    "collapsed": false
   },
   "outputs": [
    {
     "data": {
      "text/html": [
       "<div style=\"max-height:1000px;max-width:1500px;overflow:auto;\">\n",
       "<table border=\"1\" class=\"dataframe\">\n",
       "  <thead>\n",
       "    <tr style=\"text-align: right;\">\n",
       "      <th></th>\n",
       "      <th>id</th>\n",
       "      <th>days to ship</th>\n",
       "    </tr>\n",
       "  </thead>\n",
       "  <tbody>\n",
       "    <tr>\n",
       "      <th>6628</th>\n",
       "      <td>16461</td>\n",
       "      <td>211</td>\n",
       "    </tr>\n",
       "    <tr>\n",
       "      <th>6629</th>\n",
       "      <td>16462</td>\n",
       "      <td>68</td>\n",
       "    </tr>\n",
       "    <tr>\n",
       "      <th>6630</th>\n",
       "      <td>16468</td>\n",
       "      <td>66</td>\n",
       "    </tr>\n",
       "    <tr>\n",
       "      <th>6631</th>\n",
       "      <td>16469</td>\n",
       "      <td>92</td>\n",
       "    </tr>\n",
       "    <tr>\n",
       "      <th>6632</th>\n",
       "      <td>16470</td>\n",
       "      <td>80</td>\n",
       "    </tr>\n",
       "  </tbody>\n",
       "</table>\n",
       "</div>"
      ],
      "text/plain": [
       "         id days to ship\n",
       "6628  16461          211\n",
       "6629  16462           68\n",
       "6630  16468           66\n",
       "6631  16469           92\n",
       "6632  16470           80"
      ]
     },
     "execution_count": 214,
     "metadata": {},
     "output_type": "execute_result"
    }
   ],
   "source": [
    "tech_to_ship_day_df.tail()"
   ]
  },
  {
   "cell_type": "code",
   "execution_count": 216,
   "metadata": {
    "collapsed": false
   },
   "outputs": [
    {
     "name": "stdout",
     "output_type": "stream",
     "text": [
      "(('https://www.kickstarter.com/projects/augustgermar/anonabox-a-tor-hardware-router?ref=category',),)\n"
     ]
    }
   ],
   "source": [
    "with con:\n",
    "    cur = con.cursor()\n",
    "    cur.execute(\"SELECT URL FROM Project_info WHERE Id = %s\",16470)\n",
    "    rows = cur.fetchall()\n",
    "    print rows\n",
    "    cur.close()"
   ]
  },
  {
   "cell_type": "code",
   "execution_count": 213,
   "metadata": {
    "collapsed": false
   },
   "outputs": [
    {
     "data": {
      "text/html": [
       "<div style=\"max-height:1000px;max-width:1500px;overflow:auto;\">\n",
       "<table border=\"1\" class=\"dataframe\">\n",
       "  <thead>\n",
       "    <tr style=\"text-align: right;\">\n",
       "      <th></th>\n",
       "      <th>id</th>\n",
       "      <th>month</th>\n",
       "      <th>month day</th>\n",
       "      <th>week day</th>\n",
       "      <th>hour</th>\n",
       "    </tr>\n",
       "  </thead>\n",
       "  <tbody>\n",
       "    <tr>\n",
       "      <th>6628</th>\n",
       "      <td>16461</td>\n",
       "      <td>11</td>\n",
       "      <td>1</td>\n",
       "      <td>5</td>\n",
       "      <td>18</td>\n",
       "    </tr>\n",
       "    <tr>\n",
       "      <th>6629</th>\n",
       "      <td>16462</td>\n",
       "      <td>9</td>\n",
       "      <td>23</td>\n",
       "      <td>1</td>\n",
       "      <td>18</td>\n",
       "    </tr>\n",
       "    <tr>\n",
       "      <th>6630</th>\n",
       "      <td>16468</td>\n",
       "      <td>9</td>\n",
       "      <td>25</td>\n",
       "      <td>3</td>\n",
       "      <td>19</td>\n",
       "    </tr>\n",
       "    <tr>\n",
       "      <th>6631</th>\n",
       "      <td>16469</td>\n",
       "      <td>8</td>\n",
       "      <td>30</td>\n",
       "      <td>5</td>\n",
       "      <td>19</td>\n",
       "    </tr>\n",
       "    <tr>\n",
       "      <th>6632</th>\n",
       "      <td>16470</td>\n",
       "      <td>10</td>\n",
       "      <td>12</td>\n",
       "      <td>6</td>\n",
       "      <td>20</td>\n",
       "    </tr>\n",
       "  </tbody>\n",
       "</table>\n",
       "</div>"
      ],
      "text/plain": [
       "         id  month  month day  week day  hour\n",
       "6628  16461     11          1         5    18\n",
       "6629  16462      9         23         1    18\n",
       "6630  16468      9         25         3    19\n",
       "6631  16469      8         30         5    19\n",
       "6632  16470     10         12         6    20"
      ]
     },
     "execution_count": 213,
     "metadata": {},
     "output_type": "execute_result"
    }
   ],
   "source": [
    "tech_time_df.tail()"
   ]
  },
  {
   "cell_type": "code",
   "execution_count": 217,
   "metadata": {
    "collapsed": true
   },
   "outputs": [],
   "source": [
    "tech_df['days to ship'] = tech_to_ship_day_df['days to ship']"
   ]
  },
  {
   "cell_type": "code",
   "execution_count": 218,
   "metadata": {
    "collapsed": true
   },
   "outputs": [],
   "source": [
    "tech_df['month'] = tech_time_df['month']\n",
    "tech_df['month day'] = tech_time_df['month day']\n",
    "tech_df['week day'] = tech_time_df['week day']\n",
    "tech_df['hour'] = tech_time_df['hour']"
   ]
  },
  {
   "cell_type": "code",
   "execution_count": 220,
   "metadata": {
    "collapsed": false
   },
   "outputs": [],
   "source": [
    "tech_df['campaign_dur'] = tech_df['campaign dur']/86400"
   ]
  },
  {
   "cell_type": "code",
   "execution_count": 222,
   "metadata": {
    "collapsed": false
   },
   "outputs": [],
   "source": [
    "tech_df.to_pickle('tech_df.save')"
   ]
  },
  {
   "cell_type": "code",
   "execution_count": 223,
   "metadata": {
    "collapsed": false
   },
   "outputs": [
    {
     "data": {
      "text/html": [
       "<div style=\"max-height:1000px;max-width:1500px;overflow:auto;\">\n",
       "<table border=\"1\" class=\"dataframe\">\n",
       "  <thead>\n",
       "    <tr style=\"text-align: right;\">\n",
       "      <th></th>\n",
       "      <th>id</th>\n",
       "      <th>pledged</th>\n",
       "      <th>goal</th>\n",
       "      <th>n rewards</th>\n",
       "      <th>min reward</th>\n",
       "      <th>max reward</th>\n",
       "      <th>intn ship</th>\n",
       "      <th>n creator backed</th>\n",
       "      <th>title n chars</th>\n",
       "      <th>blurb n chars</th>\n",
       "      <th>launch time</th>\n",
       "      <th>campaign dur</th>\n",
       "      <th>days to ship</th>\n",
       "      <th>month</th>\n",
       "      <th>month day</th>\n",
       "      <th>week day</th>\n",
       "      <th>hour</th>\n",
       "      <th>campaign_dur</th>\n",
       "    </tr>\n",
       "  </thead>\n",
       "  <tbody>\n",
       "    <tr>\n",
       "      <th>0</th>\n",
       "      <td>8018</td>\n",
       "      <td>90840</td>\n",
       "      <td>20000</td>\n",
       "      <td>13</td>\n",
       "      <td>1</td>\n",
       "      <td>10000</td>\n",
       "      <td>1</td>\n",
       "      <td>15</td>\n",
       "      <td>29</td>\n",
       "      <td>109</td>\n",
       "      <td>1391619643</td>\n",
       "      <td>2592000</td>\n",
       "      <td>176</td>\n",
       "      <td>2</td>\n",
       "      <td>5</td>\n",
       "      <td>2</td>\n",
       "      <td>12</td>\n",
       "      <td>30</td>\n",
       "    </tr>\n",
       "    <tr>\n",
       "      <th>1</th>\n",
       "      <td>8019</td>\n",
       "      <td>55833</td>\n",
       "      <td>50000</td>\n",
       "      <td>12</td>\n",
       "      <td>10</td>\n",
       "      <td>10000</td>\n",
       "      <td>1</td>\n",
       "      <td>1</td>\n",
       "      <td>33</td>\n",
       "      <td>105</td>\n",
       "      <td>1413818746</td>\n",
       "      <td>2595600</td>\n",
       "      <td>193</td>\n",
       "      <td>10</td>\n",
       "      <td>20</td>\n",
       "      <td>0</td>\n",
       "      <td>11</td>\n",
       "      <td>30.04167</td>\n",
       "    </tr>\n",
       "    <tr>\n",
       "      <th>2</th>\n",
       "      <td>8020</td>\n",
       "      <td>6804</td>\n",
       "      <td>5000</td>\n",
       "      <td>10</td>\n",
       "      <td>1</td>\n",
       "      <td>5000</td>\n",
       "      <td>-1</td>\n",
       "      <td>12</td>\n",
       "      <td>18</td>\n",
       "      <td>129</td>\n",
       "      <td>1361591034</td>\n",
       "      <td>5184000</td>\n",
       "      <td>67</td>\n",
       "      <td>2</td>\n",
       "      <td>22</td>\n",
       "      <td>4</td>\n",
       "      <td>22</td>\n",
       "      <td>60</td>\n",
       "    </tr>\n",
       "    <tr>\n",
       "      <th>3</th>\n",
       "      <td>8021</td>\n",
       "      <td>313218</td>\n",
       "      <td>5000</td>\n",
       "      <td>14</td>\n",
       "      <td>10</td>\n",
       "      <td>1000</td>\n",
       "      <td>-1</td>\n",
       "      <td>24</td>\n",
       "      <td>53</td>\n",
       "      <td>95</td>\n",
       "      <td>1344533619</td>\n",
       "      <td>2715981</td>\n",
       "      <td>83</td>\n",
       "      <td>8</td>\n",
       "      <td>9</td>\n",
       "      <td>3</td>\n",
       "      <td>13</td>\n",
       "      <td>31.43497</td>\n",
       "    </tr>\n",
       "    <tr>\n",
       "      <th>4</th>\n",
       "      <td>8022</td>\n",
       "      <td>74446</td>\n",
       "      <td>10000</td>\n",
       "      <td>9</td>\n",
       "      <td>9</td>\n",
       "      <td>300</td>\n",
       "      <td>1</td>\n",
       "      <td>0</td>\n",
       "      <td>22</td>\n",
       "      <td>122</td>\n",
       "      <td>1393448405</td>\n",
       "      <td>2627995</td>\n",
       "      <td>124</td>\n",
       "      <td>2</td>\n",
       "      <td>26</td>\n",
       "      <td>2</td>\n",
       "      <td>16</td>\n",
       "      <td>30.41661</td>\n",
       "    </tr>\n",
       "  </tbody>\n",
       "</table>\n",
       "</div>"
      ],
      "text/plain": [
       "     id pledged   goal n rewards min reward max reward intn ship  \\\n",
       "0  8018   90840  20000        13          1      10000         1   \n",
       "1  8019   55833  50000        12         10      10000         1   \n",
       "2  8020    6804   5000        10          1       5000        -1   \n",
       "3  8021  313218   5000        14         10       1000        -1   \n",
       "4  8022   74446  10000         9          9        300         1   \n",
       "\n",
       "  n creator backed title n chars blurb n chars launch time campaign dur  \\\n",
       "0               15            29           109  1391619643      2592000   \n",
       "1                1            33           105  1413818746      2595600   \n",
       "2               12            18           129  1361591034      5184000   \n",
       "3               24            53            95  1344533619      2715981   \n",
       "4                0            22           122  1393448405      2627995   \n",
       "\n",
       "  days to ship  month  month day  week day  hour campaign_dur  \n",
       "0          176      2          5         2    12           30  \n",
       "1          193     10         20         0    11     30.04167  \n",
       "2           67      2         22         4    22           60  \n",
       "3           83      8          9         3    13     31.43497  \n",
       "4          124      2         26         2    16     30.41661  "
      ]
     },
     "execution_count": 223,
     "metadata": {},
     "output_type": "execute_result"
    }
   ],
   "source": [
    "tech_df.head()"
   ]
  },
  {
   "cell_type": "code",
   "execution_count": null,
   "metadata": {
    "collapsed": true
   },
   "outputs": [],
   "source": []
  }
 ],
 "metadata": {
  "kernelspec": {
   "display_name": "Python 2",
   "language": "python",
   "name": "python2"
  },
  "language_info": {
   "codemirror_mode": {
    "name": "ipython",
    "version": 2
   },
   "file_extension": ".py",
   "mimetype": "text/x-python",
   "name": "python",
   "nbconvert_exporter": "python",
   "pygments_lexer": "ipython2",
   "version": "2.7.10"
  }
 },
 "nbformat": 4,
 "nbformat_minor": 0
}
