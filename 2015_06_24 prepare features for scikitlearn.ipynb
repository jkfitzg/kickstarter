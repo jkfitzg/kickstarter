{
 "cells": [
  {
   "cell_type": "code",
   "execution_count": 1,
   "metadata": {
    "collapsed": false
   },
   "outputs": [],
   "source": [
    "import pandas as pd\n",
    "import numpy as np\n",
    "import matplotlib.pyplot as plt\n",
    "import math as math\n",
    "from IPython.display import display\n",
    "from IPython.core.pylabtools import getfigs\n",
    "from sklearn import linear_model \n",
    "import time\n",
    "import pymysql as mdb\n",
    "import re\n",
    "#import seaborn as sns"
   ]
  },
  {
   "cell_type": "code",
   "execution_count": 2,
   "metadata": {
    "collapsed": true
   },
   "outputs": [],
   "source": [
    "%matplotlib qt"
   ]
  },
  {
   "cell_type": "code",
   "execution_count": 3,
   "metadata": {
    "collapsed": false
   },
   "outputs": [],
   "source": [
    "from prep_predictors_for_ml import *\n",
    "%load_ext autoreload\n",
    "%autoreload 2"
   ]
  },
  {
   "cell_type": "code",
   "execution_count": 5,
   "metadata": {
    "collapsed": true
   },
   "outputs": [],
   "source": [
    "con = mdb.connect('localhost','root','hobbes','kickstarter')"
   ]
  },
  {
   "cell_type": "code",
   "execution_count": 18,
   "metadata": {
    "collapsed": false
   },
   "outputs": [],
   "source": [
    "with con:\n",
    "    cur = con.cursor()\n",
    "    cur.execute(\"DESCRIBE Predictors\")\n",
    "    rows = cur.fetchall()\n",
    "    cur.close()"
   ]
  },
  {
   "cell_type": "code",
   "execution_count": 19,
   "metadata": {
    "collapsed": false
   },
   "outputs": [
    {
     "name": "stdout",
     "output_type": "stream",
     "text": [
      "['Id' 'Url' 'Outcome' 'Pledged' 'Goal' 'Category' 'Subcategory' 'Currency'\n",
      " 'Country' 'Location' 'Launch_s' 'Campaign_days' 'Title_n_words'\n",
      " 'Blurb_n_words' 'Year' 'Month' 'Month_day' 'Week_day' 'Hour' 'Has_video'\n",
      " 'N_rewards' 'Min_reward' 'Median_reward' 'Max_reward' 'Reward_ship_days'\n",
      " 'Ships_intn' 'N_links' 'N_figs' 'Body_n_words' 'N_creator_backed'\n",
      " 'N_creator_created']\n"
     ]
    }
   ],
   "source": [
    "col_names = np.array([row[0] for row in rows])\n",
    "print col_names"
   ]
  },
  {
   "cell_type": "code",
   "execution_count": 5,
   "metadata": {
    "collapsed": false
   },
   "outputs": [],
   "source": [
    "# in sql query, specify: \n",
    "# launch_t > 0, \n",
    "# n_rewards > -1, \n",
    "# ship_date > -1\n",
    "# launch t >= 1331091810 (March 6, 2012 - earliest intn ship date)\n",
    "# status != live"
   ]
  },
  {
   "cell_type": "code",
   "execution_count": 20,
   "metadata": {
    "collapsed": false
   },
   "outputs": [],
   "source": [
    "with con:\n",
    "    cur = con.cursor()\n",
    "    cur.execute(\"SELECT * FROM Predictors WHERE \\\n",
    "                Launch_s > 1331091810 AND Reward_ship_days >= 0 AND N_creator_backed > -1 \\\n",
    "                AND N_rewards > -1 AND Outcome != 'live' \\\n",
    "                AND Country = 'US' AND Currency = 'USD'\")\n",
    "    predictors_rows = cur.fetchall()\n",
    "    cur.close()"
   ]
  },
  {
   "cell_type": "code",
   "execution_count": 6,
   "metadata": {
    "collapsed": true
   },
   "outputs": [],
   "source": [
    "# run sql query, convert to df"
   ]
  },
  {
   "cell_type": "code",
   "execution_count": 25,
   "metadata": {
    "collapsed": false
   },
   "outputs": [],
   "source": [
    "new_predictors_df = pd.DataFrame(np.asarray(predictors_rows),\\\n",
    "                                 columns=col_names)"
   ]
  },
  {
   "cell_type": "code",
   "execution_count": 26,
   "metadata": {
    "collapsed": false
   },
   "outputs": [
    {
     "data": {
      "text/html": [
       "<div style=\"max-height:1000px;max-width:1500px;overflow:auto;\">\n",
       "<table border=\"1\" class=\"dataframe\">\n",
       "  <thead>\n",
       "    <tr style=\"text-align: right;\">\n",
       "      <th></th>\n",
       "      <th>Id</th>\n",
       "      <th>Url</th>\n",
       "      <th>Outcome</th>\n",
       "      <th>Pledged</th>\n",
       "      <th>Goal</th>\n",
       "      <th>Category</th>\n",
       "      <th>Subcategory</th>\n",
       "      <th>Currency</th>\n",
       "      <th>Country</th>\n",
       "      <th>Location</th>\n",
       "      <th>...</th>\n",
       "      <th>Min_reward</th>\n",
       "      <th>Median_reward</th>\n",
       "      <th>Max_reward</th>\n",
       "      <th>Reward_ship_days</th>\n",
       "      <th>Ships_intn</th>\n",
       "      <th>N_links</th>\n",
       "      <th>N_figs</th>\n",
       "      <th>Body_n_words</th>\n",
       "      <th>N_creator_backed</th>\n",
       "      <th>N_creator_created</th>\n",
       "    </tr>\n",
       "  </thead>\n",
       "  <tbody>\n",
       "    <tr>\n",
       "      <th>115194</th>\n",
       "      <td>191382</td>\n",
       "      <td>https://www.kickstarter.com/projects/209708895...</td>\n",
       "      <td>suspended</td>\n",
       "      <td>0</td>\n",
       "      <td>31</td>\n",
       "      <td>art</td>\n",
       "      <td>Painting</td>\n",
       "      <td>USD</td>\n",
       "      <td>US</td>\n",
       "      <td>lakeland-fl</td>\n",
       "      <td>...</td>\n",
       "      <td>8</td>\n",
       "      <td>31</td>\n",
       "      <td>1001</td>\n",
       "      <td>111</td>\n",
       "      <td>0</td>\n",
       "      <td>2</td>\n",
       "      <td>0</td>\n",
       "      <td>504</td>\n",
       "      <td>0</td>\n",
       "      <td>1</td>\n",
       "    </tr>\n",
       "    <tr>\n",
       "      <th>115195</th>\n",
       "      <td>191383</td>\n",
       "      <td>https://www.kickstarter.com/projects/thelifecu...</td>\n",
       "      <td>suspended</td>\n",
       "      <td>10084</td>\n",
       "      <td>15000</td>\n",
       "      <td>art</td>\n",
       "      <td>Public Art</td>\n",
       "      <td>USD</td>\n",
       "      <td>US</td>\n",
       "      <td>black-rock-city-nv</td>\n",
       "      <td>...</td>\n",
       "      <td>10</td>\n",
       "      <td>200</td>\n",
       "      <td>1000</td>\n",
       "      <td>155</td>\n",
       "      <td>1</td>\n",
       "      <td>1</td>\n",
       "      <td>7</td>\n",
       "      <td>1246</td>\n",
       "      <td>130</td>\n",
       "      <td>2</td>\n",
       "    </tr>\n",
       "  </tbody>\n",
       "</table>\n",
       "<p>2 rows × 31 columns</p>\n",
       "</div>"
      ],
      "text/plain": [
       "            Id                                                Url    Outcome  \\\n",
       "115194  191382  https://www.kickstarter.com/projects/209708895...  suspended   \n",
       "115195  191383  https://www.kickstarter.com/projects/thelifecu...  suspended   \n",
       "\n",
       "       Pledged   Goal Category Subcategory Currency Country  \\\n",
       "115194       0     31      art    Painting      USD      US   \n",
       "115195   10084  15000      art  Public Art      USD      US   \n",
       "\n",
       "                  Location        ...        Min_reward Median_reward  \\\n",
       "115194         lakeland-fl        ...                 8            31   \n",
       "115195  black-rock-city-nv        ...                10           200   \n",
       "\n",
       "       Max_reward Reward_ship_days Ships_intn N_links N_figs Body_n_words  \\\n",
       "115194       1001              111          0       2      0          504   \n",
       "115195       1000              155          1       1      7         1246   \n",
       "\n",
       "       N_creator_backed N_creator_created  \n",
       "115194                0                 1  \n",
       "115195              130                 2  \n",
       "\n",
       "[2 rows x 31 columns]"
      ]
     },
     "execution_count": 26,
     "metadata": {},
     "output_type": "execute_result"
    }
   ],
   "source": [
    "new_predictors_df.tail(2)"
   ]
  },
  {
   "cell_type": "code",
   "execution_count": 28,
   "metadata": {
    "collapsed": false
   },
   "outputs": [],
   "source": [
    "new_predictors_df.to_pickle('june24_predictors_df.save')"
   ]
  },
  {
   "cell_type": "code",
   "execution_count": 29,
   "metadata": {
    "collapsed": false
   },
   "outputs": [
    {
     "name": "stdout",
     "output_type": "stream",
     "text": [
      "['Id' 'Url' 'Outcome' 'Pledged' 'Goal' 'Category' 'Subcategory' 'Currency'\n",
      " 'Country' 'Location' 'Launch_s' 'Campaign_days' 'Title_n_words'\n",
      " 'Blurb_n_words' 'Year' 'Month' 'Month_day' 'Week_day' 'Hour' 'Has_video'\n",
      " 'N_rewards' 'Min_reward' 'Median_reward' 'Max_reward' 'Reward_ship_days'\n",
      " 'Ships_intn' 'N_links' 'N_figs' 'Body_n_words' 'N_creator_backed'\n",
      " 'N_creator_created']\n"
     ]
    }
   ],
   "source": [
    "print col_names"
   ]
  },
  {
   "cell_type": "code",
   "execution_count": 41,
   "metadata": {
    "collapsed": true
   },
   "outputs": [],
   "source": [
    "# to include \n",
    "X_cols = ['Goal','Campaign_days','Title_n_words','Blurb_n_words',\n",
    "          'Has_video','N_rewards','Min_reward',\n",
    "          'Median_reward','Max_reward','Reward_ship_days','N_links',\n",
    "          'N_figs','Body_n_words','N_creator_backed','N_creator_created']"
   ]
  },
  {
   "cell_type": "code",
   "execution_count": 42,
   "metadata": {
    "collapsed": false
   },
   "outputs": [],
   "source": [
    "new_X_df = new_predictors_df.ix[:,X_cols]"
   ]
  },
  {
   "cell_type": "code",
   "execution_count": 43,
   "metadata": {
    "collapsed": false,
    "scrolled": true
   },
   "outputs": [
    {
     "data": {
      "text/html": [
       "<div style=\"max-height:1000px;max-width:1500px;overflow:auto;\">\n",
       "<table border=\"1\" class=\"dataframe\">\n",
       "  <thead>\n",
       "    <tr style=\"text-align: right;\">\n",
       "      <th></th>\n",
       "      <th>Goal</th>\n",
       "      <th>Campaign_days</th>\n",
       "      <th>Title_n_words</th>\n",
       "      <th>Blurb_n_words</th>\n",
       "      <th>Has_video</th>\n",
       "      <th>N_rewards</th>\n",
       "      <th>Min_reward</th>\n",
       "      <th>Median_reward</th>\n",
       "      <th>Max_reward</th>\n",
       "      <th>Reward_ship_days</th>\n",
       "      <th>N_links</th>\n",
       "      <th>N_figs</th>\n",
       "      <th>Body_n_words</th>\n",
       "      <th>N_creator_backed</th>\n",
       "      <th>N_creator_created</th>\n",
       "    </tr>\n",
       "  </thead>\n",
       "  <tbody>\n",
       "    <tr>\n",
       "      <th>0</th>\n",
       "      <td>5000</td>\n",
       "      <td>30</td>\n",
       "      <td>2</td>\n",
       "      <td>17</td>\n",
       "      <td>1</td>\n",
       "      <td>8</td>\n",
       "      <td>10</td>\n",
       "      <td>175</td>\n",
       "      <td>5000</td>\n",
       "      <td>110</td>\n",
       "      <td>1</td>\n",
       "      <td>0</td>\n",
       "      <td>812</td>\n",
       "      <td>18</td>\n",
       "      <td>4</td>\n",
       "    </tr>\n",
       "    <tr>\n",
       "      <th>1</th>\n",
       "      <td>10000</td>\n",
       "      <td>30</td>\n",
       "      <td>8</td>\n",
       "      <td>21</td>\n",
       "      <td>1</td>\n",
       "      <td>10</td>\n",
       "      <td>5</td>\n",
       "      <td>125</td>\n",
       "      <td>5000</td>\n",
       "      <td>31</td>\n",
       "      <td>5</td>\n",
       "      <td>1</td>\n",
       "      <td>792</td>\n",
       "      <td>7</td>\n",
       "      <td>1</td>\n",
       "    </tr>\n",
       "    <tr>\n",
       "      <th>2</th>\n",
       "      <td>18000</td>\n",
       "      <td>27</td>\n",
       "      <td>5</td>\n",
       "      <td>14</td>\n",
       "      <td>1</td>\n",
       "      <td>19</td>\n",
       "      <td>5</td>\n",
       "      <td>500</td>\n",
       "      <td>10000</td>\n",
       "      <td>4</td>\n",
       "      <td>0</td>\n",
       "      <td>0</td>\n",
       "      <td>540</td>\n",
       "      <td>3</td>\n",
       "      <td>2</td>\n",
       "    </tr>\n",
       "  </tbody>\n",
       "</table>\n",
       "</div>"
      ],
      "text/plain": [
       "    Goal Campaign_days Title_n_words Blurb_n_words Has_video N_rewards  \\\n",
       "0   5000            30             2            17         1         8   \n",
       "1  10000            30             8            21         1        10   \n",
       "2  18000            27             5            14         1        19   \n",
       "\n",
       "  Min_reward Median_reward Max_reward Reward_ship_days N_links N_figs  \\\n",
       "0         10           175       5000              110       1      0   \n",
       "1          5           125       5000               31       5      1   \n",
       "2          5           500      10000                4       0      0   \n",
       "\n",
       "  Body_n_words N_creator_backed N_creator_created  \n",
       "0          812               18                 4  \n",
       "1          792                7                 1  \n",
       "2          540                3                 2  "
      ]
     },
     "execution_count": 43,
     "metadata": {},
     "output_type": "execute_result"
    }
   ],
   "source": [
    "new_X_df.head(3)"
   ]
  },
  {
   "cell_type": "code",
   "execution_count": 45,
   "metadata": {
    "collapsed": false
   },
   "outputs": [
    {
     "data": {
      "text/html": [
       "<div style=\"max-height:1000px;max-width:1500px;overflow:auto;\">\n",
       "<table border=\"1\" class=\"dataframe\">\n",
       "  <thead>\n",
       "    <tr style=\"text-align: right;\">\n",
       "      <th></th>\n",
       "      <th>Outcome</th>\n",
       "    </tr>\n",
       "  </thead>\n",
       "  <tbody>\n",
       "    <tr>\n",
       "      <th>0</th>\n",
       "      <td>1</td>\n",
       "    </tr>\n",
       "    <tr>\n",
       "      <th>1</th>\n",
       "      <td>1</td>\n",
       "    </tr>\n",
       "  </tbody>\n",
       "</table>\n",
       "</div>"
      ],
      "text/plain": [
       "   Outcome\n",
       "0        1\n",
       "1        1"
      ]
     },
     "execution_count": 45,
     "metadata": {},
     "output_type": "execute_result"
    }
   ],
   "source": [
    "outcomes_df = make_success_fail_df(new_predictors_df.ix[:,['Pledged','Goal']])\n",
    "outcomes_df.head(2)"
   ]
  },
  {
   "cell_type": "code",
   "execution_count": 46,
   "metadata": {
    "collapsed": false
   },
   "outputs": [
    {
     "data": {
      "text/html": [
       "<div style=\"max-height:1000px;max-width:1500px;overflow:auto;\">\n",
       "<table border=\"1\" class=\"dataframe\">\n",
       "  <thead>\n",
       "    <tr style=\"text-align: right;\">\n",
       "      <th></th>\n",
       "      <th>Ships_intn</th>\n",
       "    </tr>\n",
       "  </thead>\n",
       "  <tbody>\n",
       "    <tr>\n",
       "      <th>0</th>\n",
       "      <td>0</td>\n",
       "    </tr>\n",
       "    <tr>\n",
       "      <th>1</th>\n",
       "      <td>0</td>\n",
       "    </tr>\n",
       "  </tbody>\n",
       "</table>\n",
       "</div>"
      ],
      "text/plain": [
       "   Ships_intn\n",
       "0           0\n",
       "1           0"
      ]
     },
     "execution_count": 46,
     "metadata": {},
     "output_type": "execute_result"
    }
   ],
   "source": [
    "new_ships_intn_df = make_ships_intn_df(new_predictors_df)\n",
    "new_ships_intn_df.head(2)"
   ]
  },
  {
   "cell_type": "code",
   "execution_count": 47,
   "metadata": {
    "collapsed": false
   },
   "outputs": [
    {
     "data": {
      "text/html": [
       "<div style=\"max-height:1000px;max-width:1500px;overflow:auto;\">\n",
       "<table border=\"1\" class=\"dataframe\">\n",
       "  <thead>\n",
       "    <tr style=\"text-align: right;\">\n",
       "      <th></th>\n",
       "      <th>art</th>\n",
       "      <th>comics</th>\n",
       "      <th>crafts</th>\n",
       "      <th>dance</th>\n",
       "      <th>design</th>\n",
       "      <th>fashion</th>\n",
       "      <th>film</th>\n",
       "      <th>food</th>\n",
       "      <th>games</th>\n",
       "      <th>journalism</th>\n",
       "      <th>music</th>\n",
       "      <th>photography</th>\n",
       "      <th>publishing</th>\n",
       "      <th>technology</th>\n",
       "      <th>theater</th>\n",
       "    </tr>\n",
       "  </thead>\n",
       "  <tbody>\n",
       "    <tr>\n",
       "      <th>0</th>\n",
       "      <td>0</td>\n",
       "      <td>0</td>\n",
       "      <td>0</td>\n",
       "      <td>0</td>\n",
       "      <td>0</td>\n",
       "      <td>0</td>\n",
       "      <td>0</td>\n",
       "      <td>0</td>\n",
       "      <td>0</td>\n",
       "      <td>0</td>\n",
       "      <td>0</td>\n",
       "      <td>0</td>\n",
       "      <td>0</td>\n",
       "      <td>0</td>\n",
       "      <td>1</td>\n",
       "    </tr>\n",
       "    <tr>\n",
       "      <th>1</th>\n",
       "      <td>0</td>\n",
       "      <td>0</td>\n",
       "      <td>0</td>\n",
       "      <td>0</td>\n",
       "      <td>0</td>\n",
       "      <td>0</td>\n",
       "      <td>0</td>\n",
       "      <td>0</td>\n",
       "      <td>0</td>\n",
       "      <td>0</td>\n",
       "      <td>0</td>\n",
       "      <td>0</td>\n",
       "      <td>0</td>\n",
       "      <td>0</td>\n",
       "      <td>1</td>\n",
       "    </tr>\n",
       "  </tbody>\n",
       "</table>\n",
       "</div>"
      ],
      "text/plain": [
       "   art  comics  crafts  dance  design  fashion  film  food  games  journalism  \\\n",
       "0    0       0       0      0       0        0     0     0      0           0   \n",
       "1    0       0       0      0       0        0     0     0      0           0   \n",
       "\n",
       "   music  photography  publishing  technology  theater  \n",
       "0      0            0           0           0        1  \n",
       "1      0            0           0           0        1  "
      ]
     },
     "execution_count": 47,
     "metadata": {},
     "output_type": "execute_result"
    }
   ],
   "source": [
    "categories_dummy_df = make_categorical_df_from_str(new_predictors_df['Category'])\n",
    "categories_dummy_df.head(2)"
   ]
  },
  {
   "cell_type": "code",
   "execution_count": 49,
   "metadata": {
    "collapsed": false
   },
   "outputs": [
    {
     "data": {
      "text/html": [
       "<div style=\"max-height:1000px;max-width:1500px;overflow:auto;\">\n",
       "<table border=\"1\" class=\"dataframe\">\n",
       "  <thead>\n",
       "    <tr style=\"text-align: right;\">\n",
       "      <th></th>\n",
       "      <th>Mon</th>\n",
       "      <th>Tue</th>\n",
       "      <th>Wed</th>\n",
       "      <th>Thu</th>\n",
       "      <th>Fri</th>\n",
       "      <th>Sat</th>\n",
       "      <th>Sun</th>\n",
       "    </tr>\n",
       "  </thead>\n",
       "  <tbody>\n",
       "    <tr>\n",
       "      <th>115194</th>\n",
       "      <td>1</td>\n",
       "      <td>0</td>\n",
       "      <td>0</td>\n",
       "      <td>0</td>\n",
       "      <td>0</td>\n",
       "      <td>0</td>\n",
       "      <td>0</td>\n",
       "    </tr>\n",
       "    <tr>\n",
       "      <th>115195</th>\n",
       "      <td>0</td>\n",
       "      <td>0</td>\n",
       "      <td>0</td>\n",
       "      <td>1</td>\n",
       "      <td>0</td>\n",
       "      <td>0</td>\n",
       "      <td>0</td>\n",
       "    </tr>\n",
       "  </tbody>\n",
       "</table>\n",
       "</div>"
      ],
      "text/plain": [
       "        Mon  Tue  Wed  Thu  Fri  Sat  Sun\n",
       "115194    1    0    0    0    0    0    0\n",
       "115195    0    0    0    1    0    0    0"
      ]
     },
     "execution_count": 49,
     "metadata": {},
     "output_type": "execute_result"
    }
   ],
   "source": [
    "weekday_df = make_categorical_df_from_num(new_predictors_df.loc[:,['Week_day']],\\\n",
    "                 col_names=['Mon','Tue','Wed','Thu','Fri','Sat','Sun'])\n",
    "weekday_df.tail(2)"
   ]
  },
  {
   "cell_type": "code",
   "execution_count": 50,
   "metadata": {
    "collapsed": false
   },
   "outputs": [],
   "source": [
    "# hour_df = make_categorical_df_from_num(predictor_df.loc[:,['Hour']],append_str='h')\n",
    "# hour_df.tail(3)"
   ]
  },
  {
   "cell_type": "code",
   "execution_count": 51,
   "metadata": {
    "collapsed": false
   },
   "outputs": [],
   "source": [
    "# month_day_df = make_categorical_df_from_num(predictor_df.loc[:,['Monday_day']],col_names=range(1,32),append_str='d') # fix this misspelling\n",
    "# month_day_df.tail(2)"
   ]
  },
  {
   "cell_type": "code",
   "execution_count": 52,
   "metadata": {
    "collapsed": false
   },
   "outputs": [],
   "source": [
    "# month_df = make_categorical_df_from_num(predictor_df.loc[:,['Month']],\\\n",
    "#          col_names=['Jan','Feb','Mar','Apr','May','Jun','Jul',\\\n",
    "#                     'Aug','Sep','Oct','Nov','Dec'])\n",
    "# month_df.tail(2)"
   ]
  },
  {
   "cell_type": "code",
   "execution_count": 53,
   "metadata": {
    "collapsed": false
   },
   "outputs": [],
   "source": [
    "X_df = pd.concat([new_X_df,categories_dummy_df, \n",
    "                  new_ships_intn_df,weekday_df],axis=1)"
   ]
  },
  {
   "cell_type": "code",
   "execution_count": 54,
   "metadata": {
    "collapsed": false
   },
   "outputs": [
    {
     "data": {
      "text/html": [
       "<div style=\"max-height:1000px;max-width:1500px;overflow:auto;\">\n",
       "<table border=\"1\" class=\"dataframe\">\n",
       "  <thead>\n",
       "    <tr style=\"text-align: right;\">\n",
       "      <th></th>\n",
       "      <th>Goal</th>\n",
       "      <th>Campaign_days</th>\n",
       "      <th>Title_n_words</th>\n",
       "      <th>Blurb_n_words</th>\n",
       "      <th>Has_video</th>\n",
       "      <th>N_rewards</th>\n",
       "      <th>Min_reward</th>\n",
       "      <th>Median_reward</th>\n",
       "      <th>Max_reward</th>\n",
       "      <th>Reward_ship_days</th>\n",
       "      <th>...</th>\n",
       "      <th>technology</th>\n",
       "      <th>theater</th>\n",
       "      <th>Ships_intn</th>\n",
       "      <th>Mon</th>\n",
       "      <th>Tue</th>\n",
       "      <th>Wed</th>\n",
       "      <th>Thu</th>\n",
       "      <th>Fri</th>\n",
       "      <th>Sat</th>\n",
       "      <th>Sun</th>\n",
       "    </tr>\n",
       "  </thead>\n",
       "  <tbody>\n",
       "    <tr>\n",
       "      <th>0</th>\n",
       "      <td>5000</td>\n",
       "      <td>30</td>\n",
       "      <td>2</td>\n",
       "      <td>17</td>\n",
       "      <td>1</td>\n",
       "      <td>8</td>\n",
       "      <td>10</td>\n",
       "      <td>175</td>\n",
       "      <td>5000</td>\n",
       "      <td>110</td>\n",
       "      <td>...</td>\n",
       "      <td>0</td>\n",
       "      <td>1</td>\n",
       "      <td>0</td>\n",
       "      <td>0</td>\n",
       "      <td>0</td>\n",
       "      <td>0</td>\n",
       "      <td>0</td>\n",
       "      <td>0</td>\n",
       "      <td>0</td>\n",
       "      <td>1</td>\n",
       "    </tr>\n",
       "    <tr>\n",
       "      <th>1</th>\n",
       "      <td>10000</td>\n",
       "      <td>30</td>\n",
       "      <td>8</td>\n",
       "      <td>21</td>\n",
       "      <td>1</td>\n",
       "      <td>10</td>\n",
       "      <td>5</td>\n",
       "      <td>125</td>\n",
       "      <td>5000</td>\n",
       "      <td>31</td>\n",
       "      <td>...</td>\n",
       "      <td>0</td>\n",
       "      <td>1</td>\n",
       "      <td>0</td>\n",
       "      <td>0</td>\n",
       "      <td>0</td>\n",
       "      <td>0</td>\n",
       "      <td>0</td>\n",
       "      <td>0</td>\n",
       "      <td>1</td>\n",
       "      <td>0</td>\n",
       "    </tr>\n",
       "  </tbody>\n",
       "</table>\n",
       "<p>2 rows × 38 columns</p>\n",
       "</div>"
      ],
      "text/plain": [
       "    Goal Campaign_days Title_n_words Blurb_n_words Has_video N_rewards  \\\n",
       "0   5000            30             2            17         1         8   \n",
       "1  10000            30             8            21         1        10   \n",
       "\n",
       "  Min_reward Median_reward Max_reward Reward_ship_days ...  technology  \\\n",
       "0         10           175       5000              110 ...           0   \n",
       "1          5           125       5000               31 ...           0   \n",
       "\n",
       "  theater Ships_intn Mon Tue  Wed  Thu  Fri  Sat  Sun  \n",
       "0       1          0   0   0    0    0    0    0    1  \n",
       "1       1          0   0   0    0    0    0    1    0  \n",
       "\n",
       "[2 rows x 38 columns]"
      ]
     },
     "execution_count": 54,
     "metadata": {},
     "output_type": "execute_result"
    }
   ],
   "source": [
    "X_df.head(2)"
   ]
  },
  {
   "cell_type": "code",
   "execution_count": 55,
   "metadata": {
    "collapsed": true
   },
   "outputs": [],
   "source": [
    "X_df.to_pickle('new_X_df.save')"
   ]
  },
  {
   "cell_type": "code",
   "execution_count": 56,
   "metadata": {
    "collapsed": true
   },
   "outputs": [],
   "source": [
    "outcomes_df.to_pickle('new_outcomes_df.save')"
   ]
  }
 ],
 "metadata": {
  "kernelspec": {
   "display_name": "Python 2",
   "language": "python",
   "name": "python2"
  },
  "language_info": {
   "codemirror_mode": {
    "name": "ipython",
    "version": 2
   },
   "file_extension": ".py",
   "mimetype": "text/x-python",
   "name": "python",
   "nbconvert_exporter": "python",
   "pygments_lexer": "ipython2",
   "version": "2.7.10"
  }
 },
 "nbformat": 4,
 "nbformat_minor": 0
}
