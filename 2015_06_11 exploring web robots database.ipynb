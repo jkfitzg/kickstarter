{
 "cells": [
  {
   "cell_type": "code",
   "execution_count": 1,
   "metadata": {
    "collapsed": true
   },
   "outputs": [],
   "source": [
    "# exploring data in my new database!"
   ]
  },
  {
   "cell_type": "code",
   "execution_count": 34,
   "metadata": {
    "collapsed": false
   },
   "outputs": [],
   "source": [
    "import pymysql as mdb\n",
    "import json\n",
    "import re\n",
    "import pandas as pd\n",
    "import numpy as np\n",
    "import pprint\n",
    "import matplotlib.pyplot as plt\n",
    "import math as math\n",
    "from IPython.display import display\n",
    "from IPython.core.pylabtools import getfigs\n",
    "import seaborn as sns"
   ]
  },
  {
   "cell_type": "code",
   "execution_count": 22,
   "metadata": {
    "collapsed": true
   },
   "outputs": [],
   "source": [
    "%matplotlib qt\n",
    "#matplotlib inline"
   ]
  },
  {
   "cell_type": "code",
   "execution_count": 5,
   "metadata": {
    "collapsed": false
   },
   "outputs": [],
   "source": [
    "con = mdb.connect('localhost','root','hobbes','kickstarter');"
   ]
  },
  {
   "cell_type": "code",
   "execution_count": 6,
   "metadata": {
    "collapsed": false
   },
   "outputs": [
    {
     "name": "stdout",
     "output_type": "stream",
     "text": [
      "('information_schema',)\n",
      "('kickscrape',)\n",
      "('kickstarter',)\n",
      "('mysql',)\n",
      "('performance_schema',)\n",
      "('test',)\n",
      "('testdb',)\n",
      "('world_innodb',)\n"
     ]
    }
   ],
   "source": [
    "with con:\n",
    "    cur = con.cursor()\n",
    "    cur.execute(\"SHOW DATABASES\")\n",
    "    \n",
    "    rows = cur.fetchall()\n",
    "    for row in rows:\n",
    "        print row\n",
    "    cur.close()"
   ]
  },
  {
   "cell_type": "code",
   "execution_count": 7,
   "metadata": {
    "collapsed": false
   },
   "outputs": [
    {
     "name": "stdout",
     "output_type": "stream",
     "text": [
      "Id\n",
      "Creator_name\n",
      "Creator_url\n",
      "Currency\n",
      "Project_id\n",
      "Category_name\n",
      "Category_slug\n",
      "Goal\n",
      "Pledged\n",
      "Project_date\n",
      "Country\n",
      "Location_club\n",
      "Location_name\n",
      "Blurb\n",
      "N_backers\n",
      "Name\n",
      "URL\n",
      "Launch_time\n",
      "End_time\n"
     ]
    }
   ],
   "source": [
    "with con:\n",
    "    cur = con.cursor()\n",
    "    cur.execute(\"DESCRIBE Project_info\")\n",
    "    rows = cur.fetchall()\n",
    "    for row in rows:\n",
    "        print row[0]\n",
    "    cur.close()"
   ]
  },
  {
   "cell_type": "code",
   "execution_count": 8,
   "metadata": {
    "collapsed": false
   },
   "outputs": [],
   "source": [
    "with con:\n",
    "    cur = con.cursor()\n",
    "    cur.execute(\"SELECT DISTINCT Category_name from Project_info\")\n",
    "    unique_category_names = cur.fetchall()\n",
    "    \n",
    "    cur.execute(\"SELECT DISTINCT Category_slug from Project_info\")\n",
    "    unique_category_slugs = cur.fetchall()\n",
    "    \n",
    "    cur.close()"
   ]
  },
  {
   "cell_type": "code",
   "execution_count": 14,
   "metadata": {
    "collapsed": false
   },
   "outputs": [
    {
     "name": "stdout",
     "output_type": "stream",
     "text": [
      "theater/musical\n",
      "theater\n",
      "theater/plays\n",
      "theater/spaces\n",
      "theater/immersive\n",
      "theater/festivals\n",
      "theater/experimental\n",
      "technology/gadgets\n",
      "technology/sound\n",
      "technology\n",
      "technology/apps\n",
      "technology/wearables\n",
      "technology/diy electronics\n",
      "technology/hardware\n",
      "technology/web\n",
      "technology/space exploration\n",
      "technology/3d printing\n",
      "technology/robots\n",
      "technology/makerspaces\n",
      "technology/software\n",
      "technology/camera equipment\n",
      "technology/fabrication tools\n",
      "technology/flight\n",
      "publishing\n",
      "publishing/children's book\n",
      "publishing/art book\n",
      "publishing/fiction\n",
      "publishing/anthologies\n",
      "publishing/zines\n",
      "publishing/literary journals\n",
      "publishing/radio & podcast\n",
      "publishing/nonfiction\n",
      "publishing/poetry\n",
      "publishing/young adult\n",
      "publishing/periodical\n",
      "publishing/calendars\n",
      "publishing/academic\n",
      "publishing/translations\n",
      "photography/photobooks\n",
      "photography/fine art\n",
      "photography\n",
      "photography/places\n",
      "photography/nature\n",
      "photography/animals\n",
      "photography/people\n",
      "music/electronic music\n",
      "music/indie rock\n",
      "music/rock\n",
      "music\n",
      "music/classical music\n",
      "music/country & folk\n",
      "music/hip-hop\n",
      "music/metal\n",
      "music/pop\n",
      "music/jazz\n",
      "music/punk\n",
      "music/world music\n",
      "music/kids\n",
      "music/faith\n",
      "music/blues\n",
      "music/r&b\n",
      "music/latin\n",
      "music/chiptune\n",
      "journalism/audio\n",
      "journalism/print\n",
      "journalism/web\n",
      "journalism/video\n",
      "journalism\n",
      "journalism/photo\n",
      "games/video games\n",
      "games/tabletop games\n",
      "games/gaming hardware\n",
      "games/playing cards\n",
      "games/puzzles\n",
      "games\n",
      "games/mobile games\n",
      "games/live games\n",
      "food/food trucks\n",
      "food/drinks\n",
      "food/farmer's markets\n",
      "food\n",
      "food/small batch\n",
      "food/cookbooks\n",
      "food/events\n",
      "food/farms\n",
      "food/restaurants\n",
      "food/spaces\n",
      "food/vegan\n",
      "food/community gardens\n",
      "food/bacon\n",
      "film & video/horror\n",
      "film & video/shorts\n",
      "film & video/animation\n",
      "film & video/narrative film\n",
      "film & video/documentary\n",
      "film & video/comedy\n",
      "film & video\n",
      "film & video/webseries\n",
      "film & video/drama\n",
      "film & video/science fiction\n",
      "film & video/thrillers\n",
      "film & video/television\n",
      "film & video/music videos\n",
      "film & video/experimental\n",
      "film & video/action\n",
      "film & video/fantasy\n",
      "film & video/festivals\n",
      "film & video/movie theaters\n",
      "film & video/family\n",
      "film & video/romance\n",
      "fashion/apparel\n",
      "fashion/footwear\n",
      "fashion/accessories\n",
      "fashion\n",
      "fashion/ready-to-wear\n",
      "fashion/jewelry\n",
      "fashion/childrenswear\n",
      "fashion/couture\n",
      "fashion/pet fashion\n",
      "design/product design\n",
      "design/architecture\n",
      "design\n",
      "design/graphic design\n",
      "design/civic design\n",
      "design/interactive design\n",
      "design/typography\n",
      "dance/performances\n",
      "dance\n",
      "dance/spaces\n",
      "dance/workshops\n",
      "dance/residencies\n",
      "crafts/woodworking\n",
      "crafts\n",
      "crafts/diy\n",
      "crafts/knitting\n",
      "crafts/quilts\n",
      "crafts/candles\n",
      "crafts/stationery\n",
      "crafts/crochet\n",
      "crafts/printing\n",
      "crafts/glass\n",
      "crafts/letterpress\n",
      "crafts/taxidermy\n",
      "crafts/weaving\n",
      "crafts/pottery\n",
      "crafts/embroidery\n",
      "comics/graphic novels\n",
      "comics/events\n",
      "comics/webcomics\n",
      "comics/anthologies\n",
      "comics/comic books\n",
      "comics\n",
      "art/installations\n",
      "art\n",
      "art/painting\n",
      "art/mixed media\n",
      "art/performance art\n",
      "art/public art\n",
      "art/ceramics\n",
      "art/illustration\n",
      "art/conceptual art\n",
      "art/sculpture\n",
      "art/textiles\n",
      "art/digital art\n",
      "art/video art\n"
     ]
    }
   ],
   "source": [
    "for cat in unique_category_slugs:\n",
    "    print cat[0]"
   ]
  },
  {
   "cell_type": "code",
   "execution_count": 17,
   "metadata": {
    "collapsed": false
   },
   "outputs": [
    {
     "name": "stdout",
     "output_type": "stream",
     "text": [
      "theater\n",
      "technology\n",
      "publishing\n",
      "photography\n",
      "music\n",
      "journalism\n",
      "games\n",
      "food\n",
      "film & video\n",
      "fashion\n",
      "design\n",
      "dance\n",
      "crafts\n",
      "comics\n",
      "art\n"
     ]
    }
   ],
   "source": [
    "# print master categories\n",
    "for cat in unique_category_slugs:\n",
    "    this_cat = cat[0]\n",
    "    match = re.search(r'\\/', this_cat)\n",
    "    # If-statement after search() tests if it succeeded\n",
    "    if not match:                      \n",
    "        print this_cat"
   ]
  },
  {
   "cell_type": "code",
   "execution_count": 20,
   "metadata": {
    "collapsed": true
   },
   "outputs": [],
   "source": [
    "# start by plotting pledged, goal"
   ]
  },
  {
   "cell_type": "code",
   "execution_count": 20,
   "metadata": {
    "collapsed": false
   },
   "outputs": [],
   "source": [
    "with con:\n",
    "    cur = con.cursor()\n",
    "    cur.execute(\"SELECT Goal, Pledged FROM Project_info LIMIT 5000\")\n",
    "    output = cur.fetchall()\n",
    "    \n",
    "    pledged_goal_array = np.array(output)\n",
    "    \n",
    "    cur.close()"
   ]
  },
  {
   "cell_type": "code",
   "execution_count": 35,
   "metadata": {
    "collapsed": false
   },
   "outputs": [
    {
     "data": {
      "text/plain": [
       "<matplotlib.text.Text at 0x11cd7ff10>"
      ]
     },
     "execution_count": 35,
     "metadata": {},
     "output_type": "execute_result"
    }
   ],
   "source": [
    "fig = plt.figure(figsize=(4, 6))\n",
    "plt.plot(pledged_goal_array[:,0]/1e6,pledged_goal_array[:,1]/1e6,'.b')\n",
    "\n",
    "plt.plot((0, 1), (0, 1), 'k-',linewidth=1)\n",
    "plt.xlabel('Kickstarter goal (millions of currency)')\n",
    "plt.ylabel('Raised money (millions of currency)')"
   ]
  },
  {
   "cell_type": "code",
   "execution_count": 97,
   "metadata": {
    "collapsed": false
   },
   "outputs": [],
   "source": [
    "saveas_path = '/Users/jamie/insight data/figures/'"
   ]
  },
  {
   "cell_type": "code",
   "execution_count": 30,
   "metadata": {
    "collapsed": false
   },
   "outputs": [],
   "source": [
    "plt.savefig(saveas_path+'pledged v goal.png',\\\n",
    "                bbox_inches='tight',dpi=200)"
   ]
  },
  {
   "cell_type": "code",
   "execution_count": 60,
   "metadata": {
    "collapsed": true
   },
   "outputs": [],
   "source": [
    "with sns.axes_style(\"white\"):\n",
    "    j = sns.jointplot(pledged_goal_array[:,0]/1e6,\\\n",
    "                      pledged_goal_array[:,1]/1e6,\\\n",
    "                      xlim=(0,.2),ylim=(0,.2));"
   ]
  },
  {
   "cell_type": "code",
   "execution_count": 59,
   "metadata": {
    "collapsed": true
   },
   "outputs": [],
   "source": [
    "plt.show()"
   ]
  },
  {
   "cell_type": "code",
   "execution_count": 61,
   "metadata": {
    "collapsed": true
   },
   "outputs": [],
   "source": [
    "plt.savefig(saveas_path+'pledged v goal joint plot.png',\\\n",
    "                bbox_inches='tight',dpi=200)"
   ]
  },
  {
   "cell_type": "code",
   "execution_count": 75,
   "metadata": {
    "collapsed": false
   },
   "outputs": [],
   "source": [
    "plt.close('all')"
   ]
  },
  {
   "cell_type": "code",
   "execution_count": 63,
   "metadata": {
    "collapsed": true
   },
   "outputs": [],
   "source": [
    "# this figure for the first 5,000 campaigns, which I think\n",
    "# is biased towards successful theater campaigns. Redo this\n",
    "# with one category."
   ]
  },
  {
   "cell_type": "code",
   "execution_count": 78,
   "metadata": {
    "collapsed": false
   },
   "outputs": [],
   "source": [
    "with con:\n",
    "    cur = con.cursor()\n",
    "    cur.execute(\"SELECT Goal, Pledged FROM Project_info WHERE Category_slug LIKE 'technology%'\")\n",
    "    output = cur.fetchall()\n",
    "    \n",
    "    pledged_goal_array = np.array(output)\n",
    "    \n",
    "    cur.close()"
   ]
  },
  {
   "cell_type": "code",
   "execution_count": 103,
   "metadata": {
    "collapsed": false
   },
   "outputs": [
    {
     "data": {
      "text/plain": [
       "(9351, 2)"
      ]
     },
     "execution_count": 103,
     "metadata": {},
     "output_type": "execute_result"
    }
   ],
   "source": [
    "np.shape(pledged_goal_array)"
   ]
  },
  {
   "cell_type": "code",
   "execution_count": 95,
   "metadata": {
    "collapsed": true
   },
   "outputs": [],
   "source": [
    "with sns.axes_style(\"white\"):\n",
    "    j = sns.jointplot(pledged_goal_array[:,0]/1e6,\\\n",
    "                      pledged_goal_array[:,1]/1e6,\n",
    "                      xlim=(0,1),ylim=(0,1));\n",
    "    j.set_axis_labels('Kickstarter goal (millions of currency)',\\\n",
    "                      'Pledged (millions of currency)') "
   ]
  },
  {
   "cell_type": "code",
   "execution_count": 98,
   "metadata": {
    "collapsed": false
   },
   "outputs": [],
   "source": [
    "plt.savefig(saveas_path+'Technology pledged v goal joint plot.png',\\\n",
    "                bbox_inches='tight',dpi=200)"
   ]
  },
  {
   "cell_type": "code",
   "execution_count": 99,
   "metadata": {
    "collapsed": false
   },
   "outputs": [
    {
     "data": {
      "image/png": "[encoded data removed]",
      "text/plain": [
       "<matplotlib.figure.Figure at 0x16eac6fd0>"
      ]
     },
     "metadata": {},
     "output_type": "display_data"
    }
   ],
   "source": [
    "#embed this figure, then close all\n",
    "display(plt.gcf())\n",
    "plt.close('all')"
   ]
  },
  {
   "cell_type": "code",
   "execution_count": 100,
   "metadata": {
    "collapsed": true
   },
   "outputs": [],
   "source": [
    "# now make a histogram of campaign durations\n",
    "with con:\n",
    "    cur = con.cursor()\n",
    "    cur.execute(\"SELECT End_time-Launch_time FROM Project_info WHERE Category_slug LIKE 'technology%'\")\n",
    "    output = cur.fetchall()\n",
    "    \n",
    "    Campaign_duration = np.array(output)\n",
    "    \n",
    "    cur.close()"
   ]
  },
  {
   "cell_type": "code",
   "execution_count": 102,
   "metadata": {
    "collapsed": false
   },
   "outputs": [
    {
     "data": {
      "text/plain": [
       "(9351, 1)"
      ]
     },
     "execution_count": 102,
     "metadata": {},
     "output_type": "execute_result"
    }
   ],
   "source": [
    "np.shape(Campaign_duration)"
   ]
  },
  {
   "cell_type": "code",
   "execution_count": 105,
   "metadata": {
    "collapsed": true
   },
   "outputs": [],
   "source": [
    "seconds_per_day = 86400"
   ]
  },
  {
   "cell_type": "code",
   "execution_count": 118,
   "metadata": {
    "collapsed": false
   },
   "outputs": [
    {
     "data": {
      "text/plain": [
       "<matplotlib.text.Text at 0x139e1a390>"
      ]
     },
     "execution_count": 118,
     "metadata": {},
     "output_type": "execute_result"
    }
   ],
   "source": [
    "fig = plt.figure()\n",
    "sns.set_style(\"white\")\n",
    "plt.hist(Campaign_duration/seconds_per_day, 30, color=sns.desaturate(\"indianred\", .75));\n",
    "plt.ylabel('Frequency (n campaigns)')\n",
    "plt.xlabel('Campaign duration (days)')"
   ]
  },
  {
   "cell_type": "code",
   "execution_count": 119,
   "metadata": {
    "collapsed": true
   },
   "outputs": [],
   "source": [
    "plt.savefig(saveas_path+'Technology campaign length histograms.png',\\\n",
    "                bbox_inches='tight',dpi=200)"
   ]
  },
  {
   "cell_type": "code",
   "execution_count": 120,
   "metadata": {
    "collapsed": false
   },
   "outputs": [
    {
     "data": {
      "image/png": "[encoded data removed]",
      "text/plain": [
       "<matplotlib.figure.Figure at 0x130834d50>"
      ]
     },
     "metadata": {},
     "output_type": "display_data"
    }
   ],
   "source": [
    "#embed this figure, then close all\n",
    "display(plt.gcf())\n",
    "plt.close('all')"
   ]
  },
  {
   "cell_type": "code",
   "execution_count": null,
   "metadata": {
    "collapsed": true
   },
   "outputs": [],
   "source": []
  }
 ],
 "metadata": {
  "kernelspec": {
   "display_name": "Python 2",
   "language": "python",
   "name": "python2"
  },
  "language_info": {
   "codemirror_mode": {
    "name": "ipython",
    "version": 2
   },
   "file_extension": ".py",
   "mimetype": "text/x-python",
   "name": "python",
   "nbconvert_exporter": "python",
   "pygments_lexer": "ipython2",
   "version": "2.7.10"
  }
 },
 "nbformat": 4,
 "nbformat_minor": 0
}
