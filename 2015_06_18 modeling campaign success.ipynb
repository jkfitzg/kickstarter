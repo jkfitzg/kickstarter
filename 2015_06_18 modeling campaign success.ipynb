{
 "cells": [
  {
   "cell_type": "code",
   "execution_count": 23,
   "metadata": {
    "collapsed": true
   },
   "outputs": [],
   "source": [
    "# Now -- decision tree, random forests, boostoing, etc SVM\n",
    "# logistic regression\n",
    "# x train, validate, test\n",
    "# \n",
    "# do I need to regularlize?\n",
    "#\n",
    "# start with tech, then for all entries in my database "
   ]
  },
  {
   "cell_type": "code",
   "execution_count": 24,
   "metadata": {
    "collapsed": true
   },
   "outputs": [],
   "source": [
    "# useful links\n",
    "# https://github.com/jakevdp/sklearn_scipy2013/blob/master/rendered_notebooks/06.1_validation_and_testing.ipynb\n",
    "# http://scikit-learn.org/stable/modules/generated/sklearn.tree.DecisionTreeClassifier.html\n",
    "# http://scikit-learn.org/stable/modules/generated/sklearn.metrics.precision_recall_fscore_support.html#sklearn.metrics.precision_recall_fscore_support\n",
    "# http://scikit-learn.org/stable/modules/ensemble.html\n",
    "# http://scikit-learn.org/stable/auto_examples/ensemble/plot_forest_importances.html"
   ]
  },
  {
   "cell_type": "code",
   "execution_count": 210,
   "metadata": {
    "collapsed": false
   },
   "outputs": [],
   "source": [
    "import pandas as pd\n",
    "import numpy as np\n",
    "import matplotlib.pyplot as plt\n",
    "import math as math\n",
    "from IPython.display import display\n",
    "from IPython.core.pylabtools import getfigs\n",
    "from sklearn import linear_model \n",
    "import seaborn as sns"
   ]
  },
  {
   "cell_type": "code",
   "execution_count": 26,
   "metadata": {
    "collapsed": true
   },
   "outputs": [],
   "source": [
    "%matplotlib qt"
   ]
  },
  {
   "cell_type": "code",
   "execution_count": 27,
   "metadata": {
    "collapsed": true
   },
   "outputs": [],
   "source": [
    "saveas_path = '/Users/jamie/insight data/figures/'"
   ]
  },
  {
   "cell_type": "code",
   "execution_count": 33,
   "metadata": {
    "collapsed": true
   },
   "outputs": [],
   "source": [
    "outcomes_df = pd.read_pickle('outcomes_df.save')"
   ]
  },
  {
   "cell_type": "code",
   "execution_count": 50,
   "metadata": {
    "collapsed": false
   },
   "outputs": [
    {
     "data": {
      "text/html": [
       "<div style=\"max-height:1000px;max-width:1500px;overflow:auto;\">\n",
       "<table border=\"1\" class=\"dataframe\">\n",
       "  <thead>\n",
       "    <tr style=\"text-align: right;\">\n",
       "      <th></th>\n",
       "      <th>Goal</th>\n",
       "      <th>Campaign_days</th>\n",
       "      <th>Title_n_words</th>\n",
       "      <th>Blurb_n_words</th>\n",
       "      <th>Month</th>\n",
       "      <th>Monday_day</th>\n",
       "      <th>Week_day</th>\n",
       "      <th>Hour</th>\n",
       "      <th>N_rewards</th>\n",
       "      <th>Min_reward</th>\n",
       "      <th>Median_reward</th>\n",
       "      <th>Max_reward</th>\n",
       "      <th>Reward_ship_days</th>\n",
       "      <th>Ships_intn</th>\n",
       "      <th>N_links</th>\n",
       "      <th>N_figs</th>\n",
       "      <th>Body_n_words</th>\n",
       "      <th>N_creator_backed</th>\n",
       "    </tr>\n",
       "  </thead>\n",
       "  <tbody>\n",
       "    <tr>\n",
       "      <th>0</th>\n",
       "      <td>5000</td>\n",
       "      <td>30</td>\n",
       "      <td>2</td>\n",
       "      <td>17</td>\n",
       "      <td>8</td>\n",
       "      <td>12</td>\n",
       "      <td>6</td>\n",
       "      <td>20</td>\n",
       "      <td>8</td>\n",
       "      <td>10</td>\n",
       "      <td>175</td>\n",
       "      <td>5000</td>\n",
       "      <td>110</td>\n",
       "      <td>0</td>\n",
       "      <td>1</td>\n",
       "      <td>0</td>\n",
       "      <td>812</td>\n",
       "      <td>18</td>\n",
       "    </tr>\n",
       "    <tr>\n",
       "      <th>1</th>\n",
       "      <td>10000</td>\n",
       "      <td>30</td>\n",
       "      <td>8</td>\n",
       "      <td>21</td>\n",
       "      <td>6</td>\n",
       "      <td>30</td>\n",
       "      <td>5</td>\n",
       "      <td>14</td>\n",
       "      <td>10</td>\n",
       "      <td>5</td>\n",
       "      <td>125</td>\n",
       "      <td>5000</td>\n",
       "      <td>31</td>\n",
       "      <td>0</td>\n",
       "      <td>5</td>\n",
       "      <td>1</td>\n",
       "      <td>792</td>\n",
       "      <td>7</td>\n",
       "    </tr>\n",
       "    <tr>\n",
       "      <th>2</th>\n",
       "      <td>18000</td>\n",
       "      <td>27</td>\n",
       "      <td>5</td>\n",
       "      <td>14</td>\n",
       "      <td>2</td>\n",
       "      <td>25</td>\n",
       "      <td>1</td>\n",
       "      <td>8</td>\n",
       "      <td>19</td>\n",
       "      <td>5</td>\n",
       "      <td>500</td>\n",
       "      <td>10000</td>\n",
       "      <td>4</td>\n",
       "      <td>1</td>\n",
       "      <td>0</td>\n",
       "      <td>0</td>\n",
       "      <td>540</td>\n",
       "      <td>3</td>\n",
       "    </tr>\n",
       "    <tr>\n",
       "      <th>3</th>\n",
       "      <td>7000</td>\n",
       "      <td>56</td>\n",
       "      <td>5</td>\n",
       "      <td>17</td>\n",
       "      <td>12</td>\n",
       "      <td>6</td>\n",
       "      <td>1</td>\n",
       "      <td>17</td>\n",
       "      <td>8</td>\n",
       "      <td>10</td>\n",
       "      <td>87</td>\n",
       "      <td>1000</td>\n",
       "      <td>56</td>\n",
       "      <td>0</td>\n",
       "      <td>0</td>\n",
       "      <td>0</td>\n",
       "      <td>372</td>\n",
       "      <td>4</td>\n",
       "    </tr>\n",
       "    <tr>\n",
       "      <th>4</th>\n",
       "      <td>8150</td>\n",
       "      <td>30</td>\n",
       "      <td>8</td>\n",
       "      <td>16</td>\n",
       "      <td>7</td>\n",
       "      <td>22</td>\n",
       "      <td>1</td>\n",
       "      <td>11</td>\n",
       "      <td>11</td>\n",
       "      <td>4</td>\n",
       "      <td>42</td>\n",
       "      <td>815</td>\n",
       "      <td>41</td>\n",
       "      <td>-1</td>\n",
       "      <td>1</td>\n",
       "      <td>1</td>\n",
       "      <td>1405</td>\n",
       "      <td>8</td>\n",
       "    </tr>\n",
       "  </tbody>\n",
       "</table>\n",
       "</div>"
      ],
      "text/plain": [
       "    Goal Campaign_days Title_n_words Blurb_n_words Month Monday_day Week_day  \\\n",
       "0   5000            30             2            17     8         12        6   \n",
       "1  10000            30             8            21     6         30        5   \n",
       "2  18000            27             5            14     2         25        1   \n",
       "3   7000            56             5            17    12          6        1   \n",
       "4   8150            30             8            16     7         22        1   \n",
       "\n",
       "  Hour N_rewards Min_reward Median_reward Max_reward Reward_ship_days  \\\n",
       "0   20         8         10           175       5000              110   \n",
       "1   14        10          5           125       5000               31   \n",
       "2    8        19          5           500      10000                4   \n",
       "3   17         8         10            87       1000               56   \n",
       "4   11        11          4            42        815               41   \n",
       "\n",
       "   Ships_intn N_links N_figs Body_n_words N_creator_backed  \n",
       "0           0       1      0          812               18  \n",
       "1           0       5      1          792                7  \n",
       "2           1       0      0          540                3  \n",
       "3           0       0      0          372                4  \n",
       "4          -1       1      1         1405                8  "
      ]
     },
     "execution_count": 50,
     "metadata": {},
     "output_type": "execute_result"
    }
   ],
   "source": [
    "subset_predictor_df = pd.read_pickle('subset_predictor.save')\n",
    "subset_predictor_df.head()"
   ]
  },
  {
   "cell_type": "code",
   "execution_count": 104,
   "metadata": {
    "collapsed": false
   },
   "outputs": [],
   "source": [
    "subset_predictor_no_backers_df = subset_predictor_df.ix[:,0:-1]"
   ]
  },
  {
   "cell_type": "code",
   "execution_count": 105,
   "metadata": {
    "collapsed": false
   },
   "outputs": [
    {
     "data": {
      "text/html": [
       "<div style=\"max-height:1000px;max-width:1500px;overflow:auto;\">\n",
       "<table border=\"1\" class=\"dataframe\">\n",
       "  <thead>\n",
       "    <tr style=\"text-align: right;\">\n",
       "      <th></th>\n",
       "      <th>Goal</th>\n",
       "      <th>Campaign_days</th>\n",
       "      <th>Title_n_words</th>\n",
       "      <th>Blurb_n_words</th>\n",
       "      <th>Month</th>\n",
       "      <th>Monday_day</th>\n",
       "      <th>Week_day</th>\n",
       "      <th>Hour</th>\n",
       "      <th>N_rewards</th>\n",
       "      <th>Min_reward</th>\n",
       "      <th>Median_reward</th>\n",
       "      <th>Max_reward</th>\n",
       "      <th>Reward_ship_days</th>\n",
       "      <th>Ships_intn</th>\n",
       "      <th>N_links</th>\n",
       "      <th>N_figs</th>\n",
       "      <th>Body_n_words</th>\n",
       "    </tr>\n",
       "  </thead>\n",
       "  <tbody>\n",
       "    <tr>\n",
       "      <th>0</th>\n",
       "      <td>5000</td>\n",
       "      <td>30</td>\n",
       "      <td>2</td>\n",
       "      <td>17</td>\n",
       "      <td>8</td>\n",
       "      <td>12</td>\n",
       "      <td>6</td>\n",
       "      <td>20</td>\n",
       "      <td>8</td>\n",
       "      <td>10</td>\n",
       "      <td>175</td>\n",
       "      <td>5000</td>\n",
       "      <td>110</td>\n",
       "      <td>0</td>\n",
       "      <td>1</td>\n",
       "      <td>0</td>\n",
       "      <td>812</td>\n",
       "    </tr>\n",
       "    <tr>\n",
       "      <th>1</th>\n",
       "      <td>10000</td>\n",
       "      <td>30</td>\n",
       "      <td>8</td>\n",
       "      <td>21</td>\n",
       "      <td>6</td>\n",
       "      <td>30</td>\n",
       "      <td>5</td>\n",
       "      <td>14</td>\n",
       "      <td>10</td>\n",
       "      <td>5</td>\n",
       "      <td>125</td>\n",
       "      <td>5000</td>\n",
       "      <td>31</td>\n",
       "      <td>0</td>\n",
       "      <td>5</td>\n",
       "      <td>1</td>\n",
       "      <td>792</td>\n",
       "    </tr>\n",
       "    <tr>\n",
       "      <th>2</th>\n",
       "      <td>18000</td>\n",
       "      <td>27</td>\n",
       "      <td>5</td>\n",
       "      <td>14</td>\n",
       "      <td>2</td>\n",
       "      <td>25</td>\n",
       "      <td>1</td>\n",
       "      <td>8</td>\n",
       "      <td>19</td>\n",
       "      <td>5</td>\n",
       "      <td>500</td>\n",
       "      <td>10000</td>\n",
       "      <td>4</td>\n",
       "      <td>1</td>\n",
       "      <td>0</td>\n",
       "      <td>0</td>\n",
       "      <td>540</td>\n",
       "    </tr>\n",
       "    <tr>\n",
       "      <th>3</th>\n",
       "      <td>7000</td>\n",
       "      <td>56</td>\n",
       "      <td>5</td>\n",
       "      <td>17</td>\n",
       "      <td>12</td>\n",
       "      <td>6</td>\n",
       "      <td>1</td>\n",
       "      <td>17</td>\n",
       "      <td>8</td>\n",
       "      <td>10</td>\n",
       "      <td>87</td>\n",
       "      <td>1000</td>\n",
       "      <td>56</td>\n",
       "      <td>0</td>\n",
       "      <td>0</td>\n",
       "      <td>0</td>\n",
       "      <td>372</td>\n",
       "    </tr>\n",
       "    <tr>\n",
       "      <th>4</th>\n",
       "      <td>8150</td>\n",
       "      <td>30</td>\n",
       "      <td>8</td>\n",
       "      <td>16</td>\n",
       "      <td>7</td>\n",
       "      <td>22</td>\n",
       "      <td>1</td>\n",
       "      <td>11</td>\n",
       "      <td>11</td>\n",
       "      <td>4</td>\n",
       "      <td>42</td>\n",
       "      <td>815</td>\n",
       "      <td>41</td>\n",
       "      <td>-1</td>\n",
       "      <td>1</td>\n",
       "      <td>1</td>\n",
       "      <td>1405</td>\n",
       "    </tr>\n",
       "  </tbody>\n",
       "</table>\n",
       "</div>"
      ],
      "text/plain": [
       "    Goal Campaign_days Title_n_words Blurb_n_words Month Monday_day Week_day  \\\n",
       "0   5000            30             2            17     8         12        6   \n",
       "1  10000            30             8            21     6         30        5   \n",
       "2  18000            27             5            14     2         25        1   \n",
       "3   7000            56             5            17    12          6        1   \n",
       "4   8150            30             8            16     7         22        1   \n",
       "\n",
       "  Hour N_rewards Min_reward Median_reward Max_reward Reward_ship_days  \\\n",
       "0   20         8         10           175       5000              110   \n",
       "1   14        10          5           125       5000               31   \n",
       "2    8        19          5           500      10000                4   \n",
       "3   17         8         10            87       1000               56   \n",
       "4   11        11          4            42        815               41   \n",
       "\n",
       "   Ships_intn N_links N_figs Body_n_words  \n",
       "0           0       1      0          812  \n",
       "1           0       5      1          792  \n",
       "2           1       0      0          540  \n",
       "3           0       0      0          372  \n",
       "4          -1       1      1         1405  "
      ]
     },
     "execution_count": 105,
     "metadata": {},
     "output_type": "execute_result"
    }
   ],
   "source": [
    "subset_predictor_no_backers_df.head()"
   ]
  },
  {
   "cell_type": "code",
   "execution_count": 51,
   "metadata": {
    "collapsed": false
   },
   "outputs": [
    {
     "data": {
      "text/html": [
       "<div style=\"max-height:1000px;max-width:1500px;overflow:auto;\">\n",
       "<table border=\"1\" class=\"dataframe\">\n",
       "  <thead>\n",
       "    <tr style=\"text-align: right;\">\n",
       "      <th></th>\n",
       "      <th>Outcome</th>\n",
       "    </tr>\n",
       "  </thead>\n",
       "  <tbody>\n",
       "    <tr>\n",
       "      <th>0</th>\n",
       "      <td>1</td>\n",
       "    </tr>\n",
       "    <tr>\n",
       "      <th>1</th>\n",
       "      <td>1</td>\n",
       "    </tr>\n",
       "    <tr>\n",
       "      <th>2</th>\n",
       "      <td>1</td>\n",
       "    </tr>\n",
       "    <tr>\n",
       "      <th>3</th>\n",
       "      <td>1</td>\n",
       "    </tr>\n",
       "    <tr>\n",
       "      <th>4</th>\n",
       "      <td>1</td>\n",
       "    </tr>\n",
       "  </tbody>\n",
       "</table>\n",
       "</div>"
      ],
      "text/plain": [
       "   Outcome\n",
       "0        1\n",
       "1        1\n",
       "2        1\n",
       "3        1\n",
       "4        1"
      ]
     },
     "execution_count": 51,
     "metadata": {},
     "output_type": "execute_result"
    }
   ],
   "source": [
    "outcomes_df.head()"
   ]
  },
  {
   "cell_type": "code",
   "execution_count": 38,
   "metadata": {
    "collapsed": false
   },
   "outputs": [
    {
     "name": "stdout",
     "output_type": "stream",
     "text": [
      "133071\n"
     ]
    }
   ],
   "source": [
    "n_samples = np.shape(outcomes_df)[0]\n",
    "print n_samples"
   ]
  },
  {
   "cell_type": "code",
   "execution_count": 39,
   "metadata": {
    "collapsed": false
   },
   "outputs": [],
   "source": [
    "# now use training (60%), validatation (20%), and test (20%) sets \n",
    "i_order = np.random.permutation(n_samples)\n",
    "train_max_i = int(round(n_samples*.6))\n",
    "validate_max_i = int(round(n_samples*.8))\n",
    "\n",
    "train_is = i_order[:train_max_i]\n",
    "validate_is = i_order[train_max_i:validate_max_i]\n",
    "test_is = i_order[validate_max_i:]"
   ]
  },
  {
   "cell_type": "code",
   "execution_count": 141,
   "metadata": {
    "collapsed": true
   },
   "outputs": [],
   "source": [
    "X = subset_predictor_df\n",
    "X_subset = subset_predictor_no_backers_df\n",
    "y = outcomes_df['Outcome'].values"
   ]
  },
  {
   "cell_type": "code",
   "execution_count": 144,
   "metadata": {
    "collapsed": false
   },
   "outputs": [],
   "source": [
    "from sklearn.tree import DecisionTreeClassifier\n",
    "clf = DecisionTreeClassifier(max_depth=5)\n",
    "clf.fit(X.ix[train_is,:],y[train_is])\n",
    "y_1 = clf.predict(X.ix[test_is,:])\n",
    "\n",
    "clf_no_backers = DecisionTreeClassifier(max_depth=5)\n",
    "clf_no_backers.fit(X_subset.ix[train_is,:],y[train_is])\n",
    "y_1_no_backers = clf_no_backers.predict(X_subset.ix[test_is,:])\n",
    "\n",
    "y_test = y[test_is]"
   ]
  },
  {
   "cell_type": "code",
   "execution_count": 145,
   "metadata": {
    "collapsed": false
   },
   "outputs": [
    {
     "name": "stdout",
     "output_type": "stream",
     "text": [
      "0.71289546855\n"
     ]
    }
   ],
   "source": [
    "accuracy = float(sum(y_test == y_1))/len(test_is)\n",
    "print accuracy"
   ]
  },
  {
   "cell_type": "code",
   "execution_count": 146,
   "metadata": {
    "collapsed": false
   },
   "outputs": [
    {
     "name": "stdout",
     "output_type": "stream",
     "text": [
      "0.672540768017\n"
     ]
    }
   ],
   "source": [
    "accuracy = float(sum(y_test == y_1_no_backers))/len(test_is)\n",
    "print accuracy"
   ]
  },
  {
   "cell_type": "code",
   "execution_count": 147,
   "metadata": {
    "collapsed": false
   },
   "outputs": [
    {
     "data": {
      "text/plain": [
       "array([ 0.29910194,  0.        ,  0.        ,  0.        ,  0.        ,\n",
       "        0.        ,  0.        ,  0.        ,  0.11109607,  0.        ,\n",
       "        0.03033502,  0.0068397 ,  0.        ,  0.        ,  0.00758141,\n",
       "        0.00092517,  0.05170728,  0.49241341])"
      ]
     },
     "execution_count": 147,
     "metadata": {},
     "output_type": "execute_result"
    }
   ],
   "source": [
    "clf.feature_importances_"
   ]
  },
  {
   "cell_type": "code",
   "execution_count": 113,
   "metadata": {
    "collapsed": false
   },
   "outputs": [
    {
     "data": {
      "text/plain": [
       "array([ 0.38395754,  0.01449195,  0.        ,  0.        ,  0.        ,\n",
       "        0.        ,  0.        ,  0.        ,  0.37326251,  0.        ,\n",
       "        0.01975522,  0.00916103,  0.        ,  0.        ,  0.12001353,\n",
       "        0.0028102 ,  0.07654803])"
      ]
     },
     "execution_count": 113,
     "metadata": {},
     "output_type": "execute_result"
    }
   ],
   "source": [
    "clf_no_backers.feature_importances_"
   ]
  },
  {
   "cell_type": "code",
   "execution_count": 114,
   "metadata": {
    "collapsed": false
   },
   "outputs": [
    {
     "name": "stdout",
     "output_type": "stream",
     "text": [
      "Index([u'Goal', u'Campaign_days', u'Title_n_words', u'Blurb_n_words', u'Month',\n",
      "       u'Monday_day', u'Week_day', u'Hour', u'N_rewards', u'Min_reward',\n",
      "       u'Median_reward', u'Max_reward', u'Reward_ship_days', u'Ships_intn',\n",
      "       u'N_links', u'N_figs', u'Body_n_words'],\n",
      "      dtype='object')\n"
     ]
    }
   ],
   "source": [
    "print X_subset.columns"
   ]
  },
  {
   "cell_type": "code",
   "execution_count": 97,
   "metadata": {
    "collapsed": true
   },
   "outputs": [],
   "source": [
    "# calc F score -- \n",
    "# http://scikit-learn.org/stable/modules/generated/sklearn.metrics.precision_recall_fscore_support.html#sklearn.metrics.precision_recall_fscore_support"
   ]
  },
  {
   "cell_type": "code",
   "execution_count": 98,
   "metadata": {
    "collapsed": true
   },
   "outputs": [],
   "source": [
    "# n backed is very important. what if I take it out? \n",
    "# how do trees handle mulicolinearlity? "
   ]
  },
  {
   "cell_type": "code",
   "execution_count": 149,
   "metadata": {
    "collapsed": false
   },
   "outputs": [
    {
     "name": "stdout",
     "output_type": "stream",
     "text": [
      "3 0.7\n",
      "4 0.71\n",
      "5 0.71\n",
      "6 0.72\n",
      "7 0.72\n",
      "8 0.72\n",
      "9 0.72\n",
      "10 0.72\n",
      "11 0.71\n",
      "12 0.71\n",
      "13 0.7\n",
      "14 0.69\n",
      "15 0.69\n",
      "16 0.68\n",
      "17 0.67\n",
      "18 0.67\n",
      "19 0.67\n"
     ]
    }
   ],
   "source": [
    "# now just try a few depths\n",
    "# later separate validation and test\n",
    "from sklearn.tree import DecisionTreeClassifier\n",
    "for depth in range(3,20):\n",
    "\n",
    "    clf = DecisionTreeClassifier(max_depth=depth)\n",
    "    clf.fit(X.ix[train_is,:],y[train_is])\n",
    "    y_1 = clf.predict(X.ix[test_is,:])\n",
    "\n",
    "    y_test = y[test_is]\n",
    "\n",
    "    accuracy = float(sum(y_test == y_1))/len(test_is)\n",
    "    print depth, round(accuracy,2)"
   ]
  },
  {
   "cell_type": "code",
   "execution_count": 150,
   "metadata": {
    "collapsed": false
   },
   "outputs": [
    {
     "data": {
      "text/plain": [
       "(array([ 0.71812036,  0.59777302]),\n",
       " array([ 0.69553942,  0.62368186]),\n",
       " array([ 0.70664954,  0.61045266]),\n",
       " array([15424, 11190]))"
      ]
     },
     "execution_count": 150,
     "metadata": {},
     "output_type": "execute_result"
    }
   ],
   "source": [
    "sklearn.metrics.precision_recall_fscore_support(y_test, y_1)"
   ]
  },
  {
   "cell_type": "code",
   "execution_count": 121,
   "metadata": {
    "collapsed": false
   },
   "outputs": [
    {
     "data": {
      "text/plain": [
       "0.42045539941384236"
      ]
     },
     "execution_count": 121,
     "metadata": {},
     "output_type": "execute_result"
    }
   ],
   "source": [
    "11190.0/(15424+11190)"
   ]
  },
  {
   "cell_type": "code",
   "execution_count": 152,
   "metadata": {
    "collapsed": false
   },
   "outputs": [],
   "source": [
    "# now try a random forests model\n",
    "from sklearn.ensemble import RandomForestClassifier\n",
    "clf = RandomForestClassifier(n_estimators=200, max_depth=8)\n",
    "clf.fit(X.ix[train_is,:],y[train_is])\n",
    "y_1 = clf.predict(X.ix[test_is,:])\n",
    "\n",
    "y_test = y[test_is]"
   ]
  },
  {
   "cell_type": "code",
   "execution_count": 153,
   "metadata": {
    "collapsed": false
   },
   "outputs": [
    {
     "name": "stdout",
     "output_type": "stream",
     "text": [
      "0.731644998873\n"
     ]
    }
   ],
   "source": [
    "accuracy = float(sum(y_test == y_1))/len(test_is)\n",
    "print accuracy"
   ]
  },
  {
   "cell_type": "code",
   "execution_count": 154,
   "metadata": {
    "collapsed": false
   },
   "outputs": [
    {
     "name": "stdout",
     "output_type": "stream",
     "text": [
      "[[7500 45 8 ..., 0 314 4]\n",
      " [30000 30 3 ..., 0 640 1]\n",
      " [35000 30 2 ..., 0 321 3]\n",
      " ..., \n",
      " [3500 30 6 ..., 0 232 0]\n",
      " [10000 25 9 ..., 9 825 5]\n",
      " [2300 32 2 ..., 2 117 4]]\n"
     ]
    }
   ],
   "source": [
    "print X.ix[train_is,:].values"
   ]
  },
  {
   "cell_type": "code",
   "execution_count": 155,
   "metadata": {
    "collapsed": false
   },
   "outputs": [
    {
     "data": {
      "text/plain": [
       "array([1, 1, 0, ..., 0, 0, 0])"
      ]
     },
     "execution_count": 155,
     "metadata": {},
     "output_type": "execute_result"
    }
   ],
   "source": [
    "y[train_is]"
   ]
  },
  {
   "cell_type": "code",
   "execution_count": 156,
   "metadata": {
    "collapsed": false
   },
   "outputs": [
    {
     "data": {
      "text/plain": [
       "GridSearchCV(cv=None, error_score='raise',\n",
       "       estimator=RandomForestClassifier(bootstrap=True, class_weight=None, criterion='gini',\n",
       "            max_depth=None, max_features='auto', max_leaf_nodes=None,\n",
       "            min_samples_leaf=1, min_samples_split=2,\n",
       "            min_weight_fraction_leaf=0.0, n_estimators=10, n_jobs=1,\n",
       "            oob_score=False, random_state=None, verbose=0,\n",
       "            warm_start=False),\n",
       "       fit_params={}, iid=True, loss_func=None, n_jobs=1,\n",
       "       param_grid={'n_estimators': [200, 300, 400], 'max_depth': [5, 7, 9]},\n",
       "       pre_dispatch='2*n_jobs', refit=True, score_func=None, scoring=None,\n",
       "       verbose=0)"
      ]
     },
     "execution_count": 156,
     "metadata": {},
     "output_type": "execute_result"
    }
   ],
   "source": [
    "from sklearn import grid_search\n",
    "\n",
    "rf = RandomForestClassifier()\n",
    "parameters = {'n_estimators':[200, 300, 400],\n",
    "              'max_depth':[5, 7, 9]}\n",
    "\n",
    "# Warning: be sure your data is shuffled before using GridSearch!\n",
    "clf_grid = grid_search.GridSearchCV(rf, parameters)\n",
    "clf_grid.fit(X.ix[train_is,:],y[train_is])"
   ]
  },
  {
   "cell_type": "code",
   "execution_count": 157,
   "metadata": {
    "collapsed": false
   },
   "outputs": [
    {
     "name": "stdout",
     "output_type": "stream",
     "text": [
      "400 9\n"
     ]
    }
   ],
   "source": [
    "rf_best = clf_grid.best_estimator_\n",
    "print rf_best.n_estimators, rf_best.max_depth"
   ]
  },
  {
   "cell_type": "code",
   "execution_count": 229,
   "metadata": {
    "collapsed": false
   },
   "outputs": [],
   "source": [
    "import pickle\n",
    "s = pickle.dumps(clf_grid.best_estimator_)"
   ]
  },
  {
   "cell_type": "code",
   "execution_count": 230,
   "metadata": {
    "collapsed": true
   },
   "outputs": [],
   "source": [
    "j = pickle.loads(s)"
   ]
  },
  {
   "cell_type": "code",
   "execution_count": 232,
   "metadata": {
    "collapsed": false
   },
   "outputs": [
    {
     "name": "stdout",
     "output_type": "stream",
     "text": [
      "accuracy =  0.7353\n"
     ]
    }
   ],
   "source": [
    "print 'accuracy = ', round(j.score(X.ix[test_is,:],y_test),4)"
   ]
  },
  {
   "cell_type": "code",
   "execution_count": 162,
   "metadata": {
    "collapsed": false
   },
   "outputs": [],
   "source": [
    "y_rf_best = rf_best.predict(X.ix[test_is,:])"
   ]
  },
  {
   "cell_type": "code",
   "execution_count": 191,
   "metadata": {
    "collapsed": false
   },
   "outputs": [
    {
     "name": "stdout",
     "output_type": "stream",
     "text": [
      " accuracy =  0.7353\n"
     ]
    }
   ],
   "source": [
    "print 'accuracy = ', round(clf_grid.best_estimator_.score(X.ix[test_is,:],y_test),4)"
   ]
  },
  {
   "cell_type": "code",
   "execution_count": 164,
   "metadata": {
    "collapsed": false
   },
   "outputs": [
    {
     "data": {
      "text/plain": [
       "(array([ 0.75973462,  0.6975968 ]),\n",
       " array([ 0.79441131,  0.65370867]),\n",
       " array([ 0.77668611,  0.67494003]),\n",
       " array([15424, 11190]))"
      ]
     },
     "execution_count": 164,
     "metadata": {},
     "output_type": "execute_result"
    }
   ],
   "source": [
    "sklearn.metrics.precision_recall_fscore_support(y_test,y_rf_best)"
   ]
  },
  {
   "cell_type": "code",
   "execution_count": 194,
   "metadata": {
    "collapsed": false
   },
   "outputs": [],
   "source": [
    "best_forest_feature_gini_importances = clf_grid.best_estimator_.feature_importances_"
   ]
  },
  {
   "cell_type": "code",
   "execution_count": 195,
   "metadata": {
    "collapsed": false
   },
   "outputs": [
    {
     "name": "stdout",
     "output_type": "stream",
     "text": [
      "[ 0.25309932  0.035963    0.00547985  0.00675903  0.00797654  0.00601723\n",
      "  0.00326037  0.00743814  0.10437812  0.01721128  0.03259521  0.03694492\n",
      "  0.02354042  0.00306146  0.05717988  0.0123472   0.06759398  0.31915407]\n"
     ]
    }
   ],
   "source": [
    "print best_forest_feature_gini_importances"
   ]
  },
  {
   "cell_type": "code",
   "execution_count": 198,
   "metadata": {
    "collapsed": false
   },
   "outputs": [],
   "source": [
    "feature_importance_is = np.argsort(best_forest_feature_gini_importances)"
   ]
  },
  {
   "cell_type": "code",
   "execution_count": 205,
   "metadata": {
    "collapsed": false
   },
   "outputs": [
    {
     "name": "stdout",
     "output_type": "stream",
     "text": [
      "18\n"
     ]
    }
   ],
   "source": [
    "n_features = len(feature_importance_is)\n",
    "print n_features"
   ]
  },
  {
   "cell_type": "code",
   "execution_count": 199,
   "metadata": {
    "collapsed": false
   },
   "outputs": [
    {
     "name": "stdout",
     "output_type": "stream",
     "text": [
      "[13  6  2  5  3  7  4 15  9 12 10  1 11 14 16  8  0 17]\n"
     ]
    }
   ],
   "source": [
    "print feature_importance_is"
   ]
  },
  {
   "cell_type": "code",
   "execution_count": 204,
   "metadata": {
    "collapsed": false
   },
   "outputs": [
    {
     "name": "stdout",
     "output_type": "stream",
     "text": [
      "[17  0  8 16 14 11  1 10 12  9 15  4  7  3  5  2  6 13]\n"
     ]
    }
   ],
   "source": [
    "feature_importance_is_decending = feature_importance_is[-1::-1]\n",
    "print feature_importance_is_decending"
   ]
  },
  {
   "cell_type": "code",
   "execution_count": 220,
   "metadata": {
    "collapsed": true
   },
   "outputs": [],
   "source": [
    "plt.close('all')\n",
    "sns.set_style(\"whitegrid\")"
   ]
  },
  {
   "cell_type": "code",
   "execution_count": 227,
   "metadata": {
    "collapsed": true
   },
   "outputs": [],
   "source": [
    "# next add ste\n",
    "#std = np.std([tree.feature_importances_ for tree in forest.estimators_],\n",
    "#             axis=0)"
   ]
  },
  {
   "cell_type": "code",
   "execution_count": 221,
   "metadata": {
    "collapsed": false
   },
   "outputs": [],
   "source": [
    "plt.rcParams.update({'font.size': 26})\n",
    "\n",
    "fig = plt.figure()\n",
    "plt.title(\"Feature importances\")\n",
    "plt.bar(range(n_features), best_forest_feature_gini_importances[feature_importance_is_decending],\n",
    "       color=\"b\", align=\"center\")\n",
    "plt.xticks(range(n_features), X.columns[feature_importance_is_decending],rotation='vertical')\n",
    "plt.xlim([-1, n_features])\n",
    "plt.xlabel('Feature')\n",
    "plt.ylabel('Feature importance (Gini importance)')\n",
    "plt.show()"
   ]
  },
  {
   "cell_type": "code",
   "execution_count": 226,
   "metadata": {
    "collapsed": false
   },
   "outputs": [],
   "source": [
    "saveas_path = '/Users/jamie/insight_data/figures/'\n",
    "plt.savefig(saveas_path + 'random forests importance june18.png',bbox_inches='tight',dpi=200) "
   ]
  },
  {
   "cell_type": "code",
   "execution_count": 208,
   "metadata": {
    "collapsed": false
   },
   "outputs": [
    {
     "data": {
      "text/plain": [
       "Index([u'N_creator_backed', u'Goal', u'N_rewards', u'Body_n_words', u'N_links',\n",
       "       u'Max_reward', u'Campaign_days', u'Median_reward', u'Reward_ship_days',\n",
       "       u'Min_reward', u'N_figs', u'Month', u'Hour', u'Blurb_n_words',\n",
       "       u'Monday_day', u'Title_n_words', u'Week_day', u'Ships_intn'],\n",
       "      dtype='object')"
      ]
     },
     "execution_count": 208,
     "metadata": {},
     "output_type": "execute_result"
    }
   ],
   "source": [
    "X.columns[feature_importance_is_decending]"
   ]
  },
  {
   "cell_type": "code",
   "execution_count": 175,
   "metadata": {
    "collapsed": true
   },
   "outputs": [],
   "source": [
    "# gradient boosting.\n",
    "# https://github.com/jakevdp/sklearn_scipy2013/blob/master/rendered_notebooks/07.2_in_depth_trees_and_forests.ipynb\n",
    "# then cross-validating Gradient Boosting"
   ]
  },
  {
   "cell_type": "code",
   "execution_count": 167,
   "metadata": {
    "collapsed": true
   },
   "outputs": [],
   "source": [
    "from sklearn.ensemble import GradientBoostingClassifier\n",
    "clf = GradientBoostingClassifier(n_estimators=200, max_depth=9)\n",
    "clf.fit(X.ix[train_is,:],y[train_is])\n",
    "\n",
    "y_fit_boosted = clf.predict(X.ix[test_is,:])"
   ]
  },
  {
   "cell_type": "code",
   "execution_count": 185,
   "metadata": {
    "collapsed": false
   },
   "outputs": [
    {
     "name": "stdout",
     "output_type": "stream",
     "text": [
      "accuracy =  0.7393\n"
     ]
    }
   ],
   "source": [
    "print 'accuracy = ', round(clf.score(X.ix[test_is,:],y_test),4)"
   ]
  },
  {
   "cell_type": "code",
   "execution_count": 179,
   "metadata": {
    "collapsed": false
   },
   "outputs": [
    {
     "data": {
      "text/plain": [
       "array([ 0.11716369,  0.04838925,  0.03879327,  0.05025958,  0.04017738,\n",
       "        0.05211624,  0.02574621,  0.04906849,  0.05664468,  0.02902795,\n",
       "        0.06411725,  0.05657965,  0.08528523,  0.01508124,  0.03612113,\n",
       "        0.04107662,  0.12054399,  0.07380814])"
      ]
     },
     "execution_count": 179,
     "metadata": {},
     "output_type": "execute_result"
    }
   ],
   "source": [
    "clf.feature_importances_"
   ]
  },
  {
   "cell_type": "code",
   "execution_count": 180,
   "metadata": {
    "collapsed": false
   },
   "outputs": [
    {
     "data": {
      "text/plain": [
       "Index([u'Goal', u'Campaign_days', u'Title_n_words', u'Blurb_n_words', u'Month',\n",
       "       u'Monday_day', u'Week_day', u'Hour', u'N_rewards', u'Min_reward',\n",
       "       u'Median_reward', u'Max_reward', u'Reward_ship_days', u'Ships_intn',\n",
       "       u'N_links', u'N_figs', u'Body_n_words', u'N_creator_backed'],\n",
       "      dtype='object')"
      ]
     },
     "execution_count": 180,
     "metadata": {},
     "output_type": "execute_result"
    }
   ],
   "source": [
    "X.columns"
   ]
  },
  {
   "cell_type": "code",
   "execution_count": null,
   "metadata": {
    "collapsed": true
   },
   "outputs": [],
   "source": []
  }
 ],
 "metadata": {
  "kernelspec": {
   "display_name": "Python 2",
   "language": "python",
   "name": "python2"
  },
  "language_info": {
   "codemirror_mode": {
    "name": "ipython",
    "version": 2
   },
   "file_extension": ".py",
   "mimetype": "text/x-python",
   "name": "python",
   "nbconvert_exporter": "python",
   "pygments_lexer": "ipython2",
   "version": "2.7.10"
  }
 },
 "nbformat": 4,
 "nbformat_minor": 0
}
