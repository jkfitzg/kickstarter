{
 "cells": [
  {
   "cell_type": "code",
   "execution_count": 5,
   "metadata": {
    "collapsed": true
   },
   "outputs": [],
   "source": [
    "# Update the Predictors DB to include _____________________\n",
    "# has video\n",
    "# added n creator created\n",
    "# added year\n",
    "# parsed large category\n",
    "\n",
    "# pre-processing -- \n",
    "# define outcome\n",
    "# earliest intn shipping - 1331091810 (March 6, 2012) -- restrict to this range\n",
    "# set unspecified to 0\n",
    "# drop 0 launch times, -1"
   ]
  },
  {
   "cell_type": "code",
   "execution_count": 6,
   "metadata": {
    "collapsed": false
   },
   "outputs": [],
   "source": [
    "import pandas as pd\n",
    "import numpy as np\n",
    "import matplotlib.pyplot as plt\n",
    "import math as math\n",
    "from IPython.display import display\n",
    "from IPython.core.pylabtools import getfigs\n",
    "from sklearn import linear_model \n",
    "import time\n",
    "import pymysql as mdb\n",
    "import re\n",
    "import time"
   ]
  },
  {
   "cell_type": "code",
   "execution_count": 9,
   "metadata": {
    "collapsed": false
   },
   "outputs": [
    {
     "name": "stdout",
     "output_type": "stream",
     "text": [
      "The autoreload extension is already loaded. To reload it, use:\n",
      "  %reload_ext autoreload\n"
     ]
    }
   ],
   "source": [
    "from extract_kickstarter_features import *\n",
    "%load_ext autoreload\n",
    "%autoreload 2"
   ]
  },
  {
   "cell_type": "code",
   "execution_count": 8,
   "metadata": {
    "collapsed": true
   },
   "outputs": [],
   "source": [
    "%matplotlib qt"
   ]
  },
  {
   "cell_type": "code",
   "execution_count": 11,
   "metadata": {
    "collapsed": true
   },
   "outputs": [],
   "source": [
    "con = mdb.connect('localhost','root','hobbes','kickstarter')"
   ]
  },
  {
   "cell_type": "code",
   "execution_count": 17,
   "metadata": {
    "collapsed": false
   },
   "outputs": [
    {
     "name": "stdout",
     "output_type": "stream",
     "text": [
      "('Id', 'int(11)', 'NO')\n",
      "('Url', 'varchar(1000)', 'YES')\n",
      "('Outcome', 'varchar(100)', 'YES')\n",
      "('Pledged', 'bigint(20)', 'YES')\n",
      "('Goal', 'bigint(20)', 'YES')\n",
      "('Category', 'varchar(500)', 'YES')\n",
      "('Subcategory', 'varchar(500)', 'YES')\n",
      "('Currency', 'varchar(50)', 'YES')\n",
      "('Country', 'varchar(500)', 'YES')\n",
      "('Location', 'varchar(500)', 'YES')\n",
      "('Launch_s', 'bigint(20)', 'YES')\n",
      "('Campaign_days', 'int(11)', 'YES')\n",
      "('Title_n_words', 'int(11)', 'YES')\n",
      "('Blurb_n_words', 'int(11)', 'YES')\n",
      "('Year', 'int(11)', 'YES')\n",
      "('Month', 'int(11)', 'YES')\n",
      "('Month_day', 'int(11)', 'YES')\n",
      "('Week_day', 'int(11)', 'YES')\n",
      "('Hour', 'int(11)', 'YES')\n",
      "('Has_video', 'tinyint(4)', 'YES')\n",
      "('N_rewards', 'int(11)', 'YES')\n",
      "('Min_reward', 'int(11)', 'YES')\n",
      "('Median_reward', 'int(11)', 'YES')\n",
      "('Max_reward', 'bigint(20)', 'YES')\n",
      "('Reward_ship_days', 'int(11)', 'YES')\n",
      "('Ships_intn', 'tinyint(4)', 'YES')\n",
      "('N_links', 'int(11)', 'YES')\n",
      "('N_figs', 'int(11)', 'YES')\n",
      "('Body_n_words', 'int(11)', 'YES')\n",
      "('N_creator_backed', 'int(11)', 'YES')\n",
      "('N_creator_created', 'int(11)', 'YES')\n",
      "(31, 6)\n"
     ]
    }
   ],
   "source": [
    "# Create and describe my new table\n",
    "with con:\n",
    "    cur = con.cursor()\n",
    "    #cur.execute(\"DROP TABLE IF EXISTS Predictors\")\n",
    "    cur.execute(\"CREATE TABLE Predictors(Id INT PRIMARY KEY,\\\n",
    "                  Url VARCHAR(1000),\\\n",
    "                  Outcome VARCHAR(100),\\\n",
    "                  Pledged BIGINT,\\\n",
    "                  Goal BIGINT,\\\n",
    "                  Category VARCHAR(500),\\\n",
    "                  Subcategory VARCHAR(500),\\\n",
    "                  Currency VARCHAR(50),\\\n",
    "                  Country VARCHAR(500),\\\n",
    "                  Location VARCHAR(500),\\\n",
    "                  Launch_s BIGINT,\\\n",
    "                  Campaign_days INT,\\\n",
    "                  Title_n_words INT,\\\n",
    "                  Blurb_n_words INT,\\\n",
    "                  Year INT,\\\n",
    "                  Month INT,\\\n",
    "                  Month_day INT,\\\n",
    "                  Week_day INT,\\\n",
    "                  Hour INT,\\\n",
    "                  Has_video TINYINT,\\\n",
    "                  N_rewards INT,\\\n",
    "                  Min_reward INT,\\\n",
    "                  Median_reward INT,\\\n",
    "                  Max_reward BIGINT,\\\n",
    "                  Reward_ship_days INT,\\\n",
    "                  Ships_intn TINYINT,\\\n",
    "                  N_links INT,\\\n",
    "                  N_figs INT,\\\n",
    "                  Body_n_words INT,\\\n",
    "                  N_creator_backed INT,\\\n",
    "                  N_creator_created INT)\")\n",
    "    \n",
    "    cur.execute(\"DESCRIBE Predictors\")\n",
    "    rows = cur.fetchall()\n",
    "    \n",
    "    for row in rows:\n",
    "        print row[0:3]\n",
    "    print np.shape(rows)\n",
    "    cur.close()"
   ]
  },
  {
   "cell_type": "code",
   "execution_count": 18,
   "metadata": {
    "collapsed": false
   },
   "outputs": [
    {
     "name": "stdout",
     "output_type": "stream",
     "text": [
      "[9006, 'https://www.kickstarter.com/projects/1186217328/the-glitch?ref=category', 'successful', 30137, 14500, 'technology', 'Technology', 'USD', 'US', 'raleigh-nc', 1344144345, 60, 7, 10, 2012, 8, 5, 6, 1, 1, 8, 10, 118, 700, 118, -1, 4, 4, 1147, 0, 1]\n"
     ]
    }
   ],
   "source": [
    "print concat_features(9006)"
   ]
  },
  {
   "cell_type": "code",
   "execution_count": 19,
   "metadata": {
    "collapsed": true
   },
   "outputs": [],
   "source": [
    "n_campaigns = 191384"
   ]
  },
  {
   "cell_type": "code",
   "execution_count": 20,
   "metadata": {
    "collapsed": false
   },
   "outputs": [
    {
     "name": "stdout",
     "output_type": "stream",
     "text": [
      "5000\n",
      "10000\n",
      "15000\n",
      "20000\n",
      "25000\n",
      "30000\n",
      "35000\n",
      "40000\n",
      "45000\n",
      "50000\n",
      "55000\n",
      "60000\n",
      "65000\n",
      "70000\n",
      "75000\n",
      "80000\n",
      "85000\n",
      "90000\n",
      "95000\n",
      "100000\n",
      "105000\n",
      "110000\n",
      "115000\n",
      "120000\n",
      "125000\n",
      "130000\n",
      "135000\n",
      "140000\n",
      "145000\n",
      "150000\n",
      "155000\n",
      "160000\n",
      "165000\n",
      "170000\n",
      "175000\n",
      "180000\n",
      "185000\n",
      "190000\n"
     ]
    }
   ],
   "source": [
    "with con:\n",
    "    \n",
    "    for primary_key in range(1,n_campaigns):\n",
    "        if not primary_key%5000:\n",
    "            print primary_key\n",
    "        \n",
    "        # collect all project variables\n",
    "        row_predictors = concat_features(primary_key)\n",
    "        \n",
    "        cur = con.cursor()\n",
    "        cur.execute(\"INSERT INTO Predictors () VALUES(%s,%s,%s,%s,%s,%s,%s,%s,%s,%s,\\\n",
    "                                                      %s,%s,%s,%s,%s,%s,%s,%s,%s,%s,\\\n",
    "                                                      %s,%s,%s,%s,%s,%s,%s,%s,%s,%s,%s)\",row_predictors)\n",
    "        con.commit()\n",
    "        cur.close()"
   ]
  },
  {
   "cell_type": "code",
   "execution_count": null,
   "metadata": {
    "collapsed": true
   },
   "outputs": [],
   "source": []
  }
 ],
 "metadata": {
  "kernelspec": {
   "display_name": "Python 2",
   "language": "python",
   "name": "python2"
  },
  "language_info": {
   "codemirror_mode": {
    "name": "ipython",
    "version": 2
   },
   "file_extension": ".py",
   "mimetype": "text/x-python",
   "name": "python",
   "nbconvert_exporter": "python",
   "pygments_lexer": "ipython2",
   "version": "2.7.10"
  }
 },
 "nbformat": 4,
 "nbformat_minor": 0
}
