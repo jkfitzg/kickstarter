{
 "cells": [
  {
   "cell_type": "code",
   "execution_count": 1,
   "metadata": {
    "collapsed": false
   },
   "outputs": [],
   "source": [
    "import pandas as pd\n",
    "import numpy as np\n",
    "from sklearn.linear_model import LogisticRegression\n",
    "from sklearn.metrics import roc_curve, auc\n",
    "from sklearn import grid_search\n",
    "from sklearn import cross_validation\n",
    "import matplotlib.pyplot as plt\n",
    "from sklearn import metrics\n",
    "import seaborn as sns\n",
    "sns.set_style('whitegrid') "
   ]
  },
  {
   "cell_type": "code",
   "execution_count": 2,
   "metadata": {
    "collapsed": false
   },
   "outputs": [],
   "source": [
    "X_df = pd.read_pickle('new_X_df.save')\n",
    "outcomes_df = pd.read_pickle('new_outcomes_df.save')"
   ]
  },
  {
   "cell_type": "code",
   "execution_count": 3,
   "metadata": {
    "collapsed": false
   },
   "outputs": [],
   "source": [
    "X_train, X_test, y_train, y_test = \\\n",
    "    cross_validation.train_test_split(X_df, outcomes_df['Outcome'].values, \\\n",
    "                                      test_size=0.25, random_state=2) # was 0"
   ]
  },
  {
   "cell_type": "code",
   "execution_count": 4,
   "metadata": {
    "collapsed": true
   },
   "outputs": [],
   "source": [
    "C = [1e-4, 1e-3, 1e-2, 1e-1, 1, 1e2, 1e3, 1e4]\n",
    "param_grid = {'penalty':['l1', 'l2'], 'C': C}"
   ]
  },
  {
   "cell_type": "code",
   "execution_count": 5,
   "metadata": {
    "collapsed": false
   },
   "outputs": [],
   "source": [
    "logistic_regressions = grid_search.GridSearchCV(LogisticRegression(class_weight='auto'), cv=5, \n",
    "                                                param_grid=param_grid, scoring='roc_auc', \n",
    "                                                n_jobs=-1, verbose=1)"
   ]
  },
  {
   "cell_type": "code",
   "execution_count": 6,
   "metadata": {
    "collapsed": false
   },
   "outputs": [
    {
     "name": "stdout",
     "output_type": "stream",
     "text": [
      "Fitting 5 folds for each of 16 candidates, totalling 80 fits\n"
     ]
    },
    {
     "name": "stderr",
     "output_type": "stream",
     "text": [
      "[Parallel(n_jobs=-1)]: Done   1 jobs       | elapsed:    0.8s\n",
      "[Parallel(n_jobs=-1)]: Done  50 jobs       | elapsed:   14.7s\n",
      "[Parallel(n_jobs=-1)]: Done  66 out of  80 | elapsed:   18.6s remaining:    4.0s\n",
      "[Parallel(n_jobs=-1)]: Done  80 out of  80 | elapsed:   21.7s finished\n"
     ]
    },
    {
     "data": {
      "text/plain": [
       "GridSearchCV(cv=5, error_score='raise',\n",
       "       estimator=LogisticRegression(C=1.0, class_weight='auto', dual=False, fit_intercept=True,\n",
       "          intercept_scaling=1, max_iter=100, multi_class='ovr',\n",
       "          penalty='l2', random_state=None, solver='liblinear', tol=0.0001,\n",
       "          verbose=0),\n",
       "       fit_params={}, iid=True, loss_func=None, n_jobs=-1,\n",
       "       param_grid={'penalty': ['l1', 'l2'], 'C': [0.0001, 0.001, 0.01, 0.1, 1, 100.0, 1000.0, 10000.0]},\n",
       "       pre_dispatch='2*n_jobs', refit=True, score_func=None,\n",
       "       scoring='roc_auc', verbose=1)"
      ]
     },
     "execution_count": 6,
     "metadata": {},
     "output_type": "execute_result"
    }
   ],
   "source": [
    "logistic_regressions.fit(X_train, y_train)"
   ]
  },
  {
   "cell_type": "code",
   "execution_count": 7,
   "metadata": {
    "collapsed": false
   },
   "outputs": [
    {
     "name": "stdout",
     "output_type": "stream",
     "text": [
      "mean: 0.75752, std: 0.00348, params: {'penalty': 'l1', 'C': 0.0001}\n",
      "mean: 0.76151, std: 0.00380, params: {'penalty': 'l2', 'C': 0.0001}\n",
      "mean: 0.77220, std: 0.00328, params: {'penalty': 'l1', 'C': 0.001}\n",
      "mean: 0.76244, std: 0.00379, params: {'penalty': 'l2', 'C': 0.001}\n",
      "mean: 0.79051, std: 0.00227, params: {'penalty': 'l1', 'C': 0.01}\n",
      "mean: 0.76325, std: 0.00325, params: {'penalty': 'l2', 'C': 0.01}\n",
      "mean: 0.79069, std: 0.00237, params: {'penalty': 'l1', 'C': 0.1}\n",
      "mean: 0.76230, std: 0.00344, params: {'penalty': 'l2', 'C': 0.1}\n",
      "mean: 0.79051, std: 0.00237, params: {'penalty': 'l1', 'C': 1}\n",
      "mean: 0.76150, std: 0.00294, params: {'penalty': 'l2', 'C': 1}\n",
      "mean: 0.79048, std: 0.00236, params: {'penalty': 'l1', 'C': 100.0}\n",
      "mean: 0.76297, std: 0.00389, params: {'penalty': 'l2', 'C': 100.0}\n",
      "mean: 0.79047, std: 0.00237, params: {'penalty': 'l1', 'C': 1000.0}\n",
      "mean: 0.76179, std: 0.00350, params: {'penalty': 'l2', 'C': 1000.0}\n",
      "mean: 0.79048, std: 0.00237, params: {'penalty': 'l1', 'C': 10000.0}\n",
      "mean: 0.76241, std: 0.00245, params: {'penalty': 'l2', 'C': 10000.0}\n"
     ]
    }
   ],
   "source": [
    "for score in logistic_regressions.grid_scores_:\n",
    "    print score"
   ]
  },
  {
   "cell_type": "code",
   "execution_count": 8,
   "metadata": {
    "collapsed": false
   },
   "outputs": [
    {
     "data": {
      "text/plain": [
       "{'C': 0.1, 'penalty': 'l1'}"
      ]
     },
     "execution_count": 8,
     "metadata": {},
     "output_type": "execute_result"
    }
   ],
   "source": [
    "logistic_regressions.best_params_"
   ]
  },
  {
   "cell_type": "code",
   "execution_count": 9,
   "metadata": {
    "collapsed": false
   },
   "outputs": [
    {
     "data": {
      "text/plain": [
       "0.79068810523060462"
      ]
     },
     "execution_count": 9,
     "metadata": {},
     "output_type": "execute_result"
    }
   ],
   "source": [
    "logistic_regressions.best_score_"
   ]
  },
  {
   "cell_type": "code",
   "execution_count": 10,
   "metadata": {
    "collapsed": true
   },
   "outputs": [],
   "source": [
    "logistic_best = logistic_regressions.best_estimator_"
   ]
  },
  {
   "cell_type": "code",
   "execution_count": 12,
   "metadata": {
    "collapsed": false
   },
   "outputs": [
    {
     "data": {
      "text/plain": [
       "['logistic_best_june28/logistic_best.pkl',\n",
       " 'logistic_best_june28/logistic_best.pkl_01.npy',\n",
       " 'logistic_best_june28/logistic_best.pkl_02.npy',\n",
       " 'logistic_best_june28/logistic_best.pkl_03.npy']"
      ]
     },
     "execution_count": 12,
     "metadata": {},
     "output_type": "execute_result"
    }
   ],
   "source": [
    "from sklearn.externals import joblib\n",
    "joblib.dump(logistic_best, 'logistic_best_june28/logistic_best.pkl') "
   ]
  },
  {
   "cell_type": "code",
   "execution_count": 13,
   "metadata": {
    "collapsed": true
   },
   "outputs": [],
   "source": [
    "# now require l2 regularization for predictor coeficients "
   ]
  },
  {
   "cell_type": "code",
   "execution_count": 25,
   "metadata": {
    "collapsed": false
   },
   "outputs": [],
   "source": [
    "C = [1e-5, 1e-4, 1e-3, 1e-2, .5e-1, 1e-1, 1, 1e2, 1e3, 1e4, 1e5]\n",
    "param_grid = {'penalty':['l2'], 'C': C}"
   ]
  },
  {
   "cell_type": "code",
   "execution_count": 26,
   "metadata": {
    "collapsed": false
   },
   "outputs": [],
   "source": [
    "logistic_regressions = grid_search.GridSearchCV(LogisticRegression(class_weight='auto'), cv=5, \n",
    "                                                param_grid=param_grid, scoring='roc_auc', \n",
    "                                                n_jobs=-1, verbose=1)"
   ]
  },
  {
   "cell_type": "code",
   "execution_count": 27,
   "metadata": {
    "collapsed": false
   },
   "outputs": [
    {
     "name": "stdout",
     "output_type": "stream",
     "text": [
      "Fitting 5 folds for each of 11 candidates, totalling 55 fits\n"
     ]
    },
    {
     "name": "stderr",
     "output_type": "stream",
     "text": [
      "[Parallel(n_jobs=-1)]: Done   1 jobs       | elapsed:    1.6s\n",
      "[Parallel(n_jobs=-1)]: Done  55 out of  55 | elapsed:   20.0s finished\n"
     ]
    },
    {
     "data": {
      "text/plain": [
       "GridSearchCV(cv=5, error_score='raise',\n",
       "       estimator=LogisticRegression(C=1.0, class_weight='auto', dual=False, fit_intercept=True,\n",
       "          intercept_scaling=1, max_iter=100, multi_class='ovr',\n",
       "          penalty='l2', random_state=None, solver='liblinear', tol=0.0001,\n",
       "          verbose=0),\n",
       "       fit_params={}, iid=True, loss_func=None, n_jobs=-1,\n",
       "       param_grid={'penalty': ['l2'], 'C': [1e-05, 0.0001, 0.001, 0.01, 0.05, 0.1, 1, 100.0, 1000.0, 10000.0, 100000.0]},\n",
       "       pre_dispatch='2*n_jobs', refit=True, score_func=None,\n",
       "       scoring='roc_auc', verbose=1)"
      ]
     },
     "execution_count": 27,
     "metadata": {},
     "output_type": "execute_result"
    }
   ],
   "source": [
    "logistic_regressions.fit(X_train, y_train)"
   ]
  },
  {
   "cell_type": "code",
   "execution_count": 28,
   "metadata": {
    "collapsed": false
   },
   "outputs": [
    {
     "name": "stdout",
     "output_type": "stream",
     "text": [
      "mean: 0.76040, std: 0.00335, params: {'penalty': 'l2', 'C': 1e-05}\n",
      "mean: 0.76255, std: 0.00303, params: {'penalty': 'l2', 'C': 0.0001}\n",
      "mean: 0.76194, std: 0.00295, params: {'penalty': 'l2', 'C': 0.001}\n",
      "mean: 0.76109, std: 0.00320, params: {'penalty': 'l2', 'C': 0.01}\n",
      "mean: 0.76174, std: 0.00284, params: {'penalty': 'l2', 'C': 0.05}\n",
      "mean: 0.76173, std: 0.00347, params: {'penalty': 'l2', 'C': 0.1}\n",
      "mean: 0.76142, std: 0.00335, params: {'penalty': 'l2', 'C': 1}\n",
      "mean: 0.76247, std: 0.00362, params: {'penalty': 'l2', 'C': 100.0}\n",
      "mean: 0.76190, std: 0.00345, params: {'penalty': 'l2', 'C': 1000.0}\n",
      "mean: 0.76160, std: 0.00297, params: {'penalty': 'l2', 'C': 10000.0}\n",
      "mean: 0.76179, std: 0.00314, params: {'penalty': 'l2', 'C': 100000.0}\n"
     ]
    }
   ],
   "source": [
    "for score in logistic_regressions.grid_scores_:\n",
    "    print score"
   ]
  },
  {
   "cell_type": "code",
   "execution_count": 30,
   "metadata": {
    "collapsed": false
   },
   "outputs": [
    {
     "data": {
      "text/plain": [
       "{'C': 0.0001, 'penalty': 'l2'}"
      ]
     },
     "execution_count": 30,
     "metadata": {},
     "output_type": "execute_result"
    }
   ],
   "source": [
    "logistic_regressions.best_params_"
   ]
  },
  {
   "cell_type": "code",
   "execution_count": 33,
   "metadata": {
    "collapsed": false
   },
   "outputs": [],
   "source": [
    "logistic_best_l2 = logistic_regressions.best_estimator_"
   ]
  },
  {
   "cell_type": "code",
   "execution_count": 34,
   "metadata": {
    "collapsed": false
   },
   "outputs": [
    {
     "data": {
      "text/plain": [
       "['logistic_best_l2_june28/logistic_best_l2.pkl',\n",
       " 'logistic_best_l2_june28/logistic_best_l2.pkl_01.npy',\n",
       " 'logistic_best_l2_june28/logistic_best_l2.pkl_02.npy',\n",
       " 'logistic_best_l2_june28/logistic_best_l2.pkl_03.npy']"
      ]
     },
     "execution_count": 34,
     "metadata": {},
     "output_type": "execute_result"
    }
   ],
   "source": [
    "from sklearn.externals import joblib\n",
    "joblib.dump(logistic_best_l2, 'logistic_best_l2_june28/logistic_best_l2.pkl') "
   ]
  },
  {
   "cell_type": "code",
   "execution_count": null,
   "metadata": {
    "collapsed": true
   },
   "outputs": [],
   "source": []
  }
 ],
 "metadata": {
  "kernelspec": {
   "display_name": "Python 2",
   "language": "python",
   "name": "python2"
  },
  "language_info": {
   "codemirror_mode": {
    "name": "ipython",
    "version": 2
   },
   "file_extension": ".py",
   "mimetype": "text/x-python",
   "name": "python",
   "nbconvert_exporter": "python",
   "pygments_lexer": "ipython2",
   "version": "2.7.10"
  }
 },
 "nbformat": 4,
 "nbformat_minor": 0
}
