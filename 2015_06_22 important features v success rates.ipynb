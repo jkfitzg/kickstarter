{
 "cells": [
  {
   "cell_type": "code",
   "execution_count": 1,
   "metadata": {
    "collapsed": true
   },
   "outputs": [],
   "source": [
    "# for top 5 features, plot distributions of each and probability of sucesss\n",
    "# move to .py"
   ]
  },
  {
   "cell_type": "code",
   "execution_count": 2,
   "metadata": {
    "collapsed": false
   },
   "outputs": [],
   "source": [
    "import pandas as pd\n",
    "import numpy as np\n",
    "import matplotlib.pyplot as plt\n",
    "import math as math\n",
    "from IPython.display import display\n",
    "from IPython.core.pylabtools import getfigs\n",
    "import sklearn.metrics\n",
    "#import seaborn as sns\n",
    "import pickle"
   ]
  },
  {
   "cell_type": "code",
   "execution_count": 3,
   "metadata": {
    "collapsed": true
   },
   "outputs": [],
   "source": [
    "%matplotlib qt"
   ]
  },
  {
   "cell_type": "code",
   "execution_count": 4,
   "metadata": {
    "collapsed": true
   },
   "outputs": [],
   "source": [
    "saveas_path = '/Users/jamie/insight data/figures/'"
   ]
  },
  {
   "cell_type": "code",
   "execution_count": 5,
   "metadata": {
    "collapsed": true
   },
   "outputs": [],
   "source": [
    "X_df = pd.read_pickle('X_df.save')"
   ]
  },
  {
   "cell_type": "code",
   "execution_count": 6,
   "metadata": {
    "collapsed": true
   },
   "outputs": [],
   "source": [
    "outcomes_df = pd.read_pickle('outcomes_df.save')"
   ]
  },
  {
   "cell_type": "code",
   "execution_count": 7,
   "metadata": {
    "collapsed": false
   },
   "outputs": [
    {
     "name": "stdout",
     "output_type": "stream",
     "text": [
      "0.419820997813\n"
     ]
    }
   ],
   "source": [
    "success_is = np.where(outcomes_df['Outcome'] == 1)[0]\n",
    "fail_is = np.where(outcomes_df['Outcome'] == 0)[0]\n",
    "chance = len(success_is)/float(len(success_is) + len(fail_is))\n",
    "print chance"
   ]
  },
  {
   "cell_type": "code",
   "execution_count": 8,
   "metadata": {
    "collapsed": false
   },
   "outputs": [
    {
     "data": {
      "text/html": [
       "<div style=\"max-height:1000px;max-width:1500px;overflow:auto;\">\n",
       "<table border=\"1\" class=\"dataframe\">\n",
       "  <thead>\n",
       "    <tr style=\"text-align: right;\">\n",
       "      <th></th>\n",
       "      <th>Goal</th>\n",
       "      <th>Campaign_days</th>\n",
       "      <th>Title_n_words</th>\n",
       "      <th>Blurb_n_words</th>\n",
       "      <th>Hour</th>\n",
       "      <th>N_rewards</th>\n",
       "      <th>Min_reward</th>\n",
       "      <th>Median_reward</th>\n",
       "      <th>Max_reward</th>\n",
       "      <th>Reward_ship_days</th>\n",
       "      <th>...</th>\n",
       "      <th>14h</th>\n",
       "      <th>15h</th>\n",
       "      <th>16h</th>\n",
       "      <th>17h</th>\n",
       "      <th>18h</th>\n",
       "      <th>19h</th>\n",
       "      <th>20h</th>\n",
       "      <th>21h</th>\n",
       "      <th>22h</th>\n",
       "      <th>23h</th>\n",
       "    </tr>\n",
       "  </thead>\n",
       "  <tbody>\n",
       "    <tr>\n",
       "      <th>0</th>\n",
       "      <td>5000</td>\n",
       "      <td>30</td>\n",
       "      <td>2</td>\n",
       "      <td>17</td>\n",
       "      <td>20</td>\n",
       "      <td>8</td>\n",
       "      <td>10</td>\n",
       "      <td>175</td>\n",
       "      <td>5000</td>\n",
       "      <td>110</td>\n",
       "      <td>...</td>\n",
       "      <td>0</td>\n",
       "      <td>0</td>\n",
       "      <td>0</td>\n",
       "      <td>0</td>\n",
       "      <td>0</td>\n",
       "      <td>0</td>\n",
       "      <td>1</td>\n",
       "      <td>0</td>\n",
       "      <td>0</td>\n",
       "      <td>0</td>\n",
       "    </tr>\n",
       "    <tr>\n",
       "      <th>1</th>\n",
       "      <td>10000</td>\n",
       "      <td>30</td>\n",
       "      <td>8</td>\n",
       "      <td>21</td>\n",
       "      <td>14</td>\n",
       "      <td>10</td>\n",
       "      <td>5</td>\n",
       "      <td>125</td>\n",
       "      <td>5000</td>\n",
       "      <td>31</td>\n",
       "      <td>...</td>\n",
       "      <td>1</td>\n",
       "      <td>0</td>\n",
       "      <td>0</td>\n",
       "      <td>0</td>\n",
       "      <td>0</td>\n",
       "      <td>0</td>\n",
       "      <td>0</td>\n",
       "      <td>0</td>\n",
       "      <td>0</td>\n",
       "      <td>0</td>\n",
       "    </tr>\n",
       "    <tr>\n",
       "      <th>2</th>\n",
       "      <td>18000</td>\n",
       "      <td>27</td>\n",
       "      <td>5</td>\n",
       "      <td>14</td>\n",
       "      <td>8</td>\n",
       "      <td>19</td>\n",
       "      <td>5</td>\n",
       "      <td>500</td>\n",
       "      <td>10000</td>\n",
       "      <td>4</td>\n",
       "      <td>...</td>\n",
       "      <td>0</td>\n",
       "      <td>0</td>\n",
       "      <td>0</td>\n",
       "      <td>0</td>\n",
       "      <td>0</td>\n",
       "      <td>0</td>\n",
       "      <td>0</td>\n",
       "      <td>0</td>\n",
       "      <td>0</td>\n",
       "      <td>0</td>\n",
       "    </tr>\n",
       "  </tbody>\n",
       "</table>\n",
       "<p>3 rows × 104 columns</p>\n",
       "</div>"
      ],
      "text/plain": [
       "    Goal Campaign_days Title_n_words Blurb_n_words Hour N_rewards Min_reward  \\\n",
       "0   5000            30             2            17   20         8         10   \n",
       "1  10000            30             8            21   14        10          5   \n",
       "2  18000            27             5            14    8        19          5   \n",
       "\n",
       "  Median_reward Max_reward Reward_ship_days ...  14h 15h 16h 17h  18h  19h  \\\n",
       "0           175       5000              110 ...    0   0   0   0    0    0   \n",
       "1           125       5000               31 ...    1   0   0   0    0    0   \n",
       "2           500      10000                4 ...    0   0   0   0    0    0   \n",
       "\n",
       "   20h  21h  22h  23h  \n",
       "0    1    0    0    0  \n",
       "1    0    0    0    0  \n",
       "2    0    0    0    0  \n",
       "\n",
       "[3 rows x 104 columns]"
      ]
     },
     "execution_count": 8,
     "metadata": {},
     "output_type": "execute_result"
    }
   ],
   "source": [
    "X_df.head(3)"
   ]
  },
  {
   "cell_type": "code",
   "execution_count": 9,
   "metadata": {
    "collapsed": false
   },
   "outputs": [
    {
     "data": {
      "text/html": [
       "<div style=\"max-height:1000px;max-width:1500px;overflow:auto;\">\n",
       "<table border=\"1\" class=\"dataframe\">\n",
       "  <thead>\n",
       "    <tr style=\"text-align: right;\">\n",
       "      <th></th>\n",
       "      <th>Outcome</th>\n",
       "    </tr>\n",
       "  </thead>\n",
       "  <tbody>\n",
       "    <tr>\n",
       "      <th>0</th>\n",
       "      <td>1</td>\n",
       "    </tr>\n",
       "    <tr>\n",
       "      <th>1</th>\n",
       "      <td>1</td>\n",
       "    </tr>\n",
       "    <tr>\n",
       "      <th>2</th>\n",
       "      <td>1</td>\n",
       "    </tr>\n",
       "    <tr>\n",
       "      <th>3</th>\n",
       "      <td>1</td>\n",
       "    </tr>\n",
       "    <tr>\n",
       "      <th>4</th>\n",
       "      <td>1</td>\n",
       "    </tr>\n",
       "  </tbody>\n",
       "</table>\n",
       "</div>"
      ],
      "text/plain": [
       "   Outcome\n",
       "0        1\n",
       "1        1\n",
       "2        1\n",
       "3        1\n",
       "4        1"
      ]
     },
     "execution_count": 9,
     "metadata": {},
     "output_type": "execute_result"
    }
   ],
   "source": [
    "outcomes_df.head()"
   ]
  },
  {
   "cell_type": "code",
   "execution_count": 10,
   "metadata": {
    "collapsed": false
   },
   "outputs": [
    {
     "name": "stdout",
     "output_type": "stream",
     "text": [
      "133071\n"
     ]
    }
   ],
   "source": [
    "n_samples = np.shape(outcomes_df)[0]\n",
    "print n_samples"
   ]
  },
  {
   "cell_type": "code",
   "execution_count": 11,
   "metadata": {
    "collapsed": false
   },
   "outputs": [],
   "source": [
    "rankings_order = [u'N_creator_backed', u'Goal', u'N_rewards', u'Body_n_words', u'N_links',\n",
    "       u'Max_reward', u'Campaign_days', u'Median_reward', u'Reward_ship_days',\n",
    "       u'Min_reward', u'N_figs', u'Month', u'Hour', u'Blurb_n_words',\n",
    "       u'Monday_day', u'Title_n_words', u'Ships_intn', u'Week_day']"
   ]
  },
  {
   "cell_type": "code",
   "execution_count": 40,
   "metadata": {
    "collapsed": false
   },
   "outputs": [],
   "source": [
    "def plot_probability_funding_freq(subset_predictor_df,outcomes_df,feature_name,bins = range(12),step=1,vline_x=[]):\n",
    "    import matplotlib.gridspec as gridspec\n",
    "    \n",
    "    # set up axes\n",
    "    fig = plt.figure()\n",
    "    gs = gridspec.GridSpec(2,1)\n",
    "    gs.update(wspace=0.1, hspace=0.1)\n",
    "    \n",
    "    hist_ax = plt.subplot(gs[1,0])  \n",
    "    success_ax  = plt.subplot(gs[0,0],sharex=hist_ax) \n",
    "    \n",
    "    # get predictor, success and failure points\n",
    "    this_predictor = subset_predictor_df[feature_name].values\n",
    "    \n",
    "    success_is = np.where(outcomes_df['Outcome'] == 1)[0]\n",
    "    fail_is = np.where(outcomes_df['Outcome'] == 0)[0]\n",
    "    chance = len(success_is)/float(len(success_is) + len(fail_is))\n",
    "    \n",
    "    # plot histograms\n",
    "    #hist_ax.hist(this_predictor[fail_is], bins=bins, normed=True, color=\"#F08080\", alpha=.5);\n",
    "    #hist_ax.hist(this_predictor[success_is], bins=bins, normed=True, color=\"#6495ED\", alpha=.5);\n",
    "    #hist_ax.set_xlabel(feature_name)\n",
    "    #hist_ax.set_ylabel('Relative frequency')\n",
    "    #hist_ax.set_xlim([-.5,max(bins)+.5])\n",
    "    \n",
    "    stacked_array = [this_predictor[success_is],this_predictor]\n",
    "    colors = ['green','black']\n",
    "    hist_ax.hist(stacked_array,bins=bins,align='left',stacked=True,color=colors)\n",
    "    hist_ax.set_xlabel(feature_name)\n",
    "    hist_ax.set_ylabel('Relative frequency')\n",
    "    \n",
    "    if vline_x:\n",
    "        hist_ax.axvline(vline_x,color='blue')\n",
    "\n",
    "    \n",
    "    # calc, plot success frequency\n",
    "    success_freq = np.empty_like(bins[:-1],dtype=float)\n",
    "\n",
    "    for i,bin in enumerate(bins[:-1]):\n",
    "        \n",
    "        this_bin_is = np.intersect1d(np.where(subset_predictor_df[feature_name]>=bin)[0],\n",
    "                                     np.where(subset_predictor_df[feature_name]<bin+step)[0])\n",
    "\n",
    "        n_this_bin = len(this_bin_is)\n",
    "        n_success = sum(outcomes_df.ix[this_bin_is,'Outcome'].values)\n",
    "        if n_this_bin:\n",
    "            success_freq[i] = float(n_success)/n_this_bin\n",
    "        else:\n",
    "            success_freq[i] = np.nan\n",
    "    \n",
    "        \n",
    "    success_ax.axhline(chance,color='k',linewidth=.25)\n",
    "    success_ax.plot(np.asarray(bins[:-1]),success_freq,'.',markersize=12)\n",
    "    success_ax.set_ylim([0,1])\n",
    "    success_ax.set_ylabel('Success probability')\n",
    "    #success_ax.set_xticklabels([])\n",
    "    \n",
    "    #saveas_path = '/Users/jamie/insight_data/figures/'\n",
    "    #plt.savefig(saveas_path + feature_name +' success rate and hist.png',bbox_inches='tight',dpi=200) "
   ]
  },
  {
   "cell_type": "code",
   "execution_count": 39,
   "metadata": {
    "collapsed": false
   },
   "outputs": [],
   "source": [
    "plot_probability_funding_freq(X_df,outcomes_df,'N_creator_backed',range(0,12),vline_x=5)"
   ]
  },
  {
   "cell_type": "code",
   "execution_count": 76,
   "metadata": {
    "collapsed": false
   },
   "outputs": [],
   "source": [
    "plot_probability_funding_freq(subset_predictor_df,outcomes_df,\\\n",
    "                              'Goal',range(0,30000,1000),1000)"
   ]
  },
  {
   "cell_type": "code",
   "execution_count": 77,
   "metadata": {
    "collapsed": true
   },
   "outputs": [],
   "source": [
    "plot_probability_funding_freq(subset_predictor_df,outcomes_df,'N_rewards',range(0,20))"
   ]
  },
  {
   "cell_type": "code",
   "execution_count": 78,
   "metadata": {
    "collapsed": false
   },
   "outputs": [],
   "source": [
    "plot_probability_funding_freq(subset_predictor_df,outcomes_df,'Body_n_words',range(0,2000,50),100)"
   ]
  },
  {
   "cell_type": "code",
   "execution_count": 79,
   "metadata": {
    "collapsed": true
   },
   "outputs": [],
   "source": [
    "plot_probability_funding_freq(subset_predictor_df,outcomes_df,'N_links',range(0,12))"
   ]
  },
  {
   "cell_type": "code",
   "execution_count": 80,
   "metadata": {
    "collapsed": true
   },
   "outputs": [],
   "source": [
    "plt.close('all')"
   ]
  },
  {
   "cell_type": "code",
   "execution_count": 82,
   "metadata": {
    "collapsed": true
   },
   "outputs": [],
   "source": [
    "plot_probability_funding_freq(subset_predictor_df,outcomes_df,'Max_reward',range(0,1000,100),100)"
   ]
  },
  {
   "cell_type": "code",
   "execution_count": 96,
   "metadata": {
    "collapsed": true
   },
   "outputs": [],
   "source": [
    "plot_probability_funding_freq(subset_predictor_df,outcomes_df,'Campaign_days',range(0,61,1))"
   ]
  },
  {
   "cell_type": "code",
   "execution_count": 86,
   "metadata": {
    "collapsed": true
   },
   "outputs": [],
   "source": [
    "plot_probability_funding_freq(subset_predictor_df,outcomes_df,'Reward_ship_days',range(0,365,7))"
   ]
  },
  {
   "cell_type": "code",
   "execution_count": 90,
   "metadata": {
    "collapsed": true
   },
   "outputs": [],
   "source": [
    "plot_probability_funding_freq(subset_predictor_df,outcomes_df,'Ships_intn',range(-1,3,1))"
   ]
  },
  {
   "cell_type": "code",
   "execution_count": 92,
   "metadata": {
    "collapsed": true
   },
   "outputs": [],
   "source": [
    "plot_probability_funding_freq(subset_predictor_df,outcomes_df,'Monday_day',range(1,32,1))"
   ]
  },
  {
   "cell_type": "code",
   "execution_count": 95,
   "metadata": {
    "collapsed": true
   },
   "outputs": [],
   "source": [
    "plot_probability_funding_freq(subset_predictor_df,outcomes_df,'Week_day',range(0,8,1))"
   ]
  },
  {
   "cell_type": "code",
   "execution_count": null,
   "metadata": {
    "collapsed": true
   },
   "outputs": [],
   "source": []
  }
 ],
 "metadata": {
  "kernelspec": {
   "display_name": "Python 2",
   "language": "python",
   "name": "python2"
  },
  "language_info": {
   "codemirror_mode": {
    "name": "ipython",
    "version": 2
   },
   "file_extension": ".py",
   "mimetype": "text/x-python",
   "name": "python",
   "nbconvert_exporter": "python",
   "pygments_lexer": "ipython2",
   "version": "2.7.10"
  }
 },
 "nbformat": 4,
 "nbformat_minor": 0
}
