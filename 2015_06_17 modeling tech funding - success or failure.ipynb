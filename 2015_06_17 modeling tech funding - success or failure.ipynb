{
 "cells": [
  {
   "cell_type": "code",
   "execution_count": 1,
   "metadata": {
    "collapsed": true
   },
   "outputs": [],
   "source": [
    "# Done -- linear regression, logistic regression\n",
    "# Now -- decision tree, SVM\n",
    "# then jaccard index, cosine similarity, weighted kernel density estimator\n",
    "#\n",
    "# regularlize all models -- later. I have a lot of data.\n",
    "# train, cross validate  -- later. I need some predictive power.\n",
    "#\n",
    "# start with tech, then for all entries in my database \n",
    "# what predictors did greenberg use?\n",
    "#\n",
    "# duration Length of project in Days Double\n",
    "# twitter_url Connected to twitter Boolean\n",
    "# has_video Video present Boolean\n",
    "# facebook_connected Connected to Facebook Boolean\n",
    "# facebook_friends Number of facebook friends Integer\n",
    "# twitter_followers Number of twitter followers Integer\n",
    "# sent Sentiment (pos, neg, or neutral) String --\n",
    "#      For the sentiment attribute, we used the Mashape Text-Processing API\n",
    "# fkgl Grade level Double -FKGL stands for Flesch-Kincaid Grade Level (measures reading ability) \n",
    "#       from nltk\n",
    "#sent_count Number of sentences in project description Integer\n",
    "# see Tindle blog post\n"
   ]
  },
  {
   "cell_type": "code",
   "execution_count": 94,
   "metadata": {
    "collapsed": true
   },
   "outputs": [],
   "source": [
    "# Features I already have _______________________________________\n",
    "# - rewards: n, min, max, intn shipping\n",
    "# - n creator backed\n",
    "# - title char len\n",
    "# - blurb char len\n",
    "# - launch time (in Unix time)\n",
    "# - project duration\n",
    "# - goal\n",
    "\n",
    "# I could add easily \n",
    "# - day of the week\n",
    "# - day of the month -- 1st/15st/30st\n",
    "# - month\n",
    "# - time between launch and ship of rewards -- most recent. \n",
    "# - title word len\n",
    "# - blurb word len\n",
    "# - body word length\n",
    "# - readablity \n",
    "# - n misspellings\n",
    "# - faq n questions/word len\n",
    "# - risks and rewards word len\n",
    "# - n pictures\n",
    "# - other reward info\n"
   ]
  },
  {
   "cell_type": "code",
   "execution_count": 1,
   "metadata": {
    "collapsed": true
   },
   "outputs": [],
   "source": [
    "# useful links\n",
    "# https://github.com/jakevdp/sklearn_scipy2013/blob/master/rendered_notebooks/06.1_validation_and_testing.ipynb\n",
    "# http://scikit-learn.org/stable/modules/generated/sklearn.tree.DecisionTreeClassifier.html\n",
    "# http://scikit-learn.org/stable/modules/generated/sklearn.metrics.precision_recall_fscore_support.html#sklearn.metrics.precision_recall_fscore_support\n",
    "# http://scikit-learn.org/stable/modules/ensemble.html\n",
    "# http://scikit-learn.org/stable/auto_examples/ensemble/plot_forest_importances.html"
   ]
  },
  {
   "cell_type": "code",
   "execution_count": 4,
   "metadata": {
    "collapsed": false
   },
   "outputs": [],
   "source": [
    "import pandas as pd\n",
    "import numpy as np\n",
    "import matplotlib.pyplot as plt\n",
    "import math as math\n",
    "from IPython.display import display\n",
    "from IPython.core.pylabtools import getfigs\n",
    "from sklearn import linear_model \n",
    "#import seaborn as sns"
   ]
  },
  {
   "cell_type": "code",
   "execution_count": 5,
   "metadata": {
    "collapsed": true
   },
   "outputs": [],
   "source": [
    "%matplotlib qt"
   ]
  },
  {
   "cell_type": "code",
   "execution_count": 6,
   "metadata": {
    "collapsed": false
   },
   "outputs": [],
   "source": [
    "#from extract_kickstarter_features import *\n",
    "#%load_ext autoreload\n",
    "#%autoreload 2"
   ]
  },
  {
   "cell_type": "code",
   "execution_count": 7,
   "metadata": {
    "collapsed": true
   },
   "outputs": [],
   "source": [
    "saveas_path = '/Users/jamie/insight data/figures/'"
   ]
  },
  {
   "cell_type": "code",
   "execution_count": 8,
   "metadata": {
    "collapsed": false
   },
   "outputs": [],
   "source": [
    "tech_df = pd.read_pickle('tech_df.save')"
   ]
  },
  {
   "cell_type": "code",
   "execution_count": 9,
   "metadata": {
    "collapsed": false
   },
   "outputs": [
    {
     "data": {
      "text/plain": [
       "(6633, 12)"
      ]
     },
     "execution_count": 9,
     "metadata": {},
     "output_type": "execute_result"
    }
   ],
   "source": [
    "np.shape(tech_df)"
   ]
  },
  {
   "cell_type": "code",
   "execution_count": 10,
   "metadata": {
    "collapsed": false
   },
   "outputs": [
    {
     "data": {
      "text/html": [
       "<div style=\"max-height:1000px;max-width:1500px;overflow:auto;\">\n",
       "<table border=\"1\" class=\"dataframe\">\n",
       "  <thead>\n",
       "    <tr style=\"text-align: right;\">\n",
       "      <th></th>\n",
       "      <th>id</th>\n",
       "      <th>pledged</th>\n",
       "      <th>goal</th>\n",
       "      <th>n rewards</th>\n",
       "      <th>min reward</th>\n",
       "      <th>max reward</th>\n",
       "      <th>intn ship</th>\n",
       "      <th>n creator backed</th>\n",
       "      <th>title n chars</th>\n",
       "      <th>blurb n chars</th>\n",
       "      <th>launch time</th>\n",
       "      <th>campaign dur</th>\n",
       "    </tr>\n",
       "  </thead>\n",
       "  <tbody>\n",
       "    <tr>\n",
       "      <th>6630</th>\n",
       "      <td>16468</td>\n",
       "      <td>8904</td>\n",
       "      <td>5000</td>\n",
       "      <td>7</td>\n",
       "      <td>1</td>\n",
       "      <td>100</td>\n",
       "      <td>1</td>\n",
       "      <td>0</td>\n",
       "      <td>56</td>\n",
       "      <td>129</td>\n",
       "      <td>1411686079</td>\n",
       "      <td>3459600</td>\n",
       "    </tr>\n",
       "    <tr>\n",
       "      <th>6631</th>\n",
       "      <td>16469</td>\n",
       "      <td>615</td>\n",
       "      <td>50000</td>\n",
       "      <td>8</td>\n",
       "      <td>1</td>\n",
       "      <td>1000</td>\n",
       "      <td>0</td>\n",
       "      <td>0</td>\n",
       "      <td>51</td>\n",
       "      <td>103</td>\n",
       "      <td>1409441823</td>\n",
       "      <td>5184000</td>\n",
       "    </tr>\n",
       "    <tr>\n",
       "      <th>6632</th>\n",
       "      <td>16470</td>\n",
       "      <td>585549</td>\n",
       "      <td>7500</td>\n",
       "      <td>11</td>\n",
       "      <td>1</td>\n",
       "      <td>1337</td>\n",
       "      <td>1</td>\n",
       "      <td>2</td>\n",
       "      <td>44</td>\n",
       "      <td>114</td>\n",
       "      <td>1413159586</td>\n",
       "      <td>2595600</td>\n",
       "    </tr>\n",
       "  </tbody>\n",
       "</table>\n",
       "</div>"
      ],
      "text/plain": [
       "         id pledged   goal n rewards min reward max reward intn ship  \\\n",
       "6630  16468    8904   5000         7          1        100         1   \n",
       "6631  16469     615  50000         8          1       1000         0   \n",
       "6632  16470  585549   7500        11          1       1337         1   \n",
       "\n",
       "     n creator backed title n chars blurb n chars launch time campaign dur  \n",
       "6630                0            56           129  1411686079      3459600  \n",
       "6631                0            51           103  1409441823      5184000  \n",
       "6632                2            44           114  1413159586      2595600  "
      ]
     },
     "execution_count": 10,
     "metadata": {},
     "output_type": "execute_result"
    }
   ],
   "source": [
    "tech_df.tail(3)"
   ]
  },
  {
   "cell_type": "code",
   "execution_count": 11,
   "metadata": {
    "collapsed": false
   },
   "outputs": [],
   "source": [
    "# create new columns \n",
    "tech_df['pledged/goal'] = tech_df['pledged']/tech_df['goal']"
   ]
  },
  {
   "cell_type": "code",
   "execution_count": 12,
   "metadata": {
    "collapsed": false
   },
   "outputs": [
    {
     "data": {
      "text/html": [
       "<div style=\"max-height:1000px;max-width:1500px;overflow:auto;\">\n",
       "<table border=\"1\" class=\"dataframe\">\n",
       "  <thead>\n",
       "    <tr style=\"text-align: right;\">\n",
       "      <th></th>\n",
       "      <th>id</th>\n",
       "      <th>pledged</th>\n",
       "      <th>goal</th>\n",
       "      <th>n rewards</th>\n",
       "      <th>min reward</th>\n",
       "      <th>max reward</th>\n",
       "      <th>intn ship</th>\n",
       "      <th>n creator backed</th>\n",
       "      <th>title n chars</th>\n",
       "      <th>blurb n chars</th>\n",
       "      <th>launch time</th>\n",
       "      <th>campaign dur</th>\n",
       "      <th>pledged/goal</th>\n",
       "    </tr>\n",
       "  </thead>\n",
       "  <tbody>\n",
       "    <tr>\n",
       "      <th>6630</th>\n",
       "      <td>16468</td>\n",
       "      <td>8904</td>\n",
       "      <td>5000</td>\n",
       "      <td>7</td>\n",
       "      <td>1</td>\n",
       "      <td>100</td>\n",
       "      <td>1</td>\n",
       "      <td>0</td>\n",
       "      <td>56</td>\n",
       "      <td>129</td>\n",
       "      <td>1411686079</td>\n",
       "      <td>3459600</td>\n",
       "      <td>1.7808</td>\n",
       "    </tr>\n",
       "    <tr>\n",
       "      <th>6631</th>\n",
       "      <td>16469</td>\n",
       "      <td>615</td>\n",
       "      <td>50000</td>\n",
       "      <td>8</td>\n",
       "      <td>1</td>\n",
       "      <td>1000</td>\n",
       "      <td>0</td>\n",
       "      <td>0</td>\n",
       "      <td>51</td>\n",
       "      <td>103</td>\n",
       "      <td>1409441823</td>\n",
       "      <td>5184000</td>\n",
       "      <td>0.0123</td>\n",
       "    </tr>\n",
       "    <tr>\n",
       "      <th>6632</th>\n",
       "      <td>16470</td>\n",
       "      <td>585549</td>\n",
       "      <td>7500</td>\n",
       "      <td>11</td>\n",
       "      <td>1</td>\n",
       "      <td>1337</td>\n",
       "      <td>1</td>\n",
       "      <td>2</td>\n",
       "      <td>44</td>\n",
       "      <td>114</td>\n",
       "      <td>1413159586</td>\n",
       "      <td>2595600</td>\n",
       "      <td>78.0732</td>\n",
       "    </tr>\n",
       "  </tbody>\n",
       "</table>\n",
       "</div>"
      ],
      "text/plain": [
       "         id pledged   goal n rewards min reward max reward intn ship  \\\n",
       "6630  16468    8904   5000         7          1        100         1   \n",
       "6631  16469     615  50000         8          1       1000         0   \n",
       "6632  16470  585549   7500        11          1       1337         1   \n",
       "\n",
       "     n creator backed title n chars blurb n chars launch time campaign dur  \\\n",
       "6630                0            56           129  1411686079      3459600   \n",
       "6631                0            51           103  1409441823      5184000   \n",
       "6632                2            44           114  1413159586      2595600   \n",
       "\n",
       "     pledged/goal  \n",
       "6630       1.7808  \n",
       "6631       0.0123  \n",
       "6632      78.0732  "
      ]
     },
     "execution_count": 12,
     "metadata": {},
     "output_type": "execute_result"
    }
   ],
   "source": [
    "tech_df.tail(3)"
   ]
  },
  {
   "cell_type": "code",
   "execution_count": 13,
   "metadata": {
    "collapsed": true
   },
   "outputs": [],
   "source": [
    "#let's find some data stories!"
   ]
  },
  {
   "cell_type": "code",
   "execution_count": 14,
   "metadata": {
    "collapsed": false
   },
   "outputs": [
    {
     "name": "stdout",
     "output_type": "stream",
     "text": [
      "(6546,)\n"
     ]
    }
   ],
   "source": [
    "# restrict to projects with goals of less than $500,000\n",
    "reasonable_goal_is = np.where(tech_df['goal'] < 500000)[0]\n",
    "print np.shape(reasonable_goal_is)"
   ]
  },
  {
   "cell_type": "code",
   "execution_count": 15,
   "metadata": {
    "collapsed": false
   },
   "outputs": [
    {
     "name": "stdout",
     "output_type": "stream",
     "text": [
      "(3886,)\n"
     ]
    }
   ],
   "source": [
    "# restrict to projects with goals of less than $50,000\n",
    "small_goal_is = np.where(tech_df['goal'] < 25000)[0]\n",
    "print np.shape(small_goal_is)"
   ]
  },
  {
   "cell_type": "code",
   "execution_count": 16,
   "metadata": {
    "collapsed": false
   },
   "outputs": [],
   "source": [
    "# now try a logistic regression ___________\n",
    "tech_df.ix[:,'outcomes'] = 0\n",
    "tech_df.ix[tech_df['pledged'] >= tech_df['goal'],'outcomes'] = 1"
   ]
  },
  {
   "cell_type": "code",
   "execution_count": 17,
   "metadata": {
    "collapsed": false
   },
   "outputs": [
    {
     "data": {
      "text/html": [
       "<div style=\"max-height:1000px;max-width:1500px;overflow:auto;\">\n",
       "<table border=\"1\" class=\"dataframe\">\n",
       "  <thead>\n",
       "    <tr style=\"text-align: right;\">\n",
       "      <th></th>\n",
       "      <th>id</th>\n",
       "      <th>pledged</th>\n",
       "      <th>goal</th>\n",
       "      <th>n rewards</th>\n",
       "      <th>min reward</th>\n",
       "      <th>max reward</th>\n",
       "      <th>intn ship</th>\n",
       "      <th>n creator backed</th>\n",
       "      <th>title n chars</th>\n",
       "      <th>blurb n chars</th>\n",
       "      <th>launch time</th>\n",
       "      <th>campaign dur</th>\n",
       "      <th>pledged/goal</th>\n",
       "      <th>outcomes</th>\n",
       "    </tr>\n",
       "  </thead>\n",
       "  <tbody>\n",
       "    <tr>\n",
       "      <th>6628</th>\n",
       "      <td>16461</td>\n",
       "      <td>25</td>\n",
       "      <td>100000</td>\n",
       "      <td>5</td>\n",
       "      <td>25</td>\n",
       "      <td>10000</td>\n",
       "      <td>-1</td>\n",
       "      <td>0</td>\n",
       "      <td>35</td>\n",
       "      <td>134</td>\n",
       "      <td>1414879251</td>\n",
       "      <td>2595600</td>\n",
       "      <td>0.00025</td>\n",
       "      <td>0</td>\n",
       "    </tr>\n",
       "    <tr>\n",
       "      <th>6629</th>\n",
       "      <td>16462</td>\n",
       "      <td>15790</td>\n",
       "      <td>3500</td>\n",
       "      <td>8</td>\n",
       "      <td>59</td>\n",
       "      <td>250</td>\n",
       "      <td>1</td>\n",
       "      <td>1</td>\n",
       "      <td>36</td>\n",
       "      <td>132</td>\n",
       "      <td>1411511254</td>\n",
       "      <td>2592000</td>\n",
       "      <td>4.511429</td>\n",
       "      <td>1</td>\n",
       "    </tr>\n",
       "    <tr>\n",
       "      <th>6630</th>\n",
       "      <td>16468</td>\n",
       "      <td>8904</td>\n",
       "      <td>5000</td>\n",
       "      <td>7</td>\n",
       "      <td>1</td>\n",
       "      <td>100</td>\n",
       "      <td>1</td>\n",
       "      <td>0</td>\n",
       "      <td>56</td>\n",
       "      <td>129</td>\n",
       "      <td>1411686079</td>\n",
       "      <td>3459600</td>\n",
       "      <td>1.7808</td>\n",
       "      <td>1</td>\n",
       "    </tr>\n",
       "    <tr>\n",
       "      <th>6631</th>\n",
       "      <td>16469</td>\n",
       "      <td>615</td>\n",
       "      <td>50000</td>\n",
       "      <td>8</td>\n",
       "      <td>1</td>\n",
       "      <td>1000</td>\n",
       "      <td>0</td>\n",
       "      <td>0</td>\n",
       "      <td>51</td>\n",
       "      <td>103</td>\n",
       "      <td>1409441823</td>\n",
       "      <td>5184000</td>\n",
       "      <td>0.0123</td>\n",
       "      <td>0</td>\n",
       "    </tr>\n",
       "    <tr>\n",
       "      <th>6632</th>\n",
       "      <td>16470</td>\n",
       "      <td>585549</td>\n",
       "      <td>7500</td>\n",
       "      <td>11</td>\n",
       "      <td>1</td>\n",
       "      <td>1337</td>\n",
       "      <td>1</td>\n",
       "      <td>2</td>\n",
       "      <td>44</td>\n",
       "      <td>114</td>\n",
       "      <td>1413159586</td>\n",
       "      <td>2595600</td>\n",
       "      <td>78.0732</td>\n",
       "      <td>1</td>\n",
       "    </tr>\n",
       "  </tbody>\n",
       "</table>\n",
       "</div>"
      ],
      "text/plain": [
       "         id pledged    goal n rewards min reward max reward intn ship  \\\n",
       "6628  16461      25  100000         5         25      10000        -1   \n",
       "6629  16462   15790    3500         8         59        250         1   \n",
       "6630  16468    8904    5000         7          1        100         1   \n",
       "6631  16469     615   50000         8          1       1000         0   \n",
       "6632  16470  585549    7500        11          1       1337         1   \n",
       "\n",
       "     n creator backed title n chars blurb n chars launch time campaign dur  \\\n",
       "6628                0            35           134  1414879251      2595600   \n",
       "6629                1            36           132  1411511254      2592000   \n",
       "6630                0            56           129  1411686079      3459600   \n",
       "6631                0            51           103  1409441823      5184000   \n",
       "6632                2            44           114  1413159586      2595600   \n",
       "\n",
       "     pledged/goal  outcomes  \n",
       "6628      0.00025         0  \n",
       "6629     4.511429         1  \n",
       "6630       1.7808         1  \n",
       "6631       0.0123         0  \n",
       "6632      78.0732         1  "
      ]
     },
     "execution_count": 17,
     "metadata": {},
     "output_type": "execute_result"
    }
   ],
   "source": [
    "tech_df.tail(5)"
   ]
  },
  {
   "cell_type": "code",
   "execution_count": 71,
   "metadata": {
    "collapsed": false
   },
   "outputs": [],
   "source": [
    "# removed launch time. replace with time of day, day of week, month\n",
    "#predictor_cols = list(['goal','n rewards','min reward','max reward','intn ship','n creator backed','title n chars','blurb n chars','campaign dur'])\n",
    "predictor_cols = list(['n rewards','min reward','max reward','intn ship','n creator backed','title n chars','blurb n chars','campaign dur'])\n",
    "\n",
    "predictors = tech_df.ix[:,predictor_cols]"
   ]
  },
  {
   "cell_type": "code",
   "execution_count": 19,
   "metadata": {
    "collapsed": false
   },
   "outputs": [
    {
     "data": {
      "text/plain": [
       "array([[ -5.70416186e-05,   4.87435326e-06,  -4.88537285e-05,\n",
       "          6.37065362e-05,   5.68284321e-07,   8.36966921e-06,\n",
       "          5.41117328e-06,  -3.07871009e-06,  -1.21687950e-07]])"
      ]
     },
     "execution_count": 19,
     "metadata": {},
     "output_type": "execute_result"
    }
   ],
   "source": [
    "# I need to train and test this.\n",
    "clf = linear_model.LogisticRegression()\n",
    "clf.fit(predictors.ix[small_goal_is,:],tech_df.ix[small_goal_is,'outcomes'])\n",
    "clf.coef_\n"
   ]
  },
  {
   "cell_type": "code",
   "execution_count": 20,
   "metadata": {
    "collapsed": true
   },
   "outputs": [],
   "source": [
    "# next try an svm, random forests. I'll need to scale it. \n",
    "# http://scikit-learn.org/stable/modules/svm.html\n",
    "# http://scikit-learn.org/stable/modules/preprocessing.html#preprocessing\n",
    "#\n",
    "# I think I need more predictors, nlp, and a distribution \n",
    "# latent variable analysis?"
   ]
  },
  {
   "cell_type": "code",
   "execution_count": 21,
   "metadata": {
    "collapsed": true
   },
   "outputs": [],
   "source": [
    "# now trying a decision tree since it's easy, worked for Greenberg and Parado.\n",
    "# http://scikit-learn.org/stable/modules/tree.html"
   ]
  },
  {
   "cell_type": "code",
   "execution_count": 44,
   "metadata": {
    "collapsed": false
   },
   "outputs": [],
   "source": [
    "X = predictors.ix[small_goal_is,:].values\n",
    "n_points = np.shape(X)[0]\n",
    "X_i = range(n_points)\n",
    "\n",
    "y = tech_df.ix[small_goal_is,'outcomes'].values"
   ]
  },
  {
   "cell_type": "code",
   "execution_count": 45,
   "metadata": {
    "collapsed": false
   },
   "outputs": [
    {
     "name": "stdout",
     "output_type": "stream",
     "text": [
      "3886\n"
     ]
    }
   ],
   "source": [
    "print n_points"
   ]
  },
  {
   "cell_type": "code",
   "execution_count": 46,
   "metadata": {
    "collapsed": false
   },
   "outputs": [],
   "source": [
    "# for now use all of the data --\n",
    "from sklearn.tree import DecisionTreeClassifier\n",
    "clf_1 = DecisionTreeClassifier(max_depth=5)\n",
    "clf_1.fit(X,y)\n",
    "y_1 = clf_1.predict(X)"
   ]
  },
  {
   "cell_type": "code",
   "execution_count": 47,
   "metadata": {
    "collapsed": false
   },
   "outputs": [
    {
     "data": {
      "text/plain": [
       "<matplotlib.collections.PathCollection at 0x119503950>"
      ]
     },
     "execution_count": 47,
     "metadata": {},
     "output_type": "execute_result"
    }
   ],
   "source": [
    "# Plot the results\n",
    "plt.figure()\n",
    "plt.scatter(X_i, y, c=\"k\", label=\"data\")"
   ]
  },
  {
   "cell_type": "code",
   "execution_count": 48,
   "metadata": {
    "collapsed": false
   },
   "outputs": [
    {
     "data": {
      "text/plain": [
       "<matplotlib.text.Text at 0x118f7ea90>"
      ]
     },
     "execution_count": 48,
     "metadata": {},
     "output_type": "execute_result"
    }
   ],
   "source": [
    "plt.plot(X_i, y_1, c=\"g\", label=\"max_depth=5\", color='g')\n",
    "#plt.plot(X_i, y_2, c=\"r\", label=\"max_depth=2\", color='r')\n",
    "plt.xlabel(\"data\")\n",
    "plt.ylabel(\"target\")\n",
    "plt.title(\"Decision Tree Regression\")\n",
    "#plt.legend()"
   ]
  },
  {
   "cell_type": "code",
   "execution_count": 49,
   "metadata": {
    "collapsed": false
   },
   "outputs": [
    {
     "data": {
      "image/png": "[encoded data removed]",
      "text/plain": [
       "<matplotlib.figure.Figure at 0x11a1bca50>"
      ]
     },
     "metadata": {},
     "output_type": "display_data"
    }
   ],
   "source": [
    "display(plt.gcf())\n",
    "#plt.close('all')"
   ]
  },
  {
   "cell_type": "code",
   "execution_count": 50,
   "metadata": {
    "collapsed": true
   },
   "outputs": [],
   "source": [
    "# how do I interpret my decision tree? \n",
    "# what features are important? \n",
    "# how do I pick my levels -- while cross validating? "
   ]
  },
  {
   "cell_type": "code",
   "execution_count": 51,
   "metadata": {
    "collapsed": false
   },
   "outputs": [],
   "source": [
    "# now determine how well this classifies. \n",
    "# what is the baseline? count\n",
    "n_success = sum(tech_df['outcomes'])"
   ]
  },
  {
   "cell_type": "code",
   "execution_count": 52,
   "metadata": {
    "collapsed": true
   },
   "outputs": [],
   "source": [
    "n_points = 3886.0"
   ]
  },
  {
   "cell_type": "code",
   "execution_count": 53,
   "metadata": {
    "collapsed": false
   },
   "outputs": [
    {
     "name": "stdout",
     "output_type": "stream",
     "text": [
      "0.479413278435\n"
     ]
    }
   ],
   "source": [
    "print n_success/3886.0"
   ]
  },
  {
   "cell_type": "code",
   "execution_count": 54,
   "metadata": {
    "collapsed": true
   },
   "outputs": [],
   "source": [
    "# look at recall, precision, F statistics"
   ]
  },
  {
   "cell_type": "code",
   "execution_count": 55,
   "metadata": {
    "collapsed": false
   },
   "outputs": [
    {
     "data": {
      "text/plain": [
       "0.75630468347915591"
      ]
     },
     "execution_count": 55,
     "metadata": {},
     "output_type": "execute_result"
    }
   ],
   "source": [
    "sum(y == y_1)/n_points"
   ]
  },
  {
   "cell_type": "code",
   "execution_count": 103,
   "metadata": {
    "collapsed": true
   },
   "outputs": [],
   "source": [
    "# decision tree predicts with 76% accuracy! nice!\n",
    "# did I include any inapporopiate variables? \n",
    "# now separate training, test, cross validate\n",
    "# write nice code. check. also look at linear models, pledged/goal.\n",
    "# which features are important? \n",
    "# then add more features."
   ]
  },
  {
   "cell_type": "code",
   "execution_count": 72,
   "metadata": {
    "collapsed": true
   },
   "outputs": [],
   "source": [
    "# now try with all data points, then goals < 500,000\n",
    "X = predictors\n",
    "n_points = np.shape(X)[0]\n",
    "X_i = range(n_points)\n",
    "\n",
    "y = tech_df.ix[:,'outcomes']"
   ]
  },
  {
   "cell_type": "code",
   "execution_count": 73,
   "metadata": {
    "collapsed": true
   },
   "outputs": [],
   "source": [
    "# for now use all of the data --\n",
    "from sklearn.tree import DecisionTreeClassifier\n",
    "clf_all = DecisionTreeClassifier(max_depth=5)\n",
    "clf_all.fit(X,y)\n",
    "y_1 = clf_all.predict(X)"
   ]
  },
  {
   "cell_type": "code",
   "execution_count": 74,
   "metadata": {
    "collapsed": false
   },
   "outputs": [
    {
     "data": {
      "text/plain": [
       "<matplotlib.text.Text at 0x119c43f10>"
      ]
     },
     "execution_count": 74,
     "metadata": {},
     "output_type": "execute_result"
    }
   ],
   "source": [
    "# Plot the results\n",
    "plt.figure()\n",
    "plt.scatter(X_i, y, c=\"k\", label=\"data\")\n",
    "\n",
    "plt.plot(X_i, y_1, c=\"g\", label=\"max_depth=5\", color='g')\n",
    "#plt.plot(X_i, y_2, c=\"r\", label=\"max_depth=2\", color='r')\n",
    "plt.xlabel(\"data\")\n",
    "plt.ylabel(\"target\")\n",
    "plt.title(\"Decision Tree Regression\")"
   ]
  },
  {
   "cell_type": "code",
   "execution_count": 75,
   "metadata": {
    "collapsed": false
   },
   "outputs": [
    {
     "data": {
      "text/plain": [
       "0.7557666214382632"
      ]
     },
     "execution_count": 75,
     "metadata": {},
     "output_type": "execute_result"
    }
   ],
   "source": [
    "float(sum(y == y_1))/n_points"
   ]
  },
  {
   "cell_type": "code",
   "execution_count": 76,
   "metadata": {
    "collapsed": false
   },
   "outputs": [
    {
     "name": "stdout",
     "output_type": "stream",
     "text": [
      "6633\n"
     ]
    }
   ],
   "source": [
    "print n_points"
   ]
  },
  {
   "cell_type": "code",
   "execution_count": 77,
   "metadata": {
    "collapsed": false
   },
   "outputs": [
    {
     "data": {
      "text/plain": [
       "array([ 0.21846451,  0.00381828,  0.07141482,  0.01236758,  0.65530816,\n",
       "        0.        ,  0.01104112,  0.02758553])"
      ]
     },
     "execution_count": 77,
     "metadata": {},
     "output_type": "execute_result"
    }
   ],
   "source": [
    "clf_all.feature_importances_"
   ]
  },
  {
   "cell_type": "code",
   "execution_count": 78,
   "metadata": {
    "collapsed": false
   },
   "outputs": [
    {
     "name": "stdout",
     "output_type": "stream",
     "text": [
      "Index([u'n rewards', u'min reward', u'max reward', u'intn ship',\n",
      "       u'n creator backed', u'title n chars', u'blurb n chars',\n",
      "       u'campaign dur'],\n",
      "      dtype='object')\n"
     ]
    }
   ],
   "source": [
    "print X.columns"
   ]
  },
  {
   "cell_type": "code",
   "execution_count": 83,
   "metadata": {
    "collapsed": false
   },
   "outputs": [
    {
     "name": "stdout",
     "output_type": "stream",
     "text": [
      "3980.0\n"
     ]
    }
   ],
   "source": [
    "print round(n_points*.6)"
   ]
  },
  {
   "cell_type": "code",
   "execution_count": 84,
   "metadata": {
    "collapsed": true
   },
   "outputs": [],
   "source": [
    "# now use training (60%), validatation (20%), and test (20%) sets \n",
    "i_order = np.random.permutation(n_points)\n",
    "train_max_i = int(round(n_points*.6))\n",
    "validate_max_i = int(round(n_points*.8))\n",
    "\n",
    "train_is = i_order[:train_max_i]\n",
    "validate_is = i_order[train_max_i:validate_max_i]\n",
    "test_is = i_order[validate_max_i:]"
   ]
  },
  {
   "cell_type": "code",
   "execution_count": 86,
   "metadata": {
    "collapsed": false
   },
   "outputs": [],
   "source": [
    "# for now use all of the data --\n",
    "from sklearn.tree import DecisionTreeClassifier\n",
    "clf_all = DecisionTreeClassifier(max_depth=5)\n",
    "clf_all.fit(X.ix[train_is,:],y[train_is])\n",
    "y_1 = clf_all.predict(X.ix[test_is,:])"
   ]
  },
  {
   "cell_type": "code",
   "execution_count": 87,
   "metadata": {
    "collapsed": false
   },
   "outputs": [
    {
     "data": {
      "text/plain": [
       "0.7422758100979653"
      ]
     },
     "execution_count": 87,
     "metadata": {},
     "output_type": "execute_result"
    }
   ],
   "source": [
    "float(sum(y[test_is] == y_1))/len(test_is)"
   ]
  },
  {
   "cell_type": "code",
   "execution_count": 88,
   "metadata": {
    "collapsed": true
   },
   "outputs": [],
   "source": [
    "# classifier still does well with cross validation! nice!"
   ]
  },
  {
   "cell_type": "code",
   "execution_count": 89,
   "metadata": {
    "collapsed": false
   },
   "outputs": [
    {
     "data": {
      "text/plain": [
       "array([ 0.19147826,  0.        ,  0.0856383 ,  0.0223119 ,  0.60920773,\n",
       "        0.01797464,  0.03331894,  0.04007023])"
      ]
     },
     "execution_count": 89,
     "metadata": {},
     "output_type": "execute_result"
    }
   ],
   "source": [
    "clf_all.feature_importances_"
   ]
  },
  {
   "cell_type": "code",
   "execution_count": 90,
   "metadata": {
    "collapsed": true
   },
   "outputs": [],
   "source": [
    "# n backed is very important. what if I take it out? \n",
    "# how do trees handle mulicolinearlity? "
   ]
  },
  {
   "cell_type": "code",
   "execution_count": 92,
   "metadata": {
    "collapsed": true
   },
   "outputs": [],
   "source": [
    "# calc F score -- \n",
    "# http://scikit-learn.org/stable/modules/generated/sklearn.metrics.precision_recall_fscore_support.html#sklearn.metrics.precision_recall_fscore_support"
   ]
  },
  {
   "cell_type": "code",
   "execution_count": null,
   "metadata": {
    "collapsed": true
   },
   "outputs": [],
   "source": []
  }
 ],
 "metadata": {
  "kernelspec": {
   "display_name": "Python 2",
   "language": "python",
   "name": "python2"
  },
  "language_info": {
   "codemirror_mode": {
    "name": "ipython",
    "version": 2
   },
   "file_extension": ".py",
   "mimetype": "text/x-python",
   "name": "python",
   "nbconvert_exporter": "python",
   "pygments_lexer": "ipython2",
   "version": "2.7.10"
  }
 },
 "nbformat": 4,
 "nbformat_minor": 0
}
