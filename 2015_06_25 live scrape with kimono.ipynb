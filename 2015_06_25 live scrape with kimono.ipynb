{
 "cells": [
  {
   "cell_type": "code",
   "execution_count": 1,
   "metadata": {
    "collapsed": true
   },
   "outputs": [],
   "source": [
    "import requests\n",
    "from bs4 import BeautifulSoup\n",
    "import pprint\n",
    "import pymysql as mdb\n",
    "import re\n",
    "import pandas as pd\n",
    "import numpy as np\n",
    "from unidecode import unidecode"
   ]
  },
  {
   "cell_type": "code",
   "execution_count": 74,
   "metadata": {
    "collapsed": false
   },
   "outputs": [],
   "source": [
    "# project_url = \\\n",
    "# 'https://www.kickstarter.com/projects/1537415287/coil-iced-coffee-w-o-diluting-your-brew?ref=description'\n",
    "\n",
    "# project_request = requests.get(project_url)\n",
    "# project_raw = unidecode(project_request.text)"
   ]
  },
  {
   "cell_type": "code",
   "execution_count": 17,
   "metadata": {
    "collapsed": false
   },
   "outputs": [
    {
     "name": "stdout",
     "output_type": "stream",
     "text": [
      "{u'count': 1, u'name': u'kickstarter_no_postfix', u'lastrunstatus': u'success', u'results': {u'collection1': [{u'index': 1, u'goal': u'$25,000', u'creator': {u'text': u'OMNI Brewing Co.', u'href': u'https://www.kickstarter.com/projects/1222806311/omni-brewing-co-new-brewery-in-maple-grove-mn/creator_bio'}, u'url': u'https://www.kickstarter.com/projects/1222806311/omni-brewing-co-new-brewery-in-maple-grove-mn', u'title': {u'text': u'OMNI Brewing Co. | New Brewery in Maple Grove, MN', u'href': u'https://www.kickstarter.com/projects/1222806311/omni-brewing-co-new-brewery-in-maple-grove-mn'}, u'n_backed': {u'text': u'1 backed', u'href': u'https://www.kickstarter.com/profile/1222806311/backed'}}]}, u'thisversionstatus': u'success', u'thisversionrun': u'Thu Jun 25 2015 19:09:12 GMT+0000 (UTC)', u'frequency': u'Manual Crawl', u'version': 1, u'newdata': False}\n"
     ]
    }
   ],
   "source": [
    "#enter your info here\n",
    "import json\n",
    "import urllib\n",
    "\n",
    "API_ID = \"Jamie Fitzgerald\"\n",
    "API_KEY = \"4CT1Pmfw0BxUHSrFFY4PVJOFJE6WXQ9O\"\n",
    "API_TOKEN = \"O3fK849pFmaEoCvRq9Pc6vUCD6LWoOlL\"\n",
    "\n",
    "#add whatever the new url is\n",
    "targeturl = \"https://www.kickstarter.com/projects/1537415287/coil-iced-coffee-w-o-diluting-your-brew\"\n",
    "\n",
    "#change payload based on what you need to deliver\n",
    "payload = {\n",
    "'apikey': API_KEY,\n",
    "'targeturl': targeturl,\n",
    "}\n",
    "\n",
    "headers = {\"authorization\" : \"Bearer %s\" % API_TOKEN}\n",
    "api_url = \"https://www.kimonolabs.com/kimonoapis/%s/update\" % API_ID\n",
    " \n",
    "#r = requests.post(api_url, headers = headers, data = payload)\n",
    "r = json.load(urllib.urlopen(\"https://www.kimonolabs.com/api/6rd9unxo?apikey=4CT1Pmfw0BxUHSrFFY4PVJOFJE6WXQ9O&kimpath2=hopelnicholson&kimpath3=the-secret-loves-of-geek-girls\"))\n",
    " \n",
    "print(r)"
   ]
  },
  {
   "cell_type": "code",
   "execution_count": 20,
   "metadata": {
    "collapsed": false
   },
   "outputs": [
    {
     "name": "stdout",
     "output_type": "stream",
     "text": [
      "{u'count': 1, u'name': u'kickstarter_no_postfix', u'lastrunstatus': u'success', u'results': {u'collection1': [{u'index': 1, u'goal': u'$25,000', u'creator': {u'text': u'OMNI Brewing Co.', u'href': u'https://www.kickstarter.com/projects/1222806311/omni-brewing-co-new-brewery-in-maple-grove-mn/creator_bio'}, u'url': u'https://www.kickstarter.com/projects/1222806311/omni-brewing-co-new-brewery-in-maple-grove-mn', u'title': {u'text': u'OMNI Brewing Co. | New Brewery in Maple Grove, MN', u'href': u'https://www.kickstarter.com/projects/1222806311/omni-brewing-co-new-brewery-in-maple-grove-mn'}, u'n_backed': {u'text': u'1 backed', u'href': u'https://www.kickstarter.com/profile/1222806311/backed'}}]}, u'thisversionstatus': u'success', u'thisversionrun': u'Thu Jun 25 2015 19:09:12 GMT+0000 (UTC)', u'frequency': u'Manual Crawl', u'version': 1, u'newdata': False}\n"
     ]
    }
   ],
   "source": [
    "r = json.load(urllib.urlopen(\"https://www.kimonolabs.com/api/6rd9unxo?apikey=4CT1Pmfw0BxUHSrFFY4PVJOFJE6WXQ9O&kimpath1=project&kimpath2=hopelnicholson&kimpath3=the-secret-loves-of-geek-girls\"))\n",
    "print(r)"
   ]
  },
  {
   "cell_type": "code",
   "execution_count": 21,
   "metadata": {
    "collapsed": true
   },
   "outputs": [],
   "source": [
    "# this feature was disabled for now :(\n",
    "#https://help.kimonolabs.com/hc/en-us/articles/203043684-Pass-through-new-URL-parameters-to-your-API"
   ]
  },
  {
   "cell_type": "code",
   "execution_count": null,
   "metadata": {
    "collapsed": true
   },
   "outputs": [],
   "source": []
  }
 ],
 "metadata": {
  "kernelspec": {
   "display_name": "Python 2",
   "language": "python",
   "name": "python2"
  },
  "language_info": {
   "codemirror_mode": {
    "name": "ipython",
    "version": 2
   },
   "file_extension": ".py",
   "mimetype": "text/x-python",
   "name": "python",
   "nbconvert_exporter": "python",
   "pygments_lexer": "ipython2",
   "version": "2.7.10"
  }
 },
 "nbformat": 4,
 "nbformat_minor": 0
}
