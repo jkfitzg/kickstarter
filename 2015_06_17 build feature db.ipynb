{
 "cells": [
  {
   "cell_type": "code",
   "execution_count": 1,
   "metadata": {
    "collapsed": true
   },
   "outputs": [],
   "source": [
    "# build feature database"
   ]
  },
  {
   "cell_type": "code",
   "execution_count": 2,
   "metadata": {
    "collapsed": true
   },
   "outputs": [],
   "source": [
    "# Other possible features to extract _____________________________\n",
    "# - has video\n",
    "# - faq\n",
    "# - risks and rewards\n"
   ]
  },
  {
   "cell_type": "code",
   "execution_count": 3,
   "metadata": {
    "collapsed": false
   },
   "outputs": [],
   "source": [
    "import requests\n",
    "from bs4 import BeautifulSoup\n",
    "import pprint\n",
    "import pymysql as mdb\n",
    "import re\n",
    "import pandas as pd\n",
    "import numpy as np\n",
    "from unidecode import unidecode\n",
    "import json"
   ]
  },
  {
   "cell_type": "code",
   "execution_count": 4,
   "metadata": {
    "collapsed": false
   },
   "outputs": [],
   "source": [
    "from extract_kickstarter_features import *\n",
    "%load_ext autoreload\n",
    "%autoreload 2"
   ]
  },
  {
   "cell_type": "code",
   "execution_count": 5,
   "metadata": {
    "collapsed": false
   },
   "outputs": [],
   "source": [
    "con = mdb.connect('localhost','root','hobbes','kickstarter')"
   ]
  },
  {
   "cell_type": "code",
   "execution_count": 6,
   "metadata": {
    "collapsed": false
   },
   "outputs": [
    {
     "name": "stdout",
     "output_type": "stream",
     "text": [
      "('Creator',)\n",
      "('Predictors',)\n",
      "('Project_info',)\n",
      "('Rewards',)\n",
      "('Scraped_pages',)\n"
     ]
    }
   ],
   "source": [
    "with con:\n",
    "    \n",
    "    cur = con.cursor()\n",
    "    cur.execute(\"SHOW TABLES\")\n",
    "    \n",
    "    rows = cur.fetchall()\n",
    "    for row in rows:\n",
    "        print row"
   ]
  },
  {
   "cell_type": "code",
   "execution_count": 49,
   "metadata": {
    "collapsed": false
   },
   "outputs": [
    {
     "name": "stdout",
     "output_type": "stream",
     "text": [
      "('Id', 'int(11)', 'NO')\n",
      "('Url', 'varchar(1000)', 'YES')\n",
      "('Outcome', 'varchar(100)', 'YES')\n",
      "('Pledged', 'bigint(20)', 'YES')\n",
      "('Goal', 'bigint(20)', 'YES')\n",
      "('Category', 'varchar(500)', 'YES')\n",
      "('Subcategory', 'varchar(500)', 'YES')\n",
      "('Currency', 'varchar(50)', 'YES')\n",
      "('Country', 'varchar(500)', 'YES')\n",
      "('Location', 'varchar(500)', 'YES')\n",
      "('Launch_s', 'bigint(20)', 'YES')\n",
      "('Campaign_days', 'int(11)', 'YES')\n",
      "('Title_n_words', 'int(11)', 'YES')\n",
      "('Blurb_n_words', 'int(11)', 'YES')\n",
      "('Month', 'int(11)', 'YES')\n",
      "('Monday_day', 'int(11)', 'YES')\n",
      "('Week_day', 'int(11)', 'YES')\n",
      "('Hour', 'int(11)', 'YES')\n",
      "('N_rewards', 'int(11)', 'YES')\n",
      "('Min_reward', 'int(11)', 'YES')\n",
      "('Median_reward', 'int(11)', 'YES')\n",
      "('Max_reward', 'bigint(20)', 'YES')\n",
      "('Reward_ship_days', 'int(11)', 'YES')\n",
      "('Ships_intn', 'tinyint(4)', 'YES')\n",
      "('N_links', 'int(11)', 'YES')\n",
      "('N_figs', 'int(11)', 'YES')\n",
      "('Body_n_words', 'int(11)', 'YES')\n",
      "('N_creator_backed', 'int(11)', 'YES')\n",
      "(28, 6)\n"
     ]
    }
   ],
   "source": [
    "# Create and describe my new table\n",
    "with con:\n",
    "    cur = con.cursor()\n",
    "    #cur.execute(\"DROP TABLE IF EXISTS Predictors\")\n",
    "    cur.execute(\"CREATE TABLE Predictors(Id INT PRIMARY KEY,\\\n",
    "                  Url VARCHAR(1000),\\\n",
    "                  Outcome VARCHAR(100),\\\n",
    "                  Pledged BIGINT,\\\n",
    "                  Goal BIGINT,\\\n",
    "                  Category VARCHAR(500),\\\n",
    "                  Subcategory VARCHAR(500),\\\n",
    "                  Currency VARCHAR(50),\\\n",
    "                  Country VARCHAR(500),\\\n",
    "                  Location VARCHAR(500),\\\n",
    "                  Launch_s BIGINT,\\\n",
    "                  Campaign_days INT,\\\n",
    "                  Title_n_words INT,\\\n",
    "                  Blurb_n_words INT,\\\n",
    "                  Month INT,\\\n",
    "                  Monday_day INT,\\\n",
    "                  Week_day INT,\\\n",
    "                  Hour INT,\\\n",
    "                  N_rewards INT,\\\n",
    "                  Min_reward INT,\\\n",
    "                  Median_reward INT,\\\n",
    "                  Max_reward BIGINT,\\\n",
    "                  Reward_ship_days INT,\\\n",
    "                  Ships_intn TINYINT,\\\n",
    "                  N_links INT,\\\n",
    "                  N_figs INT,\\\n",
    "                  Body_n_words INT,\\\n",
    "                  N_creator_backed INT)\")\n",
    "    \n",
    "    cur.execute(\"DESCRIBE Predictors\")\n",
    "    rows = cur.fetchall()\n",
    "    \n",
    "    for row in rows:\n",
    "        print row[0:3]\n",
    "    print np.shape(rows)\n",
    "    cur.close()"
   ]
  },
  {
   "cell_type": "code",
   "execution_count": 50,
   "metadata": {
    "collapsed": true
   },
   "outputs": [],
   "source": [
    "n_campaigns = 191384"
   ]
  },
  {
   "cell_type": "code",
   "execution_count": 56,
   "metadata": {
    "collapsed": false
   },
   "outputs": [
    {
     "name": "stdout",
     "output_type": "stream",
     "text": [
      "170336\n"
     ]
    }
   ],
   "source": [
    "print primary_key"
   ]
  },
  {
   "cell_type": "code",
   "execution_count": 57,
   "metadata": {
    "collapsed": true
   },
   "outputs": [],
   "source": [
    "# stopped at 170336. try skipping it."
   ]
  },
  {
   "cell_type": "code",
   "execution_count": 8,
   "metadata": {
    "collapsed": false,
    "scrolled": true
   },
   "outputs": [
    {
     "name": "stdout",
     "output_type": "stream",
     "text": [
      "[170336, 'https://www.kickstarter.com/projects/1735971470/countess-awesome-handcrafted-home-accents?ref=category', 'failed', 10, 2000, 'Candles', 'crafts/candles', 'USD', 'US', 'long-beach-ca', 1414114825, 30, 5, 18, 10, 23, 3, 21]\n",
      "[12, 10, 32, 500, 38, 1, 1, 3, 1226]\n"
     ]
    }
   ],
   "source": [
    "with con:\n",
    "    \n",
    "    for primary_key in range(1,n_campaigns):\n",
    "        if not primary_key%500:\n",
    "            print primary_key\n",
    "        \n",
    "        # collect all project variables\n",
    "        row_predictors = concat_features(primary_key)\n",
    "        \n",
    "        cur = con.cursor()\n",
    "        cur.execute(\"INSERT INTO Predictors () VALUES(%s,%s,%s,%s,%s,%s,%s,%s,%s,%s,\\\n",
    "                                                      %s,%s,%s,%s,%s,%s,%s,%s,%s,%s,\\\n",
    "                                                      %s,%s,%s,%s,%s,%s,%s,%s)\",row_predictors)\n",
    "        \n",
    "        con.commit()\n",
    "        cur.close()"
   ]
  },
  {
   "cell_type": "code",
   "execution_count": null,
   "metadata": {
    "collapsed": true
   },
   "outputs": [],
   "source": []
  }
 ],
 "metadata": {
  "kernelspec": {
   "display_name": "Python 2",
   "language": "python",
   "name": "python2"
  },
  "language_info": {
   "codemirror_mode": {
    "name": "ipython",
    "version": 2
   },
   "file_extension": ".py",
   "mimetype": "text/x-python",
   "name": "python",
   "nbconvert_exporter": "python",
   "pygments_lexer": "ipython2",
   "version": "2.7.10"
  }
 },
 "nbformat": 4,
 "nbformat_minor": 0
}
