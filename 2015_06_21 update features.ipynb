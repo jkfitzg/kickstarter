{
 "cells": [
  {
   "cell_type": "code",
   "execution_count": 94,
   "metadata": {
    "collapsed": true
   },
   "outputs": [],
   "source": [
    "# add, organize predictor vectors\n",
    "# to do _____\n",
    "# later -- add video"
   ]
  },
  {
   "cell_type": "code",
   "execution_count": 95,
   "metadata": {
    "collapsed": true
   },
   "outputs": [],
   "source": [
    "# doing ______\n"
   ]
  },
  {
   "cell_type": "code",
   "execution_count": 96,
   "metadata": {
    "collapsed": true
   },
   "outputs": [],
   "source": [
    "# done ____\n",
    "# added n creator created\n",
    "# added year\n",
    "# parsed large category\n",
    "\n",
    "# pre-processing -- \n",
    "# define outcome\n",
    "# earliest intn shipping - 1331091810 (March 6, 2012) -- restrict to this range\n",
    "# set unspecified to 0\n",
    "# drop 0 launch times, -1"
   ]
  },
  {
   "cell_type": "code",
   "execution_count": 63,
   "metadata": {
    "collapsed": false
   },
   "outputs": [],
   "source": [
    "import pandas as pd\n",
    "import numpy as np\n",
    "import matplotlib.pyplot as plt\n",
    "import math as math\n",
    "from IPython.display import display\n",
    "from IPython.core.pylabtools import getfigs\n",
    "from sklearn import linear_model \n",
    "import time\n",
    "import pymysql as mdb\n",
    "import re\n",
    "#import seaborn as sns\n",
    "import time"
   ]
  },
  {
   "cell_type": "code",
   "execution_count": 91,
   "metadata": {
    "collapsed": false
   },
   "outputs": [
    {
     "name": "stdout",
     "output_type": "stream",
     "text": [
      "The autoreload extension is already loaded. To reload it, use:\n",
      "  %reload_ext autoreload\n"
     ]
    }
   ],
   "source": [
    "from extract_kickstarter_features import *\n",
    "%load_ext autoreload\n",
    "%autoreload 2"
   ]
  },
  {
   "cell_type": "code",
   "execution_count": 4,
   "metadata": {
    "collapsed": true
   },
   "outputs": [],
   "source": [
    "%matplotlib qt"
   ]
  },
  {
   "cell_type": "code",
   "execution_count": 5,
   "metadata": {
    "collapsed": false
   },
   "outputs": [],
   "source": [
    "#from extract_kickstarter_features import *\n",
    "#%load_ext autoreload\n",
    "#%autoreload 2"
   ]
  },
  {
   "cell_type": "code",
   "execution_count": 9,
   "metadata": {
    "collapsed": true
   },
   "outputs": [],
   "source": [
    "con = mdb.connect('localhost','root','hobbes','kickstarter')"
   ]
  },
  {
   "cell_type": "code",
   "execution_count": 17,
   "metadata": {
    "collapsed": false
   },
   "outputs": [],
   "source": [
    "with con:\n",
    "    cur = con.cursor()\n",
    "    cur.execute(\"SELECT Launch_s FROM Predictors WHERE \\\n",
    "                Ships_intn = 1 AND Reward_ship_days >= 0 AND N_creator_backed >= 0 AND \\\n",
    "                Outcome != 'live' AND Country = 'US' AND Currency = 'USD'\")\n",
    "    rows = cur.fetchall()\n",
    "    cur.close()"
   ]
  },
  {
   "cell_type": "code",
   "execution_count": 18,
   "metadata": {
    "collapsed": false
   },
   "outputs": [
    {
     "name": "stdout",
     "output_type": "stream",
     "text": [
      "(78048, 1)\n"
     ]
    }
   ],
   "source": [
    "print np.shape(rows)"
   ]
  },
  {
   "cell_type": "code",
   "execution_count": 19,
   "metadata": {
    "collapsed": true
   },
   "outputs": [],
   "source": [
    "ships_intn_launch_s = np.asarray(rows)"
   ]
  },
  {
   "cell_type": "code",
   "execution_count": 20,
   "metadata": {
    "collapsed": false
   },
   "outputs": [
    {
     "data": {
      "text/plain": [
       "(78048, 1)"
      ]
     },
     "execution_count": 20,
     "metadata": {},
     "output_type": "execute_result"
    }
   ],
   "source": [
    "np.shape(ships_intn_launch_s)"
   ]
  },
  {
   "cell_type": "code",
   "execution_count": 21,
   "metadata": {
    "collapsed": false
   },
   "outputs": [
    {
     "data": {
      "text/plain": [
       "1331091810"
      ]
     },
     "execution_count": 21,
     "metadata": {},
     "output_type": "execute_result"
    }
   ],
   "source": [
    "np.min(ships_intn_launch_s)"
   ]
  },
  {
   "cell_type": "code",
   "execution_count": 23,
   "metadata": {
    "collapsed": false
   },
   "outputs": [
    {
     "data": {
      "text/plain": [
       "'Tue Mar  6 22:43:30 2012'"
      ]
     },
     "execution_count": 23,
     "metadata": {},
     "output_type": "execute_result"
    }
   ],
   "source": [
    "#earliest international ship date \n",
    "import time\n",
    "time.ctime(1331091810)"
   ]
  },
  {
   "cell_type": "code",
   "execution_count": 56,
   "metadata": {
    "collapsed": false
   },
   "outputs": [
    {
     "name": "stdout",
     "output_type": "stream",
     "text": [
      "time.struct_time(tm_year=2012, tm_mon=3, tm_mday=6, tm_hour=22, tm_min=43, tm_sec=30, tm_wday=1, tm_yday=66, tm_isdst=0)\n"
     ]
    }
   ],
   "source": [
    "t_struct = time.localtime(1331091810) \n",
    "print t_struct"
   ]
  },
  {
   "cell_type": "code",
   "execution_count": null,
   "metadata": {
    "collapsed": true
   },
   "outputs": [],
   "source": [
    "# total campaigns after this date"
   ]
  },
  {
   "cell_type": "code",
   "execution_count": 35,
   "metadata": {
    "collapsed": false
   },
   "outputs": [
    {
     "name": "stdout",
     "output_type": "stream",
     "text": [
      "((59855,),)\n"
     ]
    }
   ],
   "source": [
    "with con:\n",
    "    cur = con.cursor()\n",
    "    cur.execute(\"SELECT Count(Launch_s) FROM Predictors WHERE Launch_s >= 1331091810\\\n",
    "    AND Country = 'US' AND Currency = 'USD' AND Outcome = 'failed'\")\n",
    "    rows = cur.fetchall()\n",
    "    print rows\n",
    "    cur.close()"
   ]
  },
  {
   "cell_type": "code",
   "execution_count": 36,
   "metadata": {
    "collapsed": true
   },
   "outputs": [],
   "source": [
    "# 10469 cancelled campaigns\n",
    "# 228 suspended\n",
    "# 4613 live  -- low roi.\n",
    "# 47816 successful\n",
    "# 59855 failed"
   ]
  },
  {
   "cell_type": "code",
   "execution_count": 40,
   "metadata": {
    "collapsed": true
   },
   "outputs": [],
   "source": [
    "predictor_df = pd.read_pickle('predictor_df_unprocessed.save')"
   ]
  },
  {
   "cell_type": "code",
   "execution_count": 41,
   "metadata": {
    "collapsed": false
   },
   "outputs": [
    {
     "data": {
      "text/html": [
       "<div style=\"max-height:1000px;max-width:1500px;overflow:auto;\">\n",
       "<table border=\"1\" class=\"dataframe\">\n",
       "  <thead>\n",
       "    <tr style=\"text-align: right;\">\n",
       "      <th></th>\n",
       "      <th>Id</th>\n",
       "      <th>Url</th>\n",
       "      <th>Outcome</th>\n",
       "      <th>Pledged</th>\n",
       "      <th>Goal</th>\n",
       "      <th>Category</th>\n",
       "      <th>Subcategory</th>\n",
       "      <th>Currency</th>\n",
       "      <th>Country</th>\n",
       "      <th>Location</th>\n",
       "      <th>...</th>\n",
       "      <th>N_rewards</th>\n",
       "      <th>Min_reward</th>\n",
       "      <th>Median_reward</th>\n",
       "      <th>Max_reward</th>\n",
       "      <th>Reward_ship_days</th>\n",
       "      <th>Ships_intn</th>\n",
       "      <th>N_links</th>\n",
       "      <th>N_figs</th>\n",
       "      <th>Body_n_words</th>\n",
       "      <th>N_creator_backed</th>\n",
       "    </tr>\n",
       "  </thead>\n",
       "  <tbody>\n",
       "    <tr>\n",
       "      <th>0</th>\n",
       "      <td>96</td>\n",
       "      <td>https://www.kickstarter.com/projects/199128305...</td>\n",
       "      <td>successful</td>\n",
       "      <td>5040</td>\n",
       "      <td>5000</td>\n",
       "      <td>Theater</td>\n",
       "      <td>theater</td>\n",
       "      <td>USD</td>\n",
       "      <td>US</td>\n",
       "      <td>st-paul-mn</td>\n",
       "      <td>...</td>\n",
       "      <td>8</td>\n",
       "      <td>10</td>\n",
       "      <td>175</td>\n",
       "      <td>5000</td>\n",
       "      <td>110</td>\n",
       "      <td>-1</td>\n",
       "      <td>1</td>\n",
       "      <td>0</td>\n",
       "      <td>812</td>\n",
       "      <td>18</td>\n",
       "    </tr>\n",
       "    <tr>\n",
       "      <th>1</th>\n",
       "      <td>97</td>\n",
       "      <td>https://www.kickstarter.com/projects/alexbiske...</td>\n",
       "      <td>successful</td>\n",
       "      <td>10605</td>\n",
       "      <td>10000</td>\n",
       "      <td>Theater</td>\n",
       "      <td>theater</td>\n",
       "      <td>USD</td>\n",
       "      <td>US</td>\n",
       "      <td>new-york-ny</td>\n",
       "      <td>...</td>\n",
       "      <td>10</td>\n",
       "      <td>5</td>\n",
       "      <td>125</td>\n",
       "      <td>5000</td>\n",
       "      <td>31</td>\n",
       "      <td>-1</td>\n",
       "      <td>5</td>\n",
       "      <td>1</td>\n",
       "      <td>792</td>\n",
       "      <td>7</td>\n",
       "    </tr>\n",
       "    <tr>\n",
       "      <th>2</th>\n",
       "      <td>99</td>\n",
       "      <td>https://www.kickstarter.com/projects/682636921...</td>\n",
       "      <td>successful</td>\n",
       "      <td>18030</td>\n",
       "      <td>18000</td>\n",
       "      <td>Theater</td>\n",
       "      <td>theater</td>\n",
       "      <td>USD</td>\n",
       "      <td>US</td>\n",
       "      <td>boston-ma</td>\n",
       "      <td>...</td>\n",
       "      <td>19</td>\n",
       "      <td>5</td>\n",
       "      <td>500</td>\n",
       "      <td>10000</td>\n",
       "      <td>4</td>\n",
       "      <td>1</td>\n",
       "      <td>0</td>\n",
       "      <td>0</td>\n",
       "      <td>540</td>\n",
       "      <td>3</td>\n",
       "    </tr>\n",
       "    <tr>\n",
       "      <th>3</th>\n",
       "      <td>100</td>\n",
       "      <td>https://www.kickstarter.com/projects/139103766...</td>\n",
       "      <td>successful</td>\n",
       "      <td>7062</td>\n",
       "      <td>7000</td>\n",
       "      <td>Plays</td>\n",
       "      <td>theater/plays</td>\n",
       "      <td>USD</td>\n",
       "      <td>US</td>\n",
       "      <td>new-york-ny</td>\n",
       "      <td>...</td>\n",
       "      <td>8</td>\n",
       "      <td>10</td>\n",
       "      <td>87</td>\n",
       "      <td>1000</td>\n",
       "      <td>56</td>\n",
       "      <td>-1</td>\n",
       "      <td>0</td>\n",
       "      <td>0</td>\n",
       "      <td>372</td>\n",
       "      <td>4</td>\n",
       "    </tr>\n",
       "    <tr>\n",
       "      <th>4</th>\n",
       "      <td>101</td>\n",
       "      <td>https://www.kickstarter.com/projects/scparker/...</td>\n",
       "      <td>successful</td>\n",
       "      <td>8660</td>\n",
       "      <td>8150</td>\n",
       "      <td>Musical</td>\n",
       "      <td>theater/musical</td>\n",
       "      <td>USD</td>\n",
       "      <td>US</td>\n",
       "      <td>hollywood-los-angeles-ca</td>\n",
       "      <td>...</td>\n",
       "      <td>11</td>\n",
       "      <td>4</td>\n",
       "      <td>42</td>\n",
       "      <td>815</td>\n",
       "      <td>41</td>\n",
       "      <td>0</td>\n",
       "      <td>1</td>\n",
       "      <td>1</td>\n",
       "      <td>1405</td>\n",
       "      <td>8</td>\n",
       "    </tr>\n",
       "  </tbody>\n",
       "</table>\n",
       "<p>5 rows × 28 columns</p>\n",
       "</div>"
      ],
      "text/plain": [
       "    Id                                                Url     Outcome Pledged  \\\n",
       "0   96  https://www.kickstarter.com/projects/199128305...  successful    5040   \n",
       "1   97  https://www.kickstarter.com/projects/alexbiske...  successful   10605   \n",
       "2   99  https://www.kickstarter.com/projects/682636921...  successful   18030   \n",
       "3  100  https://www.kickstarter.com/projects/139103766...  successful    7062   \n",
       "4  101  https://www.kickstarter.com/projects/scparker/...  successful    8660   \n",
       "\n",
       "    Goal Category      Subcategory Currency Country                  Location  \\\n",
       "0   5000  Theater          theater      USD      US                st-paul-mn   \n",
       "1  10000  Theater          theater      USD      US               new-york-ny   \n",
       "2  18000  Theater          theater      USD      US                 boston-ma   \n",
       "3   7000    Plays    theater/plays      USD      US               new-york-ny   \n",
       "4   8150  Musical  theater/musical      USD      US  hollywood-los-angeles-ca   \n",
       "\n",
       "        ...        N_rewards Min_reward Median_reward Max_reward  \\\n",
       "0       ...                8         10           175       5000   \n",
       "1       ...               10          5           125       5000   \n",
       "2       ...               19          5           500      10000   \n",
       "3       ...                8         10            87       1000   \n",
       "4       ...               11          4            42        815   \n",
       "\n",
       "  Reward_ship_days Ships_intn N_links N_figs Body_n_words N_creator_backed  \n",
       "0              110         -1       1      0          812               18  \n",
       "1               31         -1       5      1          792                7  \n",
       "2                4          1       0      0          540                3  \n",
       "3               56         -1       0      0          372                4  \n",
       "4               41          0       1      1         1405                8  \n",
       "\n",
       "[5 rows x 28 columns]"
      ]
     },
     "execution_count": 41,
     "metadata": {},
     "output_type": "execute_result"
    }
   ],
   "source": [
    "predictor_df.head()"
   ]
  },
  {
   "cell_type": "code",
   "execution_count": 93,
   "metadata": {
    "collapsed": false
   },
   "outputs": [
    {
     "name": "stdout",
     "output_type": "stream",
     "text": [
      "technology\n",
      "technology\n",
      "[9006, 'https://www.kickstarter.com/projects/1186217328/the-glitch?ref=category', 'successful', 30137, 14500, 'technology', 'Technology', 'USD', 'US', 'raleigh-nc', 1344144345, 60, 7, 10, 2012, 8, 5, 6, 1, 8, 10, 118, 700, 118, -1, 4, 4, 1147, 0, 1]\n"
     ]
    }
   ],
   "source": [
    "print concat_features(9006)"
   ]
  },
  {
   "cell_type": "code",
   "execution_count": 99,
   "metadata": {
    "collapsed": true
   },
   "outputs": [],
   "source": [
    "# after I scrape the has video, rebuild predictors db\n",
    "# new db fields = has video, launch year, overall category, n creator backed"
   ]
  }
 ],
 "metadata": {
  "kernelspec": {
   "display_name": "Python 2",
   "language": "python",
   "name": "python2"
  },
  "language_info": {
   "codemirror_mode": {
    "name": "ipython",
    "version": 2
   },
   "file_extension": ".py",
   "mimetype": "text/x-python",
   "name": "python",
   "nbconvert_exporter": "python",
   "pygments_lexer": "ipython2",
   "version": "2.7.10"
  }
 },
 "nbformat": 4,
 "nbformat_minor": 0
}
