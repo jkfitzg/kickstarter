{
 "cells": [
  {
   "cell_type": "code",
   "execution_count": 1,
   "metadata": {
    "collapsed": true
   },
   "outputs": [],
   "source": [
    "# for processing web robots json data"
   ]
  },
  {
   "cell_type": "code",
   "execution_count": 2,
   "metadata": {
    "collapsed": true
   },
   "outputs": [],
   "source": [
    "import pymysql as mdb\n",
    "import json\n",
    "import re\n",
    "import pandas as pd\n",
    "import numpy as np\n",
    "import pprint"
   ]
  },
  {
   "cell_type": "code",
   "execution_count": 3,
   "metadata": {
    "collapsed": true
   },
   "outputs": [],
   "source": [
    "%load_ext autoreload\n",
    "%autoreload 2"
   ]
  },
  {
   "cell_type": "code",
   "execution_count": 4,
   "metadata": {
    "collapsed": false
   },
   "outputs": [],
   "source": [
    "from make_kickstarter_db import *"
   ]
  },
  {
   "cell_type": "code",
   "execution_count": 5,
   "metadata": {
    "collapsed": true
   },
   "outputs": [],
   "source": [
    "%matplotlib qt"
   ]
  },
  {
   "cell_type": "code",
   "execution_count": 6,
   "metadata": {
    "collapsed": false
   },
   "outputs": [],
   "source": [
    "con = mdb.connect('localhost','root','hobbes','kickstarter');"
   ]
  },
  {
   "cell_type": "code",
   "execution_count": 7,
   "metadata": {
    "collapsed": false
   },
   "outputs": [
    {
     "name": "stdout",
     "output_type": "stream",
     "text": [
      "('information_schema',)\n",
      "('kickscrape',)\n",
      "('kickstarter',)\n",
      "('mysql',)\n",
      "('performance_schema',)\n",
      "('test',)\n",
      "('testdb',)\n",
      "('world_innodb',)\n"
     ]
    }
   ],
   "source": [
    "with con:\n",
    "    \n",
    "    cur = con.cursor()\n",
    "    cur.execute(\"SHOW DATABASES\")\n",
    "    \n",
    "    rows = cur.fetchall()\n",
    "    for row in rows:\n",
    "        print row"
   ]
  },
  {
   "cell_type": "code",
   "execution_count": 25,
   "metadata": {
    "collapsed": false
   },
   "outputs": [],
   "source": [
    "# with con:\n",
    "#     cur = con.cursor()\n",
    "#     cur.execute(\"DESCRIBE Project_info;\")\n",
    "#     rows = cur.fetchall()\n",
    "    \n",
    "#     print len(rows)\n",
    "#     for row in rows:\n",
    "#         print row[0:2]\n",
    "#     cur.close()"
   ]
  },
  {
   "cell_type": "code",
   "execution_count": 10,
   "metadata": {
    "collapsed": true
   },
   "outputs": [],
   "source": [
    "path = '/Users/jamie/Downloads/web robots kickstarter data/unzipped/'\n",
    "fname = 'Kickstarter_Kickstarter_2014_12_02.json'"
   ]
  },
  {
   "cell_type": "code",
   "execution_count": 11,
   "metadata": {
    "collapsed": true
   },
   "outputs": [],
   "source": [
    "f = open(path+fname, 'rb')"
   ]
  },
  {
   "cell_type": "code",
   "execution_count": 12,
   "metadata": {
    "collapsed": true
   },
   "outputs": [],
   "source": [
    "kickstarter_json = json.load(f)"
   ]
  },
  {
   "cell_type": "code",
   "execution_count": 13,
   "metadata": {
    "collapsed": false
   },
   "outputs": [
    {
     "name": "stdout",
     "output_type": "stream",
     "text": [
      "9578\n"
     ]
    }
   ],
   "source": [
    "list_len = len(kickstarter_json)\n",
    "print list_len"
   ]
  },
  {
   "cell_type": "code",
   "execution_count": 50,
   "metadata": {
    "collapsed": false
   },
   "outputs": [],
   "source": [
    "# # Create and describe my new table\n",
    "# with con:\n",
    "#     cur = con.cursor()\n",
    "#     cur.execute(\"DROP TABLE IF EXISTS Project_info\")\n",
    "#     cur.execute(\"CREATE TABLE Project_info(Id INT PRIMARY KEY AUTO_INCREMENT,\\\n",
    "#                  Creator_name VARCHAR(500),\\\n",
    "#                  Creator_url VARCHAR(500),\\\n",
    "#                  Currency VARCHAR(50),\\\n",
    "#                  Project_id BIGINT,\\\n",
    "#                  Category_name VARCHAR(100),\\\n",
    "#                  Category_slug VARCHAR(100),\\\n",
    "#                  Goal BIGINT,\\\n",
    "#                  Pledged BIGINT,\\\n",
    "#                  Project_date VARCHAR(100),\\\n",
    "#                  Country VARCHAR(100),\\\n",
    "#                  Location_club VARCHAR(100),\\\n",
    "#                  Location_name VARCHAR(100),\\\n",
    "#                  Blurb VARCHAR(500),\\\n",
    "#                  N_backers BIGINT,\\\n",
    "#                  Name VARCHAR(500),\\\n",
    "#                  URL VARCHAR(500),\\\n",
    "#                  Launch_time BIGINT,\\\n",
    "#                  End_time BIGINT)\")\n",
    "    \n",
    "    \n",
    "    \n",
    "#     cur.execute(\"DESCRIBE Project_info\")\n",
    "#     rows = cur.fetchall()\n",
    "    \n",
    "#     #for row in rows:\n",
    "#     #    print row[0:3]\n",
    "#     cur.close()\n",
    "    "
   ]
  },
  {
   "cell_type": "code",
   "execution_count": 51,
   "metadata": {
    "collapsed": false
   },
   "outputs": [
    {
     "name": "stdout",
     "output_type": "stream",
     "text": [
      "5000\n",
      "10000\n",
      "15000\n",
      "20000\n",
      "25000\n",
      "30000\n",
      "35000\n",
      "40000\n",
      "45000\n",
      "50000\n",
      "55000\n",
      "60000\n",
      "65000\n",
      "70000\n",
      "75000\n",
      "80000\n",
      "85000\n",
      "90000\n",
      "95000\n",
      "100000\n",
      "105000\n",
      "110000\n",
      "115000\n",
      "120000\n",
      "125000\n",
      "130000\n",
      "135000\n",
      "140000\n",
      "145000\n",
      "150000\n",
      "155000\n",
      "160000\n",
      "165000\n",
      "170000\n",
      "175000\n",
      "180000\n",
      "185000\n",
      "190000\n"
     ]
    }
   ],
   "source": [
    "with con:\n",
    "    cur = con.cursor()\n",
    "    \n",
    "    primary_key = 1 \n",
    "    for list_i in range(0,list_len): #range(list_len)\n",
    "        this_len = len(kickstarter_json[list_i]['projects']) #usually 20\n",
    "        for project_i in range(this_len): \n",
    "            if not primary_key%5000: \n",
    "                print primary_key\n",
    "                \n",
    "            this_project = kickstarter_json[list_i]['projects'][project_i]\n",
    "            project_info = extract_project_info(this_project)\n",
    "            \n",
    "            cur.execute(\"INSERT INTO Project_info () VALUES(%s,%s,%s,%s,%s,\\\n",
    "                %s,%s,%s,%s,%s,%s,%s,%s,%s,%s,%s,%s,%s,%s)\",\\\n",
    "                [primary_key]+project_info)\n",
    "            con.commit()\n",
    "        \n",
    "            primary_key = primary_key + 1\n",
    "    \n",
    "    cur.close()"
   ]
  },
  {
   "cell_type": "code",
   "execution_count": null,
   "metadata": {
    "collapsed": true
   },
   "outputs": [],
   "source": []
  }
 ],
 "metadata": {
  "kernelspec": {
   "display_name": "Python 2",
   "language": "python",
   "name": "python2"
  },
  "language_info": {
   "codemirror_mode": {
    "name": "ipython",
    "version": 2
   },
   "file_extension": ".py",
   "mimetype": "text/x-python",
   "name": "python",
   "nbconvert_exporter": "python",
   "pygments_lexer": "ipython2",
   "version": "2.7.10"
  }
 },
 "nbformat": 4,
 "nbformat_minor": 0
}
