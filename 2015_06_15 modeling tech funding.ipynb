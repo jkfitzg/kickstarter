{
 "cells": [
  {
   "cell_type": "code",
   "execution_count": 108,
   "metadata": {
    "collapsed": true
   },
   "outputs": [],
   "source": [
    "# Try linear regression, logistic regression SVM, decision trees \n",
    "# then jaccard index, cosine similarity, weighted kernel density estimator\n",
    "#\n",
    "# regularlize all models -- later. I have a lot of data.\n",
    "# train, cross validate  -- later. I need some predictive power.\n",
    "#\n",
    "# start with tech, then for all entries in my database \n",
    "# what predictors did greenberg use?\n",
    "#\n",
    "# duration Length of project in Days Double\n",
    "# twitter_url Connected to twitter Boolean\n",
    "# has_video Video present Boolean\n",
    "# facebook_connected Connected to Facebook Boolean\n",
    "# facebook_friends Number of facebook friends Integer\n",
    "# twitter_followers Number of twitter followers Integer\n",
    "# sent Sentiment (pos, neg, or neutral) String --\n",
    "#      For the sentiment attribute, we used the Mashape Text-Processing API\n",
    "# fkgl Grade level Double -FKGL stands for Flesch-Kincaid Grade Level (measures reading ability) \n",
    "#       from nltk\n",
    "#sent_count Number of sentences in project description Integer\n",
    "# see Tindle blog post\n"
   ]
  },
  {
   "cell_type": "code",
   "execution_count": 2,
   "metadata": {
    "collapsed": true
   },
   "outputs": [],
   "source": [
    "# Features I already have _______________________________________\n",
    "# - rewards: n, min, max, intn shipping\n",
    "# - n creator backed\n",
    "# - title char len\n",
    "# - blurb char len\n",
    "# - launch time (in Unix time)\n",
    "# - project duration\n",
    "# - goal\n",
    "\n",
    "# I could add easily \n",
    "# - day of the month\n",
    "# - month\n",
    "# - time between launch and ship of rewards\n",
    "# - title word len\n",
    "# - blurb word len"
   ]
  },
  {
   "cell_type": "code",
   "execution_count": 3,
   "metadata": {
    "collapsed": true
   },
   "outputs": [],
   "source": [
    "# After modeling, \n",
    "# Other possible features to extract _____________________________\n",
    "# - n pictures -- use beautiful soup\n",
    "# - has video\n",
    "# - project body length \n",
    "# - project n spelling errors\n",
    "# - text quality, sentiment analysis\n",
    "# - other reward parameters\n",
    "\n",
    "# lower priority -- \n",
    "# - international projects\n"
   ]
  },
  {
   "cell_type": "code",
   "execution_count": 4,
   "metadata": {
    "collapsed": false
   },
   "outputs": [],
   "source": [
    "import pandas as pd\n",
    "import numpy as np\n",
    "import matplotlib.pyplot as plt\n",
    "import math as math\n",
    "from IPython.display import display\n",
    "from IPython.core.pylabtools import getfigs\n",
    "from sklearn import linear_model \n",
    "#import seaborn as sns"
   ]
  },
  {
   "cell_type": "code",
   "execution_count": 5,
   "metadata": {
    "collapsed": true
   },
   "outputs": [],
   "source": [
    "%matplotlib qt"
   ]
  },
  {
   "cell_type": "code",
   "execution_count": 6,
   "metadata": {
    "collapsed": false
   },
   "outputs": [],
   "source": [
    "#from extract_kickstarter_features import *\n",
    "#%load_ext autoreload\n",
    "#%autoreload 2"
   ]
  },
  {
   "cell_type": "code",
   "execution_count": 7,
   "metadata": {
    "collapsed": true
   },
   "outputs": [],
   "source": [
    "saveas_path = '/Users/jamie/insight data/figures/'"
   ]
  },
  {
   "cell_type": "code",
   "execution_count": 75,
   "metadata": {
    "collapsed": false
   },
   "outputs": [],
   "source": [
    "tech_df = pd.read_pickle('tech_df.save')"
   ]
  },
  {
   "cell_type": "code",
   "execution_count": 76,
   "metadata": {
    "collapsed": false
   },
   "outputs": [
    {
     "data": {
      "text/plain": [
       "(6633, 12)"
      ]
     },
     "execution_count": 76,
     "metadata": {},
     "output_type": "execute_result"
    }
   ],
   "source": [
    "np.shape(tech_df)"
   ]
  },
  {
   "cell_type": "code",
   "execution_count": 77,
   "metadata": {
    "collapsed": false
   },
   "outputs": [
    {
     "data": {
      "text/html": [
       "<div style=\"max-height:1000px;max-width:1500px;overflow:auto;\">\n",
       "<table border=\"1\" class=\"dataframe\">\n",
       "  <thead>\n",
       "    <tr style=\"text-align: right;\">\n",
       "      <th></th>\n",
       "      <th>id</th>\n",
       "      <th>pledged</th>\n",
       "      <th>goal</th>\n",
       "      <th>n rewards</th>\n",
       "      <th>min reward</th>\n",
       "      <th>max reward</th>\n",
       "      <th>intn ship</th>\n",
       "      <th>n creator backed</th>\n",
       "      <th>title n chars</th>\n",
       "      <th>blurb n chars</th>\n",
       "      <th>launch time</th>\n",
       "      <th>campaign dur</th>\n",
       "    </tr>\n",
       "  </thead>\n",
       "  <tbody>\n",
       "    <tr>\n",
       "      <th>6630</th>\n",
       "      <td>16468</td>\n",
       "      <td>8904</td>\n",
       "      <td>5000</td>\n",
       "      <td>7</td>\n",
       "      <td>1</td>\n",
       "      <td>100</td>\n",
       "      <td>1</td>\n",
       "      <td>0</td>\n",
       "      <td>56</td>\n",
       "      <td>129</td>\n",
       "      <td>1411686079</td>\n",
       "      <td>3459600</td>\n",
       "    </tr>\n",
       "    <tr>\n",
       "      <th>6631</th>\n",
       "      <td>16469</td>\n",
       "      <td>615</td>\n",
       "      <td>50000</td>\n",
       "      <td>8</td>\n",
       "      <td>1</td>\n",
       "      <td>1000</td>\n",
       "      <td>0</td>\n",
       "      <td>0</td>\n",
       "      <td>51</td>\n",
       "      <td>103</td>\n",
       "      <td>1409441823</td>\n",
       "      <td>5184000</td>\n",
       "    </tr>\n",
       "    <tr>\n",
       "      <th>6632</th>\n",
       "      <td>16470</td>\n",
       "      <td>585549</td>\n",
       "      <td>7500</td>\n",
       "      <td>11</td>\n",
       "      <td>1</td>\n",
       "      <td>1337</td>\n",
       "      <td>1</td>\n",
       "      <td>2</td>\n",
       "      <td>44</td>\n",
       "      <td>114</td>\n",
       "      <td>1413159586</td>\n",
       "      <td>2595600</td>\n",
       "    </tr>\n",
       "  </tbody>\n",
       "</table>\n",
       "</div>"
      ],
      "text/plain": [
       "         id pledged   goal n rewards min reward max reward intn ship  \\\n",
       "6630  16468    8904   5000         7          1        100         1   \n",
       "6631  16469     615  50000         8          1       1000         0   \n",
       "6632  16470  585549   7500        11          1       1337         1   \n",
       "\n",
       "     n creator backed title n chars blurb n chars launch time campaign dur  \n",
       "6630                0            56           129  1411686079      3459600  \n",
       "6631                0            51           103  1409441823      5184000  \n",
       "6632                2            44           114  1413159586      2595600  "
      ]
     },
     "execution_count": 77,
     "metadata": {},
     "output_type": "execute_result"
    }
   ],
   "source": [
    "tech_df.tail(3)"
   ]
  },
  {
   "cell_type": "code",
   "execution_count": 78,
   "metadata": {
    "collapsed": false
   },
   "outputs": [],
   "source": [
    "# create new columns \n",
    "tech_df['pledged/goal'] = tech_df['pledged']/tech_df['goal']"
   ]
  },
  {
   "cell_type": "code",
   "execution_count": 79,
   "metadata": {
    "collapsed": false
   },
   "outputs": [
    {
     "data": {
      "text/html": [
       "<div style=\"max-height:1000px;max-width:1500px;overflow:auto;\">\n",
       "<table border=\"1\" class=\"dataframe\">\n",
       "  <thead>\n",
       "    <tr style=\"text-align: right;\">\n",
       "      <th></th>\n",
       "      <th>id</th>\n",
       "      <th>pledged</th>\n",
       "      <th>goal</th>\n",
       "      <th>n rewards</th>\n",
       "      <th>min reward</th>\n",
       "      <th>max reward</th>\n",
       "      <th>intn ship</th>\n",
       "      <th>n creator backed</th>\n",
       "      <th>title n chars</th>\n",
       "      <th>blurb n chars</th>\n",
       "      <th>launch time</th>\n",
       "      <th>campaign dur</th>\n",
       "      <th>pledged/goal</th>\n",
       "    </tr>\n",
       "  </thead>\n",
       "  <tbody>\n",
       "    <tr>\n",
       "      <th>6630</th>\n",
       "      <td>16468</td>\n",
       "      <td>8904</td>\n",
       "      <td>5000</td>\n",
       "      <td>7</td>\n",
       "      <td>1</td>\n",
       "      <td>100</td>\n",
       "      <td>1</td>\n",
       "      <td>0</td>\n",
       "      <td>56</td>\n",
       "      <td>129</td>\n",
       "      <td>1411686079</td>\n",
       "      <td>3459600</td>\n",
       "      <td>1.7808</td>\n",
       "    </tr>\n",
       "    <tr>\n",
       "      <th>6631</th>\n",
       "      <td>16469</td>\n",
       "      <td>615</td>\n",
       "      <td>50000</td>\n",
       "      <td>8</td>\n",
       "      <td>1</td>\n",
       "      <td>1000</td>\n",
       "      <td>0</td>\n",
       "      <td>0</td>\n",
       "      <td>51</td>\n",
       "      <td>103</td>\n",
       "      <td>1409441823</td>\n",
       "      <td>5184000</td>\n",
       "      <td>0.0123</td>\n",
       "    </tr>\n",
       "    <tr>\n",
       "      <th>6632</th>\n",
       "      <td>16470</td>\n",
       "      <td>585549</td>\n",
       "      <td>7500</td>\n",
       "      <td>11</td>\n",
       "      <td>1</td>\n",
       "      <td>1337</td>\n",
       "      <td>1</td>\n",
       "      <td>2</td>\n",
       "      <td>44</td>\n",
       "      <td>114</td>\n",
       "      <td>1413159586</td>\n",
       "      <td>2595600</td>\n",
       "      <td>78.0732</td>\n",
       "    </tr>\n",
       "  </tbody>\n",
       "</table>\n",
       "</div>"
      ],
      "text/plain": [
       "         id pledged   goal n rewards min reward max reward intn ship  \\\n",
       "6630  16468    8904   5000         7          1        100         1   \n",
       "6631  16469     615  50000         8          1       1000         0   \n",
       "6632  16470  585549   7500        11          1       1337         1   \n",
       "\n",
       "     n creator backed title n chars blurb n chars launch time campaign dur  \\\n",
       "6630                0            56           129  1411686079      3459600   \n",
       "6631                0            51           103  1409441823      5184000   \n",
       "6632                2            44           114  1413159586      2595600   \n",
       "\n",
       "     pledged/goal  \n",
       "6630       1.7808  \n",
       "6631       0.0123  \n",
       "6632      78.0732  "
      ]
     },
     "execution_count": 79,
     "metadata": {},
     "output_type": "execute_result"
    }
   ],
   "source": [
    "tech_df.tail(3)"
   ]
  },
  {
   "cell_type": "code",
   "execution_count": 13,
   "metadata": {
    "collapsed": true
   },
   "outputs": [],
   "source": [
    "#let's find some data stories!"
   ]
  },
  {
   "cell_type": "code",
   "execution_count": 13,
   "metadata": {
    "collapsed": false
   },
   "outputs": [
    {
     "name": "stdout",
     "output_type": "stream",
     "text": [
      "(6546,)\n"
     ]
    }
   ],
   "source": [
    "# restrict to projects with goals of less than $500,000\n",
    "reasonable_goal_is = np.where(tech_df['goal'] < 500000)[0]\n",
    "print np.shape(reasonable_goal_is)"
   ]
  },
  {
   "cell_type": "code",
   "execution_count": 91,
   "metadata": {
    "collapsed": false
   },
   "outputs": [
    {
     "name": "stdout",
     "output_type": "stream",
     "text": [
      "(3886,)\n"
     ]
    }
   ],
   "source": [
    "# restrict to projects with goals of less than $50,000\n",
    "small_goal_is = np.where(tech_df['goal'] < 25000)[0]\n",
    "print np.shape(small_goal_is)"
   ]
  },
  {
   "cell_type": "code",
   "execution_count": 92,
   "metadata": {
    "collapsed": true
   },
   "outputs": [],
   "source": [
    "# Create linear regression object\n",
    "regr = linear_model.LinearRegression(normalize=False)"
   ]
  },
  {
   "cell_type": "code",
   "execution_count": 93,
   "metadata": {
    "collapsed": false
   },
   "outputs": [],
   "source": [
    "predictor_cols = list(['n rewards','min reward','max reward','intn ship','n creator backed','title n chars','blurb n chars','campaign dur'])\n",
    "predictors = tech_df.ix[small_goal_is,predictor_cols]"
   ]
  },
  {
   "cell_type": "code",
   "execution_count": 94,
   "metadata": {
    "collapsed": false
   },
   "outputs": [],
   "source": [
    "pledged = tech_df.ix[small_goal_is,'pledged']"
   ]
  },
  {
   "cell_type": "code",
   "execution_count": 95,
   "metadata": {
    "collapsed": false
   },
   "outputs": [
    {
     "data": {
      "text/plain": [
       "LinearRegression(copy_X=True, fit_intercept=True, n_jobs=1, normalize=False)"
      ]
     },
     "execution_count": 95,
     "metadata": {},
     "output_type": "execute_result"
    }
   ],
   "source": [
    "regr.fit(predictors,pledged)"
   ]
  },
  {
   "cell_type": "code",
   "execution_count": 96,
   "metadata": {
    "collapsed": false
   },
   "outputs": [
    {
     "name": "stdout",
     "output_type": "stream",
     "text": [
      "('Coefficients: \\n', array([  1.78097753e+03,   1.50094022e+00,  -5.35587887e-01,\n",
      "         3.10800095e+03,   1.01171885e+02,   1.05225233e+02,\n",
      "        -8.84521957e+00,   2.95908945e-04]))\n",
      "Residual sum of squares: 991760638.34\n",
      "Variance score: 0.08\n"
     ]
    }
   ],
   "source": [
    "# The coefficients\n",
    "print('Coefficients: \\n', regr.coef_)\n",
    "# The mean square error\n",
    "print(\"Residual sum of squares: %.2f\"\n",
    "      % np.mean((regr.predict(predictors) - pledged) ** 2))\n",
    "# Explained variance score: 1 is perfect prediction\n",
    "print('Variance score: %.2f' % regr.score(predictors, pledged))"
   ]
  },
  {
   "cell_type": "code",
   "execution_count": 80,
   "metadata": {
    "collapsed": false
   },
   "outputs": [],
   "source": [
    "# now try a logistic regression ___________\n",
    "tech_df.ix[:,'outcomes'] = 0"
   ]
  },
  {
   "cell_type": "code",
   "execution_count": 81,
   "metadata": {
    "collapsed": false
   },
   "outputs": [],
   "source": [
    "tech_df.ix[tech_df['pledged'] >= tech_df['goal'],'outcomes'] = 1"
   ]
  },
  {
   "cell_type": "code",
   "execution_count": 82,
   "metadata": {
    "collapsed": false
   },
   "outputs": [
    {
     "data": {
      "text/html": [
       "<div style=\"max-height:1000px;max-width:1500px;overflow:auto;\">\n",
       "<table border=\"1\" class=\"dataframe\">\n",
       "  <thead>\n",
       "    <tr style=\"text-align: right;\">\n",
       "      <th></th>\n",
       "      <th>id</th>\n",
       "      <th>pledged</th>\n",
       "      <th>goal</th>\n",
       "      <th>n rewards</th>\n",
       "      <th>min reward</th>\n",
       "      <th>max reward</th>\n",
       "      <th>intn ship</th>\n",
       "      <th>n creator backed</th>\n",
       "      <th>title n chars</th>\n",
       "      <th>blurb n chars</th>\n",
       "      <th>launch time</th>\n",
       "      <th>campaign dur</th>\n",
       "      <th>pledged/goal</th>\n",
       "      <th>outcomes</th>\n",
       "    </tr>\n",
       "  </thead>\n",
       "  <tbody>\n",
       "    <tr>\n",
       "      <th>6628</th>\n",
       "      <td>16461</td>\n",
       "      <td>25</td>\n",
       "      <td>100000</td>\n",
       "      <td>5</td>\n",
       "      <td>25</td>\n",
       "      <td>10000</td>\n",
       "      <td>-1</td>\n",
       "      <td>0</td>\n",
       "      <td>35</td>\n",
       "      <td>134</td>\n",
       "      <td>1414879251</td>\n",
       "      <td>2595600</td>\n",
       "      <td>0.00025</td>\n",
       "      <td>0</td>\n",
       "    </tr>\n",
       "    <tr>\n",
       "      <th>6629</th>\n",
       "      <td>16462</td>\n",
       "      <td>15790</td>\n",
       "      <td>3500</td>\n",
       "      <td>8</td>\n",
       "      <td>59</td>\n",
       "      <td>250</td>\n",
       "      <td>1</td>\n",
       "      <td>1</td>\n",
       "      <td>36</td>\n",
       "      <td>132</td>\n",
       "      <td>1411511254</td>\n",
       "      <td>2592000</td>\n",
       "      <td>4.511429</td>\n",
       "      <td>1</td>\n",
       "    </tr>\n",
       "    <tr>\n",
       "      <th>6630</th>\n",
       "      <td>16468</td>\n",
       "      <td>8904</td>\n",
       "      <td>5000</td>\n",
       "      <td>7</td>\n",
       "      <td>1</td>\n",
       "      <td>100</td>\n",
       "      <td>1</td>\n",
       "      <td>0</td>\n",
       "      <td>56</td>\n",
       "      <td>129</td>\n",
       "      <td>1411686079</td>\n",
       "      <td>3459600</td>\n",
       "      <td>1.7808</td>\n",
       "      <td>1</td>\n",
       "    </tr>\n",
       "    <tr>\n",
       "      <th>6631</th>\n",
       "      <td>16469</td>\n",
       "      <td>615</td>\n",
       "      <td>50000</td>\n",
       "      <td>8</td>\n",
       "      <td>1</td>\n",
       "      <td>1000</td>\n",
       "      <td>0</td>\n",
       "      <td>0</td>\n",
       "      <td>51</td>\n",
       "      <td>103</td>\n",
       "      <td>1409441823</td>\n",
       "      <td>5184000</td>\n",
       "      <td>0.0123</td>\n",
       "      <td>0</td>\n",
       "    </tr>\n",
       "    <tr>\n",
       "      <th>6632</th>\n",
       "      <td>16470</td>\n",
       "      <td>585549</td>\n",
       "      <td>7500</td>\n",
       "      <td>11</td>\n",
       "      <td>1</td>\n",
       "      <td>1337</td>\n",
       "      <td>1</td>\n",
       "      <td>2</td>\n",
       "      <td>44</td>\n",
       "      <td>114</td>\n",
       "      <td>1413159586</td>\n",
       "      <td>2595600</td>\n",
       "      <td>78.0732</td>\n",
       "      <td>1</td>\n",
       "    </tr>\n",
       "  </tbody>\n",
       "</table>\n",
       "</div>"
      ],
      "text/plain": [
       "         id pledged    goal n rewards min reward max reward intn ship  \\\n",
       "6628  16461      25  100000         5         25      10000        -1   \n",
       "6629  16462   15790    3500         8         59        250         1   \n",
       "6630  16468    8904    5000         7          1        100         1   \n",
       "6631  16469     615   50000         8          1       1000         0   \n",
       "6632  16470  585549    7500        11          1       1337         1   \n",
       "\n",
       "     n creator backed title n chars blurb n chars launch time campaign dur  \\\n",
       "6628                0            35           134  1414879251      2595600   \n",
       "6629                1            36           132  1411511254      2592000   \n",
       "6630                0            56           129  1411686079      3459600   \n",
       "6631                0            51           103  1409441823      5184000   \n",
       "6632                2            44           114  1413159586      2595600   \n",
       "\n",
       "     pledged/goal  outcomes  \n",
       "6628      0.00025         0  \n",
       "6629     4.511429         1  \n",
       "6630       1.7808         1  \n",
       "6631       0.0123         0  \n",
       "6632      78.0732         1  "
      ]
     },
     "execution_count": 82,
     "metadata": {},
     "output_type": "execute_result"
    }
   ],
   "source": [
    "tech_df.tail(5)"
   ]
  },
  {
   "cell_type": "code",
   "execution_count": 102,
   "metadata": {
    "collapsed": false
   },
   "outputs": [
    {
     "data": {
      "text/plain": [
       "LogisticRegression(C=0.15, class_weight=None, dual=False, fit_intercept=True,\n",
       "          intercept_scaling=1, max_iter=100, multi_class='ovr',\n",
       "          penalty='l2', random_state=None, solver='liblinear', tol=0.0001,\n",
       "          verbose=0)"
      ]
     },
     "execution_count": 102,
     "metadata": {},
     "output_type": "execute_result"
    }
   ],
   "source": [
    "clf = linear_model.LogisticRegression(C=.15)\n",
    "clf.fit(predictors,tech_df.ix[small_goal_is,'outcomes'])"
   ]
  },
  {
   "cell_type": "code",
   "execution_count": 103,
   "metadata": {
    "collapsed": false
   },
   "outputs": [
    {
     "data": {
      "text/plain": [
       "array([[  4.16002478e-07,  -4.62030800e-06,   1.81356642e-05,\n",
       "          4.78514531e-08,   7.66173901e-07,   3.01870794e-07,\n",
       "         -8.79569759e-07,  -2.38083563e-07]])"
      ]
     },
     "execution_count": 103,
     "metadata": {},
     "output_type": "execute_result"
    }
   ],
   "source": [
    "clf.coef_"
   ]
  },
  {
   "cell_type": "code",
   "execution_count": 105,
   "metadata": {
    "collapsed": true
   },
   "outputs": [],
   "source": [
    "# next try an svm, random forests. I'll need to scale it. \n",
    "# http://scikit-learn.org/stable/modules/svm.html\n",
    "# http://scikit-learn.org/stable/modules/preprocessing.html#preprocessing"
   ]
  },
  {
   "cell_type": "code",
   "execution_count": 107,
   "metadata": {
    "collapsed": true
   },
   "outputs": [],
   "source": [
    "# I think I need more predictors, nlp, and a distribution \n",
    "# latent variable analysis?"
   ]
  },
  {
   "cell_type": "code",
   "execution_count": null,
   "metadata": {
    "collapsed": true
   },
   "outputs": [],
   "source": []
  }
 ],
 "metadata": {
  "kernelspec": {
   "display_name": "Python 2",
   "language": "python",
   "name": "python2"
  },
  "language_info": {
   "codemirror_mode": {
    "name": "ipython",
    "version": 2
   },
   "file_extension": ".py",
   "mimetype": "text/x-python",
   "name": "python",
   "nbconvert_exporter": "python",
   "pygments_lexer": "ipython2",
   "version": "2.7.10"
  }
 },
 "nbformat": 4,
 "nbformat_minor": 0
}
